{
 "cells": [
  {
   "cell_type": "code",
   "execution_count": 1,
   "metadata": {},
   "outputs": [
    {
     "data": {
      "text/plain": [
       "vegafusion.enable_widget()"
      ]
     },
     "execution_count": 1,
     "metadata": {},
     "output_type": "execute_result"
    }
   ],
   "source": [
    "import pandas as pd\n",
    "import polars as pl\n",
    "import altair as alt\n",
    "import vegafusion as vf\n",
    "vf.enable()\n",
    "vf.enable_widget()"
   ]
  },
  {
   "cell_type": "code",
   "execution_count": 2,
   "metadata": {},
   "outputs": [],
   "source": [
    "flights = (\n",
    "    pl.read_parquet(\"https://vegafusion-datasets.s3.amazonaws.com/vega/flights_1m.parquet\")\n",
    ")"
   ]
  },
  {
   "cell_type": "code",
   "execution_count": 3,
   "metadata": {},
   "outputs": [
    {
     "data": {
      "text/html": [
       "<div><style>\n",
       ".dataframe > thead > tr,\n",
       ".dataframe > tbody > tr {\n",
       "  text-align: right;\n",
       "  white-space: pre-wrap;\n",
       "}\n",
       "</style>\n",
       "<small>shape: (1_000_000, 6)</small><table border=\"1\" class=\"dataframe\"><thead><tr><th>index</th><th>date</th><th>delay</th><th>distance</th><th>origin</th><th>destination</th></tr><tr><td>i64</td><td>datetime[ns]</td><td>i64</td><td>i64</td><td>str</td><td>str</td></tr></thead><tbody><tr><td>0</td><td>2001-02-14 15:12:00</td><td>8</td><td>342</td><td>&quot;SJC&quot;</td><td>&quot;SNA&quot;</td></tr><tr><td>1</td><td>2001-01-22 09:50:00</td><td>-10</td><td>601</td><td>&quot;PHX&quot;</td><td>&quot;RNO&quot;</td></tr><tr><td>2</td><td>2001-01-17 10:59:00</td><td>4</td><td>181</td><td>&quot;DAL&quot;</td><td>&quot;OKC&quot;</td></tr><tr><td>3</td><td>2001-01-14 16:20:00</td><td>4</td><td>630</td><td>&quot;PDX&quot;</td><td>&quot;SLC&quot;</td></tr><tr><td>4</td><td>2001-03-14 10:50:00</td><td>-3</td><td>223</td><td>&quot;BUR&quot;</td><td>&quot;LAS&quot;</td></tr><tr><td>&hellip;</td><td>&hellip;</td><td>&hellip;</td><td>&hellip;</td><td>&hellip;</td><td>&hellip;</td></tr><tr><td>9995</td><td>2001-03-04 11:48:00</td><td>60</td><td>1073</td><td>&quot;MCO&quot;</td><td>&quot;PVD&quot;</td></tr><tr><td>9996</td><td>2001-03-26 21:20:00</td><td>0</td><td>308</td><td>&quot;SJC&quot;</td><td>&quot;LAX&quot;</td></tr><tr><td>9997</td><td>2001-03-22 09:40:00</td><td>-6</td><td>248</td><td>&quot;SAT&quot;</td><td>&quot;DAL&quot;</td></tr><tr><td>9998</td><td>2001-03-12 19:08:00</td><td>15</td><td>507</td><td>&quot;SLC&quot;</td><td>&quot;PHX&quot;</td></tr><tr><td>9999</td><td>2001-03-16 10:24:00</td><td>4</td><td>833</td><td>&quot;PHX&quot;</td><td>&quot;OKC&quot;</td></tr></tbody></table></div>"
      ],
      "text/plain": [
       "shape: (1_000_000, 6)\n",
       "┌───────┬─────────────────────┬───────┬──────────┬────────┬─────────────┐\n",
       "│ index ┆ date                ┆ delay ┆ distance ┆ origin ┆ destination │\n",
       "│ ---   ┆ ---                 ┆ ---   ┆ ---      ┆ ---    ┆ ---         │\n",
       "│ i64   ┆ datetime[ns]        ┆ i64   ┆ i64      ┆ str    ┆ str         │\n",
       "╞═══════╪═════════════════════╪═══════╪══════════╪════════╪═════════════╡\n",
       "│ 0     ┆ 2001-02-14 15:12:00 ┆ 8     ┆ 342      ┆ SJC    ┆ SNA         │\n",
       "│ 1     ┆ 2001-01-22 09:50:00 ┆ -10   ┆ 601      ┆ PHX    ┆ RNO         │\n",
       "│ 2     ┆ 2001-01-17 10:59:00 ┆ 4     ┆ 181      ┆ DAL    ┆ OKC         │\n",
       "│ 3     ┆ 2001-01-14 16:20:00 ┆ 4     ┆ 630      ┆ PDX    ┆ SLC         │\n",
       "│ 4     ┆ 2001-03-14 10:50:00 ┆ -3    ┆ 223      ┆ BUR    ┆ LAS         │\n",
       "│ …     ┆ …                   ┆ …     ┆ …        ┆ …      ┆ …           │\n",
       "│ 9995  ┆ 2001-03-04 11:48:00 ┆ 60    ┆ 1073     ┆ MCO    ┆ PVD         │\n",
       "│ 9996  ┆ 2001-03-26 21:20:00 ┆ 0     ┆ 308      ┆ SJC    ┆ LAX         │\n",
       "│ 9997  ┆ 2001-03-22 09:40:00 ┆ -6    ┆ 248      ┆ SAT    ┆ DAL         │\n",
       "│ 9998  ┆ 2001-03-12 19:08:00 ┆ 15    ┆ 507      ┆ SLC    ┆ PHX         │\n",
       "│ 9999  ┆ 2001-03-16 10:24:00 ┆ 4     ┆ 833      ┆ PHX    ┆ OKC         │\n",
       "└───────┴─────────────────────┴───────┴──────────┴────────┴─────────────┘"
      ]
     },
     "execution_count": 3,
     "metadata": {},
     "output_type": "execute_result"
    }
   ],
   "source": [
    "flights"
   ]
  },
  {
   "cell_type": "code",
   "execution_count": 4,
   "metadata": {},
   "outputs": [
    {
     "data": {
      "application/vnd.jupyter.widget-view+json": {
       "model_id": "97cbd2b6afcb4b53ace357419ac597bd",
       "version_major": 2,
       "version_minor": 0
      },
      "text/plain": [
       "VegaFusionWidget(spec='{\\n  \"config\": {\\n    \"view\": {\\n      \"continuousWidth\": 300,\\n      \"continuousHeight…"
      ]
     },
     "metadata": {},
     "output_type": "display_data"
    },
    {
     "data": {
      "text/plain": []
     },
     "execution_count": 4,
     "metadata": {},
     "output_type": "execute_result"
    }
   ],
   "source": [
    "delay_hist = flights.plot.bar(\n",
    "    alt.X(\"delay\", bin=alt.Bin(maxbins=30)),\n",
    "    alt.Y(\"count()\")\n",
    ")\n",
    "\n",
    "delay_hist"
   ]
  },
  {
   "cell_type": "code",
   "execution_count": 5,
   "metadata": {},
   "outputs": [
    {
     "data": {
      "text/html": [
       "<div><style>\n",
       ".dataframe > thead > tr,\n",
       ".dataframe > tbody > tr {\n",
       "  text-align: right;\n",
       "  white-space: pre-wrap;\n",
       "}\n",
       "</style>\n",
       "<small>shape: (18, 3)</small><table border=\"1\" class=\"dataframe\"><thead><tr><th>bin_maxbins_30_delay</th><th>bin_maxbins_30_delay_end</th><th>__count</th></tr><tr><td>f64</td><td>f64</td><td>i64</td></tr></thead><tbody><tr><td>0.0</td><td>20.0</td><td>392700</td></tr><tr><td>-20.0</td><td>0.0</td><td>419400</td></tr><tr><td>20.0</td><td>40.0</td><td>92700</td></tr><tr><td>140.0</td><td>160.0</td><td>2000</td></tr><tr><td>40.0</td><td>60.0</td><td>38400</td></tr><tr><td>&hellip;</td><td>&hellip;</td><td>&hellip;</td></tr><tr><td>260.0</td><td>280.0</td><td>100</td></tr><tr><td>200.0</td><td>220.0</td><td>300</td></tr><tr><td>360.0</td><td>380.0</td><td>100</td></tr><tr><td>320.0</td><td>340.0</td><td>100</td></tr><tr><td>240.0</td><td>260.0</td><td>100</td></tr></tbody></table></div>"
      ],
      "text/plain": [
       "shape: (18, 3)\n",
       "┌──────────────────────┬──────────────────────────┬─────────┐\n",
       "│ bin_maxbins_30_delay ┆ bin_maxbins_30_delay_end ┆ __count │\n",
       "│ ---                  ┆ ---                      ┆ ---     │\n",
       "│ f64                  ┆ f64                      ┆ i64     │\n",
       "╞══════════════════════╪══════════════════════════╪═════════╡\n",
       "│ 0.0                  ┆ 20.0                     ┆ 392700  │\n",
       "│ -20.0                ┆ 0.0                      ┆ 419400  │\n",
       "│ 20.0                 ┆ 40.0                     ┆ 92700   │\n",
       "│ 140.0                ┆ 160.0                    ┆ 2000    │\n",
       "│ 40.0                 ┆ 60.0                     ┆ 38400   │\n",
       "│ …                    ┆ …                        ┆ …       │\n",
       "│ 260.0                ┆ 280.0                    ┆ 100     │\n",
       "│ 200.0                ┆ 220.0                    ┆ 300     │\n",
       "│ 360.0                ┆ 380.0                    ┆ 100     │\n",
       "│ 320.0                ┆ 340.0                    ┆ 100     │\n",
       "│ 240.0                ┆ 260.0                    ┆ 100     │\n",
       "└──────────────────────┴──────────────────────────┴─────────┘"
      ]
     },
     "execution_count": 5,
     "metadata": {},
     "output_type": "execute_result"
    }
   ],
   "source": [
    "vf.transformed_data(delay_hist)"
   ]
  },
  {
   "cell_type": "code",
   "execution_count": 5,
   "metadata": {},
   "outputs": [],
   "source": [
    "brush = alt.selection_interval(encodings=[\"x\"])\n",
    "\n",
    "base = alt.Chart().mark_bar().encode(\n",
    "    x = alt.X(alt.repeat('column')).bin(maxbins=20),\n",
    "    y = 'count()'\n",
    ").properties(\n",
    "    width=160,\n",
    "    height=130\n",
    ")\n",
    "\n",
    "background = base.encode(\n",
    "    color=alt.value('#ddd')\n",
    ").add_params(brush)\n",
    "\n",
    "highlight = base.transform_filter(brush)\n",
    "\n",
    "chart = alt.layer(\n",
    "    background,\n",
    "    highlight,\n",
    "    data=flights\n",
    ").transform_calculate(\n",
    "    \"time\",\n",
    "    \"hours(datum.date)\"\n",
    ").repeat(column=[\"distance\", \"delay\", \"time\"])"
   ]
  },
  {
   "cell_type": "code",
   "execution_count": 6,
   "metadata": {},
   "outputs": [
    {
     "data": {
      "application/vnd.jupyter.widget-view+json": {
       "model_id": "4404b80f44694c62bfebfe21775892da",
       "version_major": 2,
       "version_minor": 0
      },
      "text/plain": [
       "VegaFusionWidget(spec='{\\n  \"config\": {\\n    \"view\": {\\n      \"continuousWidth\": 300,\\n      \"continuousHeight…"
      ]
     },
     "metadata": {},
     "output_type": "display_data"
    },
    {
     "data": {
      "text/plain": []
     },
     "execution_count": 6,
     "metadata": {},
     "output_type": "execute_result"
    }
   ],
   "source": [
    "chart"
   ]
  },
  {
   "cell_type": "code",
   "execution_count": null,
   "metadata": {},
   "outputs": [],
   "source": []
  }
 ],
 "metadata": {
  "kernelspec": {
   "display_name": "eda",
   "language": "python",
   "name": "python3"
  },
  "language_info": {
   "codemirror_mode": {
    "name": "ipython",
    "version": 3
   },
   "file_extension": ".py",
   "mimetype": "text/x-python",
   "name": "python",
   "nbconvert_exporter": "python",
   "pygments_lexer": "ipython3",
   "version": "3.11.8"
  }
 },
 "nbformat": 4,
 "nbformat_minor": 4
}
