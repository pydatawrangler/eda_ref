{
 "cells": [
  {
   "cell_type": "code",
   "execution_count": 1,
   "metadata": {},
   "outputs": [],
   "source": [
    "import pandas as pd\n",
    "import polars as pl\n",
    "import altair as alt"
   ]
  },
  {
   "cell_type": "code",
   "execution_count": 2,
   "metadata": {},
   "outputs": [],
   "source": [
    "cars = 'https://cdn.jsdelivr.net/npm/vega-datasets@1/data/cars.json'\n",
    "movies = 'https://cdn.jsdelivr.net/npm/vega-datasets@1/data/movies.json'\n",
    "sp500 = 'https://cdn.jsdelivr.net/npm/vega-datasets@1/data/sp500.csv'\n",
    "stocks = 'https://cdn.jsdelivr.net/npm/vega-datasets@1/data/stocks.csv'\n",
    "flights = 'https://cdn.jsdelivr.net/npm/vega-datasets@1/data/flights-5k.json'"
   ]
  },
  {
   "cell_type": "code",
   "execution_count": 3,
   "metadata": {},
   "outputs": [
    {
     "name": "stderr",
     "output_type": "stream",
     "text": [
      "/var/folders/gg/0m4l7pvs5zq9d8p4tzflypdc0000gn/T/ipykernel_33960/2840027158.py:1: AltairDeprecationWarning: Deprecated in `altair=5.0.0`. Use selection_point instead.\n",
      "  selection = alt.selection_single()\n",
      "/var/folders/gg/0m4l7pvs5zq9d8p4tzflypdc0000gn/T/ipykernel_33960/2840027158.py:3: AltairDeprecationWarning: Deprecated in `altair=5.0.0`. Use add_params instead.\n",
      "  alt.Chart(cars).mark_circle().add_selection(\n"
     ]
    },
    {
     "data": {
      "text/html": [
       "\n",
       "<style>\n",
       "  #altair-viz-e9d519b3fddf400ea917a707c1e40a2b.vega-embed {\n",
       "    width: 100%;\n",
       "    display: flex;\n",
       "  }\n",
       "\n",
       "  #altair-viz-e9d519b3fddf400ea917a707c1e40a2b.vega-embed details,\n",
       "  #altair-viz-e9d519b3fddf400ea917a707c1e40a2b.vega-embed details summary {\n",
       "    position: relative;\n",
       "  }\n",
       "</style>\n",
       "<div id=\"altair-viz-e9d519b3fddf400ea917a707c1e40a2b\"></div>\n",
       "<script type=\"text/javascript\">\n",
       "  var VEGA_DEBUG = (typeof VEGA_DEBUG == \"undefined\") ? {} : VEGA_DEBUG;\n",
       "  (function(spec, embedOpt){\n",
       "    let outputDiv = document.currentScript.previousElementSibling;\n",
       "    if (outputDiv.id !== \"altair-viz-e9d519b3fddf400ea917a707c1e40a2b\") {\n",
       "      outputDiv = document.getElementById(\"altair-viz-e9d519b3fddf400ea917a707c1e40a2b\");\n",
       "    }\n",
       "    const paths = {\n",
       "      \"vega\": \"https://cdn.jsdelivr.net/npm/vega@5?noext\",\n",
       "      \"vega-lib\": \"https://cdn.jsdelivr.net/npm/vega-lib?noext\",\n",
       "      \"vega-lite\": \"https://cdn.jsdelivr.net/npm/vega-lite@5.20.1?noext\",\n",
       "      \"vega-embed\": \"https://cdn.jsdelivr.net/npm/vega-embed@6?noext\",\n",
       "    };\n",
       "\n",
       "    function maybeLoadScript(lib, version) {\n",
       "      var key = `${lib.replace(\"-\", \"\")}_version`;\n",
       "      return (VEGA_DEBUG[key] == version) ?\n",
       "        Promise.resolve(paths[lib]) :\n",
       "        new Promise(function(resolve, reject) {\n",
       "          var s = document.createElement('script');\n",
       "          document.getElementsByTagName(\"head\")[0].appendChild(s);\n",
       "          s.async = true;\n",
       "          s.onload = () => {\n",
       "            VEGA_DEBUG[key] = version;\n",
       "            return resolve(paths[lib]);\n",
       "          };\n",
       "          s.onerror = () => reject(`Error loading script: ${paths[lib]}`);\n",
       "          s.src = paths[lib];\n",
       "        });\n",
       "    }\n",
       "\n",
       "    function showError(err) {\n",
       "      outputDiv.innerHTML = `<div class=\"error\" style=\"color:red;\">${err}</div>`;\n",
       "      throw err;\n",
       "    }\n",
       "\n",
       "    function displayChart(vegaEmbed) {\n",
       "      vegaEmbed(outputDiv, spec, embedOpt)\n",
       "        .catch(err => showError(`Javascript Error: ${err.message}<br>This usually means there's a typo in your chart specification. See the javascript console for the full traceback.`));\n",
       "    }\n",
       "\n",
       "    if(typeof define === \"function\" && define.amd) {\n",
       "      requirejs.config({paths});\n",
       "      require([\"vega-embed\"], displayChart, err => showError(`Error loading script: ${err.message}`));\n",
       "    } else {\n",
       "      maybeLoadScript(\"vega\", \"5\")\n",
       "        .then(() => maybeLoadScript(\"vega-lite\", \"5.20.1\"))\n",
       "        .then(() => maybeLoadScript(\"vega-embed\", \"6\"))\n",
       "        .catch(showError)\n",
       "        .then(() => displayChart(vegaEmbed));\n",
       "    }\n",
       "  })({\"config\": {\"view\": {\"continuousWidth\": 300, \"continuousHeight\": 300}}, \"data\": {\"url\": \"https://cdn.jsdelivr.net/npm/vega-datasets@1/data/cars.json\"}, \"mark\": {\"type\": \"circle\"}, \"encoding\": {\"color\": {\"condition\": {\"param\": \"param_1\", \"field\": \"Cylinders\", \"type\": \"ordinal\"}, \"value\": \"grey\"}, \"opacity\": {\"condition\": {\"param\": \"param_1\", \"value\": 0.8}, \"value\": 0.1}, \"x\": {\"field\": \"Horsepower\", \"type\": \"quantitative\"}, \"y\": {\"field\": \"Miles_per_Gallon\", \"type\": \"quantitative\"}}, \"params\": [{\"name\": \"param_1\", \"select\": {\"type\": \"point\"}}], \"$schema\": \"https://vega.github.io/schema/vega-lite/v5.20.1.json\"}, {\"mode\": \"vega-lite\"});\n",
       "</script>"
      ],
      "text/plain": [
       "alt.Chart(...)"
      ]
     },
     "execution_count": 3,
     "metadata": {},
     "output_type": "execute_result"
    }
   ],
   "source": [
    "selection = alt.selection_single()\n",
    "\n",
    "alt.Chart(cars).mark_circle().add_selection(\n",
    "    selection\n",
    ").encode(\n",
    "    x='Horsepower:Q',\n",
    "    y='Miles_per_Gallon:Q',\n",
    "    color=alt.condition(selection, 'Cylinders:O', alt.value('grey')),\n",
    "    opacity=alt.condition(selection, alt.value(0.8), alt.value(0.1))\n",
    ")\n"
   ]
  },
  {
   "cell_type": "code",
   "execution_count": 4,
   "metadata": {},
   "outputs": [],
   "source": [
    "def plot(selection):\n",
    "    return alt.Chart(cars).mark_circle().add_selection(\n",
    "        selection\n",
    "    ).encode(\n",
    "        x='Horsepower:Q',\n",
    "        y='Miles_per_Gallon:Q',\n",
    "        color=alt.condition(selection, 'Cylinders:O', alt.value('grey')),\n",
    "        opacity=alt.condition(selection, alt.value(0.8), alt.value(0.1))\n",
    "    ).properties(\n",
    "        width=240,\n",
    "        height=180\n",
    "    )"
   ]
  },
  {
   "cell_type": "code",
   "execution_count": 5,
   "metadata": {},
   "outputs": [
    {
     "name": "stderr",
     "output_type": "stream",
     "text": [
      "/var/folders/gg/0m4l7pvs5zq9d8p4tzflypdc0000gn/T/ipykernel_33960/2299552586.py:2: AltairDeprecationWarning: Deprecated in `altair=5.0.0`. Use selection_point instead.\n",
      "  plot(alt.selection_single()).properties(title='Single (Click)'),\n",
      "/var/folders/gg/0m4l7pvs5zq9d8p4tzflypdc0000gn/T/ipykernel_33960/1277325702.py:2: AltairDeprecationWarning: Deprecated in `altair=5.0.0`. Use add_params instead.\n",
      "  return alt.Chart(cars).mark_circle().add_selection(\n",
      "/var/folders/gg/0m4l7pvs5zq9d8p4tzflypdc0000gn/T/ipykernel_33960/2299552586.py:3: AltairDeprecationWarning: Deprecated in `altair=5.0.0`. Use selection_point instead.\n",
      "  plot(alt.selection_multi()).properties(title='Multi (Shift-Click)'),\n"
     ]
    },
    {
     "data": {
      "text/html": [
       "\n",
       "<style>\n",
       "  #altair-viz-50ec92aa7c224055892c5ca8686f02f5.vega-embed {\n",
       "    width: 100%;\n",
       "    display: flex;\n",
       "  }\n",
       "\n",
       "  #altair-viz-50ec92aa7c224055892c5ca8686f02f5.vega-embed details,\n",
       "  #altair-viz-50ec92aa7c224055892c5ca8686f02f5.vega-embed details summary {\n",
       "    position: relative;\n",
       "  }\n",
       "</style>\n",
       "<div id=\"altair-viz-50ec92aa7c224055892c5ca8686f02f5\"></div>\n",
       "<script type=\"text/javascript\">\n",
       "  var VEGA_DEBUG = (typeof VEGA_DEBUG == \"undefined\") ? {} : VEGA_DEBUG;\n",
       "  (function(spec, embedOpt){\n",
       "    let outputDiv = document.currentScript.previousElementSibling;\n",
       "    if (outputDiv.id !== \"altair-viz-50ec92aa7c224055892c5ca8686f02f5\") {\n",
       "      outputDiv = document.getElementById(\"altair-viz-50ec92aa7c224055892c5ca8686f02f5\");\n",
       "    }\n",
       "    const paths = {\n",
       "      \"vega\": \"https://cdn.jsdelivr.net/npm/vega@5?noext\",\n",
       "      \"vega-lib\": \"https://cdn.jsdelivr.net/npm/vega-lib?noext\",\n",
       "      \"vega-lite\": \"https://cdn.jsdelivr.net/npm/vega-lite@5.20.1?noext\",\n",
       "      \"vega-embed\": \"https://cdn.jsdelivr.net/npm/vega-embed@6?noext\",\n",
       "    };\n",
       "\n",
       "    function maybeLoadScript(lib, version) {\n",
       "      var key = `${lib.replace(\"-\", \"\")}_version`;\n",
       "      return (VEGA_DEBUG[key] == version) ?\n",
       "        Promise.resolve(paths[lib]) :\n",
       "        new Promise(function(resolve, reject) {\n",
       "          var s = document.createElement('script');\n",
       "          document.getElementsByTagName(\"head\")[0].appendChild(s);\n",
       "          s.async = true;\n",
       "          s.onload = () => {\n",
       "            VEGA_DEBUG[key] = version;\n",
       "            return resolve(paths[lib]);\n",
       "          };\n",
       "          s.onerror = () => reject(`Error loading script: ${paths[lib]}`);\n",
       "          s.src = paths[lib];\n",
       "        });\n",
       "    }\n",
       "\n",
       "    function showError(err) {\n",
       "      outputDiv.innerHTML = `<div class=\"error\" style=\"color:red;\">${err}</div>`;\n",
       "      throw err;\n",
       "    }\n",
       "\n",
       "    function displayChart(vegaEmbed) {\n",
       "      vegaEmbed(outputDiv, spec, embedOpt)\n",
       "        .catch(err => showError(`Javascript Error: ${err.message}<br>This usually means there's a typo in your chart specification. See the javascript console for the full traceback.`));\n",
       "    }\n",
       "\n",
       "    if(typeof define === \"function\" && define.amd) {\n",
       "      requirejs.config({paths});\n",
       "      require([\"vega-embed\"], displayChart, err => showError(`Error loading script: ${err.message}`));\n",
       "    } else {\n",
       "      maybeLoadScript(\"vega\", \"5\")\n",
       "        .then(() => maybeLoadScript(\"vega-lite\", \"5.20.1\"))\n",
       "        .then(() => maybeLoadScript(\"vega-embed\", \"6\"))\n",
       "        .catch(showError)\n",
       "        .then(() => displayChart(vegaEmbed));\n",
       "    }\n",
       "  })({\"config\": {\"view\": {\"continuousWidth\": 300, \"continuousHeight\": 300}}, \"hconcat\": [{\"mark\": {\"type\": \"circle\"}, \"encoding\": {\"color\": {\"condition\": {\"param\": \"param_2\", \"field\": \"Cylinders\", \"type\": \"ordinal\"}, \"value\": \"grey\"}, \"opacity\": {\"condition\": {\"param\": \"param_2\", \"value\": 0.8}, \"value\": 0.1}, \"x\": {\"field\": \"Horsepower\", \"type\": \"quantitative\"}, \"y\": {\"field\": \"Miles_per_Gallon\", \"type\": \"quantitative\"}}, \"height\": 180, \"name\": \"view_1\", \"title\": \"Single (Click)\", \"width\": 240}, {\"mark\": {\"type\": \"circle\"}, \"encoding\": {\"color\": {\"condition\": {\"param\": \"param_3\", \"field\": \"Cylinders\", \"type\": \"ordinal\"}, \"value\": \"grey\"}, \"opacity\": {\"condition\": {\"param\": \"param_3\", \"value\": 0.8}, \"value\": 0.1}, \"x\": {\"field\": \"Horsepower\", \"type\": \"quantitative\"}, \"y\": {\"field\": \"Miles_per_Gallon\", \"type\": \"quantitative\"}}, \"height\": 180, \"name\": \"view_2\", \"title\": \"Multi (Shift-Click)\", \"width\": 240}, {\"mark\": {\"type\": \"circle\"}, \"encoding\": {\"color\": {\"condition\": {\"param\": \"param_4\", \"field\": \"Cylinders\", \"type\": \"ordinal\"}, \"value\": \"grey\"}, \"opacity\": {\"condition\": {\"param\": \"param_4\", \"value\": 0.8}, \"value\": 0.1}, \"x\": {\"field\": \"Horsepower\", \"type\": \"quantitative\"}, \"y\": {\"field\": \"Miles_per_Gallon\", \"type\": \"quantitative\"}}, \"height\": 180, \"name\": \"view_3\", \"title\": \"Interval (Drag)\", \"width\": 240}], \"data\": {\"url\": \"https://cdn.jsdelivr.net/npm/vega-datasets@1/data/cars.json\"}, \"params\": [{\"name\": \"param_2\", \"select\": {\"type\": \"point\"}, \"views\": [\"view_1\"]}, {\"name\": \"param_3\", \"select\": {\"type\": \"point\"}, \"views\": [\"view_2\"]}, {\"name\": \"param_4\", \"select\": {\"type\": \"interval\"}, \"views\": [\"view_3\"]}], \"$schema\": \"https://vega.github.io/schema/vega-lite/v5.20.1.json\"}, {\"mode\": \"vega-lite\"});\n",
       "</script>"
      ],
      "text/plain": [
       "alt.HConcatChart(...)"
      ]
     },
     "execution_count": 5,
     "metadata": {},
     "output_type": "execute_result"
    }
   ],
   "source": [
    "alt.hconcat(\n",
    "  plot(alt.selection_single()).properties(title='Single (Click)'),\n",
    "  plot(alt.selection_multi()).properties(title='Multi (Shift-Click)'),\n",
    "  plot(alt.selection_interval()).properties(title='Interval (Drag)')\n",
    ")"
   ]
  },
  {
   "cell_type": "code",
   "execution_count": 6,
   "metadata": {},
   "outputs": [
    {
     "name": "stderr",
     "output_type": "stream",
     "text": [
      "/var/folders/gg/0m4l7pvs5zq9d8p4tzflypdc0000gn/T/ipykernel_33960/861132474.py:2: AltairDeprecationWarning: Deprecated in `altair=5.0.0`. Use selection_point instead.\n",
      "  plot(alt.selection_single(on='mouseover')).properties(title='Single (Mouseover)'),\n",
      "/var/folders/gg/0m4l7pvs5zq9d8p4tzflypdc0000gn/T/ipykernel_33960/1277325702.py:2: AltairDeprecationWarning: Deprecated in `altair=5.0.0`. Use add_params instead.\n",
      "  return alt.Chart(cars).mark_circle().add_selection(\n",
      "/var/folders/gg/0m4l7pvs5zq9d8p4tzflypdc0000gn/T/ipykernel_33960/861132474.py:3: AltairDeprecationWarning: Deprecated in `altair=5.0.0`. Use selection_point instead.\n",
      "  plot(alt.selection_multi(on='mouseover')).properties(title='Multi (Shift-Mouseover)')\n"
     ]
    },
    {
     "data": {
      "text/html": [
       "\n",
       "<style>\n",
       "  #altair-viz-c8aa4c5719734fb4a9a79107f4408f82.vega-embed {\n",
       "    width: 100%;\n",
       "    display: flex;\n",
       "  }\n",
       "\n",
       "  #altair-viz-c8aa4c5719734fb4a9a79107f4408f82.vega-embed details,\n",
       "  #altair-viz-c8aa4c5719734fb4a9a79107f4408f82.vega-embed details summary {\n",
       "    position: relative;\n",
       "  }\n",
       "</style>\n",
       "<div id=\"altair-viz-c8aa4c5719734fb4a9a79107f4408f82\"></div>\n",
       "<script type=\"text/javascript\">\n",
       "  var VEGA_DEBUG = (typeof VEGA_DEBUG == \"undefined\") ? {} : VEGA_DEBUG;\n",
       "  (function(spec, embedOpt){\n",
       "    let outputDiv = document.currentScript.previousElementSibling;\n",
       "    if (outputDiv.id !== \"altair-viz-c8aa4c5719734fb4a9a79107f4408f82\") {\n",
       "      outputDiv = document.getElementById(\"altair-viz-c8aa4c5719734fb4a9a79107f4408f82\");\n",
       "    }\n",
       "    const paths = {\n",
       "      \"vega\": \"https://cdn.jsdelivr.net/npm/vega@5?noext\",\n",
       "      \"vega-lib\": \"https://cdn.jsdelivr.net/npm/vega-lib?noext\",\n",
       "      \"vega-lite\": \"https://cdn.jsdelivr.net/npm/vega-lite@5.20.1?noext\",\n",
       "      \"vega-embed\": \"https://cdn.jsdelivr.net/npm/vega-embed@6?noext\",\n",
       "    };\n",
       "\n",
       "    function maybeLoadScript(lib, version) {\n",
       "      var key = `${lib.replace(\"-\", \"\")}_version`;\n",
       "      return (VEGA_DEBUG[key] == version) ?\n",
       "        Promise.resolve(paths[lib]) :\n",
       "        new Promise(function(resolve, reject) {\n",
       "          var s = document.createElement('script');\n",
       "          document.getElementsByTagName(\"head\")[0].appendChild(s);\n",
       "          s.async = true;\n",
       "          s.onload = () => {\n",
       "            VEGA_DEBUG[key] = version;\n",
       "            return resolve(paths[lib]);\n",
       "          };\n",
       "          s.onerror = () => reject(`Error loading script: ${paths[lib]}`);\n",
       "          s.src = paths[lib];\n",
       "        });\n",
       "    }\n",
       "\n",
       "    function showError(err) {\n",
       "      outputDiv.innerHTML = `<div class=\"error\" style=\"color:red;\">${err}</div>`;\n",
       "      throw err;\n",
       "    }\n",
       "\n",
       "    function displayChart(vegaEmbed) {\n",
       "      vegaEmbed(outputDiv, spec, embedOpt)\n",
       "        .catch(err => showError(`Javascript Error: ${err.message}<br>This usually means there's a typo in your chart specification. See the javascript console for the full traceback.`));\n",
       "    }\n",
       "\n",
       "    if(typeof define === \"function\" && define.amd) {\n",
       "      requirejs.config({paths});\n",
       "      require([\"vega-embed\"], displayChart, err => showError(`Error loading script: ${err.message}`));\n",
       "    } else {\n",
       "      maybeLoadScript(\"vega\", \"5\")\n",
       "        .then(() => maybeLoadScript(\"vega-lite\", \"5.20.1\"))\n",
       "        .then(() => maybeLoadScript(\"vega-embed\", \"6\"))\n",
       "        .catch(showError)\n",
       "        .then(() => displayChart(vegaEmbed));\n",
       "    }\n",
       "  })({\"config\": {\"view\": {\"continuousWidth\": 300, \"continuousHeight\": 300}}, \"hconcat\": [{\"mark\": {\"type\": \"circle\"}, \"encoding\": {\"color\": {\"condition\": {\"param\": \"param_5\", \"field\": \"Cylinders\", \"type\": \"ordinal\"}, \"value\": \"grey\"}, \"opacity\": {\"condition\": {\"param\": \"param_5\", \"value\": 0.8}, \"value\": 0.1}, \"x\": {\"field\": \"Horsepower\", \"type\": \"quantitative\"}, \"y\": {\"field\": \"Miles_per_Gallon\", \"type\": \"quantitative\"}}, \"height\": 180, \"name\": \"view_4\", \"title\": \"Single (Mouseover)\", \"width\": 240}, {\"mark\": {\"type\": \"circle\"}, \"encoding\": {\"color\": {\"condition\": {\"param\": \"param_6\", \"field\": \"Cylinders\", \"type\": \"ordinal\"}, \"value\": \"grey\"}, \"opacity\": {\"condition\": {\"param\": \"param_6\", \"value\": 0.8}, \"value\": 0.1}, \"x\": {\"field\": \"Horsepower\", \"type\": \"quantitative\"}, \"y\": {\"field\": \"Miles_per_Gallon\", \"type\": \"quantitative\"}}, \"height\": 180, \"name\": \"view_5\", \"title\": \"Multi (Shift-Mouseover)\", \"width\": 240}], \"data\": {\"url\": \"https://cdn.jsdelivr.net/npm/vega-datasets@1/data/cars.json\"}, \"params\": [{\"name\": \"param_5\", \"select\": {\"type\": \"point\", \"on\": \"mouseover\"}, \"views\": [\"view_4\"]}, {\"name\": \"param_6\", \"select\": {\"type\": \"point\", \"on\": \"mouseover\"}, \"views\": [\"view_5\"]}], \"$schema\": \"https://vega.github.io/schema/vega-lite/v5.20.1.json\"}, {\"mode\": \"vega-lite\"});\n",
       "</script>"
      ],
      "text/plain": [
       "alt.HConcatChart(...)"
      ]
     },
     "execution_count": 6,
     "metadata": {},
     "output_type": "execute_result"
    }
   ],
   "source": [
    "alt.hconcat(\n",
    "  plot(alt.selection_single(on='mouseover')).properties(title='Single (Mouseover)'),\n",
    "  plot(alt.selection_multi(on='mouseover')).properties(title='Multi (Shift-Mouseover)')\n",
    ")"
   ]
  },
  {
   "cell_type": "code",
   "execution_count": 7,
   "metadata": {},
   "outputs": [],
   "source": [
    "df = pd.read_json(movies)\n",
    "df_pl = (\n",
    "    pl.read_csv('../data/movies.csv')\n",
    ")"
   ]
  },
  {
   "cell_type": "code",
   "execution_count": 8,
   "metadata": {},
   "outputs": [
    {
     "data": {
      "text/html": [
       "<div><style>\n",
       ".dataframe > thead > tr,\n",
       ".dataframe > tbody > tr {\n",
       "  text-align: right;\n",
       "  white-space: pre-wrap;\n",
       "}\n",
       "</style>\n",
       "<small>shape: (3_201, 16)</small><table border=\"1\" class=\"dataframe\"><thead><tr><th>Title</th><th>US_Gross</th><th>Worldwide_Gross</th><th>US_DVD_Sales</th><th>Production_Budget</th><th>Release_Date</th><th>MPAA_Rating</th><th>Running_Time_min</th><th>Distributor</th><th>Source</th><th>Major_Genre</th><th>Creative_Type</th><th>Director</th><th>Rotten_Tomatoes_Rating</th><th>IMDB_Rating</th><th>IMDB_Votes</th></tr><tr><td>str</td><td>f64</td><td>f64</td><td>f64</td><td>f64</td><td>str</td><td>str</td><td>f64</td><td>str</td><td>str</td><td>str</td><td>str</td><td>str</td><td>f64</td><td>f64</td><td>f64</td></tr></thead><tbody><tr><td>&quot;The Land Girls&quot;</td><td>146083.0</td><td>146083.0</td><td>null</td><td>8e6</td><td>&quot;Jun 12 1998&quot;</td><td>&quot;R&quot;</td><td>null</td><td>&quot;Gramercy&quot;</td><td>null</td><td>null</td><td>null</td><td>null</td><td>null</td><td>6.1</td><td>1071.0</td></tr><tr><td>&quot;First Love, Last Rites&quot;</td><td>10876.0</td><td>10876.0</td><td>null</td><td>300000.0</td><td>&quot;Aug 07 1998&quot;</td><td>&quot;R&quot;</td><td>null</td><td>&quot;Strand&quot;</td><td>null</td><td>&quot;Drama&quot;</td><td>null</td><td>null</td><td>null</td><td>6.9</td><td>207.0</td></tr><tr><td>&quot;I Married a Strange Person&quot;</td><td>203134.0</td><td>203134.0</td><td>null</td><td>250000.0</td><td>&quot;Aug 28 1998&quot;</td><td>null</td><td>null</td><td>&quot;Lionsgate&quot;</td><td>null</td><td>&quot;Comedy&quot;</td><td>null</td><td>null</td><td>null</td><td>6.8</td><td>865.0</td></tr><tr><td>&quot;Let&#x27;s Talk About Sex&quot;</td><td>373615.0</td><td>373615.0</td><td>null</td><td>300000.0</td><td>&quot;Sep 11 1998&quot;</td><td>null</td><td>null</td><td>&quot;Fine Line&quot;</td><td>null</td><td>&quot;Comedy&quot;</td><td>null</td><td>null</td><td>13.0</td><td>null</td><td>null</td></tr><tr><td>&quot;Slam&quot;</td><td>1.009819e6</td><td>1.087521e6</td><td>null</td><td>1e6</td><td>&quot;Oct 09 1998&quot;</td><td>&quot;R&quot;</td><td>null</td><td>&quot;Trimark&quot;</td><td>&quot;Original Screenplay&quot;</td><td>&quot;Drama&quot;</td><td>&quot;Contemporary Fiction&quot;</td><td>null</td><td>62.0</td><td>3.4</td><td>165.0</td></tr><tr><td>&hellip;</td><td>&hellip;</td><td>&hellip;</td><td>&hellip;</td><td>&hellip;</td><td>&hellip;</td><td>&hellip;</td><td>&hellip;</td><td>&hellip;</td><td>&hellip;</td><td>&hellip;</td><td>&hellip;</td><td>&hellip;</td><td>&hellip;</td><td>&hellip;</td><td>&hellip;</td></tr><tr><td>&quot;Zack and Miri Make a Porno&quot;</td><td>3.1452765e7</td><td>3.6851125e7</td><td>2.1240321e7</td><td>2.4e7</td><td>&quot;Oct 31 2008&quot;</td><td>&quot;R&quot;</td><td>101.0</td><td>&quot;Weinstein Co.&quot;</td><td>&quot;Original Screenplay&quot;</td><td>&quot;Comedy&quot;</td><td>&quot;Contemporary Fiction&quot;</td><td>&quot;Kevin Smith&quot;</td><td>65.0</td><td>7.0</td><td>55687.0</td></tr><tr><td>&quot;Zodiac&quot;</td><td>3.3080084e7</td><td>8.3080084e7</td><td>2.098303e7</td><td>8.5e7</td><td>&quot;Mar 02 2007&quot;</td><td>&quot;R&quot;</td><td>157.0</td><td>&quot;Paramount Pictures&quot;</td><td>&quot;Based on Book/Short Story&quot;</td><td>&quot;Thriller/Suspense&quot;</td><td>&quot;Dramatization&quot;</td><td>&quot;David Fincher&quot;</td><td>89.0</td><td>null</td><td>null</td></tr><tr><td>&quot;Zoom&quot;</td><td>1.1989328e7</td><td>1.2506188e7</td><td>6.679409e6</td><td>3.5e7</td><td>&quot;Aug 11 2006&quot;</td><td>&quot;PG&quot;</td><td>null</td><td>&quot;Sony Pictures&quot;</td><td>&quot;Based on Comic/Graphic Novel&quot;</td><td>&quot;Adventure&quot;</td><td>&quot;Super Hero&quot;</td><td>&quot;Peter Hewitt&quot;</td><td>3.0</td><td>3.4</td><td>7424.0</td></tr><tr><td>&quot;The Legend of Zorro&quot;</td><td>4.5575336e7</td><td>1.41475336e8</td><td>null</td><td>8e7</td><td>&quot;Oct 28 2005&quot;</td><td>&quot;PG&quot;</td><td>129.0</td><td>&quot;Sony Pictures&quot;</td><td>&quot;Remake&quot;</td><td>&quot;Adventure&quot;</td><td>&quot;Historical Fiction&quot;</td><td>&quot;Martin Campbell&quot;</td><td>26.0</td><td>5.7</td><td>21161.0</td></tr><tr><td>&quot;The Mask of Zorro&quot;</td><td>9.3828745e7</td><td>2.337e8</td><td>null</td><td>6.5e7</td><td>&quot;Jul 17 1998&quot;</td><td>&quot;PG-13&quot;</td><td>136.0</td><td>&quot;Sony Pictures&quot;</td><td>&quot;Remake&quot;</td><td>&quot;Adventure&quot;</td><td>&quot;Historical Fiction&quot;</td><td>&quot;Martin Campbell&quot;</td><td>82.0</td><td>6.7</td><td>4789.0</td></tr></tbody></table></div>"
      ],
      "text/plain": [
       "shape: (3_201, 16)\n",
       "┌───────────┬───────────┬───────────┬───────────┬───┬───────────┬───────────┬───────────┬──────────┐\n",
       "│ Title     ┆ US_Gross  ┆ Worldwide ┆ US_DVD_Sa ┆ … ┆ Director  ┆ Rotten_To ┆ IMDB_Rati ┆ IMDB_Vot │\n",
       "│ ---       ┆ ---       ┆ _Gross    ┆ les       ┆   ┆ ---       ┆ matoes_Ra ┆ ng        ┆ es       │\n",
       "│ str       ┆ f64       ┆ ---       ┆ ---       ┆   ┆ str       ┆ ting      ┆ ---       ┆ ---      │\n",
       "│           ┆           ┆ f64       ┆ f64       ┆   ┆           ┆ ---       ┆ f64       ┆ f64      │\n",
       "│           ┆           ┆           ┆           ┆   ┆           ┆ f64       ┆           ┆          │\n",
       "╞═══════════╪═══════════╪═══════════╪═══════════╪═══╪═══════════╪═══════════╪═══════════╪══════════╡\n",
       "│ The Land  ┆ 146083.0  ┆ 146083.0  ┆ null      ┆ … ┆ null      ┆ null      ┆ 6.1       ┆ 1071.0   │\n",
       "│ Girls     ┆           ┆           ┆           ┆   ┆           ┆           ┆           ┆          │\n",
       "│ First     ┆ 10876.0   ┆ 10876.0   ┆ null      ┆ … ┆ null      ┆ null      ┆ 6.9       ┆ 207.0    │\n",
       "│ Love,     ┆           ┆           ┆           ┆   ┆           ┆           ┆           ┆          │\n",
       "│ Last      ┆           ┆           ┆           ┆   ┆           ┆           ┆           ┆          │\n",
       "│ Rites     ┆           ┆           ┆           ┆   ┆           ┆           ┆           ┆          │\n",
       "│ I Married ┆ 203134.0  ┆ 203134.0  ┆ null      ┆ … ┆ null      ┆ null      ┆ 6.8       ┆ 865.0    │\n",
       "│ a Strange ┆           ┆           ┆           ┆   ┆           ┆           ┆           ┆          │\n",
       "│ Person    ┆           ┆           ┆           ┆   ┆           ┆           ┆           ┆          │\n",
       "│ Let's     ┆ 373615.0  ┆ 373615.0  ┆ null      ┆ … ┆ null      ┆ 13.0      ┆ null      ┆ null     │\n",
       "│ Talk      ┆           ┆           ┆           ┆   ┆           ┆           ┆           ┆          │\n",
       "│ About Sex ┆           ┆           ┆           ┆   ┆           ┆           ┆           ┆          │\n",
       "│ Slam      ┆ 1.009819e ┆ 1.087521e ┆ null      ┆ … ┆ null      ┆ 62.0      ┆ 3.4       ┆ 165.0    │\n",
       "│           ┆ 6         ┆ 6         ┆           ┆   ┆           ┆           ┆           ┆          │\n",
       "│ …         ┆ …         ┆ …         ┆ …         ┆ … ┆ …         ┆ …         ┆ …         ┆ …        │\n",
       "│ Zack and  ┆ 3.1452765 ┆ 3.6851125 ┆ 2.1240321 ┆ … ┆ Kevin     ┆ 65.0      ┆ 7.0       ┆ 55687.0  │\n",
       "│ Miri Make ┆ e7        ┆ e7        ┆ e7        ┆   ┆ Smith     ┆           ┆           ┆          │\n",
       "│ a Porno   ┆           ┆           ┆           ┆   ┆           ┆           ┆           ┆          │\n",
       "│ Zodiac    ┆ 3.3080084 ┆ 8.3080084 ┆ 2.098303e ┆ … ┆ David     ┆ 89.0      ┆ null      ┆ null     │\n",
       "│           ┆ e7        ┆ e7        ┆ 7         ┆   ┆ Fincher   ┆           ┆           ┆          │\n",
       "│ Zoom      ┆ 1.1989328 ┆ 1.2506188 ┆ 6.679409e ┆ … ┆ Peter     ┆ 3.0       ┆ 3.4       ┆ 7424.0   │\n",
       "│           ┆ e7        ┆ e7        ┆ 6         ┆   ┆ Hewitt    ┆           ┆           ┆          │\n",
       "│ The       ┆ 4.5575336 ┆ 1.4147533 ┆ null      ┆ … ┆ Martin    ┆ 26.0      ┆ 5.7       ┆ 21161.0  │\n",
       "│ Legend of ┆ e7        ┆ 6e8       ┆           ┆   ┆ Campbell  ┆           ┆           ┆          │\n",
       "│ Zorro     ┆           ┆           ┆           ┆   ┆           ┆           ┆           ┆          │\n",
       "│ The Mask  ┆ 9.3828745 ┆ 2.337e8   ┆ null      ┆ … ┆ Martin    ┆ 82.0      ┆ 6.7       ┆ 4789.0   │\n",
       "│ of Zorro  ┆ e7        ┆           ┆           ┆   ┆ Campbell  ┆           ┆           ┆          │\n",
       "└───────────┴───────────┴───────────┴───────────┴───┴───────────┴───────────┴───────────┴──────────┘"
      ]
     },
     "execution_count": 8,
     "metadata": {},
     "output_type": "execute_result"
    }
   ],
   "source": [
    "df_pl"
   ]
  },
  {
   "cell_type": "code",
   "execution_count": 9,
   "metadata": {},
   "outputs": [
    {
     "data": {
      "text/plain": [
       "'Action'"
      ]
     },
     "execution_count": 9,
     "metadata": {},
     "output_type": "execute_result"
    }
   ],
   "source": [
    "genres = (\n",
    "    df_pl\n",
    "    .select(\"Major_Genre\")\n",
    "    .unique()\n",
    "    .filter(pl.col(\"Major_Genre\").is_not_null())\n",
    "    .sort(\"Major_Genre\")\n",
    "    .to_series()\n",
    "    .to_list()\n",
    ")\n",
    "\n",
    "genres[0]"
   ]
  },
  {
   "cell_type": "code",
   "execution_count": 10,
   "metadata": {},
   "outputs": [],
   "source": [
    "mpaa = ['G', 'PG', 'PG-13', 'R', 'NC-17', 'Not Rated']"
   ]
  },
  {
   "cell_type": "code",
   "execution_count": 12,
   "metadata": {},
   "outputs": [
    {
     "data": {
      "text/html": [
       "\n",
       "<style>\n",
       "  #altair-viz-ed237ef0ebe34254950535e514f87056.vega-embed {\n",
       "    width: 100%;\n",
       "    display: flex;\n",
       "  }\n",
       "\n",
       "  #altair-viz-ed237ef0ebe34254950535e514f87056.vega-embed details,\n",
       "  #altair-viz-ed237ef0ebe34254950535e514f87056.vega-embed details summary {\n",
       "    position: relative;\n",
       "  }\n",
       "</style>\n",
       "<div id=\"altair-viz-ed237ef0ebe34254950535e514f87056\"></div>\n",
       "<script type=\"text/javascript\">\n",
       "  var VEGA_DEBUG = (typeof VEGA_DEBUG == \"undefined\") ? {} : VEGA_DEBUG;\n",
       "  (function(spec, embedOpt){\n",
       "    let outputDiv = document.currentScript.previousElementSibling;\n",
       "    if (outputDiv.id !== \"altair-viz-ed237ef0ebe34254950535e514f87056\") {\n",
       "      outputDiv = document.getElementById(\"altair-viz-ed237ef0ebe34254950535e514f87056\");\n",
       "    }\n",
       "    const paths = {\n",
       "      \"vega\": \"https://cdn.jsdelivr.net/npm/vega@5?noext\",\n",
       "      \"vega-lib\": \"https://cdn.jsdelivr.net/npm/vega-lib?noext\",\n",
       "      \"vega-lite\": \"https://cdn.jsdelivr.net/npm/vega-lite@5.20.1?noext\",\n",
       "      \"vega-embed\": \"https://cdn.jsdelivr.net/npm/vega-embed@6?noext\",\n",
       "    };\n",
       "\n",
       "    function maybeLoadScript(lib, version) {\n",
       "      var key = `${lib.replace(\"-\", \"\")}_version`;\n",
       "      return (VEGA_DEBUG[key] == version) ?\n",
       "        Promise.resolve(paths[lib]) :\n",
       "        new Promise(function(resolve, reject) {\n",
       "          var s = document.createElement('script');\n",
       "          document.getElementsByTagName(\"head\")[0].appendChild(s);\n",
       "          s.async = true;\n",
       "          s.onload = () => {\n",
       "            VEGA_DEBUG[key] = version;\n",
       "            return resolve(paths[lib]);\n",
       "          };\n",
       "          s.onerror = () => reject(`Error loading script: ${paths[lib]}`);\n",
       "          s.src = paths[lib];\n",
       "        });\n",
       "    }\n",
       "\n",
       "    function showError(err) {\n",
       "      outputDiv.innerHTML = `<div class=\"error\" style=\"color:red;\">${err}</div>`;\n",
       "      throw err;\n",
       "    }\n",
       "\n",
       "    function displayChart(vegaEmbed) {\n",
       "      vegaEmbed(outputDiv, spec, embedOpt)\n",
       "        .catch(err => showError(`Javascript Error: ${err.message}<br>This usually means there's a typo in your chart specification. See the javascript console for the full traceback.`));\n",
       "    }\n",
       "\n",
       "    if(typeof define === \"function\" && define.amd) {\n",
       "      requirejs.config({paths});\n",
       "      require([\"vega-embed\"], displayChart, err => showError(`Error loading script: ${err.message}`));\n",
       "    } else {\n",
       "      maybeLoadScript(\"vega\", \"5\")\n",
       "        .then(() => maybeLoadScript(\"vega-lite\", \"5.20.1\"))\n",
       "        .then(() => maybeLoadScript(\"vega-embed\", \"6\"))\n",
       "        .catch(showError)\n",
       "        .then(() => displayChart(vegaEmbed));\n",
       "    }\n",
       "  })({\"config\": {\"view\": {\"continuousWidth\": 300, \"continuousHeight\": 300}}, \"data\": {\"url\": \"https://cdn.jsdelivr.net/npm/vega-datasets@1/data/movies.json\"}, \"mark\": {\"type\": \"circle\"}, \"encoding\": {\"opacity\": {\"condition\": {\"param\": \"Select\", \"value\": 0.75}, \"value\": 0.05}, \"tooltip\": {\"field\": \"Title\", \"type\": \"nominal\"}, \"x\": {\"field\": \"Rotten_Tomatoes_Rating\", \"type\": \"quantitative\"}, \"y\": {\"field\": \"IMDB_Rating\", \"type\": \"quantitative\"}}, \"params\": [{\"name\": \"Select\", \"select\": {\"type\": \"point\", \"fields\": [\"Major_Genre\"]}, \"bind\": {\"input\": \"select\", \"options\": [\"Action\", \"Adventure\", \"Black Comedy\", \"Comedy\", \"Concert/Performance\", \"Documentary\", \"Drama\", \"Horror\", \"Musical\", \"Romantic Comedy\", \"Thriller/Suspense\", \"Western\"]}, \"value\": \"Action\"}], \"$schema\": \"https://vega.github.io/schema/vega-lite/v5.20.1.json\"}, {\"mode\": \"vega-lite\"});\n",
       "</script>"
      ],
      "text/plain": [
       "alt.Chart(...)"
      ]
     },
     "execution_count": 12,
     "metadata": {},
     "output_type": "execute_result"
    }
   ],
   "source": [
    "selectGenre = alt.selection_point(\n",
    "    name='Select', # name the selection 'Select'\n",
    "    fields=['Major_Genre'], # limit selection to the Major_Genre field\n",
    "    value=genres[0],\n",
    "    # value=[genres], # use first genre entry as initial value\n",
    "    bind=alt.binding_select(options=genres) # bind to a menu of unique genre values\n",
    ")\n",
    "\n",
    "# input_dropdown = alt.binding_select(options=genres, name='Select')\n",
    "# selectGenre = alt.selection_point(fields=['Major_Genre'], bind=input_dropdown)\n",
    "\n",
    "\n",
    "alt.Chart(movies).mark_circle().encode(\n",
    "    x='Rotten_Tomatoes_Rating:Q',\n",
    "    y='IMDB_Rating:Q',\n",
    "    tooltip='Title:N',\n",
    "    opacity=alt.condition(selectGenre, alt.value(0.75), alt.value(0.05))\n",
    ").add_params(\n",
    "    selectGenre\n",
    ")"
   ]
  },
  {
   "cell_type": "code",
   "execution_count": 25,
   "metadata": {},
   "outputs": [
    {
     "ename": "SchemaValidationError",
     "evalue": "Multiple errors were found.\n\nError 1: 'G' is an invalid value for `MPAA_Rating`. Valid values are of type 'array'.\n\nError 2: 'Action' is an invalid value for `Major_Genre`. Valid values are of type 'array'.",
     "output_type": "error",
     "traceback": [
      "\u001b[0;31m---------------------------------------------------------------------------\u001b[0m",
      "\u001b[0;31mSchemaValidationError\u001b[0m                     Traceback (most recent call last)",
      "Cell \u001b[0;32mIn[25], line 1\u001b[0m\n\u001b[0;32m----> 1\u001b[0m selection \u001b[38;5;241m=\u001b[39m \u001b[43malt\u001b[49m\u001b[38;5;241;43m.\u001b[39;49m\u001b[43mselection_point\u001b[49m\u001b[43m(\u001b[49m\n\u001b[1;32m      2\u001b[0m \u001b[43m    \u001b[49m\u001b[43mname\u001b[49m\u001b[38;5;241;43m=\u001b[39;49m\u001b[38;5;124;43m'\u001b[39;49m\u001b[38;5;124;43mSelect\u001b[39;49m\u001b[38;5;124;43m'\u001b[39;49m\u001b[43m,\u001b[49m\u001b[43m \u001b[49m\u001b[38;5;66;43;03m# name the selection 'Select'\u001b[39;49;00m\n\u001b[1;32m      3\u001b[0m \u001b[43m    \u001b[49m\u001b[43mfields\u001b[49m\u001b[38;5;241;43m=\u001b[39;49m\u001b[43m[\u001b[49m\u001b[38;5;124;43m'\u001b[39;49m\u001b[38;5;124;43mMajor_Genre\u001b[39;49m\u001b[38;5;124;43m'\u001b[39;49m\u001b[43m,\u001b[49m\u001b[43m \u001b[49m\u001b[38;5;124;43m'\u001b[39;49m\u001b[38;5;124;43mMPAA_Rating\u001b[39;49m\u001b[38;5;124;43m'\u001b[39;49m\u001b[43m]\u001b[49m\u001b[43m,\u001b[49m\u001b[43m \u001b[49m\u001b[38;5;66;43;03m# limit selection to the Major_Genre field\u001b[39;49;00m\n\u001b[1;32m      4\u001b[0m \u001b[43m    \u001b[49m\u001b[43mvalue\u001b[49m\u001b[38;5;241;43m=\u001b[39;49m\u001b[43m{\u001b[49m\u001b[38;5;124;43m'\u001b[39;49m\u001b[38;5;124;43mMajor_Genre\u001b[39;49m\u001b[38;5;124;43m'\u001b[39;49m\u001b[43m:\u001b[49m\u001b[43m \u001b[49m\u001b[38;5;124;43m'\u001b[39;49m\u001b[38;5;124;43mAction\u001b[39;49m\u001b[38;5;124;43m'\u001b[39;49m\u001b[43m,\u001b[49m\u001b[43m \u001b[49m\u001b[38;5;124;43m'\u001b[39;49m\u001b[38;5;124;43mMPAA_Rating\u001b[39;49m\u001b[38;5;124;43m'\u001b[39;49m\u001b[43m:\u001b[49m\u001b[43m \u001b[49m\u001b[38;5;124;43m'\u001b[39;49m\u001b[38;5;124;43mG\u001b[39;49m\u001b[38;5;124;43m'\u001b[39;49m\u001b[43m}\u001b[49m\u001b[43m,\u001b[49m\n\u001b[1;32m      5\u001b[0m \u001b[43m    \u001b[49m\u001b[38;5;66;43;03m# value=[genres], # use first genre entry as initial value\u001b[39;49;00m\n\u001b[1;32m      6\u001b[0m \u001b[43m    \u001b[49m\u001b[43mbind\u001b[49m\u001b[38;5;241;43m=\u001b[39;49m\u001b[43malt\u001b[49m\u001b[38;5;241;43m.\u001b[39;49m\u001b[43mbinding_select\u001b[49m\u001b[43m(\u001b[49m\u001b[43moptions\u001b[49m\u001b[38;5;241;43m=\u001b[39;49m\u001b[43mgenres\u001b[49m\u001b[43m)\u001b[49m\u001b[43m \u001b[49m\u001b[38;5;66;43;03m# bind to a menu of unique genre values\u001b[39;49;00m\n\u001b[1;32m      7\u001b[0m \u001b[43m)\u001b[49m\n\u001b[1;32m      9\u001b[0m \u001b[38;5;66;03m# input_dropdown = alt.binding_select(options=genres, name='Select')\u001b[39;00m\n\u001b[1;32m     10\u001b[0m \u001b[38;5;66;03m# selectGenre = alt.selection_point(fields=['Major_Genre'], bind=input_dropdown)\u001b[39;00m\n\u001b[1;32m     13\u001b[0m alt\u001b[38;5;241m.\u001b[39mChart(movies)\u001b[38;5;241m.\u001b[39mmark_circle()\u001b[38;5;241m.\u001b[39mencode(\n\u001b[1;32m     14\u001b[0m     x\u001b[38;5;241m=\u001b[39m\u001b[38;5;124m'\u001b[39m\u001b[38;5;124mRotten_Tomatoes_Rating:Q\u001b[39m\u001b[38;5;124m'\u001b[39m,\n\u001b[1;32m     15\u001b[0m     y\u001b[38;5;241m=\u001b[39m\u001b[38;5;124m'\u001b[39m\u001b[38;5;124mIMDB_Rating:Q\u001b[39m\u001b[38;5;124m'\u001b[39m,\n\u001b[0;32m   (...)\u001b[0m\n\u001b[1;32m     19\u001b[0m     selection\n\u001b[1;32m     20\u001b[0m )\n",
      "File \u001b[0;32m/opt/homebrew/Caskroom/miniforge/base/envs/eda/lib/python3.11/site-packages/altair/vegalite/v5/api.py:1578\u001b[0m, in \u001b[0;36mselection_point\u001b[0;34m(name, value, bind, empty, expr, encodings, fields, on, clear, resolve, toggle, nearest, **kwds)\u001b[0m\n\u001b[1;32m   1479\u001b[0m \u001b[38;5;28;01mdef\u001b[39;00m \u001b[38;5;21mselection_point\u001b[39m(\n\u001b[1;32m   1480\u001b[0m     name: \u001b[38;5;28mstr\u001b[39m \u001b[38;5;241m|\u001b[39m \u001b[38;5;28;01mNone\u001b[39;00m \u001b[38;5;241m=\u001b[39m \u001b[38;5;28;01mNone\u001b[39;00m,\n\u001b[1;32m   1481\u001b[0m     value: Optional[Any] \u001b[38;5;241m=\u001b[39m Undefined,\n\u001b[0;32m   (...)\u001b[0m\n\u001b[1;32m   1492\u001b[0m     \u001b[38;5;241m*\u001b[39m\u001b[38;5;241m*\u001b[39mkwds: Any,\n\u001b[1;32m   1493\u001b[0m ) \u001b[38;5;241m-\u001b[39m\u001b[38;5;241m>\u001b[39m Parameter:\n\u001b[1;32m   1494\u001b[0m \u001b[38;5;250m    \u001b[39m\u001b[38;5;124;03m\"\"\"\u001b[39;00m\n\u001b[1;32m   1495\u001b[0m \u001b[38;5;124;03m    Create a point selection parameter. Selection parameters define data queries that are driven by direct manipulation from user input (e.g., mouse clicks or drags). Point selection parameters are used to select multiple discrete data values; the first value is selected on click and additional values toggled on shift-click. To select a continuous range of data values on drag interval selection parameters (`selection_interval`) can be used instead.\u001b[39;00m\n\u001b[1;32m   1496\u001b[0m \n\u001b[0;32m   (...)\u001b[0m\n\u001b[1;32m   1576\u001b[0m \u001b[38;5;124;03m        The parameter object that can be used in chart creation.\u001b[39;00m\n\u001b[1;32m   1577\u001b[0m \u001b[38;5;124;03m    \"\"\"\u001b[39;00m\n\u001b[0;32m-> 1578\u001b[0m     \u001b[38;5;28;01mreturn\u001b[39;00m \u001b[43m_selection\u001b[49m\u001b[43m(\u001b[49m\n\u001b[1;32m   1579\u001b[0m \u001b[43m        \u001b[49m\u001b[38;5;28;43mtype\u001b[39;49m\u001b[38;5;241;43m=\u001b[39;49m\u001b[38;5;124;43m\"\u001b[39;49m\u001b[38;5;124;43mpoint\u001b[39;49m\u001b[38;5;124;43m\"\u001b[39;49m\u001b[43m,\u001b[49m\n\u001b[1;32m   1580\u001b[0m \u001b[43m        \u001b[49m\u001b[43mname\u001b[49m\u001b[38;5;241;43m=\u001b[39;49m\u001b[43mname\u001b[49m\u001b[43m,\u001b[49m\n\u001b[1;32m   1581\u001b[0m \u001b[43m        \u001b[49m\u001b[43mvalue\u001b[49m\u001b[38;5;241;43m=\u001b[39;49m\u001b[43mvalue\u001b[49m\u001b[43m,\u001b[49m\n\u001b[1;32m   1582\u001b[0m \u001b[43m        \u001b[49m\u001b[43mbind\u001b[49m\u001b[38;5;241;43m=\u001b[39;49m\u001b[43mbind\u001b[49m\u001b[43m,\u001b[49m\n\u001b[1;32m   1583\u001b[0m \u001b[43m        \u001b[49m\u001b[43mempty\u001b[49m\u001b[38;5;241;43m=\u001b[39;49m\u001b[43mempty\u001b[49m\u001b[43m,\u001b[49m\n\u001b[1;32m   1584\u001b[0m \u001b[43m        \u001b[49m\u001b[43mexpr\u001b[49m\u001b[38;5;241;43m=\u001b[39;49m\u001b[43mexpr\u001b[49m\u001b[43m,\u001b[49m\n\u001b[1;32m   1585\u001b[0m \u001b[43m        \u001b[49m\u001b[43mencodings\u001b[49m\u001b[38;5;241;43m=\u001b[39;49m\u001b[43mencodings\u001b[49m\u001b[43m,\u001b[49m\n\u001b[1;32m   1586\u001b[0m \u001b[43m        \u001b[49m\u001b[43mfields\u001b[49m\u001b[38;5;241;43m=\u001b[39;49m\u001b[43mfields\u001b[49m\u001b[43m,\u001b[49m\n\u001b[1;32m   1587\u001b[0m \u001b[43m        \u001b[49m\u001b[43mon\u001b[49m\u001b[38;5;241;43m=\u001b[39;49m\u001b[43mon\u001b[49m\u001b[43m,\u001b[49m\n\u001b[1;32m   1588\u001b[0m \u001b[43m        \u001b[49m\u001b[43mclear\u001b[49m\u001b[38;5;241;43m=\u001b[39;49m\u001b[43mclear\u001b[49m\u001b[43m,\u001b[49m\n\u001b[1;32m   1589\u001b[0m \u001b[43m        \u001b[49m\u001b[43mresolve\u001b[49m\u001b[38;5;241;43m=\u001b[39;49m\u001b[43mresolve\u001b[49m\u001b[43m,\u001b[49m\n\u001b[1;32m   1590\u001b[0m \u001b[43m        \u001b[49m\u001b[43mtoggle\u001b[49m\u001b[38;5;241;43m=\u001b[39;49m\u001b[43mtoggle\u001b[49m\u001b[43m,\u001b[49m\n\u001b[1;32m   1591\u001b[0m \u001b[43m        \u001b[49m\u001b[43mnearest\u001b[49m\u001b[38;5;241;43m=\u001b[39;49m\u001b[43mnearest\u001b[49m\u001b[43m,\u001b[49m\n\u001b[1;32m   1592\u001b[0m \u001b[43m        \u001b[49m\u001b[38;5;241;43m*\u001b[39;49m\u001b[38;5;241;43m*\u001b[39;49m\u001b[43mkwds\u001b[49m\u001b[43m,\u001b[49m\n\u001b[1;32m   1593\u001b[0m \u001b[43m    \u001b[49m\u001b[43m)\u001b[49m\n",
      "File \u001b[0;32m/opt/homebrew/Caskroom/miniforge/base/envs/eda/lib/python3.11/site-packages/altair/vegalite/v5/api.py:1353\u001b[0m, in \u001b[0;36m_selection\u001b[0;34m(type, **kwds)\u001b[0m\n\u001b[1;32m   1350\u001b[0m     msg \u001b[38;5;241m=\u001b[39m \u001b[38;5;124m\"\"\"\u001b[39m\u001b[38;5;124m'\u001b[39m\u001b[38;5;124mtype\u001b[39m\u001b[38;5;124m'\u001b[39m\u001b[38;5;124m must be \u001b[39m\u001b[38;5;124m'\u001b[39m\u001b[38;5;124mpoint\u001b[39m\u001b[38;5;124m'\u001b[39m\u001b[38;5;124m or \u001b[39m\u001b[38;5;124m'\u001b[39m\u001b[38;5;124minterval\u001b[39m\u001b[38;5;124m'\u001b[39m\u001b[38;5;124m\"\"\"\u001b[39m\n\u001b[1;32m   1351\u001b[0m     \u001b[38;5;28;01mraise\u001b[39;00m \u001b[38;5;167;01mValueError\u001b[39;00m(msg)\n\u001b[0;32m-> 1353\u001b[0m \u001b[38;5;28;01mreturn\u001b[39;00m \u001b[43mparam\u001b[49m\u001b[43m(\u001b[49m\u001b[43mselect\u001b[49m\u001b[38;5;241;43m=\u001b[39;49m\u001b[43mselect\u001b[49m\u001b[43m,\u001b[49m\u001b[43m \u001b[49m\u001b[38;5;241;43m*\u001b[39;49m\u001b[38;5;241;43m*\u001b[39;49m\u001b[43mparam_kwds\u001b[49m\u001b[43m)\u001b[49m\n",
      "File \u001b[0;32m/opt/homebrew/Caskroom/miniforge/base/envs/eda/lib/python3.11/site-packages/altair/vegalite/v5/api.py:1323\u001b[0m, in \u001b[0;36mparam\u001b[0;34m(name, value, bind, empty, expr, **kwds)\u001b[0m\n\u001b[1;32m   1321\u001b[0m     parameter\u001b[38;5;241m.\u001b[39mparam_type \u001b[38;5;241m=\u001b[39m \u001b[38;5;124m\"\u001b[39m\u001b[38;5;124mselection\u001b[39m\u001b[38;5;124m\"\u001b[39m\n\u001b[1;32m   1322\u001b[0m \u001b[38;5;28;01melse\u001b[39;00m:\n\u001b[0;32m-> 1323\u001b[0m     parameter\u001b[38;5;241m.\u001b[39mparam \u001b[38;5;241m=\u001b[39m \u001b[43mcore\u001b[49m\u001b[38;5;241;43m.\u001b[39;49m\u001b[43mSelectionParameter\u001b[49m\u001b[43m(\u001b[49m\n\u001b[1;32m   1324\u001b[0m \u001b[43m        \u001b[49m\u001b[43mname\u001b[49m\u001b[38;5;241;43m=\u001b[39;49m\u001b[43mparameter\u001b[49m\u001b[38;5;241;43m.\u001b[39;49m\u001b[43mname\u001b[49m\u001b[43m,\u001b[49m\u001b[43m \u001b[49m\u001b[43mbind\u001b[49m\u001b[38;5;241;43m=\u001b[39;49m\u001b[43mbind\u001b[49m\u001b[43m,\u001b[49m\u001b[43m \u001b[49m\u001b[43mvalue\u001b[49m\u001b[38;5;241;43m=\u001b[39;49m\u001b[43mvalue\u001b[49m\u001b[43m,\u001b[49m\u001b[43m \u001b[49m\u001b[43mexpr\u001b[49m\u001b[38;5;241;43m=\u001b[39;49m\u001b[43mexpr\u001b[49m\u001b[43m,\u001b[49m\u001b[43m \u001b[49m\u001b[38;5;241;43m*\u001b[39;49m\u001b[38;5;241;43m*\u001b[39;49m\u001b[43mkwds\u001b[49m\n\u001b[1;32m   1325\u001b[0m \u001b[43m    \u001b[49m\u001b[43m)\u001b[49m\n\u001b[1;32m   1326\u001b[0m     parameter\u001b[38;5;241m.\u001b[39mparam_type \u001b[38;5;241m=\u001b[39m \u001b[38;5;124m\"\u001b[39m\u001b[38;5;124mselection\u001b[39m\u001b[38;5;124m\"\u001b[39m\n\u001b[1;32m   1328\u001b[0m \u001b[38;5;28;01mreturn\u001b[39;00m parameter\n",
      "File \u001b[0;32m/opt/homebrew/Caskroom/miniforge/base/envs/eda/lib/python3.11/site-packages/altair/vegalite/v5/schema/core.py:20150\u001b[0m, in \u001b[0;36mSelectionParameter.__init__\u001b[0;34m(self, name, select, bind, value, **kwds)\u001b[0m\n\u001b[1;32m  20140\u001b[0m \u001b[38;5;28;01mdef\u001b[39;00m \u001b[38;5;21m__init__\u001b[39m(\n\u001b[1;32m  20141\u001b[0m     \u001b[38;5;28mself\u001b[39m,\n\u001b[1;32m  20142\u001b[0m     name: Optional[\u001b[38;5;28mstr\u001b[39m \u001b[38;5;241m|\u001b[39m SchemaBase] \u001b[38;5;241m=\u001b[39m Undefined,\n\u001b[0;32m   (...)\u001b[0m\n\u001b[1;32m  20148\u001b[0m     \u001b[38;5;241m*\u001b[39m\u001b[38;5;241m*\u001b[39mkwds,\n\u001b[1;32m  20149\u001b[0m ):\n\u001b[0;32m> 20150\u001b[0m     \u001b[38;5;28;43msuper\u001b[39;49m\u001b[43m(\u001b[49m\u001b[43m)\u001b[49m\u001b[38;5;241;43m.\u001b[39;49m\u001b[38;5;21;43m__init__\u001b[39;49m\u001b[43m(\u001b[49m\u001b[43mname\u001b[49m\u001b[38;5;241;43m=\u001b[39;49m\u001b[43mname\u001b[49m\u001b[43m,\u001b[49m\u001b[43m \u001b[49m\u001b[43mselect\u001b[49m\u001b[38;5;241;43m=\u001b[39;49m\u001b[43mselect\u001b[49m\u001b[43m,\u001b[49m\u001b[43m \u001b[49m\u001b[43mbind\u001b[49m\u001b[38;5;241;43m=\u001b[39;49m\u001b[43mbind\u001b[49m\u001b[43m,\u001b[49m\u001b[43m \u001b[49m\u001b[43mvalue\u001b[49m\u001b[38;5;241;43m=\u001b[39;49m\u001b[43mvalue\u001b[49m\u001b[43m,\u001b[49m\u001b[43m \u001b[49m\u001b[38;5;241;43m*\u001b[39;49m\u001b[38;5;241;43m*\u001b[39;49m\u001b[43mkwds\u001b[49m\u001b[43m)\u001b[49m\n",
      "File \u001b[0;32m/opt/homebrew/Caskroom/miniforge/base/envs/eda/lib/python3.11/site-packages/altair/utils/schemapi.py:907\u001b[0m, in \u001b[0;36mSchemaBase.__init__\u001b[0;34m(self, *args, **kwds)\u001b[0m\n\u001b[1;32m    904\u001b[0m \u001b[38;5;28mobject\u001b[39m\u001b[38;5;241m.\u001b[39m\u001b[38;5;21m__setattr__\u001b[39m(\u001b[38;5;28mself\u001b[39m, \u001b[38;5;124m\"\u001b[39m\u001b[38;5;124m_kwds\u001b[39m\u001b[38;5;124m\"\u001b[39m, kwds)\n\u001b[1;32m    906\u001b[0m \u001b[38;5;28;01mif\u001b[39;00m DEBUG_MODE \u001b[38;5;129;01mand\u001b[39;00m \u001b[38;5;28mself\u001b[39m\u001b[38;5;241m.\u001b[39m_class_is_valid_at_instantiation:\n\u001b[0;32m--> 907\u001b[0m     \u001b[38;5;28;43mself\u001b[39;49m\u001b[38;5;241;43m.\u001b[39;49m\u001b[43mto_dict\u001b[49m\u001b[43m(\u001b[49m\u001b[43mvalidate\u001b[49m\u001b[38;5;241;43m=\u001b[39;49m\u001b[38;5;28;43;01mTrue\u001b[39;49;00m\u001b[43m)\u001b[49m\n",
      "File \u001b[0;32m/opt/homebrew/Caskroom/miniforge/base/envs/eda/lib/python3.11/site-packages/altair/utils/schemapi.py:1076\u001b[0m, in \u001b[0;36mSchemaBase.to_dict\u001b[0;34m(self, validate, ignore, context)\u001b[0m\n\u001b[1;32m   1069\u001b[0m         \u001b[38;5;28mself\u001b[39m\u001b[38;5;241m.\u001b[39mvalidate(result)\n\u001b[1;32m   1070\u001b[0m     \u001b[38;5;28;01mexcept\u001b[39;00m jsonschema\u001b[38;5;241m.\u001b[39mValidationError \u001b[38;5;28;01mas\u001b[39;00m err:\n\u001b[1;32m   1071\u001b[0m         \u001b[38;5;66;03m# We do not raise `from err` as else the resulting\u001b[39;00m\n\u001b[1;32m   1072\u001b[0m         \u001b[38;5;66;03m# traceback is very long as it contains part\u001b[39;00m\n\u001b[1;32m   1073\u001b[0m         \u001b[38;5;66;03m# of the Vega-Lite schema. It would also first\u001b[39;00m\n\u001b[1;32m   1074\u001b[0m         \u001b[38;5;66;03m# show the less helpful ValidationError instead of\u001b[39;00m\n\u001b[1;32m   1075\u001b[0m         \u001b[38;5;66;03m# the more user friendly SchemaValidationError\u001b[39;00m\n\u001b[0;32m-> 1076\u001b[0m         \u001b[38;5;28;01mraise\u001b[39;00m SchemaValidationError(\u001b[38;5;28mself\u001b[39m, err) \u001b[38;5;28;01mfrom\u001b[39;00m \u001b[38;5;28;01mNone\u001b[39;00m\n\u001b[1;32m   1077\u001b[0m \u001b[38;5;28;01mreturn\u001b[39;00m result\n",
      "\u001b[0;31mSchemaValidationError\u001b[0m: Multiple errors were found.\n\nError 1: 'G' is an invalid value for `MPAA_Rating`. Valid values are of type 'array'.\n\nError 2: 'Action' is an invalid value for `Major_Genre`. Valid values are of type 'array'."
     ]
    }
   ],
   "source": [
    "selection = alt.selection_point(\n",
    "    name='Select', # name the selection 'Select'\n",
    "    fields=['Major_Genre', 'MPAA_Rating'], # limit selection to the Major_Genre field\n",
    "    value={'Major_Genre': 'Action', 'MPAA_Rating': 'G'},\n",
    "    # value=[genres], # use first genre entry as initial value\n",
    "    bind=alt.binding_select(options=genres) # bind to a menu of unique genre values\n",
    ")\n",
    "\n",
    "# input_dropdown = alt.binding_select(options=genres, name='Select')\n",
    "# selectGenre = alt.selection_point(fields=['Major_Genre'], bind=input_dropdown)\n",
    "\n",
    "\n",
    "alt.Chart(movies).mark_circle().encode(\n",
    "    x='Rotten_Tomatoes_Rating:Q',\n",
    "    y='IMDB_Rating:Q',\n",
    "    tooltip='Title:N',\n",
    "    opacity=alt.condition(selectGenre, alt.value(0.75), alt.value(0.05))\n",
    ").add_params(\n",
    "    selection\n",
    ")"
   ]
  },
  {
   "cell_type": "code",
   "execution_count": 21,
   "metadata": {},
   "outputs": [
    {
     "data": {
      "text/plain": [
       "['Action',\n",
       " 'Adventure',\n",
       " 'Black Comedy',\n",
       " 'Comedy',\n",
       " 'Concert/Performance',\n",
       " 'Documentary',\n",
       " 'Drama',\n",
       " 'Horror',\n",
       " 'Musical',\n",
       " 'Romantic Comedy',\n",
       " 'Thriller/Suspense',\n",
       " 'Western']"
      ]
     },
     "execution_count": 21,
     "metadata": {},
     "output_type": "execute_result"
    }
   ],
   "source": [
    "genres"
   ]
  },
  {
   "cell_type": "code",
   "execution_count": 23,
   "metadata": {},
   "outputs": [
    {
     "data": {
      "text/plain": [
       "'G'"
      ]
     },
     "execution_count": 23,
     "metadata": {},
     "output_type": "execute_result"
    }
   ],
   "source": [
    "mpaa[0]"
   ]
  },
  {
   "cell_type": "code",
   "execution_count": null,
   "metadata": {},
   "outputs": [],
   "source": []
  }
 ],
 "metadata": {
  "kernelspec": {
   "display_name": "eda",
   "language": "python",
   "name": "python3"
  },
  "language_info": {
   "codemirror_mode": {
    "name": "ipython",
    "version": 3
   },
   "file_extension": ".py",
   "mimetype": "text/x-python",
   "name": "python",
   "nbconvert_exporter": "python",
   "pygments_lexer": "ipython3",
   "version": "3.11.8"
  }
 },
 "nbformat": 4,
 "nbformat_minor": 2
}
