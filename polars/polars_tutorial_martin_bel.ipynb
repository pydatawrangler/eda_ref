{
  "cells": [
    {
      "cell_type": "raw",
      "metadata": {},
      "source": [
        "---\n",
        "title: Polars Tutorial\n",
        "subtitle: Martin Bel\n",
        "author: Tom Madsen\n",
        "date: 'March 30, 2024'\n",
        "format:\n",
        "  html:\n",
        "    self-contained: true\n",
        "# jupyter:\n",
        "#   jupytext:\n",
        "#     text_representation:\n",
        "#       extension: .qmd\n",
        "#       format_name: quarto\n",
        "#       format_version: '1.0'\n",
        "#       jupytext_version: 1.15.1\n",
        "#   kernelspec:\n",
        "#     display_name: 'Python [conda env:eda]'\n",
        "#     language: python\n",
        "#     name: conda-env-eda-py\n",
        "---"
      ],
      "id": "0d1a5e92"
    },
    {
      "cell_type": "markdown",
      "metadata": {},
      "source": [
        "## Introduction\n",
        "This is a tutorial by Martin Bel which is a [playlist](https://www.youtube.com/playlist?list=PLo9Vi5B84_dfAuwJqNYG4XhZMrGTF3sBx) on his YouTube channel.\n",
        "\n",
        "Here is a link to the [github repo](https://github.com/martinbel/polars-tutorial) for the tutorial.\n",
        "\n",
        "## Environment"
      ],
      "id": "ed5c2a3f"
    },
    {
      "cell_type": "code",
      "metadata": {},
      "source": [
        "import polars as pl\n",
        "import pandas as pd\n",
        "import numpy as np\n",
        "\n",
        "import matplotlib.pyplot as plt\n",
        "import seaborn as sns"
      ],
      "id": "1954a20f",
      "execution_count": null,
      "outputs": []
    },
    {
      "cell_type": "code",
      "metadata": {},
      "source": [
        "pl.__version__"
      ],
      "id": "a71aad55",
      "execution_count": null,
      "outputs": []
    },
    {
      "cell_type": "markdown",
      "metadata": {},
      "source": [
        "## Read 9GB CSV file"
      ],
      "id": "309c2d5c"
    },
    {
      "cell_type": "code",
      "metadata": {},
      "source": [
        "df_pl = pl.read_csv(\"data/2019-Nov.csv\")"
      ],
      "id": "22254821",
      "execution_count": null,
      "outputs": []
    },
    {
      "cell_type": "code",
      "metadata": {},
      "source": [
        "df_pl.shape"
      ],
      "id": "bea0630b",
      "execution_count": null,
      "outputs": []
    },
    {
      "cell_type": "code",
      "metadata": {},
      "source": [
        "df_pl.head()"
      ],
      "id": "9b3a506b",
      "execution_count": null,
      "outputs": []
    },
    {
      "cell_type": "code",
      "metadata": {},
      "source": [
        "df_pl.dtypes"
      ],
      "id": "3489cdf3",
      "execution_count": null,
      "outputs": []
    },
    {
      "cell_type": "code",
      "metadata": {},
      "source": [
        "df_pl.head().to_pandas()"
      ],
      "id": "a057faf5",
      "execution_count": null,
      "outputs": []
    },
    {
      "cell_type": "markdown",
      "metadata": {},
      "source": [
        "## Selecting and Filtering Data"
      ],
      "id": "63c5aa85"
    },
    {
      "cell_type": "code",
      "metadata": {},
      "source": [
        "df_pl[0,:]"
      ],
      "id": "c5d6d629",
      "execution_count": null,
      "outputs": []
    },
    {
      "cell_type": "code",
      "metadata": {},
      "source": [
        "df_pl[:, ['event_time', 'price']].head()"
      ],
      "id": "6802c04a",
      "execution_count": null,
      "outputs": []
    },
    {
      "cell_type": "code",
      "metadata": {},
      "source": [
        "df_pl.filter(pl.col(\"price\") > 1000).head()"
      ],
      "id": "c9bc1402",
      "execution_count": null,
      "outputs": []
    },
    {
      "cell_type": "code",
      "metadata": {},
      "source": [
        "df_pl.sample(5)"
      ],
      "id": "df073573",
      "execution_count": null,
      "outputs": []
    },
    {
      "cell_type": "code",
      "metadata": {},
      "source": [
        "df_pl.select(['brand', 'price']).head()"
      ],
      "id": "1e809500",
      "execution_count": null,
      "outputs": []
    },
    {
      "cell_type": "code",
      "metadata": {},
      "source": [
        "df_pl.with_columns(\n",
        "    [(pl.col(\"price\") * 100).alias(\"price_x_100\")\n",
        "]).head()"
      ],
      "id": "d65dc9bb",
      "execution_count": null,
      "outputs": []
    },
    {
      "cell_type": "code",
      "metadata": {},
      "source": [
        "df_pl.filter(\n",
        "    pl.col('brand').is_in(['apple', 'samsung', 'motorola'])\n",
        ").head()"
      ],
      "id": "97f5c72c",
      "execution_count": null,
      "outputs": []
    },
    {
      "cell_type": "markdown",
      "metadata": {},
      "source": [
        "## Computation on the select context"
      ],
      "id": "7cd0a9bb"
    },
    {
      "cell_type": "code",
      "metadata": {},
      "source": [
        "df_pl.select([\n",
        "    pl.col(\"product_id\").n_unique()\n",
        "])"
      ],
      "id": "6bb38116",
      "execution_count": null,
      "outputs": []
    },
    {
      "cell_type": "code",
      "metadata": {},
      "source": [
        "df_pl.select([\n",
        "    pl.col(\"price\").min().alias(\"min\"),\n",
        "    pl.col(\"price\").mean().alias(\"mean\"),\n",
        "    pl.col(\"price\").median().alias(\"median\"),\n",
        "    pl.col(\"price\").max().alias(\"max\"),\n",
        "    pl.col(\"price\").std().alias(\"std_dev\")\n",
        "])"
      ],
      "id": "e6fc6198",
      "execution_count": null,
      "outputs": []
    },
    {
      "cell_type": "code",
      "metadata": {},
      "source": [
        "df_pl.select([\n",
        "    pl.col(\"price\")\n",
        "]).describe()"
      ],
      "id": "1d43db34",
      "execution_count": null,
      "outputs": []
    },
    {
      "cell_type": "code",
      "metadata": {},
      "source": [
        "price = df_pl.select([\n",
        "    pl.col(\"price\")\n",
        "])"
      ],
      "id": "d9f9a399",
      "execution_count": null,
      "outputs": []
    },
    {
      "cell_type": "code",
      "metadata": {},
      "source": [
        "price.sample(100000).to_pandas().hist(bins=30);"
      ],
      "id": "3896e05f",
      "execution_count": null,
      "outputs": []
    },
    {
      "cell_type": "code",
      "metadata": {},
      "source": [
        "probs = [0, 0.25, 0.5, 0.75, 1]\n",
        "percentiles = [price.quantile(prob)[0,0] for prob in probs]"
      ],
      "id": "2242c680",
      "execution_count": null,
      "outputs": []
    },
    {
      "cell_type": "code",
      "metadata": {},
      "source": [
        "percentiles"
      ],
      "id": "e93dfc51",
      "execution_count": null,
      "outputs": []
    },
    {
      "cell_type": "code",
      "metadata": {},
      "source": [
        "pd.DataFrame(dict(probs=probs, percentiles=percentiles))"
      ],
      "id": "e4b47af6",
      "execution_count": null,
      "outputs": []
    },
    {
      "cell_type": "markdown",
      "metadata": {},
      "source": [
        "## How to update columns and intro to window function"
      ],
      "id": "a22b36eb"
    },
    {
      "cell_type": "code",
      "metadata": {},
      "source": [
        "df_top = df_pl.head()"
      ],
      "id": "5439fae5",
      "execution_count": null,
      "outputs": []
    },
    {
      "cell_type": "code",
      "metadata": {},
      "source": [
        "df_top.with_columns(\n",
        "    (\"brand-\" + pl.col(\"brand\")).alias(\"brand2\")\n",
        ")"
      ],
      "id": "9932e1ca",
      "execution_count": null,
      "outputs": []
    },
    {
      "cell_type": "code",
      "metadata": {},
      "source": [
        "df_top.with_columns([\n",
        "    (\"brand-\" + pl.col(\"brand\")).alias(\"brand2\"),\n",
        "    (pl.col(\"price\") * 100).alias(\"price2\")\n",
        "])"
      ],
      "id": "375e0be6",
      "execution_count": null,
      "outputs": []
    },
    {
      "cell_type": "code",
      "metadata": {},
      "source": [
        "df_top.select([\n",
        "    pl.all(),\n",
        "    pl.col(\"price\").mean().alias(\"price_avg\")\n",
        "])"
      ],
      "id": "8e6e6f8e",
      "execution_count": null,
      "outputs": []
    },
    {
      "cell_type": "code",
      "metadata": {},
      "source": [
        "df_pl.with_columns([\n",
        "    pl.col(\"price\").mean().over(\"category_code\").alias(\"price_by_categorycode\")\n",
        "]).head(10)"
      ],
      "id": "e99f23d8",
      "execution_count": null,
      "outputs": []
    },
    {
      "cell_type": "code",
      "metadata": {},
      "source": [
        "df_cat_window = df_pl.select([\n",
        "    pl.col(\"category_code\"),\n",
        "    pl.col(\"price\"),\n",
        "    pl.col(\"price\").mean().over(\"category_code\").alias(\"price_by_category\"),\n",
        "    (pl.col(\"price\")/pl.col(\"price\").mean().over(\"category_code\") - 1).alias(\"price_div_cat_average\")\n",
        "])\n",
        "df_cat_window.head()"
      ],
      "id": "0179a3d3",
      "execution_count": null,
      "outputs": []
    },
    {
      "cell_type": "code",
      "metadata": {},
      "source": [
        "df_cat_window_sample = df_cat_window.sample(100000).to_pandas()"
      ],
      "id": "6176cb1c",
      "execution_count": null,
      "outputs": []
    },
    {
      "cell_type": "code",
      "metadata": {},
      "source": [
        "df_cat_window_sample.describe()"
      ],
      "id": "8ad82b0a",
      "execution_count": null,
      "outputs": []
    },
    {
      "cell_type": "code",
      "metadata": {},
      "source": [
        "df_cat_window_sample.query('price_div_cat_average == -1.0')"
      ],
      "id": "0f159afd",
      "execution_count": null,
      "outputs": []
    },
    {
      "cell_type": "code",
      "metadata": {},
      "source": [
        "df_cat_window_sample.price_div_cat_average.hist(bins=30, range=[-2,5])"
      ],
      "id": "3062fe59",
      "execution_count": null,
      "outputs": []
    },
    {
      "cell_type": "code",
      "metadata": {},
      "source": [
        "df_cat_window_sample.price_div_cat_average.quantile(np.arange(0, 1.1, 0.1))"
      ],
      "id": "60908ced",
      "execution_count": null,
      "outputs": []
    }
  ],
  "metadata": {
    "kernelspec": {
      "name": "python3",
      "language": "python",
      "display_name": "Python 3 (ipykernel)"
    }
  },
  "nbformat": 4,
  "nbformat_minor": 5
}