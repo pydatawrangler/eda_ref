{
  "cells": [
    {
      "cell_type": "raw",
      "metadata": {},
      "source": [
        "---\n",
        "title: Introduction to Polars\n",
        "subtitle: Practical Business Python\n",
        "date: 'January 14, 2024'\n",
        "format:\n",
        "  html:\n",
        "    self-contained: true\n",
        "---"
      ],
      "id": "34652f7f"
    },
    {
      "cell_type": "markdown",
      "metadata": {},
      "source": [
        "Link to online article: <https://pbpython.com/polars-intro.html>"
      ],
      "id": "f86f89c6"
    },
    {
      "cell_type": "code",
      "metadata": {},
      "source": [
        "import polars as pl"
      ],
      "id": "c8835310",
      "execution_count": null,
      "outputs": []
    },
    {
      "cell_type": "code",
      "metadata": {},
      "source": [
        "datafile_url = \"2018_Sales_Total_v2.xlsx\""
      ],
      "id": "77bb1f28",
      "execution_count": null,
      "outputs": []
    },
    {
      "cell_type": "code",
      "metadata": {},
      "source": [
        "df = pl.read_excel(\n",
        "    source=datafile_url, schema_overrides={\"date\": pl.Datetime}\n",
        ")"
      ],
      "id": "de242ef1",
      "execution_count": null,
      "outputs": []
    },
    {
      "cell_type": "code",
      "metadata": {},
      "source": [
        "df.schema"
      ],
      "id": "0be0d638",
      "execution_count": null,
      "outputs": []
    },
    {
      "cell_type": "code",
      "metadata": {},
      "source": [
        "df.head()"
      ],
      "id": "abf71b0a",
      "execution_count": null,
      "outputs": []
    },
    {
      "cell_type": "code",
      "metadata": {},
      "source": [
        "df.describe()"
      ],
      "id": "a4af262a",
      "execution_count": null,
      "outputs": []
    },
    {
      "cell_type": "code",
      "metadata": {},
      "source": [
        "df.select(pl.col(\"name\", \"quantity\", \"sku\"))"
      ],
      "id": "ddc55cc8",
      "execution_count": null,
      "outputs": []
    },
    {
      "cell_type": "code",
      "metadata": {},
      "source": [
        "df.filter(pl.col(\"quantity\") > 50)"
      ],
      "id": "536042b7",
      "execution_count": null,
      "outputs": []
    }
  ],
  "metadata": {
    "kernelspec": {
      "display_name": "Python [conda env:eda]",
      "language": "python",
      "name": "conda-env-eda-py"
    },
    "jupytext": {
      "text_representation": {
        "extension": ".qmd",
        "format_name": "quarto",
        "format_version": "1.0",
        "jupytext_version": "1.15.1"
      }
    }
  },
  "nbformat": 4,
  "nbformat_minor": 5
}