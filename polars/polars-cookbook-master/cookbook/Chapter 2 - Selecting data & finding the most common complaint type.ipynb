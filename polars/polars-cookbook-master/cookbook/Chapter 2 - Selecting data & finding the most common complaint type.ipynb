{
 "cells": [
  {
   "cell_type": "code",
   "execution_count": 1,
   "metadata": {},
   "outputs": [],
   "source": [
    "# The usual preamble\n",
    "%matplotlib inline\n",
    "import polars as pl\n",
    "import plotlib as sbn\n",
    "import matplotlib.pyplot as plt\n",
    "\n",
    "# Make the graphs a bit prettier, and bigger\n",
    "plt.style.use('ggplot')\n",
    "plt.rcParams['figure.figsize'] = (15, 5)"
   ]
  },
  {
   "attachments": {},
   "cell_type": "markdown",
   "metadata": {},
   "source": [
    "We're going to use a new dataset here, to demonstrate how to deal with larger datasets. This is a subset of the of 311 service requests from [NYC Open Data](https://nycopendata.socrata.com/Social-Services/311-Service-Requests-from-2010-to-Present/erm2-nwe9). "
   ]
  },
  {
   "cell_type": "code",
   "execution_count": 2,
   "metadata": {},
   "outputs": [],
   "source": [
    "# because of mixed types we specify dtype to prevent any errors\n",
    "complaints = pl.read_csv('../data/311-service-requests.csv', dtypes={'Incident Zip':pl.Utf8})"
   ]
  },
  {
   "attachments": {},
   "cell_type": "markdown",
   "metadata": {},
   "source": [
    "Notice that we had to explicitly specify the dtype of the 'Incident Zip' column as a string type (Utf8). This means that it's encountered a problem reading in our data. In this case it almost certainly means that it has columns where some of the entries are strings and some are integers.\n",
    "\n",
    "For now we're going to ignore it and hope we don't run into a problem, but in the long run we'd need to investigate this warning."
   ]
  },
  {
   "attachments": {},
   "cell_type": "markdown",
   "metadata": {},
   "source": [
    "# 2.1 What's even in it? (the summary)"
   ]
  },
  {
   "attachments": {},
   "cell_type": "markdown",
   "metadata": {},
   "source": [
    "Use the head function to get the top rows of a dataframe"
   ]
  },
  {
   "cell_type": "code",
   "execution_count": 3,
   "metadata": {},
   "outputs": [
    {
     "data": {
      "text/html": [
       "<div><style>\n",
       ".dataframe > thead > tr > th,\n",
       ".dataframe > tbody > tr > td {\n",
       "  text-align: right;\n",
       "}\n",
       "</style>\n",
       "<small>shape: (5, 52)</small><table border=\"1\" class=\"dataframe\"><thead><tr><th>Unique Key</th><th>Created Date</th><th>Closed Date</th><th>Agency</th><th>Agency Name</th><th>Complaint Type</th><th>Descriptor</th><th>Location Type</th><th>Incident Zip</th><th>Incident Address</th><th>Street Name</th><th>Cross Street 1</th><th>Cross Street 2</th><th>Intersection Street 1</th><th>Intersection Street 2</th><th>Address Type</th><th>City</th><th>Landmark</th><th>Facility Type</th><th>Status</th><th>Due Date</th><th>Resolution Action Updated Date</th><th>Community Board</th><th>Borough</th><th>X Coordinate (State Plane)</th><th>Y Coordinate (State Plane)</th><th>Park Facility Name</th><th>Park Borough</th><th>School Name</th><th>School Number</th><th>School Region</th><th>School Code</th><th>School Phone Number</th><th>School Address</th><th>School City</th><th>School State</th><th>School Zip</th><th>School Not Found</th><th>School or Citywide Complaint</th><th>Vehicle Type</th><th>Taxi Company Borough</th><th>Taxi Pick Up Location</th><th>Bridge Highway Name</th><th>Bridge Highway Direction</th><th>Road Ramp</th><th>Bridge Highway Segment</th><th>Garage Lot Name</th><th>Ferry Direction</th><th>Ferry Terminal Name</th><th>Latitude</th><th>Longitude</th><th>Location</th></tr><tr><td>i64</td><td>str</td><td>str</td><td>str</td><td>str</td><td>str</td><td>str</td><td>str</td><td>str</td><td>str</td><td>str</td><td>str</td><td>str</td><td>str</td><td>str</td><td>str</td><td>str</td><td>str</td><td>str</td><td>str</td><td>str</td><td>str</td><td>str</td><td>str</td><td>i64</td><td>i64</td><td>str</td><td>str</td><td>str</td><td>str</td><td>str</td><td>str</td><td>str</td><td>str</td><td>str</td><td>str</td><td>str</td><td>str</td><td>str</td><td>str</td><td>str</td><td>str</td><td>str</td><td>str</td><td>str</td><td>str</td><td>str</td><td>str</td><td>str</td><td>f64</td><td>f64</td><td>str</td></tr></thead><tbody><tr><td>26589651</td><td>&quot;10/31/2013 02:…</td><td>null</td><td>&quot;NYPD&quot;</td><td>&quot;New York City …</td><td>&quot;Noise - Street…</td><td>&quot;Loud Talking&quot;</td><td>&quot;Street/Sidewal…</td><td>&quot;11432&quot;</td><td>&quot;90-03 169 STRE…</td><td>&quot;169 STREET&quot;</td><td>&quot;90 AVENUE&quot;</td><td>&quot;91 AVENUE&quot;</td><td>null</td><td>null</td><td>&quot;ADDRESS&quot;</td><td>&quot;JAMAICA&quot;</td><td>null</td><td>&quot;Precinct&quot;</td><td>&quot;Assigned&quot;</td><td>&quot;10/31/2013 10:…</td><td>&quot;10/31/2013 02:…</td><td>&quot;12 QUEENS&quot;</td><td>&quot;QUEENS&quot;</td><td>1042027</td><td>197389</td><td>&quot;Unspecified&quot;</td><td>&quot;QUEENS&quot;</td><td>&quot;Unspecified&quot;</td><td>&quot;Unspecified&quot;</td><td>&quot;Unspecified&quot;</td><td>&quot;Unspecified&quot;</td><td>&quot;Unspecified&quot;</td><td>&quot;Unspecified&quot;</td><td>&quot;Unspecified&quot;</td><td>&quot;Unspecified&quot;</td><td>&quot;Unspecified&quot;</td><td>&quot;N&quot;</td><td>null</td><td>null</td><td>null</td><td>null</td><td>null</td><td>null</td><td>null</td><td>null</td><td>null</td><td>null</td><td>null</td><td>40.708275</td><td>-73.791604</td><td>&quot;(40.7082753259…</td></tr><tr><td>26593698</td><td>&quot;10/31/2013 02:…</td><td>null</td><td>&quot;NYPD&quot;</td><td>&quot;New York City …</td><td>&quot;Illegal Parkin…</td><td>&quot;Commercial Ove…</td><td>&quot;Street/Sidewal…</td><td>&quot;11378&quot;</td><td>&quot;58 AVENUE&quot;</td><td>&quot;58 AVENUE&quot;</td><td>&quot;58 PLACE&quot;</td><td>&quot;59 STREET&quot;</td><td>null</td><td>null</td><td>&quot;BLOCKFACE&quot;</td><td>&quot;MASPETH&quot;</td><td>null</td><td>&quot;Precinct&quot;</td><td>&quot;Open&quot;</td><td>&quot;10/31/2013 10:…</td><td>null</td><td>&quot;05 QUEENS&quot;</td><td>&quot;QUEENS&quot;</td><td>1009349</td><td>201984</td><td>&quot;Unspecified&quot;</td><td>&quot;QUEENS&quot;</td><td>&quot;Unspecified&quot;</td><td>&quot;Unspecified&quot;</td><td>&quot;Unspecified&quot;</td><td>&quot;Unspecified&quot;</td><td>&quot;Unspecified&quot;</td><td>&quot;Unspecified&quot;</td><td>&quot;Unspecified&quot;</td><td>&quot;Unspecified&quot;</td><td>&quot;Unspecified&quot;</td><td>&quot;N&quot;</td><td>null</td><td>null</td><td>null</td><td>null</td><td>null</td><td>null</td><td>null</td><td>null</td><td>null</td><td>null</td><td>null</td><td>40.721041</td><td>-73.909453</td><td>&quot;(40.7210405356…</td></tr><tr><td>26594139</td><td>&quot;10/31/2013 02:…</td><td>&quot;10/31/2013 02:…</td><td>&quot;NYPD&quot;</td><td>&quot;New York City …</td><td>&quot;Noise - Commer…</td><td>&quot;Loud Music/Par…</td><td>&quot;Club/Bar/Resta…</td><td>&quot;10032&quot;</td><td>&quot;4060 BROADWAY&quot;</td><td>&quot;BROADWAY&quot;</td><td>&quot;WEST 171 STREE…</td><td>&quot;WEST 172 STREE…</td><td>null</td><td>null</td><td>&quot;ADDRESS&quot;</td><td>&quot;NEW YORK&quot;</td><td>null</td><td>&quot;Precinct&quot;</td><td>&quot;Closed&quot;</td><td>&quot;10/31/2013 10:…</td><td>&quot;10/31/2013 02:…</td><td>&quot;12 MANHATTAN&quot;</td><td>&quot;MANHATTAN&quot;</td><td>1001088</td><td>246531</td><td>&quot;Unspecified&quot;</td><td>&quot;MANHATTAN&quot;</td><td>&quot;Unspecified&quot;</td><td>&quot;Unspecified&quot;</td><td>&quot;Unspecified&quot;</td><td>&quot;Unspecified&quot;</td><td>&quot;Unspecified&quot;</td><td>&quot;Unspecified&quot;</td><td>&quot;Unspecified&quot;</td><td>&quot;Unspecified&quot;</td><td>&quot;Unspecified&quot;</td><td>&quot;N&quot;</td><td>null</td><td>null</td><td>null</td><td>null</td><td>null</td><td>null</td><td>null</td><td>null</td><td>null</td><td>null</td><td>null</td><td>40.84333</td><td>-73.939144</td><td>&quot;(40.8433297546…</td></tr><tr><td>26595721</td><td>&quot;10/31/2013 01:…</td><td>&quot;10/31/2013 02:…</td><td>&quot;NYPD&quot;</td><td>&quot;New York City …</td><td>&quot;Noise - Vehicl…</td><td>&quot;Car/Truck Horn…</td><td>&quot;Street/Sidewal…</td><td>&quot;10023&quot;</td><td>&quot;WEST 72 STREET…</td><td>&quot;WEST 72 STREET…</td><td>&quot;COLUMBUS AVENU…</td><td>&quot;AMSTERDAM AVEN…</td><td>null</td><td>null</td><td>&quot;BLOCKFACE&quot;</td><td>&quot;NEW YORK&quot;</td><td>null</td><td>&quot;Precinct&quot;</td><td>&quot;Closed&quot;</td><td>&quot;10/31/2013 09:…</td><td>&quot;10/31/2013 02:…</td><td>&quot;07 MANHATTAN&quot;</td><td>&quot;MANHATTAN&quot;</td><td>989730</td><td>222727</td><td>&quot;Unspecified&quot;</td><td>&quot;MANHATTAN&quot;</td><td>&quot;Unspecified&quot;</td><td>&quot;Unspecified&quot;</td><td>&quot;Unspecified&quot;</td><td>&quot;Unspecified&quot;</td><td>&quot;Unspecified&quot;</td><td>&quot;Unspecified&quot;</td><td>&quot;Unspecified&quot;</td><td>&quot;Unspecified&quot;</td><td>&quot;Unspecified&quot;</td><td>&quot;N&quot;</td><td>null</td><td>null</td><td>null</td><td>null</td><td>null</td><td>null</td><td>null</td><td>null</td><td>null</td><td>null</td><td>null</td><td>40.778009</td><td>-73.980213</td><td>&quot;(40.7780087446…</td></tr><tr><td>26590930</td><td>&quot;10/31/2013 01:…</td><td>null</td><td>&quot;DOHMH&quot;</td><td>&quot;Department of …</td><td>&quot;Rodent&quot;</td><td>&quot;Condition Attr…</td><td>&quot;Vacant Lot&quot;</td><td>&quot;10027&quot;</td><td>&quot;WEST 124 STREE…</td><td>&quot;WEST 124 STREE…</td><td>&quot;LENOX AVENUE&quot;</td><td>&quot;ADAM CLAYTON P…</td><td>null</td><td>null</td><td>&quot;BLOCKFACE&quot;</td><td>&quot;NEW YORK&quot;</td><td>null</td><td>&quot;N/A&quot;</td><td>&quot;Pending&quot;</td><td>&quot;11/30/2013 01:…</td><td>&quot;10/31/2013 01:…</td><td>&quot;10 MANHATTAN&quot;</td><td>&quot;MANHATTAN&quot;</td><td>998815</td><td>233545</td><td>&quot;Unspecified&quot;</td><td>&quot;MANHATTAN&quot;</td><td>&quot;Unspecified&quot;</td><td>&quot;Unspecified&quot;</td><td>&quot;Unspecified&quot;</td><td>&quot;Unspecified&quot;</td><td>&quot;Unspecified&quot;</td><td>&quot;Unspecified&quot;</td><td>&quot;Unspecified&quot;</td><td>&quot;Unspecified&quot;</td><td>&quot;Unspecified&quot;</td><td>&quot;N&quot;</td><td>null</td><td>null</td><td>null</td><td>null</td><td>null</td><td>null</td><td>null</td><td>null</td><td>null</td><td>null</td><td>null</td><td>40.807691</td><td>-73.947387</td><td>&quot;(40.8076909270…</td></tr></tbody></table></div>"
      ],
      "text/plain": [
       "shape: (5, 52)\n",
       "┌──────────┬────────────┬───────────┬────────┬───┬────────────┬───────────┬────────────┬───────────┐\n",
       "│ Unique   ┆ Created    ┆ Closed    ┆ Agency ┆ … ┆ Ferry      ┆ Latitude  ┆ Longitude  ┆ Location  │\n",
       "│ Key      ┆ Date       ┆ Date      ┆ ---    ┆   ┆ Terminal   ┆ ---       ┆ ---        ┆ ---       │\n",
       "│ ---      ┆ ---        ┆ ---       ┆ str    ┆   ┆ Name       ┆ f64       ┆ f64        ┆ str       │\n",
       "│ i64      ┆ str        ┆ str       ┆        ┆   ┆ ---        ┆           ┆            ┆           │\n",
       "│          ┆            ┆           ┆        ┆   ┆ str        ┆           ┆            ┆           │\n",
       "╞══════════╪════════════╪═══════════╪════════╪═══╪════════════╪═══════════╪════════════╪═══════════╡\n",
       "│ 26589651 ┆ 10/31/2013 ┆ null      ┆ NYPD   ┆ … ┆ null       ┆ 40.708275 ┆ -73.791604 ┆ (40.70827 │\n",
       "│          ┆ 02:08:41   ┆           ┆        ┆   ┆            ┆           ┆            ┆ 532593202 │\n",
       "│          ┆ AM         ┆           ┆        ┆   ┆            ┆           ┆            ┆ , -73.791 │\n",
       "│          ┆            ┆           ┆        ┆   ┆            ┆           ┆            ┆ 60395…    │\n",
       "│ 26593698 ┆ 10/31/2013 ┆ null      ┆ NYPD   ┆ … ┆ null       ┆ 40.721041 ┆ -73.909453 ┆ (40.72104 │\n",
       "│          ┆ 02:01:04   ┆           ┆        ┆   ┆            ┆           ┆            ┆ 053562830 │\n",
       "│          ┆ AM         ┆           ┆        ┆   ┆            ┆           ┆            ┆ 5, -73.90 │\n",
       "│          ┆            ┆           ┆        ┆   ┆            ┆           ┆            ┆ 94530…    │\n",
       "│ 26594139 ┆ 10/31/2013 ┆ 10/31/201 ┆ NYPD   ┆ … ┆ null       ┆ 40.84333  ┆ -73.939144 ┆ (40.84332 │\n",
       "│          ┆ 02:00:24   ┆ 3         ┆        ┆   ┆            ┆           ┆            ┆ 975466513 │\n",
       "│          ┆ AM         ┆ 02:40:32  ┆        ┆   ┆            ┆           ┆            ┆ , -73.939 │\n",
       "│          ┆            ┆ AM        ┆        ┆   ┆            ┆           ┆            ┆ 14371…    │\n",
       "│ 26595721 ┆ 10/31/2013 ┆ 10/31/201 ┆ NYPD   ┆ … ┆ null       ┆ 40.778009 ┆ -73.980213 ┆ (40.77800 │\n",
       "│          ┆ 01:56:23   ┆ 3         ┆        ┆   ┆            ┆           ┆            ┆ 87446372, │\n",
       "│          ┆ AM         ┆ 02:21:48  ┆        ┆   ┆            ┆           ┆            ┆ -73.98021 │\n",
       "│          ┆            ┆ AM        ┆        ┆   ┆            ┆           ┆            ┆ 3490…     │\n",
       "│ 26590930 ┆ 10/31/2013 ┆ null      ┆ DOHMH  ┆ … ┆ null       ┆ 40.807691 ┆ -73.947387 ┆ (40.80769 │\n",
       "│          ┆ 01:53:44   ┆           ┆        ┆   ┆            ┆           ┆            ┆ 092704951 │\n",
       "│          ┆ AM         ┆           ┆        ┆   ┆            ┆           ┆            ┆ , -73.947 │\n",
       "│          ┆            ┆           ┆        ┆   ┆            ┆           ┆            ┆ 38703…    │\n",
       "└──────────┴────────────┴───────────┴────────┴───┴────────────┴───────────┴────────────┴───────────┘"
      ]
     },
     "execution_count": 3,
     "metadata": {},
     "output_type": "execute_result"
    }
   ],
   "source": [
    "complaints.head()"
   ]
  },
  {
   "attachments": {},
   "cell_type": "markdown",
   "metadata": {},
   "source": [
    "# 2.2 Selecting columns and rows"
   ]
  },
  {
   "attachments": {},
   "cell_type": "markdown",
   "metadata": {},
   "source": [
    "To select a column, we index with the name of the column, like this:"
   ]
  },
  {
   "cell_type": "code",
   "execution_count": 4,
   "metadata": {},
   "outputs": [
    {
     "data": {
      "text/html": [
       "<div><style>\n",
       ".dataframe > thead > tr > th,\n",
       ".dataframe > tbody > tr > td {\n",
       "  text-align: right;\n",
       "}\n",
       "</style>\n",
       "<small>shape: (111_069,)</small><table border=\"1\" class=\"dataframe\"><thead><tr><th>Complaint Type</th></tr><tr><td>str</td></tr></thead><tbody><tr><td>&quot;Noise - Street…</td></tr><tr><td>&quot;Illegal Parkin…</td></tr><tr><td>&quot;Noise - Commer…</td></tr><tr><td>&quot;Noise - Vehicl…</td></tr><tr><td>&quot;Rodent&quot;</td></tr><tr><td>&quot;Noise - Commer…</td></tr><tr><td>&quot;Blocked Drivew…</td></tr><tr><td>&quot;Noise - Commer…</td></tr><tr><td>&quot;Noise - Commer…</td></tr><tr><td>&quot;Noise - Commer…</td></tr><tr><td>&quot;Noise - House …</td></tr><tr><td>&quot;Noise - Commer…</td></tr><tr><td>&hellip;</td></tr><tr><td>&quot;Noise&quot;</td></tr><tr><td>&quot;Noise - Commer…</td></tr><tr><td>&quot;Noise - Street…</td></tr><tr><td>&quot;Noise&quot;</td></tr><tr><td>&quot;Noise - Commer…</td></tr><tr><td>&quot;Water System&quot;</td></tr><tr><td>&quot;Water System&quot;</td></tr><tr><td>&quot;Maintenance or…</td></tr><tr><td>&quot;Illegal Parkin…</td></tr><tr><td>&quot;Noise - Street…</td></tr><tr><td>&quot;Noise - Commer…</td></tr><tr><td>&quot;Blocked Drivew…</td></tr></tbody></table></div>"
      ],
      "text/plain": [
       "shape: (111_069,)\n",
       "Series: 'Complaint Type' [str]\n",
       "[\n",
       "\t\"Noise - Street…\n",
       "\t\"Illegal Parkin…\n",
       "\t\"Noise - Commer…\n",
       "\t\"Noise - Vehicl…\n",
       "\t\"Rodent\"\n",
       "\t\"Noise - Commer…\n",
       "\t\"Blocked Drivew…\n",
       "\t\"Noise - Commer…\n",
       "\t\"Noise - Commer…\n",
       "\t\"Noise - Commer…\n",
       "\t\"Noise - House …\n",
       "\t\"Noise - Commer…\n",
       "\t…\n",
       "\t\"Street Sign - …\n",
       "\t\"Noise\"\n",
       "\t\"Noise - Commer…\n",
       "\t\"Noise - Street…\n",
       "\t\"Noise\"\n",
       "\t\"Noise - Commer…\n",
       "\t\"Water System\"\n",
       "\t\"Water System\"\n",
       "\t\"Maintenance or…\n",
       "\t\"Illegal Parkin…\n",
       "\t\"Noise - Street…\n",
       "\t\"Noise - Commer…\n",
       "\t\"Blocked Drivew…\n",
       "]"
      ]
     },
     "execution_count": 4,
     "metadata": {},
     "output_type": "execute_result"
    }
   ],
   "source": [
    "complaints['Complaint Type']"
   ]
  },
  {
   "attachments": {},
   "cell_type": "markdown",
   "metadata": {},
   "source": [
    "To get the first 5 rows of a dataframe, we can also use a slice: `df[:5]`. But it's generally recommended to use the `head()` function.\n",
    "\n",
    "This is a great way to get a sense for what kind of information is in the dataframe -- take a minute to look at the contents and get a feel for this dataset."
   ]
  },
  {
   "cell_type": "code",
   "execution_count": 5,
   "metadata": {},
   "outputs": [
    {
     "data": {
      "text/html": [
       "<div><style>\n",
       ".dataframe > thead > tr > th,\n",
       ".dataframe > tbody > tr > td {\n",
       "  text-align: right;\n",
       "}\n",
       "</style>\n",
       "<small>shape: (5, 52)</small><table border=\"1\" class=\"dataframe\"><thead><tr><th>Unique Key</th><th>Created Date</th><th>Closed Date</th><th>Agency</th><th>Agency Name</th><th>Complaint Type</th><th>Descriptor</th><th>Location Type</th><th>Incident Zip</th><th>Incident Address</th><th>Street Name</th><th>Cross Street 1</th><th>Cross Street 2</th><th>Intersection Street 1</th><th>Intersection Street 2</th><th>Address Type</th><th>City</th><th>Landmark</th><th>Facility Type</th><th>Status</th><th>Due Date</th><th>Resolution Action Updated Date</th><th>Community Board</th><th>Borough</th><th>X Coordinate (State Plane)</th><th>Y Coordinate (State Plane)</th><th>Park Facility Name</th><th>Park Borough</th><th>School Name</th><th>School Number</th><th>School Region</th><th>School Code</th><th>School Phone Number</th><th>School Address</th><th>School City</th><th>School State</th><th>School Zip</th><th>School Not Found</th><th>School or Citywide Complaint</th><th>Vehicle Type</th><th>Taxi Company Borough</th><th>Taxi Pick Up Location</th><th>Bridge Highway Name</th><th>Bridge Highway Direction</th><th>Road Ramp</th><th>Bridge Highway Segment</th><th>Garage Lot Name</th><th>Ferry Direction</th><th>Ferry Terminal Name</th><th>Latitude</th><th>Longitude</th><th>Location</th></tr><tr><td>i64</td><td>str</td><td>str</td><td>str</td><td>str</td><td>str</td><td>str</td><td>str</td><td>str</td><td>str</td><td>str</td><td>str</td><td>str</td><td>str</td><td>str</td><td>str</td><td>str</td><td>str</td><td>str</td><td>str</td><td>str</td><td>str</td><td>str</td><td>str</td><td>i64</td><td>i64</td><td>str</td><td>str</td><td>str</td><td>str</td><td>str</td><td>str</td><td>str</td><td>str</td><td>str</td><td>str</td><td>str</td><td>str</td><td>str</td><td>str</td><td>str</td><td>str</td><td>str</td><td>str</td><td>str</td><td>str</td><td>str</td><td>str</td><td>str</td><td>f64</td><td>f64</td><td>str</td></tr></thead><tbody><tr><td>26589651</td><td>&quot;10/31/2013 02:…</td><td>null</td><td>&quot;NYPD&quot;</td><td>&quot;New York City …</td><td>&quot;Noise - Street…</td><td>&quot;Loud Talking&quot;</td><td>&quot;Street/Sidewal…</td><td>&quot;11432&quot;</td><td>&quot;90-03 169 STRE…</td><td>&quot;169 STREET&quot;</td><td>&quot;90 AVENUE&quot;</td><td>&quot;91 AVENUE&quot;</td><td>null</td><td>null</td><td>&quot;ADDRESS&quot;</td><td>&quot;JAMAICA&quot;</td><td>null</td><td>&quot;Precinct&quot;</td><td>&quot;Assigned&quot;</td><td>&quot;10/31/2013 10:…</td><td>&quot;10/31/2013 02:…</td><td>&quot;12 QUEENS&quot;</td><td>&quot;QUEENS&quot;</td><td>1042027</td><td>197389</td><td>&quot;Unspecified&quot;</td><td>&quot;QUEENS&quot;</td><td>&quot;Unspecified&quot;</td><td>&quot;Unspecified&quot;</td><td>&quot;Unspecified&quot;</td><td>&quot;Unspecified&quot;</td><td>&quot;Unspecified&quot;</td><td>&quot;Unspecified&quot;</td><td>&quot;Unspecified&quot;</td><td>&quot;Unspecified&quot;</td><td>&quot;Unspecified&quot;</td><td>&quot;N&quot;</td><td>null</td><td>null</td><td>null</td><td>null</td><td>null</td><td>null</td><td>null</td><td>null</td><td>null</td><td>null</td><td>null</td><td>40.708275</td><td>-73.791604</td><td>&quot;(40.7082753259…</td></tr><tr><td>26593698</td><td>&quot;10/31/2013 02:…</td><td>null</td><td>&quot;NYPD&quot;</td><td>&quot;New York City …</td><td>&quot;Illegal Parkin…</td><td>&quot;Commercial Ove…</td><td>&quot;Street/Sidewal…</td><td>&quot;11378&quot;</td><td>&quot;58 AVENUE&quot;</td><td>&quot;58 AVENUE&quot;</td><td>&quot;58 PLACE&quot;</td><td>&quot;59 STREET&quot;</td><td>null</td><td>null</td><td>&quot;BLOCKFACE&quot;</td><td>&quot;MASPETH&quot;</td><td>null</td><td>&quot;Precinct&quot;</td><td>&quot;Open&quot;</td><td>&quot;10/31/2013 10:…</td><td>null</td><td>&quot;05 QUEENS&quot;</td><td>&quot;QUEENS&quot;</td><td>1009349</td><td>201984</td><td>&quot;Unspecified&quot;</td><td>&quot;QUEENS&quot;</td><td>&quot;Unspecified&quot;</td><td>&quot;Unspecified&quot;</td><td>&quot;Unspecified&quot;</td><td>&quot;Unspecified&quot;</td><td>&quot;Unspecified&quot;</td><td>&quot;Unspecified&quot;</td><td>&quot;Unspecified&quot;</td><td>&quot;Unspecified&quot;</td><td>&quot;Unspecified&quot;</td><td>&quot;N&quot;</td><td>null</td><td>null</td><td>null</td><td>null</td><td>null</td><td>null</td><td>null</td><td>null</td><td>null</td><td>null</td><td>null</td><td>40.721041</td><td>-73.909453</td><td>&quot;(40.7210405356…</td></tr><tr><td>26594139</td><td>&quot;10/31/2013 02:…</td><td>&quot;10/31/2013 02:…</td><td>&quot;NYPD&quot;</td><td>&quot;New York City …</td><td>&quot;Noise - Commer…</td><td>&quot;Loud Music/Par…</td><td>&quot;Club/Bar/Resta…</td><td>&quot;10032&quot;</td><td>&quot;4060 BROADWAY&quot;</td><td>&quot;BROADWAY&quot;</td><td>&quot;WEST 171 STREE…</td><td>&quot;WEST 172 STREE…</td><td>null</td><td>null</td><td>&quot;ADDRESS&quot;</td><td>&quot;NEW YORK&quot;</td><td>null</td><td>&quot;Precinct&quot;</td><td>&quot;Closed&quot;</td><td>&quot;10/31/2013 10:…</td><td>&quot;10/31/2013 02:…</td><td>&quot;12 MANHATTAN&quot;</td><td>&quot;MANHATTAN&quot;</td><td>1001088</td><td>246531</td><td>&quot;Unspecified&quot;</td><td>&quot;MANHATTAN&quot;</td><td>&quot;Unspecified&quot;</td><td>&quot;Unspecified&quot;</td><td>&quot;Unspecified&quot;</td><td>&quot;Unspecified&quot;</td><td>&quot;Unspecified&quot;</td><td>&quot;Unspecified&quot;</td><td>&quot;Unspecified&quot;</td><td>&quot;Unspecified&quot;</td><td>&quot;Unspecified&quot;</td><td>&quot;N&quot;</td><td>null</td><td>null</td><td>null</td><td>null</td><td>null</td><td>null</td><td>null</td><td>null</td><td>null</td><td>null</td><td>null</td><td>40.84333</td><td>-73.939144</td><td>&quot;(40.8433297546…</td></tr><tr><td>26595721</td><td>&quot;10/31/2013 01:…</td><td>&quot;10/31/2013 02:…</td><td>&quot;NYPD&quot;</td><td>&quot;New York City …</td><td>&quot;Noise - Vehicl…</td><td>&quot;Car/Truck Horn…</td><td>&quot;Street/Sidewal…</td><td>&quot;10023&quot;</td><td>&quot;WEST 72 STREET…</td><td>&quot;WEST 72 STREET…</td><td>&quot;COLUMBUS AVENU…</td><td>&quot;AMSTERDAM AVEN…</td><td>null</td><td>null</td><td>&quot;BLOCKFACE&quot;</td><td>&quot;NEW YORK&quot;</td><td>null</td><td>&quot;Precinct&quot;</td><td>&quot;Closed&quot;</td><td>&quot;10/31/2013 09:…</td><td>&quot;10/31/2013 02:…</td><td>&quot;07 MANHATTAN&quot;</td><td>&quot;MANHATTAN&quot;</td><td>989730</td><td>222727</td><td>&quot;Unspecified&quot;</td><td>&quot;MANHATTAN&quot;</td><td>&quot;Unspecified&quot;</td><td>&quot;Unspecified&quot;</td><td>&quot;Unspecified&quot;</td><td>&quot;Unspecified&quot;</td><td>&quot;Unspecified&quot;</td><td>&quot;Unspecified&quot;</td><td>&quot;Unspecified&quot;</td><td>&quot;Unspecified&quot;</td><td>&quot;Unspecified&quot;</td><td>&quot;N&quot;</td><td>null</td><td>null</td><td>null</td><td>null</td><td>null</td><td>null</td><td>null</td><td>null</td><td>null</td><td>null</td><td>null</td><td>40.778009</td><td>-73.980213</td><td>&quot;(40.7780087446…</td></tr><tr><td>26590930</td><td>&quot;10/31/2013 01:…</td><td>null</td><td>&quot;DOHMH&quot;</td><td>&quot;Department of …</td><td>&quot;Rodent&quot;</td><td>&quot;Condition Attr…</td><td>&quot;Vacant Lot&quot;</td><td>&quot;10027&quot;</td><td>&quot;WEST 124 STREE…</td><td>&quot;WEST 124 STREE…</td><td>&quot;LENOX AVENUE&quot;</td><td>&quot;ADAM CLAYTON P…</td><td>null</td><td>null</td><td>&quot;BLOCKFACE&quot;</td><td>&quot;NEW YORK&quot;</td><td>null</td><td>&quot;N/A&quot;</td><td>&quot;Pending&quot;</td><td>&quot;11/30/2013 01:…</td><td>&quot;10/31/2013 01:…</td><td>&quot;10 MANHATTAN&quot;</td><td>&quot;MANHATTAN&quot;</td><td>998815</td><td>233545</td><td>&quot;Unspecified&quot;</td><td>&quot;MANHATTAN&quot;</td><td>&quot;Unspecified&quot;</td><td>&quot;Unspecified&quot;</td><td>&quot;Unspecified&quot;</td><td>&quot;Unspecified&quot;</td><td>&quot;Unspecified&quot;</td><td>&quot;Unspecified&quot;</td><td>&quot;Unspecified&quot;</td><td>&quot;Unspecified&quot;</td><td>&quot;Unspecified&quot;</td><td>&quot;N&quot;</td><td>null</td><td>null</td><td>null</td><td>null</td><td>null</td><td>null</td><td>null</td><td>null</td><td>null</td><td>null</td><td>null</td><td>40.807691</td><td>-73.947387</td><td>&quot;(40.8076909270…</td></tr></tbody></table></div>"
      ],
      "text/plain": [
       "shape: (5, 52)\n",
       "┌──────────┬────────────┬───────────┬────────┬───┬────────────┬───────────┬────────────┬───────────┐\n",
       "│ Unique   ┆ Created    ┆ Closed    ┆ Agency ┆ … ┆ Ferry      ┆ Latitude  ┆ Longitude  ┆ Location  │\n",
       "│ Key      ┆ Date       ┆ Date      ┆ ---    ┆   ┆ Terminal   ┆ ---       ┆ ---        ┆ ---       │\n",
       "│ ---      ┆ ---        ┆ ---       ┆ str    ┆   ┆ Name       ┆ f64       ┆ f64        ┆ str       │\n",
       "│ i64      ┆ str        ┆ str       ┆        ┆   ┆ ---        ┆           ┆            ┆           │\n",
       "│          ┆            ┆           ┆        ┆   ┆ str        ┆           ┆            ┆           │\n",
       "╞══════════╪════════════╪═══════════╪════════╪═══╪════════════╪═══════════╪════════════╪═══════════╡\n",
       "│ 26589651 ┆ 10/31/2013 ┆ null      ┆ NYPD   ┆ … ┆ null       ┆ 40.708275 ┆ -73.791604 ┆ (40.70827 │\n",
       "│          ┆ 02:08:41   ┆           ┆        ┆   ┆            ┆           ┆            ┆ 532593202 │\n",
       "│          ┆ AM         ┆           ┆        ┆   ┆            ┆           ┆            ┆ , -73.791 │\n",
       "│          ┆            ┆           ┆        ┆   ┆            ┆           ┆            ┆ 60395…    │\n",
       "│ 26593698 ┆ 10/31/2013 ┆ null      ┆ NYPD   ┆ … ┆ null       ┆ 40.721041 ┆ -73.909453 ┆ (40.72104 │\n",
       "│          ┆ 02:01:04   ┆           ┆        ┆   ┆            ┆           ┆            ┆ 053562830 │\n",
       "│          ┆ AM         ┆           ┆        ┆   ┆            ┆           ┆            ┆ 5, -73.90 │\n",
       "│          ┆            ┆           ┆        ┆   ┆            ┆           ┆            ┆ 94530…    │\n",
       "│ 26594139 ┆ 10/31/2013 ┆ 10/31/201 ┆ NYPD   ┆ … ┆ null       ┆ 40.84333  ┆ -73.939144 ┆ (40.84332 │\n",
       "│          ┆ 02:00:24   ┆ 3         ┆        ┆   ┆            ┆           ┆            ┆ 975466513 │\n",
       "│          ┆ AM         ┆ 02:40:32  ┆        ┆   ┆            ┆           ┆            ┆ , -73.939 │\n",
       "│          ┆            ┆ AM        ┆        ┆   ┆            ┆           ┆            ┆ 14371…    │\n",
       "│ 26595721 ┆ 10/31/2013 ┆ 10/31/201 ┆ NYPD   ┆ … ┆ null       ┆ 40.778009 ┆ -73.980213 ┆ (40.77800 │\n",
       "│          ┆ 01:56:23   ┆ 3         ┆        ┆   ┆            ┆           ┆            ┆ 87446372, │\n",
       "│          ┆ AM         ┆ 02:21:48  ┆        ┆   ┆            ┆           ┆            ┆ -73.98021 │\n",
       "│          ┆            ┆ AM        ┆        ┆   ┆            ┆           ┆            ┆ 3490…     │\n",
       "│ 26590930 ┆ 10/31/2013 ┆ null      ┆ DOHMH  ┆ … ┆ null       ┆ 40.807691 ┆ -73.947387 ┆ (40.80769 │\n",
       "│          ┆ 01:53:44   ┆           ┆        ┆   ┆            ┆           ┆            ┆ 092704951 │\n",
       "│          ┆ AM         ┆           ┆        ┆   ┆            ┆           ┆            ┆ , -73.947 │\n",
       "│          ┆            ┆           ┆        ┆   ┆            ┆           ┆            ┆ 38703…    │\n",
       "└──────────┴────────────┴───────────┴────────┴───┴────────────┴───────────┴────────────┴───────────┘"
      ]
     },
     "execution_count": 5,
     "metadata": {},
     "output_type": "execute_result"
    }
   ],
   "source": [
    "complaints.head()"
   ]
  },
  {
   "attachments": {},
   "cell_type": "markdown",
   "metadata": {},
   "source": [
    "We can combine these to get the first 5 rows of a column:"
   ]
  },
  {
   "cell_type": "code",
   "execution_count": 6,
   "metadata": {},
   "outputs": [
    {
     "data": {
      "text/html": [
       "<div><style>\n",
       ".dataframe > thead > tr > th,\n",
       ".dataframe > tbody > tr > td {\n",
       "  text-align: right;\n",
       "}\n",
       "</style>\n",
       "<small>shape: (10,)</small><table border=\"1\" class=\"dataframe\"><thead><tr><th>Complaint Type</th></tr><tr><td>str</td></tr></thead><tbody><tr><td>&quot;Noise - Street…</td></tr><tr><td>&quot;Illegal Parkin…</td></tr><tr><td>&quot;Noise - Commer…</td></tr><tr><td>&quot;Noise - Vehicl…</td></tr><tr><td>&quot;Rodent&quot;</td></tr><tr><td>&quot;Noise - Commer…</td></tr><tr><td>&quot;Blocked Drivew…</td></tr><tr><td>&quot;Noise - Commer…</td></tr><tr><td>&quot;Noise - Commer…</td></tr><tr><td>&quot;Noise - Commer…</td></tr></tbody></table></div>"
      ],
      "text/plain": [
       "shape: (10,)\n",
       "Series: 'Complaint Type' [str]\n",
       "[\n",
       "\t\"Noise - Street…\n",
       "\t\"Illegal Parkin…\n",
       "\t\"Noise - Commer…\n",
       "\t\"Noise - Vehicl…\n",
       "\t\"Rodent\"\n",
       "\t\"Noise - Commer…\n",
       "\t\"Blocked Drivew…\n",
       "\t\"Noise - Commer…\n",
       "\t\"Noise - Commer…\n",
       "\t\"Noise - Commer…\n",
       "]"
      ]
     },
     "execution_count": 6,
     "metadata": {},
     "output_type": "execute_result"
    }
   ],
   "source": [
    "complaints['Complaint Type'].head()"
   ]
  },
  {
   "attachments": {},
   "cell_type": "markdown",
   "metadata": {},
   "source": [
    "and it doesn't matter which direction we do it in:"
   ]
  },
  {
   "cell_type": "code",
   "execution_count": 7,
   "metadata": {},
   "outputs": [
    {
     "data": {
      "text/html": [
       "<div><style>\n",
       ".dataframe > thead > tr > th,\n",
       ".dataframe > tbody > tr > td {\n",
       "  text-align: right;\n",
       "}\n",
       "</style>\n",
       "<small>shape: (5,)</small><table border=\"1\" class=\"dataframe\"><thead><tr><th>Complaint Type</th></tr><tr><td>str</td></tr></thead><tbody><tr><td>&quot;Noise - Street…</td></tr><tr><td>&quot;Illegal Parkin…</td></tr><tr><td>&quot;Noise - Commer…</td></tr><tr><td>&quot;Noise - Vehicl…</td></tr><tr><td>&quot;Rodent&quot;</td></tr></tbody></table></div>"
      ],
      "text/plain": [
       "shape: (5,)\n",
       "Series: 'Complaint Type' [str]\n",
       "[\n",
       "\t\"Noise - Street…\n",
       "\t\"Illegal Parkin…\n",
       "\t\"Noise - Commer…\n",
       "\t\"Noise - Vehicl…\n",
       "\t\"Rodent\"\n",
       "]"
      ]
     },
     "execution_count": 7,
     "metadata": {},
     "output_type": "execute_result"
    }
   ],
   "source": [
    "complaints.head()['Complaint Type']"
   ]
  },
  {
   "attachments": {},
   "cell_type": "markdown",
   "metadata": {},
   "source": [
    "# 2.3 Selecting multiple columns"
   ]
  },
  {
   "attachments": {},
   "cell_type": "markdown",
   "metadata": {},
   "source": [
    "What if we just want to know the complaint type and the borough, but not the rest of the information? Polars makes it really easy to select a subset of the columns: just index with list of columns you want."
   ]
  },
  {
   "cell_type": "code",
   "execution_count": 8,
   "metadata": {},
   "outputs": [
    {
     "data": {
      "text/html": [
       "<div><style>\n",
       ".dataframe > thead > tr > th,\n",
       ".dataframe > tbody > tr > td {\n",
       "  text-align: right;\n",
       "}\n",
       "</style>\n",
       "<small>shape: (111_069, 2)</small><table border=\"1\" class=\"dataframe\"><thead><tr><th>Complaint Type</th><th>Borough</th></tr><tr><td>str</td><td>str</td></tr></thead><tbody><tr><td>&quot;Noise - Street…</td><td>&quot;QUEENS&quot;</td></tr><tr><td>&quot;Illegal Parkin…</td><td>&quot;QUEENS&quot;</td></tr><tr><td>&quot;Noise - Commer…</td><td>&quot;MANHATTAN&quot;</td></tr><tr><td>&quot;Noise - Vehicl…</td><td>&quot;MANHATTAN&quot;</td></tr><tr><td>&quot;Rodent&quot;</td><td>&quot;MANHATTAN&quot;</td></tr><tr><td>&quot;Noise - Commer…</td><td>&quot;QUEENS&quot;</td></tr><tr><td>&quot;Blocked Drivew…</td><td>&quot;QUEENS&quot;</td></tr><tr><td>&quot;Noise - Commer…</td><td>&quot;QUEENS&quot;</td></tr><tr><td>&quot;Noise - Commer…</td><td>&quot;MANHATTAN&quot;</td></tr><tr><td>&quot;Noise - Commer…</td><td>&quot;BROOKLYN&quot;</td></tr><tr><td>&quot;Noise - House …</td><td>&quot;BROOKLYN&quot;</td></tr><tr><td>&quot;Noise - Commer…</td><td>&quot;MANHATTAN&quot;</td></tr><tr><td>&hellip;</td><td>&hellip;</td></tr><tr><td>&quot;Noise&quot;</td><td>&quot;MANHATTAN&quot;</td></tr><tr><td>&quot;Noise - Commer…</td><td>&quot;BROOKLYN&quot;</td></tr><tr><td>&quot;Noise - Street…</td><td>&quot;MANHATTAN&quot;</td></tr><tr><td>&quot;Noise&quot;</td><td>&quot;MANHATTAN&quot;</td></tr><tr><td>&quot;Noise - Commer…</td><td>&quot;QUEENS&quot;</td></tr><tr><td>&quot;Water System&quot;</td><td>&quot;MANHATTAN&quot;</td></tr><tr><td>&quot;Water System&quot;</td><td>&quot;MANHATTAN&quot;</td></tr><tr><td>&quot;Maintenance or…</td><td>&quot;BROOKLYN&quot;</td></tr><tr><td>&quot;Illegal Parkin…</td><td>&quot;QUEENS&quot;</td></tr><tr><td>&quot;Noise - Street…</td><td>&quot;MANHATTAN&quot;</td></tr><tr><td>&quot;Noise - Commer…</td><td>&quot;BROOKLYN&quot;</td></tr><tr><td>&quot;Blocked Drivew…</td><td>&quot;BROOKLYN&quot;</td></tr></tbody></table></div>"
      ],
      "text/plain": [
       "shape: (111_069, 2)\n",
       "┌─────────────────────────┬───────────┐\n",
       "│ Complaint Type          ┆ Borough   │\n",
       "│ ---                     ┆ ---       │\n",
       "│ str                     ┆ str       │\n",
       "╞═════════════════════════╪═══════════╡\n",
       "│ Noise - Street/Sidewalk ┆ QUEENS    │\n",
       "│ Illegal Parking         ┆ QUEENS    │\n",
       "│ Noise - Commercial      ┆ MANHATTAN │\n",
       "│ Noise - Vehicle         ┆ MANHATTAN │\n",
       "│ …                       ┆ …         │\n",
       "│ Illegal Parking         ┆ QUEENS    │\n",
       "│ Noise - Street/Sidewalk ┆ MANHATTAN │\n",
       "│ Noise - Commercial      ┆ BROOKLYN  │\n",
       "│ Blocked Driveway        ┆ BROOKLYN  │\n",
       "└─────────────────────────┴───────────┘"
      ]
     },
     "execution_count": 8,
     "metadata": {},
     "output_type": "execute_result"
    }
   ],
   "source": [
    "complaints[['Complaint Type', 'Borough']]"
   ]
  },
  {
   "attachments": {},
   "cell_type": "markdown",
   "metadata": {},
   "source": [
    "That showed us a summary, and then we can look at the first 10 rows:"
   ]
  },
  {
   "cell_type": "code",
   "execution_count": 9,
   "metadata": {},
   "outputs": [
    {
     "data": {
      "text/html": [
       "<div><style>\n",
       ".dataframe > thead > tr > th,\n",
       ".dataframe > tbody > tr > td {\n",
       "  text-align: right;\n",
       "}\n",
       "</style>\n",
       "<small>shape: (10, 2)</small><table border=\"1\" class=\"dataframe\"><thead><tr><th>Complaint Type</th><th>Borough</th></tr><tr><td>str</td><td>str</td></tr></thead><tbody><tr><td>&quot;Noise - Street…</td><td>&quot;QUEENS&quot;</td></tr><tr><td>&quot;Illegal Parkin…</td><td>&quot;QUEENS&quot;</td></tr><tr><td>&quot;Noise - Commer…</td><td>&quot;MANHATTAN&quot;</td></tr><tr><td>&quot;Noise - Vehicl…</td><td>&quot;MANHATTAN&quot;</td></tr><tr><td>&quot;Rodent&quot;</td><td>&quot;MANHATTAN&quot;</td></tr><tr><td>&quot;Noise - Commer…</td><td>&quot;QUEENS&quot;</td></tr><tr><td>&quot;Blocked Drivew…</td><td>&quot;QUEENS&quot;</td></tr><tr><td>&quot;Noise - Commer…</td><td>&quot;QUEENS&quot;</td></tr><tr><td>&quot;Noise - Commer…</td><td>&quot;MANHATTAN&quot;</td></tr><tr><td>&quot;Noise - Commer…</td><td>&quot;BROOKLYN&quot;</td></tr></tbody></table></div>"
      ],
      "text/plain": [
       "shape: (10, 2)\n",
       "┌─────────────────────────┬───────────┐\n",
       "│ Complaint Type          ┆ Borough   │\n",
       "│ ---                     ┆ ---       │\n",
       "│ str                     ┆ str       │\n",
       "╞═════════════════════════╪═══════════╡\n",
       "│ Noise - Street/Sidewalk ┆ QUEENS    │\n",
       "│ Illegal Parking         ┆ QUEENS    │\n",
       "│ Noise - Commercial      ┆ MANHATTAN │\n",
       "│ Noise - Vehicle         ┆ MANHATTAN │\n",
       "│ …                       ┆ …         │\n",
       "│ Blocked Driveway        ┆ QUEENS    │\n",
       "│ Noise - Commercial      ┆ QUEENS    │\n",
       "│ Noise - Commercial      ┆ MANHATTAN │\n",
       "│ Noise - Commercial      ┆ BROOKLYN  │\n",
       "└─────────────────────────┴───────────┘"
      ]
     },
     "execution_count": 9,
     "metadata": {},
     "output_type": "execute_result"
    }
   ],
   "source": [
    "complaints[['Complaint Type', 'Borough']].head(10)"
   ]
  },
  {
   "attachments": {},
   "cell_type": "markdown",
   "metadata": {},
   "source": [
    "# 2.4 What's the most common complaint type?"
   ]
  },
  {
   "attachments": {},
   "cell_type": "markdown",
   "metadata": {},
   "source": [
    "This is a really easy question to answer! There's a `value_counts()` method that we can use:"
   ]
  },
  {
   "cell_type": "code",
   "execution_count": 10,
   "metadata": {},
   "outputs": [
    {
     "data": {
      "text/html": [
       "<div><style>\n",
       ".dataframe > thead > tr > th,\n",
       ".dataframe > tbody > tr > td {\n",
       "  text-align: right;\n",
       "}\n",
       "</style>\n",
       "<small>shape: (165, 2)</small><table border=\"1\" class=\"dataframe\"><thead><tr><th>Complaint Type</th><th>counts</th></tr><tr><td>str</td><td>u32</td></tr></thead><tbody><tr><td>&quot;HEATING&quot;</td><td>14200</td></tr><tr><td>&quot;GENERAL CONSTR…</td><td>7471</td></tr><tr><td>&quot;Street Light C…</td><td>7117</td></tr><tr><td>&quot;DOF Literature…</td><td>5797</td></tr><tr><td>&quot;PLUMBING&quot;</td><td>5373</td></tr><tr><td>&quot;PAINT - PLASTE…</td><td>5149</td></tr><tr><td>&quot;Blocked Drivew…</td><td>4590</td></tr><tr><td>&quot;NONCONST&quot;</td><td>3998</td></tr><tr><td>&quot;Street Conditi…</td><td>3473</td></tr><tr><td>&quot;Illegal Parkin…</td><td>3343</td></tr><tr><td>&quot;Noise&quot;</td><td>3321</td></tr><tr><td>&quot;Traffic Signal…</td><td>3145</td></tr><tr><td>&hellip;</td><td>&hellip;</td></tr><tr><td>&quot;Window Guard&quot;</td><td>2</td></tr><tr><td>&quot;Snow&quot;</td><td>1</td></tr><tr><td>&quot;Stalled Sites&quot;</td><td>1</td></tr><tr><td>&quot;DHS Income Sav…</td><td>1</td></tr><tr><td>&quot;Tunnel Conditi…</td><td>1</td></tr><tr><td>&quot;Municipal Park…</td><td>1</td></tr><tr><td>&quot;Trans Fat&quot;</td><td>1</td></tr><tr><td>&quot;Open Flame Per…</td><td>1</td></tr><tr><td>&quot;DWD&quot;</td><td>1</td></tr><tr><td>&quot;Highway Sign -…</td><td>1</td></tr><tr><td>&quot;Ferry Permit&quot;</td><td>1</td></tr><tr><td>&quot;X-Ray Machine/…</td><td>1</td></tr></tbody></table></div>"
      ],
      "text/plain": [
       "shape: (165, 2)\n",
       "┌─────────────────────────┬────────┐\n",
       "│ Complaint Type          ┆ counts │\n",
       "│ ---                     ┆ ---    │\n",
       "│ str                     ┆ u32    │\n",
       "╞═════════════════════════╪════════╡\n",
       "│ HEATING                 ┆ 14200  │\n",
       "│ GENERAL CONSTRUCTION    ┆ 7471   │\n",
       "│ Street Light Condition  ┆ 7117   │\n",
       "│ DOF Literature Request  ┆ 5797   │\n",
       "│ …                       ┆ …      │\n",
       "│ DWD                     ┆ 1      │\n",
       "│ Highway Sign - Damaged  ┆ 1      │\n",
       "│ Ferry Permit            ┆ 1      │\n",
       "│ X-Ray Machine/Equipment ┆ 1      │\n",
       "└─────────────────────────┴────────┘"
      ]
     },
     "execution_count": 10,
     "metadata": {},
     "output_type": "execute_result"
    }
   ],
   "source": [
    "complaints['Complaint Type'].value_counts(sort=True)"
   ]
  },
  {
   "attachments": {},
   "cell_type": "markdown",
   "metadata": {},
   "source": [
    "If we just wanted the top 10 most common complaints, we can use the `top_k` function like so:"
   ]
  },
  {
   "cell_type": "code",
   "execution_count": 11,
   "metadata": {},
   "outputs": [
    {
     "data": {
      "text/html": [
       "<div><style>\n",
       ".dataframe > thead > tr > th,\n",
       ".dataframe > tbody > tr > td {\n",
       "  text-align: right;\n",
       "}\n",
       "</style>\n",
       "<small>shape: (10, 2)</small><table border=\"1\" class=\"dataframe\"><thead><tr><th>Complaint Type</th><th>counts</th></tr><tr><td>str</td><td>u32</td></tr></thead><tbody><tr><td>&quot;HEATING&quot;</td><td>14200</td></tr><tr><td>&quot;GENERAL CONSTR…</td><td>7471</td></tr><tr><td>&quot;Street Light C…</td><td>7117</td></tr><tr><td>&quot;DOF Literature…</td><td>5797</td></tr><tr><td>&quot;PLUMBING&quot;</td><td>5373</td></tr><tr><td>&quot;PAINT - PLASTE…</td><td>5149</td></tr><tr><td>&quot;Blocked Drivew…</td><td>4590</td></tr><tr><td>&quot;NONCONST&quot;</td><td>3998</td></tr><tr><td>&quot;Street Conditi…</td><td>3473</td></tr><tr><td>&quot;Illegal Parkin…</td><td>3343</td></tr></tbody></table></div>"
      ],
      "text/plain": [
       "shape: (10, 2)\n",
       "┌────────────────────────┬────────┐\n",
       "│ Complaint Type         ┆ counts │\n",
       "│ ---                    ┆ ---    │\n",
       "│ str                    ┆ u32    │\n",
       "╞════════════════════════╪════════╡\n",
       "│ HEATING                ┆ 14200  │\n",
       "│ GENERAL CONSTRUCTION   ┆ 7471   │\n",
       "│ Street Light Condition ┆ 7117   │\n",
       "│ DOF Literature Request ┆ 5797   │\n",
       "│ …                      ┆ …      │\n",
       "│ Blocked Driveway       ┆ 4590   │\n",
       "│ NONCONST               ┆ 3998   │\n",
       "│ Street Condition       ┆ 3473   │\n",
       "│ Illegal Parking        ┆ 3343   │\n",
       "└────────────────────────┴────────┘"
      ]
     },
     "execution_count": 11,
     "metadata": {},
     "output_type": "execute_result"
    }
   ],
   "source": [
    "complaint_counts = complaints['Complaint Type'].value_counts().top_k(10, by='counts')\n",
    "complaint_counts"
   ]
  },
  {
   "attachments": {},
   "cell_type": "markdown",
   "metadata": {},
   "source": [
    "But it gets better! We can plot them!"
   ]
  },
  {
   "cell_type": "code",
   "execution_count": 12,
   "metadata": {},
   "outputs": [
    {
     "data": {
      "image/png": "[encoded data removed]",
      "text/plain": [
       "<Figure size 1500x500 with 1 Axes>"
      ]
     },
     "metadata": {},
     "output_type": "display_data"
    }
   ],
   "source": [
    "plt.xticks(rotation=45)\n",
    "sbn.barplot(complaint_counts, x='Complaint Type', y='counts')"
   ]
  },
  {
   "attachments": {},
   "cell_type": "markdown",
   "metadata": {},
   "source": [
    "<style>\n",
    "    @font-face {\n",
    "        font-family: \"Computer Modern\";\n",
    "        src: url('http://mirrors.ctan.org/fonts/cm-unicode/fonts/otf/cmunss.otf');\n",
    "    }\n",
    "    div.cell{\n",
    "        width:800px;\n",
    "        margin-left:16% !important;\n",
    "        margin-right:auto;\n",
    "    }\n",
    "    h1 {\n",
    "        font-family: Helvetica, serif;\n",
    "    }\n",
    "    h4{\n",
    "        margin-top:12px;\n",
    "        margin-bottom: 3px;\n",
    "       }\n",
    "    div.text_cell_render{\n",
    "        font-family: Computer Modern, \"Helvetica Neue\", Arial, Helvetica, Geneva, sans-serif;\n",
    "        line-height: 145%;\n",
    "        font-size: 130%;\n",
    "        width:800px;\n",
    "        margin-left:auto;\n",
    "        margin-right:auto;\n",
    "    }\n",
    "    .CodeMirror{\n",
    "            font-family: \"Source Code Pro\", source-code-pro,Consolas, monospace;\n",
    "    }\n",
    "    .text_cell_render h5 {\n",
    "        font-weight: 300;\n",
    "        font-size: 22pt;\n",
    "        color: #4057A1;\n",
    "        font-style: italic;\n",
    "        margin-bottom: .5em;\n",
    "        margin-top: 0.5em;\n",
    "        display: block;\n",
    "    }\n",
    "    \n",
    "    .warning{\n",
    "        color: rgb( 240, 20, 20 )\n",
    "        }  "
   ]
  }
 ],
 "metadata": {
  "kernelspec": {
   "display_name": "Python 3 (ipykernel)",
   "language": "python",
   "name": "python3"
  },
  "language_info": {
   "codemirror_mode": {
    "name": "ipython",
    "version": 3
   },
   "file_extension": ".py",
   "mimetype": "text/x-python",
   "name": "python",
   "nbconvert_exporter": "python",
   "pygments_lexer": "ipython3",
   "version": "3.11.3"
  }
 },
 "nbformat": 4,
 "nbformat_minor": 1
}
