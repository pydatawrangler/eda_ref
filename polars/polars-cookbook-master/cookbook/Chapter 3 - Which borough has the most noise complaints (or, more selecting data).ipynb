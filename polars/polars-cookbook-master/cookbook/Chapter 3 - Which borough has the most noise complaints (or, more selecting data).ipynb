{
 "cells": [
  {
   "cell_type": "code",
   "execution_count": 1,
   "metadata": {},
   "outputs": [],
   "source": [
    "# The usual preamble\n",
    "%matplotlib inline\n",
    "import polars as pl\n",
    "import plotlib as sbn\n",
    "import matplotlib.pyplot as plt\n",
    "\n",
    "# Make the graphs a bit prettier, and bigger\n",
    "plt.style.use('ggplot')\n",
    "plt.rcParams['figure.figsize'] = (15, 5)"
   ]
  },
  {
   "attachments": {},
   "cell_type": "markdown",
   "metadata": {},
   "source": [
    "Let's continue with our NYC 311 service requests example."
   ]
  },
  {
   "cell_type": "code",
   "execution_count": 2,
   "metadata": {},
   "outputs": [],
   "source": [
    "# because of mixed types we specify dtype to prevent any errors\n",
    "complaints = pl.read_csv('../data/311-service-requests.csv', dtypes={'Incident Zip':pl.Utf8})"
   ]
  },
  {
   "attachments": {},
   "cell_type": "markdown",
   "metadata": {},
   "source": [
    "# 3.1 Selecting only noise complaints"
   ]
  },
  {
   "attachments": {},
   "cell_type": "markdown",
   "metadata": {},
   "source": [
    "I'd like to know which borough has the most noise complaints. First, we'll take a look at the data to see what it looks like:"
   ]
  },
  {
   "cell_type": "code",
   "execution_count": 3,
   "metadata": {},
   "outputs": [
    {
     "data": {
      "text/html": [
       "<div><style>\n",
       ".dataframe > thead > tr > th,\n",
       ".dataframe > tbody > tr > td {\n",
       "  text-align: right;\n",
       "}\n",
       "</style>\n",
       "<small>shape: (5, 52)</small><table border=\"1\" class=\"dataframe\"><thead><tr><th>Unique Key</th><th>Created Date</th><th>Closed Date</th><th>Agency</th><th>Agency Name</th><th>Complaint Type</th><th>Descriptor</th><th>Location Type</th><th>Incident Zip</th><th>Incident Address</th><th>Street Name</th><th>Cross Street 1</th><th>Cross Street 2</th><th>Intersection Street 1</th><th>Intersection Street 2</th><th>Address Type</th><th>City</th><th>Landmark</th><th>Facility Type</th><th>Status</th><th>Due Date</th><th>Resolution Action Updated Date</th><th>Community Board</th><th>Borough</th><th>X Coordinate (State Plane)</th><th>Y Coordinate (State Plane)</th><th>Park Facility Name</th><th>Park Borough</th><th>School Name</th><th>School Number</th><th>School Region</th><th>School Code</th><th>School Phone Number</th><th>School Address</th><th>School City</th><th>School State</th><th>School Zip</th><th>School Not Found</th><th>School or Citywide Complaint</th><th>Vehicle Type</th><th>Taxi Company Borough</th><th>Taxi Pick Up Location</th><th>Bridge Highway Name</th><th>Bridge Highway Direction</th><th>Road Ramp</th><th>Bridge Highway Segment</th><th>Garage Lot Name</th><th>Ferry Direction</th><th>Ferry Terminal Name</th><th>Latitude</th><th>Longitude</th><th>Location</th></tr><tr><td>i64</td><td>str</td><td>str</td><td>str</td><td>str</td><td>str</td><td>str</td><td>str</td><td>str</td><td>str</td><td>str</td><td>str</td><td>str</td><td>str</td><td>str</td><td>str</td><td>str</td><td>str</td><td>str</td><td>str</td><td>str</td><td>str</td><td>str</td><td>str</td><td>i64</td><td>i64</td><td>str</td><td>str</td><td>str</td><td>str</td><td>str</td><td>str</td><td>str</td><td>str</td><td>str</td><td>str</td><td>str</td><td>str</td><td>str</td><td>str</td><td>str</td><td>str</td><td>str</td><td>str</td><td>str</td><td>str</td><td>str</td><td>str</td><td>str</td><td>f64</td><td>f64</td><td>str</td></tr></thead><tbody><tr><td>26589651</td><td>&quot;10/31/2013 02:…</td><td>null</td><td>&quot;NYPD&quot;</td><td>&quot;New York City …</td><td>&quot;Noise - Street…</td><td>&quot;Loud Talking&quot;</td><td>&quot;Street/Sidewal…</td><td>&quot;11432&quot;</td><td>&quot;90-03 169 STRE…</td><td>&quot;169 STREET&quot;</td><td>&quot;90 AVENUE&quot;</td><td>&quot;91 AVENUE&quot;</td><td>null</td><td>null</td><td>&quot;ADDRESS&quot;</td><td>&quot;JAMAICA&quot;</td><td>null</td><td>&quot;Precinct&quot;</td><td>&quot;Assigned&quot;</td><td>&quot;10/31/2013 10:…</td><td>&quot;10/31/2013 02:…</td><td>&quot;12 QUEENS&quot;</td><td>&quot;QUEENS&quot;</td><td>1042027</td><td>197389</td><td>&quot;Unspecified&quot;</td><td>&quot;QUEENS&quot;</td><td>&quot;Unspecified&quot;</td><td>&quot;Unspecified&quot;</td><td>&quot;Unspecified&quot;</td><td>&quot;Unspecified&quot;</td><td>&quot;Unspecified&quot;</td><td>&quot;Unspecified&quot;</td><td>&quot;Unspecified&quot;</td><td>&quot;Unspecified&quot;</td><td>&quot;Unspecified&quot;</td><td>&quot;N&quot;</td><td>null</td><td>null</td><td>null</td><td>null</td><td>null</td><td>null</td><td>null</td><td>null</td><td>null</td><td>null</td><td>null</td><td>40.708275</td><td>-73.791604</td><td>&quot;(40.7082753259…</td></tr><tr><td>26593698</td><td>&quot;10/31/2013 02:…</td><td>null</td><td>&quot;NYPD&quot;</td><td>&quot;New York City …</td><td>&quot;Illegal Parkin…</td><td>&quot;Commercial Ove…</td><td>&quot;Street/Sidewal…</td><td>&quot;11378&quot;</td><td>&quot;58 AVENUE&quot;</td><td>&quot;58 AVENUE&quot;</td><td>&quot;58 PLACE&quot;</td><td>&quot;59 STREET&quot;</td><td>null</td><td>null</td><td>&quot;BLOCKFACE&quot;</td><td>&quot;MASPETH&quot;</td><td>null</td><td>&quot;Precinct&quot;</td><td>&quot;Open&quot;</td><td>&quot;10/31/2013 10:…</td><td>null</td><td>&quot;05 QUEENS&quot;</td><td>&quot;QUEENS&quot;</td><td>1009349</td><td>201984</td><td>&quot;Unspecified&quot;</td><td>&quot;QUEENS&quot;</td><td>&quot;Unspecified&quot;</td><td>&quot;Unspecified&quot;</td><td>&quot;Unspecified&quot;</td><td>&quot;Unspecified&quot;</td><td>&quot;Unspecified&quot;</td><td>&quot;Unspecified&quot;</td><td>&quot;Unspecified&quot;</td><td>&quot;Unspecified&quot;</td><td>&quot;Unspecified&quot;</td><td>&quot;N&quot;</td><td>null</td><td>null</td><td>null</td><td>null</td><td>null</td><td>null</td><td>null</td><td>null</td><td>null</td><td>null</td><td>null</td><td>40.721041</td><td>-73.909453</td><td>&quot;(40.7210405356…</td></tr><tr><td>26594139</td><td>&quot;10/31/2013 02:…</td><td>&quot;10/31/2013 02:…</td><td>&quot;NYPD&quot;</td><td>&quot;New York City …</td><td>&quot;Noise - Commer…</td><td>&quot;Loud Music/Par…</td><td>&quot;Club/Bar/Resta…</td><td>&quot;10032&quot;</td><td>&quot;4060 BROADWAY&quot;</td><td>&quot;BROADWAY&quot;</td><td>&quot;WEST 171 STREE…</td><td>&quot;WEST 172 STREE…</td><td>null</td><td>null</td><td>&quot;ADDRESS&quot;</td><td>&quot;NEW YORK&quot;</td><td>null</td><td>&quot;Precinct&quot;</td><td>&quot;Closed&quot;</td><td>&quot;10/31/2013 10:…</td><td>&quot;10/31/2013 02:…</td><td>&quot;12 MANHATTAN&quot;</td><td>&quot;MANHATTAN&quot;</td><td>1001088</td><td>246531</td><td>&quot;Unspecified&quot;</td><td>&quot;MANHATTAN&quot;</td><td>&quot;Unspecified&quot;</td><td>&quot;Unspecified&quot;</td><td>&quot;Unspecified&quot;</td><td>&quot;Unspecified&quot;</td><td>&quot;Unspecified&quot;</td><td>&quot;Unspecified&quot;</td><td>&quot;Unspecified&quot;</td><td>&quot;Unspecified&quot;</td><td>&quot;Unspecified&quot;</td><td>&quot;N&quot;</td><td>null</td><td>null</td><td>null</td><td>null</td><td>null</td><td>null</td><td>null</td><td>null</td><td>null</td><td>null</td><td>null</td><td>40.84333</td><td>-73.939144</td><td>&quot;(40.8433297546…</td></tr><tr><td>26595721</td><td>&quot;10/31/2013 01:…</td><td>&quot;10/31/2013 02:…</td><td>&quot;NYPD&quot;</td><td>&quot;New York City …</td><td>&quot;Noise - Vehicl…</td><td>&quot;Car/Truck Horn…</td><td>&quot;Street/Sidewal…</td><td>&quot;10023&quot;</td><td>&quot;WEST 72 STREET…</td><td>&quot;WEST 72 STREET…</td><td>&quot;COLUMBUS AVENU…</td><td>&quot;AMSTERDAM AVEN…</td><td>null</td><td>null</td><td>&quot;BLOCKFACE&quot;</td><td>&quot;NEW YORK&quot;</td><td>null</td><td>&quot;Precinct&quot;</td><td>&quot;Closed&quot;</td><td>&quot;10/31/2013 09:…</td><td>&quot;10/31/2013 02:…</td><td>&quot;07 MANHATTAN&quot;</td><td>&quot;MANHATTAN&quot;</td><td>989730</td><td>222727</td><td>&quot;Unspecified&quot;</td><td>&quot;MANHATTAN&quot;</td><td>&quot;Unspecified&quot;</td><td>&quot;Unspecified&quot;</td><td>&quot;Unspecified&quot;</td><td>&quot;Unspecified&quot;</td><td>&quot;Unspecified&quot;</td><td>&quot;Unspecified&quot;</td><td>&quot;Unspecified&quot;</td><td>&quot;Unspecified&quot;</td><td>&quot;Unspecified&quot;</td><td>&quot;N&quot;</td><td>null</td><td>null</td><td>null</td><td>null</td><td>null</td><td>null</td><td>null</td><td>null</td><td>null</td><td>null</td><td>null</td><td>40.778009</td><td>-73.980213</td><td>&quot;(40.7780087446…</td></tr><tr><td>26590930</td><td>&quot;10/31/2013 01:…</td><td>null</td><td>&quot;DOHMH&quot;</td><td>&quot;Department of …</td><td>&quot;Rodent&quot;</td><td>&quot;Condition Attr…</td><td>&quot;Vacant Lot&quot;</td><td>&quot;10027&quot;</td><td>&quot;WEST 124 STREE…</td><td>&quot;WEST 124 STREE…</td><td>&quot;LENOX AVENUE&quot;</td><td>&quot;ADAM CLAYTON P…</td><td>null</td><td>null</td><td>&quot;BLOCKFACE&quot;</td><td>&quot;NEW YORK&quot;</td><td>null</td><td>&quot;N/A&quot;</td><td>&quot;Pending&quot;</td><td>&quot;11/30/2013 01:…</td><td>&quot;10/31/2013 01:…</td><td>&quot;10 MANHATTAN&quot;</td><td>&quot;MANHATTAN&quot;</td><td>998815</td><td>233545</td><td>&quot;Unspecified&quot;</td><td>&quot;MANHATTAN&quot;</td><td>&quot;Unspecified&quot;</td><td>&quot;Unspecified&quot;</td><td>&quot;Unspecified&quot;</td><td>&quot;Unspecified&quot;</td><td>&quot;Unspecified&quot;</td><td>&quot;Unspecified&quot;</td><td>&quot;Unspecified&quot;</td><td>&quot;Unspecified&quot;</td><td>&quot;Unspecified&quot;</td><td>&quot;N&quot;</td><td>null</td><td>null</td><td>null</td><td>null</td><td>null</td><td>null</td><td>null</td><td>null</td><td>null</td><td>null</td><td>null</td><td>40.807691</td><td>-73.947387</td><td>&quot;(40.8076909270…</td></tr></tbody></table></div>"
      ],
      "text/plain": [
       "shape: (5, 52)\n",
       "┌──────────┬────────────┬───────────┬────────┬───┬────────────┬───────────┬────────────┬───────────┐\n",
       "│ Unique   ┆ Created    ┆ Closed    ┆ Agency ┆ … ┆ Ferry      ┆ Latitude  ┆ Longitude  ┆ Location  │\n",
       "│ Key      ┆ Date       ┆ Date      ┆ ---    ┆   ┆ Terminal   ┆ ---       ┆ ---        ┆ ---       │\n",
       "│ ---      ┆ ---        ┆ ---       ┆ str    ┆   ┆ Name       ┆ f64       ┆ f64        ┆ str       │\n",
       "│ i64      ┆ str        ┆ str       ┆        ┆   ┆ ---        ┆           ┆            ┆           │\n",
       "│          ┆            ┆           ┆        ┆   ┆ str        ┆           ┆            ┆           │\n",
       "╞══════════╪════════════╪═══════════╪════════╪═══╪════════════╪═══════════╪════════════╪═══════════╡\n",
       "│ 26589651 ┆ 10/31/2013 ┆ null      ┆ NYPD   ┆ … ┆ null       ┆ 40.708275 ┆ -73.791604 ┆ (40.70827 │\n",
       "│          ┆ 02:08:41   ┆           ┆        ┆   ┆            ┆           ┆            ┆ 532593202 │\n",
       "│          ┆ AM         ┆           ┆        ┆   ┆            ┆           ┆            ┆ , -73.791 │\n",
       "│          ┆            ┆           ┆        ┆   ┆            ┆           ┆            ┆ 60395…    │\n",
       "│ 26593698 ┆ 10/31/2013 ┆ null      ┆ NYPD   ┆ … ┆ null       ┆ 40.721041 ┆ -73.909453 ┆ (40.72104 │\n",
       "│          ┆ 02:01:04   ┆           ┆        ┆   ┆            ┆           ┆            ┆ 053562830 │\n",
       "│          ┆ AM         ┆           ┆        ┆   ┆            ┆           ┆            ┆ 5, -73.90 │\n",
       "│          ┆            ┆           ┆        ┆   ┆            ┆           ┆            ┆ 94530…    │\n",
       "│ 26594139 ┆ 10/31/2013 ┆ 10/31/201 ┆ NYPD   ┆ … ┆ null       ┆ 40.84333  ┆ -73.939144 ┆ (40.84332 │\n",
       "│          ┆ 02:00:24   ┆ 3         ┆        ┆   ┆            ┆           ┆            ┆ 975466513 │\n",
       "│          ┆ AM         ┆ 02:40:32  ┆        ┆   ┆            ┆           ┆            ┆ , -73.939 │\n",
       "│          ┆            ┆ AM        ┆        ┆   ┆            ┆           ┆            ┆ 14371…    │\n",
       "│ 26595721 ┆ 10/31/2013 ┆ 10/31/201 ┆ NYPD   ┆ … ┆ null       ┆ 40.778009 ┆ -73.980213 ┆ (40.77800 │\n",
       "│          ┆ 01:56:23   ┆ 3         ┆        ┆   ┆            ┆           ┆            ┆ 87446372, │\n",
       "│          ┆ AM         ┆ 02:21:48  ┆        ┆   ┆            ┆           ┆            ┆ -73.98021 │\n",
       "│          ┆            ┆ AM        ┆        ┆   ┆            ┆           ┆            ┆ 3490…     │\n",
       "│ 26590930 ┆ 10/31/2013 ┆ null      ┆ DOHMH  ┆ … ┆ null       ┆ 40.807691 ┆ -73.947387 ┆ (40.80769 │\n",
       "│          ┆ 01:53:44   ┆           ┆        ┆   ┆            ┆           ┆            ┆ 092704951 │\n",
       "│          ┆ AM         ┆           ┆        ┆   ┆            ┆           ┆            ┆ , -73.947 │\n",
       "│          ┆            ┆           ┆        ┆   ┆            ┆           ┆            ┆ 38703…    │\n",
       "└──────────┴────────────┴───────────┴────────┴───┴────────────┴───────────┴────────────┴───────────┘"
      ]
     },
     "execution_count": 3,
     "metadata": {},
     "output_type": "execute_result"
    }
   ],
   "source": [
    "complaints.head()"
   ]
  },
  {
   "attachments": {},
   "cell_type": "markdown",
   "metadata": {},
   "source": [
    "To get the noise complaints, we need to find the rows where the \"Complaint Type\" column is \"Noise - Street/Sidewalk\". I'll show you how to do that, and then explain what's going on."
   ]
  },
  {
   "cell_type": "code",
   "execution_count": 4,
   "metadata": {},
   "outputs": [
    {
     "data": {
      "text/html": [
       "<div><style>\n",
       ".dataframe > thead > tr > th,\n",
       ".dataframe > tbody > tr > td {\n",
       "  text-align: right;\n",
       "}\n",
       "</style>\n",
       "<small>shape: (3, 52)</small><table border=\"1\" class=\"dataframe\"><thead><tr><th>Unique Key</th><th>Created Date</th><th>Closed Date</th><th>Agency</th><th>Agency Name</th><th>Complaint Type</th><th>Descriptor</th><th>Location Type</th><th>Incident Zip</th><th>Incident Address</th><th>Street Name</th><th>Cross Street 1</th><th>Cross Street 2</th><th>Intersection Street 1</th><th>Intersection Street 2</th><th>Address Type</th><th>City</th><th>Landmark</th><th>Facility Type</th><th>Status</th><th>Due Date</th><th>Resolution Action Updated Date</th><th>Community Board</th><th>Borough</th><th>X Coordinate (State Plane)</th><th>Y Coordinate (State Plane)</th><th>Park Facility Name</th><th>Park Borough</th><th>School Name</th><th>School Number</th><th>School Region</th><th>School Code</th><th>School Phone Number</th><th>School Address</th><th>School City</th><th>School State</th><th>School Zip</th><th>School Not Found</th><th>School or Citywide Complaint</th><th>Vehicle Type</th><th>Taxi Company Borough</th><th>Taxi Pick Up Location</th><th>Bridge Highway Name</th><th>Bridge Highway Direction</th><th>Road Ramp</th><th>Bridge Highway Segment</th><th>Garage Lot Name</th><th>Ferry Direction</th><th>Ferry Terminal Name</th><th>Latitude</th><th>Longitude</th><th>Location</th></tr><tr><td>i64</td><td>str</td><td>str</td><td>str</td><td>str</td><td>str</td><td>str</td><td>str</td><td>str</td><td>str</td><td>str</td><td>str</td><td>str</td><td>str</td><td>str</td><td>str</td><td>str</td><td>str</td><td>str</td><td>str</td><td>str</td><td>str</td><td>str</td><td>str</td><td>i64</td><td>i64</td><td>str</td><td>str</td><td>str</td><td>str</td><td>str</td><td>str</td><td>str</td><td>str</td><td>str</td><td>str</td><td>str</td><td>str</td><td>str</td><td>str</td><td>str</td><td>str</td><td>str</td><td>str</td><td>str</td><td>str</td><td>str</td><td>str</td><td>str</td><td>f64</td><td>f64</td><td>str</td></tr></thead><tbody><tr><td>26589651</td><td>&quot;10/31/2013 02:…</td><td>null</td><td>&quot;NYPD&quot;</td><td>&quot;New York City …</td><td>&quot;Noise - Street…</td><td>&quot;Loud Talking&quot;</td><td>&quot;Street/Sidewal…</td><td>&quot;11432&quot;</td><td>&quot;90-03 169 STRE…</td><td>&quot;169 STREET&quot;</td><td>&quot;90 AVENUE&quot;</td><td>&quot;91 AVENUE&quot;</td><td>null</td><td>null</td><td>&quot;ADDRESS&quot;</td><td>&quot;JAMAICA&quot;</td><td>null</td><td>&quot;Precinct&quot;</td><td>&quot;Assigned&quot;</td><td>&quot;10/31/2013 10:…</td><td>&quot;10/31/2013 02:…</td><td>&quot;12 QUEENS&quot;</td><td>&quot;QUEENS&quot;</td><td>1042027</td><td>197389</td><td>&quot;Unspecified&quot;</td><td>&quot;QUEENS&quot;</td><td>&quot;Unspecified&quot;</td><td>&quot;Unspecified&quot;</td><td>&quot;Unspecified&quot;</td><td>&quot;Unspecified&quot;</td><td>&quot;Unspecified&quot;</td><td>&quot;Unspecified&quot;</td><td>&quot;Unspecified&quot;</td><td>&quot;Unspecified&quot;</td><td>&quot;Unspecified&quot;</td><td>&quot;N&quot;</td><td>null</td><td>null</td><td>null</td><td>null</td><td>null</td><td>null</td><td>null</td><td>null</td><td>null</td><td>null</td><td>null</td><td>40.708275</td><td>-73.791604</td><td>&quot;(40.7082753259…</td></tr><tr><td>26594086</td><td>&quot;10/31/2013 12:…</td><td>&quot;10/31/2013 02:…</td><td>&quot;NYPD&quot;</td><td>&quot;New York City …</td><td>&quot;Noise - Street…</td><td>&quot;Loud Music/Par…</td><td>&quot;Street/Sidewal…</td><td>&quot;10310&quot;</td><td>&quot;173 CAMPBELL A…</td><td>&quot;CAMPBELL AVENU…</td><td>&quot;HENDERSON AVEN…</td><td>&quot;WINEGAR LANE&quot;</td><td>null</td><td>null</td><td>&quot;ADDRESS&quot;</td><td>&quot;STATEN ISLAND&quot;</td><td>null</td><td>&quot;Precinct&quot;</td><td>&quot;Closed&quot;</td><td>&quot;10/31/2013 08:…</td><td>&quot;10/31/2013 02:…</td><td>&quot;01 STATEN ISLA…</td><td>&quot;STATEN ISLAND&quot;</td><td>952013</td><td>171076</td><td>&quot;Unspecified&quot;</td><td>&quot;STATEN ISLAND&quot;</td><td>&quot;Unspecified&quot;</td><td>&quot;Unspecified&quot;</td><td>&quot;Unspecified&quot;</td><td>&quot;Unspecified&quot;</td><td>&quot;Unspecified&quot;</td><td>&quot;Unspecified&quot;</td><td>&quot;Unspecified&quot;</td><td>&quot;Unspecified&quot;</td><td>&quot;Unspecified&quot;</td><td>&quot;N&quot;</td><td>null</td><td>null</td><td>null</td><td>null</td><td>null</td><td>null</td><td>null</td><td>null</td><td>null</td><td>null</td><td>null</td><td>40.636182</td><td>-74.11615</td><td>&quot;(40.6361820217…</td></tr><tr><td>26591573</td><td>&quot;10/31/2013 12:…</td><td>&quot;10/31/2013 02:…</td><td>&quot;NYPD&quot;</td><td>&quot;New York City …</td><td>&quot;Noise - Street…</td><td>&quot;Loud Talking&quot;</td><td>&quot;Street/Sidewal…</td><td>&quot;10312&quot;</td><td>&quot;24 PRINCETON L…</td><td>&quot;PRINCETON LANE…</td><td>&quot;HAMPTON GREEN&quot;</td><td>&quot;DEAD END&quot;</td><td>null</td><td>null</td><td>&quot;ADDRESS&quot;</td><td>&quot;STATEN ISLAND&quot;</td><td>null</td><td>&quot;Precinct&quot;</td><td>&quot;Closed&quot;</td><td>&quot;10/31/2013 08:…</td><td>&quot;10/31/2013 01:…</td><td>&quot;03 STATEN ISLA…</td><td>&quot;STATEN ISLAND&quot;</td><td>929577</td><td>140964</td><td>&quot;Unspecified&quot;</td><td>&quot;STATEN ISLAND&quot;</td><td>&quot;Unspecified&quot;</td><td>&quot;Unspecified&quot;</td><td>&quot;Unspecified&quot;</td><td>&quot;Unspecified&quot;</td><td>&quot;Unspecified&quot;</td><td>&quot;Unspecified&quot;</td><td>&quot;Unspecified&quot;</td><td>&quot;Unspecified&quot;</td><td>&quot;Unspecified&quot;</td><td>&quot;N&quot;</td><td>null</td><td>null</td><td>null</td><td>null</td><td>null</td><td>null</td><td>null</td><td>null</td><td>null</td><td>null</td><td>null</td><td>40.553421</td><td>-74.196743</td><td>&quot;(40.5534207871…</td></tr></tbody></table></div>"
      ],
      "text/plain": [
       "shape: (3, 52)\n",
       "┌──────────┬────────────┬───────────┬────────┬───┬────────────┬───────────┬────────────┬───────────┐\n",
       "│ Unique   ┆ Created    ┆ Closed    ┆ Agency ┆ … ┆ Ferry      ┆ Latitude  ┆ Longitude  ┆ Location  │\n",
       "│ Key      ┆ Date       ┆ Date      ┆ ---    ┆   ┆ Terminal   ┆ ---       ┆ ---        ┆ ---       │\n",
       "│ ---      ┆ ---        ┆ ---       ┆ str    ┆   ┆ Name       ┆ f64       ┆ f64        ┆ str       │\n",
       "│ i64      ┆ str        ┆ str       ┆        ┆   ┆ ---        ┆           ┆            ┆           │\n",
       "│          ┆            ┆           ┆        ┆   ┆ str        ┆           ┆            ┆           │\n",
       "╞══════════╪════════════╪═══════════╪════════╪═══╪════════════╪═══════════╪════════════╪═══════════╡\n",
       "│ 26589651 ┆ 10/31/2013 ┆ null      ┆ NYPD   ┆ … ┆ null       ┆ 40.708275 ┆ -73.791604 ┆ (40.70827 │\n",
       "│          ┆ 02:08:41   ┆           ┆        ┆   ┆            ┆           ┆            ┆ 532593202 │\n",
       "│          ┆ AM         ┆           ┆        ┆   ┆            ┆           ┆            ┆ , -73.791 │\n",
       "│          ┆            ┆           ┆        ┆   ┆            ┆           ┆            ┆ 60395…    │\n",
       "│ 26594086 ┆ 10/31/2013 ┆ 10/31/201 ┆ NYPD   ┆ … ┆ null       ┆ 40.636182 ┆ -74.11615  ┆ (40.63618 │\n",
       "│          ┆ 12:54:03   ┆ 3         ┆        ┆   ┆            ┆           ┆            ┆ 202176914 │\n",
       "│          ┆ AM         ┆ 02:16:39  ┆        ┆   ┆            ┆           ┆            ┆ , -74.116 │\n",
       "│          ┆            ┆ AM        ┆        ┆   ┆            ┆           ┆            ┆ 15004…    │\n",
       "│ 26591573 ┆ 10/31/2013 ┆ 10/31/201 ┆ NYPD   ┆ … ┆ null       ┆ 40.553421 ┆ -74.196743 ┆ (40.55342 │\n",
       "│          ┆ 12:35:18   ┆ 3         ┆        ┆   ┆            ┆           ┆            ┆ 078716953 │\n",
       "│          ┆ AM         ┆ 02:41:35  ┆        ┆   ┆            ┆           ┆            ┆ , -74.196 │\n",
       "│          ┆            ┆ AM        ┆        ┆   ┆            ┆           ┆            ┆ 74315…    │\n",
       "└──────────┴────────────┴───────────┴────────┴───┴────────────┴───────────┴────────────┴───────────┘"
      ]
     },
     "execution_count": 4,
     "metadata": {},
     "output_type": "execute_result"
    }
   ],
   "source": [
    "noise_complaints = complaints.filter(pl.col('Complaint Type') == \"Noise - Street/Sidewalk\")\n",
    "noise_complaints.head(3)"
   ]
  },
  {
   "attachments": {},
   "cell_type": "markdown",
   "metadata": {},
   "source": [
    "If you look at `noise_complaints`, you'll see that this worked, and it only contains complaints with the right complaint type. But how does this work? Let's deconstruct it into two pieces"
   ]
  },
  {
   "cell_type": "code",
   "execution_count": 5,
   "metadata": {},
   "outputs": [
    {
     "data": {
      "text/html": [
       "[(col(\"Complaint Type\")) == (Utf8(Noise - Street/Sidewalk))]"
      ],
      "text/plain": [
       "<polars.expr.expr.Expr at 0x122788590>"
      ]
     },
     "execution_count": 5,
     "metadata": {},
     "output_type": "execute_result"
    }
   ],
   "source": [
    "pl.col('Complaint Type') == \"Noise - Street/Sidewalk\""
   ]
  },
  {
   "attachments": {},
   "cell_type": "markdown",
   "metadata": {},
   "source": [
    "This is a polars expression, which represents a transformation of Series. In this case, this expression represents a mapping from 'Complaint Type' Series (a str) to a boolean Series based on the predecate. The \"filter\" function will take in any expression which evaluates to a boolean Series.\n",
    "\n",
    "You can also store and combine more than one expression with the `&` operator like this:"
   ]
  },
  {
   "cell_type": "code",
   "execution_count": 6,
   "metadata": {},
   "outputs": [
    {
     "data": {
      "text/html": [
       "<div><style>\n",
       ".dataframe > thead > tr > th,\n",
       ".dataframe > tbody > tr > td {\n",
       "  text-align: right;\n",
       "}\n",
       "</style>\n",
       "<small>shape: (5, 52)</small><table border=\"1\" class=\"dataframe\"><thead><tr><th>Unique Key</th><th>Created Date</th><th>Closed Date</th><th>Agency</th><th>Agency Name</th><th>Complaint Type</th><th>Descriptor</th><th>Location Type</th><th>Incident Zip</th><th>Incident Address</th><th>Street Name</th><th>Cross Street 1</th><th>Cross Street 2</th><th>Intersection Street 1</th><th>Intersection Street 2</th><th>Address Type</th><th>City</th><th>Landmark</th><th>Facility Type</th><th>Status</th><th>Due Date</th><th>Resolution Action Updated Date</th><th>Community Board</th><th>Borough</th><th>X Coordinate (State Plane)</th><th>Y Coordinate (State Plane)</th><th>Park Facility Name</th><th>Park Borough</th><th>School Name</th><th>School Number</th><th>School Region</th><th>School Code</th><th>School Phone Number</th><th>School Address</th><th>School City</th><th>School State</th><th>School Zip</th><th>School Not Found</th><th>School or Citywide Complaint</th><th>Vehicle Type</th><th>Taxi Company Borough</th><th>Taxi Pick Up Location</th><th>Bridge Highway Name</th><th>Bridge Highway Direction</th><th>Road Ramp</th><th>Bridge Highway Segment</th><th>Garage Lot Name</th><th>Ferry Direction</th><th>Ferry Terminal Name</th><th>Latitude</th><th>Longitude</th><th>Location</th></tr><tr><td>i64</td><td>str</td><td>str</td><td>str</td><td>str</td><td>str</td><td>str</td><td>str</td><td>str</td><td>str</td><td>str</td><td>str</td><td>str</td><td>str</td><td>str</td><td>str</td><td>str</td><td>str</td><td>str</td><td>str</td><td>str</td><td>str</td><td>str</td><td>str</td><td>i64</td><td>i64</td><td>str</td><td>str</td><td>str</td><td>str</td><td>str</td><td>str</td><td>str</td><td>str</td><td>str</td><td>str</td><td>str</td><td>str</td><td>str</td><td>str</td><td>str</td><td>str</td><td>str</td><td>str</td><td>str</td><td>str</td><td>str</td><td>str</td><td>str</td><td>f64</td><td>f64</td><td>str</td></tr></thead><tbody><tr><td>26595564</td><td>&quot;10/31/2013 12:…</td><td>null</td><td>&quot;NYPD&quot;</td><td>&quot;New York City …</td><td>&quot;Noise - Street…</td><td>&quot;Loud Music/Par…</td><td>&quot;Street/Sidewal…</td><td>&quot;11236&quot;</td><td>&quot;AVENUE J&quot;</td><td>&quot;AVENUE J&quot;</td><td>&quot;EAST 80 STREET…</td><td>&quot;EAST 81 STREET…</td><td>null</td><td>null</td><td>&quot;BLOCKFACE&quot;</td><td>&quot;BROOKLYN&quot;</td><td>null</td><td>&quot;Precinct&quot;</td><td>&quot;Open&quot;</td><td>&quot;10/31/2013 08:…</td><td>null</td><td>&quot;18 BROOKLYN&quot;</td><td>&quot;BROOKLYN&quot;</td><td>1008937</td><td>170310</td><td>&quot;Unspecified&quot;</td><td>&quot;BROOKLYN&quot;</td><td>&quot;Unspecified&quot;</td><td>&quot;Unspecified&quot;</td><td>&quot;Unspecified&quot;</td><td>&quot;Unspecified&quot;</td><td>&quot;Unspecified&quot;</td><td>&quot;Unspecified&quot;</td><td>&quot;Unspecified&quot;</td><td>&quot;Unspecified&quot;</td><td>&quot;Unspecified&quot;</td><td>&quot;N&quot;</td><td>null</td><td>null</td><td>null</td><td>null</td><td>null</td><td>null</td><td>null</td><td>null</td><td>null</td><td>null</td><td>null</td><td>40.634104</td><td>-73.911055</td><td>&quot;(40.6341037759…</td></tr><tr><td>26595553</td><td>&quot;10/31/2013 12:…</td><td>&quot;10/31/2013 02:…</td><td>&quot;NYPD&quot;</td><td>&quot;New York City …</td><td>&quot;Noise - Street…</td><td>&quot;Loud Talking&quot;</td><td>&quot;Street/Sidewal…</td><td>&quot;11225&quot;</td><td>&quot;25 LEFFERTS AV…</td><td>&quot;LEFFERTS AVENU…</td><td>&quot;WASHINGTON AVE…</td><td>&quot;BEDFORD AVENUE…</td><td>null</td><td>null</td><td>&quot;ADDRESS&quot;</td><td>&quot;BROOKLYN&quot;</td><td>null</td><td>&quot;Precinct&quot;</td><td>&quot;Closed&quot;</td><td>&quot;10/31/2013 08:…</td><td>&quot;10/31/2013 01:…</td><td>&quot;09 BROOKLYN&quot;</td><td>&quot;BROOKLYN&quot;</td><td>995366</td><td>180388</td><td>&quot;Unspecified&quot;</td><td>&quot;BROOKLYN&quot;</td><td>&quot;Unspecified&quot;</td><td>&quot;Unspecified&quot;</td><td>&quot;Unspecified&quot;</td><td>&quot;Unspecified&quot;</td><td>&quot;Unspecified&quot;</td><td>&quot;Unspecified&quot;</td><td>&quot;Unspecified&quot;</td><td>&quot;Unspecified&quot;</td><td>&quot;Unspecified&quot;</td><td>&quot;N&quot;</td><td>null</td><td>null</td><td>null</td><td>null</td><td>null</td><td>null</td><td>null</td><td>null</td><td>null</td><td>null</td><td>null</td><td>40.661793</td><td>-73.959934</td><td>&quot;(40.6617931276…</td></tr><tr><td>26594653</td><td>&quot;10/30/2013 11:…</td><td>&quot;10/31/2013 12:…</td><td>&quot;NYPD&quot;</td><td>&quot;New York City …</td><td>&quot;Noise - Street…</td><td>&quot;Loud Music/Par…</td><td>&quot;Street/Sidewal…</td><td>&quot;11222&quot;</td><td>null</td><td>null</td><td>null</td><td>null</td><td>&quot;DOBBIN STREET&quot;</td><td>&quot;NORMAN STREET&quot;</td><td>&quot;INTERSECTION&quot;</td><td>&quot;BROOKLYN&quot;</td><td>null</td><td>&quot;Precinct&quot;</td><td>&quot;Closed&quot;</td><td>&quot;10/31/2013 07:…</td><td>&quot;10/31/2013 12:…</td><td>&quot;01 BROOKLYN&quot;</td><td>&quot;BROOKLYN&quot;</td><td>996925</td><td>203271</td><td>&quot;Unspecified&quot;</td><td>&quot;BROOKLYN&quot;</td><td>&quot;Unspecified&quot;</td><td>&quot;Unspecified&quot;</td><td>&quot;Unspecified&quot;</td><td>&quot;Unspecified&quot;</td><td>&quot;Unspecified&quot;</td><td>&quot;Unspecified&quot;</td><td>&quot;Unspecified&quot;</td><td>&quot;Unspecified&quot;</td><td>&quot;Unspecified&quot;</td><td>&quot;N&quot;</td><td>null</td><td>null</td><td>null</td><td>null</td><td>null</td><td>null</td><td>null</td><td>null</td><td>null</td><td>null</td><td>null</td><td>40.7246</td><td>-73.954271</td><td>&quot;(40.7245995637…</td></tr><tr><td>26591992</td><td>&quot;10/30/2013 10:…</td><td>&quot;10/30/2013 10:…</td><td>&quot;NYPD&quot;</td><td>&quot;New York City …</td><td>&quot;Noise - Street…</td><td>&quot;Loud Talking&quot;</td><td>&quot;Street/Sidewal…</td><td>&quot;11218&quot;</td><td>&quot;DITMAS AVENUE&quot;</td><td>&quot;DITMAS AVENUE&quot;</td><td>null</td><td>null</td><td>null</td><td>null</td><td>&quot;LATLONG&quot;</td><td>&quot;BROOKLYN&quot;</td><td>null</td><td>&quot;Precinct&quot;</td><td>&quot;Closed&quot;</td><td>&quot;10/31/2013 06:…</td><td>&quot;10/30/2013 10:…</td><td>&quot;01 BROOKLYN&quot;</td><td>&quot;BROOKLYN&quot;</td><td>991895</td><td>171051</td><td>&quot;Unspecified&quot;</td><td>&quot;BROOKLYN&quot;</td><td>&quot;Unspecified&quot;</td><td>&quot;Unspecified&quot;</td><td>&quot;Unspecified&quot;</td><td>&quot;Unspecified&quot;</td><td>&quot;Unspecified&quot;</td><td>&quot;Unspecified&quot;</td><td>&quot;Unspecified&quot;</td><td>&quot;Unspecified&quot;</td><td>&quot;Unspecified&quot;</td><td>&quot;N&quot;</td><td>null</td><td>null</td><td>null</td><td>null</td><td>null</td><td>null</td><td>null</td><td>null</td><td>null</td><td>null</td><td>null</td><td>40.636169</td><td>-73.972455</td><td>&quot;(40.6361687656…</td></tr><tr><td>26594167</td><td>&quot;10/30/2013 08:…</td><td>&quot;10/30/2013 10:…</td><td>&quot;NYPD&quot;</td><td>&quot;New York City …</td><td>&quot;Noise - Street…</td><td>&quot;Loud Music/Par…</td><td>&quot;Street/Sidewal…</td><td>&quot;11218&quot;</td><td>&quot;126 BEVERLY RO…</td><td>&quot;BEVERLY ROAD&quot;</td><td>&quot;CHURCH AVENUE&quot;</td><td>&quot;EAST 2 STREET&quot;</td><td>null</td><td>null</td><td>&quot;ADDRESS&quot;</td><td>&quot;BROOKLYN&quot;</td><td>null</td><td>&quot;Precinct&quot;</td><td>&quot;Closed&quot;</td><td>&quot;10/31/2013 04:…</td><td>&quot;10/30/2013 10:…</td><td>&quot;12 BROOKLYN&quot;</td><td>&quot;BROOKLYN&quot;</td><td>990144</td><td>173511</td><td>&quot;Unspecified&quot;</td><td>&quot;BROOKLYN&quot;</td><td>&quot;Unspecified&quot;</td><td>&quot;Unspecified&quot;</td><td>&quot;Unspecified&quot;</td><td>&quot;Unspecified&quot;</td><td>&quot;Unspecified&quot;</td><td>&quot;Unspecified&quot;</td><td>&quot;Unspecified&quot;</td><td>&quot;Unspecified&quot;</td><td>&quot;Unspecified&quot;</td><td>&quot;N&quot;</td><td>null</td><td>null</td><td>null</td><td>null</td><td>null</td><td>null</td><td>null</td><td>null</td><td>null</td><td>null</td><td>null</td><td>40.642922</td><td>-73.978762</td><td>&quot;(40.6429222774…</td></tr></tbody></table></div>"
      ],
      "text/plain": [
       "shape: (5, 52)\n",
       "┌──────────┬────────────┬───────────┬────────┬───┬────────────┬───────────┬────────────┬───────────┐\n",
       "│ Unique   ┆ Created    ┆ Closed    ┆ Agency ┆ … ┆ Ferry      ┆ Latitude  ┆ Longitude  ┆ Location  │\n",
       "│ Key      ┆ Date       ┆ Date      ┆ ---    ┆   ┆ Terminal   ┆ ---       ┆ ---        ┆ ---       │\n",
       "│ ---      ┆ ---        ┆ ---       ┆ str    ┆   ┆ Name       ┆ f64       ┆ f64        ┆ str       │\n",
       "│ i64      ┆ str        ┆ str       ┆        ┆   ┆ ---        ┆           ┆            ┆           │\n",
       "│          ┆            ┆           ┆        ┆   ┆ str        ┆           ┆            ┆           │\n",
       "╞══════════╪════════════╪═══════════╪════════╪═══╪════════════╪═══════════╪════════════╪═══════════╡\n",
       "│ 26595564 ┆ 10/31/2013 ┆ null      ┆ NYPD   ┆ … ┆ null       ┆ 40.634104 ┆ -73.911055 ┆ (40.63410 │\n",
       "│          ┆ 12:30:36   ┆           ┆        ┆   ┆            ┆           ┆            ┆ 377595173 │\n",
       "│          ┆ AM         ┆           ┆        ┆   ┆            ┆           ┆            ┆ 6, -73.91 │\n",
       "│          ┆            ┆           ┆        ┆   ┆            ┆           ┆            ┆ 10554…    │\n",
       "│ 26595553 ┆ 10/31/2013 ┆ 10/31/201 ┆ NYPD   ┆ … ┆ null       ┆ 40.661793 ┆ -73.959934 ┆ (40.66179 │\n",
       "│          ┆ 12:05:10   ┆ 3         ┆        ┆   ┆            ┆           ┆            ┆ 31276793, │\n",
       "│          ┆ AM         ┆ 02:43:43  ┆        ┆   ┆            ┆           ┆            ┆ -73.95993 │\n",
       "│          ┆            ┆ AM        ┆        ┆   ┆            ┆           ┆            ┆ 3639…     │\n",
       "│ 26594653 ┆ 10/30/2013 ┆ 10/31/201 ┆ NYPD   ┆ … ┆ null       ┆ 40.7246   ┆ -73.954271 ┆ (40.72459 │\n",
       "│          ┆ 11:26:32   ┆ 3         ┆        ┆   ┆            ┆           ┆            ┆ 956379352 │\n",
       "│          ┆ PM         ┆ 12:18:54  ┆        ┆   ┆            ┆           ┆            ┆ 5, -73.95 │\n",
       "│          ┆            ┆ AM        ┆        ┆   ┆            ┆           ┆            ┆ 42713…    │\n",
       "│ 26591992 ┆ 10/30/2013 ┆ 10/30/201 ┆ NYPD   ┆ … ┆ null       ┆ 40.636169 ┆ -73.972455 ┆ (40.63616 │\n",
       "│          ┆ 10:02:58   ┆ 3         ┆        ┆   ┆            ┆           ┆            ┆ 876563881 │\n",
       "│          ┆ PM         ┆ 10:23:20  ┆        ┆   ┆            ┆           ┆            ┆ , -73.972 │\n",
       "│          ┆            ┆ PM        ┆        ┆   ┆            ┆           ┆            ┆ 45504…    │\n",
       "│ 26594167 ┆ 10/30/2013 ┆ 10/30/201 ┆ NYPD   ┆ … ┆ null       ┆ 40.642922 ┆ -73.978762 ┆ (40.64292 │\n",
       "│          ┆ 08:38:25   ┆ 3         ┆        ┆   ┆            ┆           ┆            ┆ 22774404, │\n",
       "│          ┆ PM         ┆ 10:26:28  ┆        ┆   ┆            ┆           ┆            ┆ -73.97876 │\n",
       "│          ┆            ┆ PM        ┆        ┆   ┆            ┆           ┆            ┆ 1754…     │\n",
       "└──────────┴────────────┴───────────┴────────┴───┴────────────┴───────────┴────────────┴───────────┘"
      ]
     },
     "execution_count": 6,
     "metadata": {},
     "output_type": "execute_result"
    }
   ],
   "source": [
    "is_noise = pl.col('Complaint Type') == \"Noise - Street/Sidewalk\"\n",
    "in_brooklyn = pl.col('Borough') == \"BROOKLYN\"\n",
    "complaints.filter(is_noise & in_brooklyn).head()"
   ]
  },
  {
   "attachments": {},
   "cell_type": "markdown",
   "metadata": {},
   "source": [
    "Or if we just wanted a few columns:"
   ]
  },
  {
   "cell_type": "code",
   "execution_count": 7,
   "metadata": {},
   "outputs": [
    {
     "data": {
      "text/html": [
       "<div><style>\n",
       ".dataframe > thead > tr > th,\n",
       ".dataframe > tbody > tr > td {\n",
       "  text-align: right;\n",
       "}\n",
       "</style>\n",
       "<small>shape: (10, 4)</small><table border=\"1\" class=\"dataframe\"><thead><tr><th>Complaint Type</th><th>Borough</th><th>Created Date</th><th>Descriptor</th></tr><tr><td>str</td><td>str</td><td>str</td><td>str</td></tr></thead><tbody><tr><td>&quot;Noise - Street…</td><td>&quot;BROOKLYN&quot;</td><td>&quot;10/31/2013 12:…</td><td>&quot;Loud Music/Par…</td></tr><tr><td>&quot;Noise - Street…</td><td>&quot;BROOKLYN&quot;</td><td>&quot;10/31/2013 12:…</td><td>&quot;Loud Talking&quot;</td></tr><tr><td>&quot;Noise - Street…</td><td>&quot;BROOKLYN&quot;</td><td>&quot;10/30/2013 11:…</td><td>&quot;Loud Music/Par…</td></tr><tr><td>&quot;Noise - Street…</td><td>&quot;BROOKLYN&quot;</td><td>&quot;10/30/2013 10:…</td><td>&quot;Loud Talking&quot;</td></tr><tr><td>&quot;Noise - Street…</td><td>&quot;BROOKLYN&quot;</td><td>&quot;10/30/2013 08:…</td><td>&quot;Loud Music/Par…</td></tr><tr><td>&quot;Noise - Street…</td><td>&quot;BROOKLYN&quot;</td><td>&quot;10/30/2013 08:…</td><td>&quot;Loud Talking&quot;</td></tr><tr><td>&quot;Noise - Street…</td><td>&quot;BROOKLYN&quot;</td><td>&quot;10/30/2013 06:…</td><td>&quot;Loud Music/Par…</td></tr><tr><td>&quot;Noise - Street…</td><td>&quot;BROOKLYN&quot;</td><td>&quot;10/30/2013 03:…</td><td>&quot;Loud Talking&quot;</td></tr><tr><td>&quot;Noise - Street…</td><td>&quot;BROOKLYN&quot;</td><td>&quot;10/29/2013 10:…</td><td>&quot;Loud Talking&quot;</td></tr><tr><td>&quot;Noise - Street…</td><td>&quot;BROOKLYN&quot;</td><td>&quot;10/29/2013 08:…</td><td>&quot;Loud Music/Par…</td></tr></tbody></table></div>"
      ],
      "text/plain": [
       "shape: (10, 4)\n",
       "┌─────────────────────────┬──────────┬────────────────────────┬──────────────────┐\n",
       "│ Complaint Type          ┆ Borough  ┆ Created Date           ┆ Descriptor       │\n",
       "│ ---                     ┆ ---      ┆ ---                    ┆ ---              │\n",
       "│ str                     ┆ str      ┆ str                    ┆ str              │\n",
       "╞═════════════════════════╪══════════╪════════════════════════╪══════════════════╡\n",
       "│ Noise - Street/Sidewalk ┆ BROOKLYN ┆ 10/31/2013 12:30:36 AM ┆ Loud Music/Party │\n",
       "│ Noise - Street/Sidewalk ┆ BROOKLYN ┆ 10/31/2013 12:05:10 AM ┆ Loud Talking     │\n",
       "│ Noise - Street/Sidewalk ┆ BROOKLYN ┆ 10/30/2013 11:26:32 PM ┆ Loud Music/Party │\n",
       "│ Noise - Street/Sidewalk ┆ BROOKLYN ┆ 10/30/2013 10:02:58 PM ┆ Loud Talking     │\n",
       "│ …                       ┆ …        ┆ …                      ┆ …                │\n",
       "│ Noise - Street/Sidewalk ┆ BROOKLYN ┆ 10/30/2013 06:07:39 PM ┆ Loud Music/Party │\n",
       "│ Noise - Street/Sidewalk ┆ BROOKLYN ┆ 10/30/2013 03:04:51 PM ┆ Loud Talking     │\n",
       "│ Noise - Street/Sidewalk ┆ BROOKLYN ┆ 10/29/2013 10:07:02 PM ┆ Loud Talking     │\n",
       "│ Noise - Street/Sidewalk ┆ BROOKLYN ┆ 10/29/2013 08:15:59 PM ┆ Loud Music/Party │\n",
       "└─────────────────────────┴──────────┴────────────────────────┴──────────────────┘"
      ]
     },
     "execution_count": 7,
     "metadata": {},
     "output_type": "execute_result"
    }
   ],
   "source": [
    "complaints.filter(is_noise & in_brooklyn)[['Complaint Type', 'Borough', 'Created Date', 'Descriptor']].head(10)"
   ]
  },
  {
   "attachments": {},
   "cell_type": "markdown",
   "metadata": {},
   "source": [
    "# 3.2 So, which borough has the most noise complaints?"
   ]
  },
  {
   "cell_type": "code",
   "execution_count": 8,
   "metadata": {},
   "outputs": [
    {
     "data": {
      "text/html": [
       "<div><style>\n",
       ".dataframe > thead > tr > th,\n",
       ".dataframe > tbody > tr > td {\n",
       "  text-align: right;\n",
       "}\n",
       "</style>\n",
       "<small>shape: (6, 2)</small><table border=\"1\" class=\"dataframe\"><thead><tr><th>Borough</th><th>counts</th></tr><tr><td>str</td><td>u32</td></tr></thead><tbody><tr><td>&quot;MANHATTAN&quot;</td><td>917</td></tr><tr><td>&quot;BROOKLYN&quot;</td><td>456</td></tr><tr><td>&quot;BRONX&quot;</td><td>292</td></tr><tr><td>&quot;QUEENS&quot;</td><td>226</td></tr><tr><td>&quot;STATEN ISLAND&quot;</td><td>36</td></tr><tr><td>&quot;Unspecified&quot;</td><td>1</td></tr></tbody></table></div>"
      ],
      "text/plain": [
       "shape: (6, 2)\n",
       "┌───────────────┬────────┐\n",
       "│ Borough       ┆ counts │\n",
       "│ ---           ┆ ---    │\n",
       "│ str           ┆ u32    │\n",
       "╞═══════════════╪════════╡\n",
       "│ MANHATTAN     ┆ 917    │\n",
       "│ BROOKLYN      ┆ 456    │\n",
       "│ BRONX         ┆ 292    │\n",
       "│ QUEENS        ┆ 226    │\n",
       "│ STATEN ISLAND ┆ 36     │\n",
       "│ Unspecified   ┆ 1      │\n",
       "└───────────────┴────────┘"
      ]
     },
     "execution_count": 8,
     "metadata": {},
     "output_type": "execute_result"
    }
   ],
   "source": [
    "noise_complaints = complaints.filter(pl.col('Complaint Type') == \"Noise - Street/Sidewalk\")\n",
    "noise_complaints['Borough'].value_counts(sort=True)"
   ]
  },
  {
   "attachments": {},
   "cell_type": "markdown",
   "metadata": {},
   "source": [
    "It's Manhattan! But Manhattan probably has a lot of complaints in total. Maybe it's better to get the percentage of all complaints that are noise complaints? That would be easy too with the `groupby` method:"
   ]
  },
  {
   "cell_type": "code",
   "execution_count": 9,
   "metadata": {},
   "outputs": [
    {
     "data": {
      "text/html": [
       "<div><style>\n",
       ".dataframe > thead > tr > th,\n",
       ".dataframe > tbody > tr > td {\n",
       "  text-align: right;\n",
       "}\n",
       "</style>\n",
       "<small>shape: (6, 2)</small><table border=\"1\" class=\"dataframe\"><thead><tr><th>Borough</th><th>noise_complaint_avg</th></tr><tr><td>str</td><td>f64</td></tr></thead><tbody><tr><td>&quot;MANHATTAN&quot;</td><td>0.037755</td></tr><tr><td>&quot;BRONX&quot;</td><td>0.014833</td></tr><tr><td>&quot;BROOKLYN&quot;</td><td>0.013864</td></tr><tr><td>&quot;QUEENS&quot;</td><td>0.010143</td></tr><tr><td>&quot;STATEN ISLAND&quot;</td><td>0.007474</td></tr><tr><td>&quot;Unspecified&quot;</td><td>0.000141</td></tr></tbody></table></div>"
      ],
      "text/plain": [
       "shape: (6, 2)\n",
       "┌───────────────┬─────────────────────┐\n",
       "│ Borough       ┆ noise_complaint_avg │\n",
       "│ ---           ┆ ---                 │\n",
       "│ str           ┆ f64                 │\n",
       "╞═══════════════╪═════════════════════╡\n",
       "│ MANHATTAN     ┆ 0.037755            │\n",
       "│ BRONX         ┆ 0.014833            │\n",
       "│ BROOKLYN      ┆ 0.013864            │\n",
       "│ QUEENS        ┆ 0.010143            │\n",
       "│ STATEN ISLAND ┆ 0.007474            │\n",
       "│ Unspecified   ┆ 0.000141            │\n",
       "└───────────────┴─────────────────────┘"
      ]
     },
     "execution_count": 9,
     "metadata": {},
     "output_type": "execute_result"
    }
   ],
   "source": [
    "complaint_avgs = complaints.groupby(\"Borough\").agg(\n",
    "        noise_complaint_avg=(pl.col('Complaint Type') == \"Noise - Street/Sidewalk\").mean()\n",
    "    ).sort('noise_complaint_avg', descending=True)\n",
    "complaint_avgs"
   ]
  },
  {
   "attachments": {},
   "cell_type": "markdown",
   "metadata": {},
   "source": [
    "It looks like noise complaints make up about 3.7% of all complaints in Manhattan. Which isn't a lot, but it's still leading amongst all boroughs."
   ]
  },
  {
   "cell_type": "code",
   "execution_count": 10,
   "metadata": {},
   "outputs": [
    {
     "data": {
      "image/png": "[encoded data removed]",
      "text/plain": [
       "<Figure size 1500x500 with 1 Axes>"
      ]
     },
     "metadata": {},
     "output_type": "display_data"
    }
   ],
   "source": [
    "sbn.barplot(complaint_avgs, x='Borough', y='noise_complaint_avg')"
   ]
  },
  {
   "attachments": {},
   "cell_type": "markdown",
   "metadata": {},
   "source": [
    "So Manhattan really does complain more about noise than the other boroughs! Neat."
   ]
  },
  {
   "attachments": {},
   "cell_type": "markdown",
   "metadata": {},
   "source": [
    "<style>\n",
    "    @font-face {\n",
    "        font-family: \"Computer Modern\";\n",
    "        src: url('http://mirrors.ctan.org/fonts/cm-unicode/fonts/otf/cmunss.otf');\n",
    "    }\n",
    "    div.cell{\n",
    "        width:800px;\n",
    "        margin-left:16% !important;\n",
    "        margin-right:auto;\n",
    "    }\n",
    "    h1 {\n",
    "        font-family: Helvetica, serif;\n",
    "    }\n",
    "    h4{\n",
    "        margin-top:12px;\n",
    "        margin-bottom: 3px;\n",
    "       }\n",
    "    div.text_cell_render{\n",
    "        font-family: Computer Modern, \"Helvetica Neue\", Arial, Helvetica, Geneva, sans-serif;\n",
    "        line-height: 145%;\n",
    "        font-size: 130%;\n",
    "        width:800px;\n",
    "        margin-left:auto;\n",
    "        margin-right:auto;\n",
    "    }\n",
    "    .CodeMirror{\n",
    "            font-family: \"Source Code Pro\", source-code-pro,Consolas, monospace;\n",
    "    }\n",
    "    .text_cell_render h5 {\n",
    "        font-weight: 300;\n",
    "        font-size: 22pt;\n",
    "        color: #4057A1;\n",
    "        font-style: italic;\n",
    "        margin-bottom: .5em;\n",
    "        margin-top: 0.5em;\n",
    "        display: block;\n",
    "    }\n",
    "    \n",
    "    .warning{\n",
    "        color: rgb( 240, 20, 20 )\n",
    "        }  "
   ]
  }
 ],
 "metadata": {
  "kernelspec": {
   "display_name": "Python 3 (ipykernel)",
   "language": "python",
   "name": "python3"
  },
  "language_info": {
   "codemirror_mode": {
    "name": "ipython",
    "version": 3
   },
   "file_extension": ".py",
   "mimetype": "text/x-python",
   "name": "python",
   "nbconvert_exporter": "python",
   "pygments_lexer": "ipython3",
   "version": "3.11.3"
  }
 },
 "nbformat": 4,
 "nbformat_minor": 1
}
