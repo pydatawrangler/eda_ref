{
 "cells": [
  {
   "cell_type": "code",
   "execution_count": 1,
   "metadata": {},
   "outputs": [],
   "source": [
    "import polars as pl"
   ]
  },
  {
   "attachments": {},
   "cell_type": "markdown",
   "metadata": {},
   "source": [
    "# 8.1 Parsing Unix timestamps"
   ]
  },
  {
   "attachments": {},
   "cell_type": "markdown",
   "metadata": {},
   "source": [
    "The columns in polars dataframes are statically typed, meaning there is no ambiguity regarding parsing data as integers or as dates. The file we're using here is a popularity-contest file I found on my system at `/var/log/popularity-contest`.\n",
    "\n",
    "Here's an [explanation of how this file works](http://popcon.ubuntu.com/README)."
   ]
  },
  {
   "cell_type": "code",
   "execution_count": 2,
   "metadata": {},
   "outputs": [],
   "source": [
    "# Read it, and remove the last row\n",
    "popcon = pl.read_csv('../data/popularity-contest',\n",
    "                     separator=' ',\n",
    "                     ignore_errors=True,\n",
    "                     new_columns=['atime', 'ctime', 'package-name', 'mru-program', 'tag'])[:-1]"
   ]
  },
  {
   "attachments": {},
   "cell_type": "markdown",
   "metadata": {},
   "source": [
    "The colums are the access time, created time, package name, recently used program, and a tag. In this case, polars has parsed the access time and created time as integers instead of datetimes."
   ]
  },
  {
   "cell_type": "code",
   "execution_count": 3,
   "metadata": {},
   "outputs": [
    {
     "data": {
      "text/html": [
       "<div><style>\n",
       ".dataframe > thead > tr > th,\n",
       ".dataframe > tbody > tr > td {\n",
       "  text-align: right;\n",
       "}\n",
       "</style>\n",
       "<small>shape: (5, 5)</small><table border=\"1\" class=\"dataframe\"><thead><tr><th>atime</th><th>ctime</th><th>package-name</th><th>mru-program</th><th>tag</th></tr><tr><td>i64</td><td>i64</td><td>str</td><td>str</td><td>str</td></tr></thead><tbody><tr><td>1387295797</td><td>1367633260</td><td>&quot;perl-base&quot;</td><td>&quot;/usr/bin/perl&quot;</td><td>null</td></tr><tr><td>1387295796</td><td>1354370480</td><td>&quot;login&quot;</td><td>&quot;/bin/su&quot;</td><td>null</td></tr><tr><td>1387295743</td><td>1354341275</td><td>&quot;libtalloc2&quot;</td><td>&quot;/usr/lib/x86_6…</td><td>null</td></tr><tr><td>1387295743</td><td>1387224204</td><td>&quot;libwbclient0&quot;</td><td>&quot;/usr/lib/x86_6…</td><td>&quot;&lt;RECENT-CTIME&gt;…</td></tr><tr><td>1387295742</td><td>1354341253</td><td>&quot;libselinux1&quot;</td><td>&quot;/lib/x86_64-li…</td><td>null</td></tr></tbody></table></div>"
      ],
      "text/plain": [
       "shape: (5, 5)\n",
       "┌────────────┬────────────┬──────────────┬───────────────────────────────────┬────────────────┐\n",
       "│ atime      ┆ ctime      ┆ package-name ┆ mru-program                       ┆ tag            │\n",
       "│ ---        ┆ ---        ┆ ---          ┆ ---                               ┆ ---            │\n",
       "│ i64        ┆ i64        ┆ str          ┆ str                               ┆ str            │\n",
       "╞════════════╪════════════╪══════════════╪═══════════════════════════════════╪════════════════╡\n",
       "│ 1387295797 ┆ 1367633260 ┆ perl-base    ┆ /usr/bin/perl                     ┆ null           │\n",
       "│ 1387295796 ┆ 1354370480 ┆ login        ┆ /bin/su                           ┆ null           │\n",
       "│ 1387295743 ┆ 1354341275 ┆ libtalloc2   ┆ /usr/lib/x86_64-linux-gnu/libtal… ┆ null           │\n",
       "│ 1387295743 ┆ 1387224204 ┆ libwbclient0 ┆ /usr/lib/x86_64-linux-gnu/libwbc… ┆ <RECENT-CTIME> │\n",
       "│ 1387295742 ┆ 1354341253 ┆ libselinux1  ┆ /lib/x86_64-linux-gnu/libselinux… ┆ null           │\n",
       "└────────────┴────────────┴──────────────┴───────────────────────────────────┴────────────────┘"
      ]
     },
     "execution_count": 3,
     "metadata": {},
     "output_type": "execute_result"
    }
   ],
   "source": [
    "popcon.head()"
   ]
  },
  {
   "attachments": {},
   "cell_type": "markdown",
   "metadata": {},
   "source": [
    "We can explicitly convert the integers to datetimes using the `from_epoch` function:"
   ]
  },
  {
   "cell_type": "code",
   "execution_count": 4,
   "metadata": {},
   "outputs": [],
   "source": [
    "popcon = popcon.with_columns(\n",
    "    pl.from_epoch('atime', time_unit='s'),\n",
    "    pl.from_epoch('ctime') #time_unit='s' is default\n",
    ")"
   ]
  },
  {
   "attachments": {},
   "cell_type": "markdown",
   "metadata": {},
   "source": [
    "If we look at the dtype now, it's `pl.Datetime`."
   ]
  },
  {
   "cell_type": "code",
   "execution_count": 5,
   "metadata": {},
   "outputs": [
    {
     "data": {
      "text/plain": [
       "Datetime(time_unit='us', time_zone=None)"
      ]
     },
     "execution_count": 5,
     "metadata": {},
     "output_type": "execute_result"
    }
   ],
   "source": [
    "popcon['atime'].dtype"
   ]
  },
  {
   "attachments": {},
   "cell_type": "markdown",
   "metadata": {},
   "source": [
    "So now we can look at our `atime` and `ctime` as dates!"
   ]
  },
  {
   "cell_type": "code",
   "execution_count": 6,
   "metadata": {},
   "outputs": [
    {
     "data": {
      "text/html": [
       "<div><style>\n",
       ".dataframe > thead > tr > th,\n",
       ".dataframe > tbody > tr > td {\n",
       "  text-align: right;\n",
       "}\n",
       "</style>\n",
       "<small>shape: (5, 5)</small><table border=\"1\" class=\"dataframe\"><thead><tr><th>atime</th><th>ctime</th><th>package-name</th><th>mru-program</th><th>tag</th></tr><tr><td>datetime[μs]</td><td>datetime[μs]</td><td>str</td><td>str</td><td>str</td></tr></thead><tbody><tr><td>2013-12-17 15:56:37</td><td>2013-05-04 02:07:40</td><td>&quot;perl-base&quot;</td><td>&quot;/usr/bin/perl&quot;</td><td>null</td></tr><tr><td>2013-12-17 15:56:36</td><td>2012-12-01 14:01:20</td><td>&quot;login&quot;</td><td>&quot;/bin/su&quot;</td><td>null</td></tr><tr><td>2013-12-17 15:55:43</td><td>2012-12-01 05:54:35</td><td>&quot;libtalloc2&quot;</td><td>&quot;/usr/lib/x86_6…</td><td>null</td></tr><tr><td>2013-12-17 15:55:43</td><td>2013-12-16 20:03:24</td><td>&quot;libwbclient0&quot;</td><td>&quot;/usr/lib/x86_6…</td><td>&quot;&lt;RECENT-CTIME&gt;…</td></tr><tr><td>2013-12-17 15:55:42</td><td>2012-12-01 05:54:13</td><td>&quot;libselinux1&quot;</td><td>&quot;/lib/x86_64-li…</td><td>null</td></tr></tbody></table></div>"
      ],
      "text/plain": [
       "shape: (5, 5)\n",
       "┌─────────────────────┬─────────────────────┬──────────────┬──────────────────────┬────────────────┐\n",
       "│ atime               ┆ ctime               ┆ package-name ┆ mru-program          ┆ tag            │\n",
       "│ ---                 ┆ ---                 ┆ ---          ┆ ---                  ┆ ---            │\n",
       "│ datetime[μs]        ┆ datetime[μs]        ┆ str          ┆ str                  ┆ str            │\n",
       "╞═════════════════════╪═════════════════════╪══════════════╪══════════════════════╪════════════════╡\n",
       "│ 2013-12-17 15:56:37 ┆ 2013-05-04 02:07:40 ┆ perl-base    ┆ /usr/bin/perl        ┆ null           │\n",
       "│ 2013-12-17 15:56:36 ┆ 2012-12-01 14:01:20 ┆ login        ┆ /bin/su              ┆ null           │\n",
       "│ 2013-12-17 15:55:43 ┆ 2012-12-01 05:54:35 ┆ libtalloc2   ┆ /usr/lib/x86_64-linu ┆ null           │\n",
       "│                     ┆                     ┆              ┆ x-gnu/libtal…        ┆                │\n",
       "│ 2013-12-17 15:55:43 ┆ 2013-12-16 20:03:24 ┆ libwbclient0 ┆ /usr/lib/x86_64-linu ┆ <RECENT-CTIME> │\n",
       "│                     ┆                     ┆              ┆ x-gnu/libwbc…        ┆                │\n",
       "│ 2013-12-17 15:55:42 ┆ 2012-12-01 05:54:13 ┆ libselinux1  ┆ /lib/x86_64-linux-gn ┆ null           │\n",
       "│                     ┆                     ┆              ┆ u/libselinux…        ┆                │\n",
       "└─────────────────────┴─────────────────────┴──────────────┴──────────────────────┴────────────────┘"
      ]
     },
     "execution_count": 6,
     "metadata": {},
     "output_type": "execute_result"
    }
   ],
   "source": [
    "popcon.head()"
   ]
  },
  {
   "attachments": {},
   "cell_type": "markdown",
   "metadata": {},
   "source": [
    "Now suppose we want to look at all packages that aren't libraries. First, I want to get rid of everything with timestamp 0."
   ]
  },
  {
   "cell_type": "code",
   "execution_count": 7,
   "metadata": {},
   "outputs": [
    {
     "name": "stdout",
     "output_type": "stream",
     "text": [
      "before filter\n"
     ]
    },
    {
     "data": {
      "text/html": [
       "<div><style>\n",
       ".dataframe > thead > tr > th,\n",
       ".dataframe > tbody > tr > td {\n",
       "  text-align: right;\n",
       "}\n",
       "</style>\n",
       "<small>shape: (1, 5)</small><table border=\"1\" class=\"dataframe\"><thead><tr><th>atime</th><th>ctime</th><th>package-name</th><th>mru-program</th><th>tag</th></tr><tr><td>datetime[μs]</td><td>datetime[μs]</td><td>str</td><td>str</td><td>str</td></tr></thead><tbody><tr><td>1970-01-01 00:00:00</td><td>1970-01-01 00:00:00</td><td>&quot;libcommons-log…</td><td>&quot;&lt;NOFILES&gt;&quot;</td><td>null</td></tr></tbody></table></div>"
      ],
      "text/plain": [
       "shape: (1, 5)\n",
       "┌─────────────────────┬─────────────────────┬─────────────────────────┬─────────────┬──────┐\n",
       "│ atime               ┆ ctime               ┆ package-name            ┆ mru-program ┆ tag  │\n",
       "│ ---                 ┆ ---                 ┆ ---                     ┆ ---         ┆ ---  │\n",
       "│ datetime[μs]        ┆ datetime[μs]        ┆ str                     ┆ str         ┆ str  │\n",
       "╞═════════════════════╪═════════════════════╪═════════════════════════╪═════════════╪══════╡\n",
       "│ 1970-01-01 00:00:00 ┆ 1970-01-01 00:00:00 ┆ libcommons-logging-java ┆ <NOFILES>   ┆ null │\n",
       "└─────────────────────┴─────────────────────┴─────────────────────────┴─────────────┴──────┘"
      ]
     },
     "metadata": {},
     "output_type": "display_data"
    },
    {
     "name": "stdout",
     "output_type": "stream",
     "text": [
      "after filter\n"
     ]
    },
    {
     "data": {
      "text/html": [
       "<div><style>\n",
       ".dataframe > thead > tr > th,\n",
       ".dataframe > tbody > tr > td {\n",
       "  text-align: right;\n",
       "}\n",
       "</style>\n",
       "<small>shape: (1, 5)</small><table border=\"1\" class=\"dataframe\"><thead><tr><th>atime</th><th>ctime</th><th>package-name</th><th>mru-program</th><th>tag</th></tr><tr><td>datetime[μs]</td><td>datetime[μs]</td><td>str</td><td>str</td><td>str</td></tr></thead><tbody><tr><td>2008-11-20 14:38:20</td><td>2012-12-01 05:54:57</td><td>&quot;libfile-copy-r…</td><td>&quot;/usr/share/per…</td><td>&quot;&lt;OLD&gt;&quot;</td></tr></tbody></table></div>"
      ],
      "text/plain": [
       "shape: (1, 5)\n",
       "┌─────────────────────┬─────────────────────┬───────────────────────┬──────────────────────┬───────┐\n",
       "│ atime               ┆ ctime               ┆ package-name          ┆ mru-program          ┆ tag   │\n",
       "│ ---                 ┆ ---                 ┆ ---                   ┆ ---                  ┆ ---   │\n",
       "│ datetime[μs]        ┆ datetime[μs]        ┆ str                   ┆ str                  ┆ str   │\n",
       "╞═════════════════════╪═════════════════════╪═══════════════════════╪══════════════════════╪═══════╡\n",
       "│ 2008-11-20 14:38:20 ┆ 2012-12-01 05:54:57 ┆ libfile-copy-recursiv ┆ /usr/share/perl5/Fil ┆ <OLD> │\n",
       "│                     ┆                     ┆ e-perl                ┆ e/Copy/Recur…        ┆       │\n",
       "└─────────────────────┴─────────────────────┴───────────────────────┴──────────────────────┴───────┘"
      ]
     },
     "metadata": {},
     "output_type": "display_data"
    }
   ],
   "source": [
    "print(\"before filter\")\n",
    "display(popcon.bottom_k(1, by='atime'))\n",
    "popcon = popcon.filter(\n",
    "    pl.col('atime') > pl.datetime(1970, 1, 1)\n",
    ")\n",
    "print(\"after filter\")\n",
    "display(popcon.bottom_k(1, by='atime'))"
   ]
  },
  {
   "attachments": {},
   "cell_type": "markdown",
   "metadata": {},
   "source": [
    "Now we can use polars' `filter` and `str` look at rows where the package name doesn't contain 'lib'."
   ]
  },
  {
   "cell_type": "code",
   "execution_count": 8,
   "metadata": {},
   "outputs": [
    {
     "data": {
      "text/html": [
       "<div><style>\n",
       ".dataframe > thead > tr > th,\n",
       ".dataframe > tbody > tr > td {\n",
       "  text-align: right;\n",
       "}\n",
       "</style>\n",
       "<small>shape: (10, 5)</small><table border=\"1\" class=\"dataframe\"><thead><tr><th>atime</th><th>ctime</th><th>package-name</th><th>mru-program</th><th>tag</th></tr><tr><td>datetime[μs]</td><td>datetime[μs]</td><td>str</td><td>str</td><td>str</td></tr></thead><tbody><tr><td>2013-12-17 04:55:39</td><td>2013-12-17 04:55:42</td><td>&quot;ddd&quot;</td><td>&quot;/usr/bin/ddd&quot;</td><td>&quot;&lt;RECENT-CTIME&gt;…</td></tr><tr><td>2013-12-16 20:03:20</td><td>2013-12-16 20:05:13</td><td>&quot;nodejs&quot;</td><td>&quot;/usr/bin/npm&quot;</td><td>&quot;&lt;RECENT-CTIME&gt;…</td></tr><tr><td>2013-12-16 20:03:20</td><td>2013-12-16 20:05:04</td><td>&quot;thunderbird-lo…</td><td>&quot;/usr/lib/thund…</td><td>&quot;&lt;RECENT-CTIME&gt;…</td></tr><tr><td>2013-12-16 20:03:20</td><td>2013-12-16 20:05:04</td><td>&quot;switchboard-pl…</td><td>&quot;/usr/lib/plugs…</td><td>&quot;&lt;RECENT-CTIME&gt;…</td></tr><tr><td>2013-12-16 20:08:27</td><td>2013-12-16 20:05:03</td><td>&quot;software-cente…</td><td>&quot;/usr/sbin/upda…</td><td>&quot;&lt;RECENT-CTIME&gt;…</td></tr><tr><td>2013-12-16 20:03:20</td><td>2013-12-16 20:05:00</td><td>&quot;samba-common-b…</td><td>&quot;/usr/bin/net.s…</td><td>&quot;&lt;RECENT-CTIME&gt;…</td></tr><tr><td>2013-12-16 20:08:25</td><td>2013-12-16 20:04:59</td><td>&quot;postgresql-cli…</td><td>&quot;/usr/lib/postg…</td><td>&quot;&lt;RECENT-CTIME&gt;…</td></tr><tr><td>2013-12-16 20:08:23</td><td>2013-12-16 20:04:58</td><td>&quot;postgresql-9.1…</td><td>&quot;/usr/lib/postg…</td><td>&quot;&lt;RECENT-CTIME&gt;…</td></tr><tr><td>2013-12-16 20:03:20</td><td>2013-12-16 20:04:55</td><td>&quot;php5-dev&quot;</td><td>&quot;/usr/include/p…</td><td>&quot;&lt;RECENT-CTIME&gt;…</td></tr><tr><td>2013-12-16 20:03:20</td><td>2013-12-16 20:04:54</td><td>&quot;php-pear&quot;</td><td>&quot;/usr/share/php…</td><td>&quot;&lt;RECENT-CTIME&gt;…</td></tr></tbody></table></div>"
      ],
      "text/plain": [
       "shape: (10, 5)\n",
       "┌──────────────┬──────────────────────┬─────────────────────┬─────────────────────┬────────────────┐\n",
       "│ atime        ┆ ctime                ┆ package-name        ┆ mru-program         ┆ tag            │\n",
       "│ ---          ┆ ---                  ┆ ---                 ┆ ---                 ┆ ---            │\n",
       "│ datetime[μs] ┆ datetime[μs]         ┆ str                 ┆ str                 ┆ str            │\n",
       "╞══════════════╪══════════════════════╪═════════════════════╪═════════════════════╪════════════════╡\n",
       "│ 2013-12-17   ┆ 2013-12-17 04:55:42  ┆ ddd                 ┆ /usr/bin/ddd        ┆ <RECENT-CTIME> │\n",
       "│ 04:55:39     ┆                      ┆                     ┆                     ┆                │\n",
       "│ 2013-12-16   ┆ 2013-12-16 20:05:13  ┆ nodejs              ┆ /usr/bin/npm        ┆ <RECENT-CTIME> │\n",
       "│ 20:03:20     ┆                      ┆                     ┆                     ┆                │\n",
       "│ 2013-12-16   ┆ 2013-12-16 20:05:04  ┆ thunderbird-locale- ┆ /usr/lib/thunderbir ┆ <RECENT-CTIME> │\n",
       "│ 20:03:20     ┆                      ┆ en                  ┆ d-addons/exte…      ┆                │\n",
       "│ 2013-12-16   ┆ 2013-12-16 20:05:04  ┆ switchboard-plug-ke ┆ /usr/lib/plugs/pant ┆ <RECENT-CTIME> │\n",
       "│ 20:03:20     ┆                      ┆ yboard              ┆ heon/keyboard…      ┆                │\n",
       "│ …            ┆ …                    ┆ …                   ┆ …                   ┆ …              │\n",
       "│ 2013-12-16   ┆ 2013-12-16 20:04:59  ┆ postgresql-client-9 ┆ /usr/lib/postgresql ┆ <RECENT-CTIME> │\n",
       "│ 20:08:25     ┆                      ┆ .1                  ┆ /9.1/bin/psql       ┆                │\n",
       "│ 2013-12-16   ┆ 2013-12-16 20:04:58  ┆ postgresql-9.1      ┆ /usr/lib/postgresql ┆ <RECENT-CTIME> │\n",
       "│ 20:08:23     ┆                      ┆                     ┆ /9.1/bin/post…      ┆                │\n",
       "│ 2013-12-16   ┆ 2013-12-16 20:04:55  ┆ php5-dev            ┆ /usr/include/php5/m ┆ <RECENT-CTIME> │\n",
       "│ 20:03:20     ┆                      ┆                     ┆ ain/snprintf.…      ┆                │\n",
       "│ 2013-12-16   ┆ 2013-12-16 20:04:54  ┆ php-pear            ┆ /usr/share/php/XML/ ┆ <RECENT-CTIME> │\n",
       "│ 20:03:20     ┆                      ┆                     ┆ Util.php            ┆                │\n",
       "└──────────────┴──────────────────────┴─────────────────────┴─────────────────────┴────────────────┘"
      ]
     },
     "execution_count": 8,
     "metadata": {},
     "output_type": "execute_result"
    }
   ],
   "source": [
    "nonlibraries = popcon.filter(\n",
    "    ~pl.col('package-name').str.contains('lib')\n",
    ")\n",
    "nonlibraries.top_k(10, by='ctime')"
   ]
  }
 ],
 "metadata": {
  "kernelspec": {
   "display_name": "Python 3",
   "language": "python",
   "name": "python3"
  },
  "language_info": {
   "codemirror_mode": {
    "name": "ipython",
    "version": 3
   },
   "file_extension": ".py",
   "mimetype": "text/x-python",
   "name": "python",
   "nbconvert_exporter": "python",
   "pygments_lexer": "ipython3",
   "version": "3.11.3"
  }
 },
 "nbformat": 4,
 "nbformat_minor": 1
}
