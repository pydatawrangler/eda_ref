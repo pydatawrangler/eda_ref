{
 "cells": [
  {
   "cell_type": "markdown",
   "id": "b5ae90c6-4ae0-4df6-b502-b75c6df6f38e",
   "metadata": {},
   "source": [
    "# Preparing the Data\n",
    "\n",
    "Note: You can skip this notebook because all the required Parquet files are already in _data/biketrips/_."
   ]
  },
  {
   "cell_type": "markdown",
   "id": "8c71dd6a-ccfd-420a-944c-f9ee28ab7867",
   "metadata": {},
   "source": [
    "## Download the data\n",
    "\n",
    "- Download https://s3.amazonaws.com/tripdata/202403-citibike-tripdata.csv.zip (113,4 MB)\n",
    "- Unzip\n",
    "- Make sure the CSV files are in a subdirectory called _202403-citibike-tripdata.csv/_ (macOS does this by default if you \"Open\" the ZIP file)"
   ]
  },
  {
   "cell_type": "code",
   "execution_count": null,
   "id": "4ff0fbef-2381-4d8a-85e5-5e10462077b7",
   "metadata": {},
   "outputs": [],
   "source": [
    "! ls 202403-citibike-tripdata.csv/*.csv"
   ]
  },
  {
   "cell_type": "code",
   "execution_count": null,
   "id": "1aef612a-b05c-4395-a1d6-2e5923a022c1",
   "metadata": {},
   "outputs": [],
   "source": [
    "! head 202403-citibike-tripdata.csv/202403-citibike-tripdata_1.csv"
   ]
  },
  {
   "cell_type": "code",
   "execution_count": 1,
   "id": "6b17edf1-8069-45da-a5fd-5960f78b6abf",
   "metadata": {},
   "outputs": [],
   "source": [
    "import polars as pl"
   ]
  },
  {
   "cell_type": "code",
   "execution_count": 14,
   "id": "e68579e7-c25b-4a73-996b-7d57c3b863d0",
   "metadata": {},
   "outputs": [
    {
     "data": {
      "text/html": [
       "<div><style>\n",
       ".dataframe > thead > tr,\n",
       ".dataframe > tbody > tr {\n",
       "  text-align: right;\n",
       "  white-space: pre-wrap;\n",
       "}\n",
       "</style>\n",
       "<small>shape: (2_663_295, 11)</small><table border=\"1\" class=\"dataframe\"><thead><tr><th>bike_type</th><th>rider_type</th><th>datetime_start</th><th>datetime_end</th><th>station_start</th><th>station_end</th><th>lat_start</th><th>lon_start</th><th>lat_end</th><th>lon_end</th><th>duration</th></tr><tr><td>str</td><td>str</td><td>datetime[μs]</td><td>datetime[μs]</td><td>str</td><td>str</td><td>f64</td><td>f64</td><td>f64</td><td>f64</td><td>duration[μs]</td></tr></thead><tbody><tr><td>&quot;electric&quot;</td><td>&quot;member&quot;</td><td>2024-03-13 15:57:41.800</td><td>2024-03-13 16:07:09.853</td><td>&quot;Forsyth St &amp; Grand St&quot;</td><td>&quot;Front St &amp; Jay St&quot;</td><td>40.717763</td><td>-73.993166</td><td>40.702461</td><td>-73.986842</td><td>9m 28s 53ms</td></tr><tr><td>&quot;electric&quot;</td><td>&quot;member&quot;</td><td>2024-03-16 10:25:46.114</td><td>2024-03-16 10:30:21.554</td><td>&quot;E 12 St &amp; 3 Ave&quot;</td><td>&quot;Mott St &amp; Prince St&quot;</td><td>40.732456</td><td>-73.988554</td><td>40.72318</td><td>-73.9948</td><td>4m 35s 440ms</td></tr><tr><td>&quot;classic&quot;</td><td>&quot;member&quot;</td><td>2024-03-20 19:20:49.818</td><td>2024-03-20 19:28:00.165</td><td>&quot;E 12 St &amp; 3 Ave&quot;</td><td>&quot;Mott St &amp; Prince St&quot;</td><td>40.732233</td><td>-73.9889</td><td>40.72318</td><td>-73.9948</td><td>7m 10s 347ms</td></tr><tr><td>&quot;classic&quot;</td><td>&quot;member&quot;</td><td>2024-03-13 20:31:12.599</td><td>2024-03-13 20:40:31.209</td><td>&quot;6 Ave &amp; W 34 St&quot;</td><td>&quot;E 25 St &amp; 1 Ave&quot;</td><td>40.74964</td><td>-73.98805</td><td>40.738177</td><td>-73.977387</td><td>9m 18s 610ms</td></tr><tr><td>&quot;electric&quot;</td><td>&quot;member&quot;</td><td>2024-03-16 10:50:11.535</td><td>2024-03-16 10:53:02.451</td><td>&quot;Cleveland Pl &amp; Spring St&quot;</td><td>&quot;Mott St &amp; Prince St&quot;</td><td>40.721995</td><td>-73.997344</td><td>40.72318</td><td>-73.9948</td><td>2m 50s 916ms</td></tr><tr><td>&hellip;</td><td>&hellip;</td><td>&hellip;</td><td>&hellip;</td><td>&hellip;</td><td>&hellip;</td><td>&hellip;</td><td>&hellip;</td><td>&hellip;</td><td>&hellip;</td><td>&hellip;</td></tr><tr><td>&quot;electric&quot;</td><td>&quot;member&quot;</td><td>2024-03-15 11:44:14.141</td><td>2024-03-15 12:00:56.277</td><td>&quot;W 15 St &amp; 10 Ave&quot;</td><td>&quot;W 67 St &amp; Broadway&quot;</td><td>40.742574</td><td>-74.007304</td><td>40.774925</td><td>-73.982666</td><td>16m 42s 136ms</td></tr><tr><td>&quot;electric&quot;</td><td>&quot;member&quot;</td><td>2024-03-18 16:50:23.185</td><td>2024-03-18 17:21:28.465</td><td>&quot;W 15 St &amp; 10 Ave&quot;</td><td>&quot;Lafayette Ave &amp; St James Pl&quot;</td><td>40.742519</td><td>-74.007241</td><td>40.688515</td><td>-73.964763</td><td>31m 5s 280ms</td></tr><tr><td>&quot;electric&quot;</td><td>&quot;member&quot;</td><td>2024-03-20 11:35:21.922</td><td>2024-03-20 11:41:43.275</td><td>&quot;India St &amp; Manhattan Ave&quot;</td><td>&quot;N 9 St &amp; Wythe Ave&quot;</td><td>40.731635</td><td>-73.954247</td><td>40.72054</td><td>-73.959</td><td>6m 21s 353ms</td></tr><tr><td>&quot;electric&quot;</td><td>&quot;member&quot;</td><td>2024-03-15 09:29:16.009</td><td>2024-03-15 09:35:20.455</td><td>&quot;India St &amp; Manhattan Ave&quot;</td><td>&quot;N 9 St &amp; Wythe Ave&quot;</td><td>40.732364</td><td>-73.955142</td><td>40.72054</td><td>-73.959</td><td>6m 4s 446ms</td></tr><tr><td>&quot;classic&quot;</td><td>&quot;member&quot;</td><td>2024-03-18 14:51:20.408</td><td>2024-03-18 14:57:51.304</td><td>&quot;W 31 St &amp; 7 Ave&quot;</td><td>&quot;E 32 St &amp; Park Ave&quot;</td><td>40.749156</td><td>-73.9916</td><td>40.745712</td><td>-73.981948</td><td>6m 30s 896ms</td></tr></tbody></table></div>"
      ],
      "text/plain": [
       "shape: (2_663_295, 11)\n",
       "┌───────────┬───────────┬───────────┬───────────┬───┬───────────┬───────────┬───────────┬──────────┐\n",
       "│ bike_type ┆ rider_typ ┆ datetime_ ┆ datetime_ ┆ … ┆ lon_start ┆ lat_end   ┆ lon_end   ┆ duration │\n",
       "│ ---       ┆ e         ┆ start     ┆ end       ┆   ┆ ---       ┆ ---       ┆ ---       ┆ ---      │\n",
       "│ str       ┆ ---       ┆ ---       ┆ ---       ┆   ┆ f64       ┆ f64       ┆ f64       ┆ duration │\n",
       "│           ┆ str       ┆ datetime[ ┆ datetime[ ┆   ┆           ┆           ┆           ┆ [μs]     │\n",
       "│           ┆           ┆ μs]       ┆ μs]       ┆   ┆           ┆           ┆           ┆          │\n",
       "╞═══════════╪═══════════╪═══════════╪═══════════╪═══╪═══════════╪═══════════╪═══════════╪══════════╡\n",
       "│ electric  ┆ member    ┆ 2024-03-1 ┆ 2024-03-1 ┆ … ┆ -73.99316 ┆ 40.702461 ┆ -73.98684 ┆ 9m 28s   │\n",
       "│           ┆           ┆ 3 15:57:4 ┆ 3 16:07:0 ┆   ┆ 6         ┆           ┆ 2         ┆ 53ms     │\n",
       "│           ┆           ┆ 1.800     ┆ 9.853     ┆   ┆           ┆           ┆           ┆          │\n",
       "│ electric  ┆ member    ┆ 2024-03-1 ┆ 2024-03-1 ┆ … ┆ -73.98855 ┆ 40.72318  ┆ -73.9948  ┆ 4m 35s   │\n",
       "│           ┆           ┆ 6 10:25:4 ┆ 6 10:30:2 ┆   ┆ 4         ┆           ┆           ┆ 440ms    │\n",
       "│           ┆           ┆ 6.114     ┆ 1.554     ┆   ┆           ┆           ┆           ┆          │\n",
       "│ classic   ┆ member    ┆ 2024-03-2 ┆ 2024-03-2 ┆ … ┆ -73.9889  ┆ 40.72318  ┆ -73.9948  ┆ 7m 10s   │\n",
       "│           ┆           ┆ 0 19:20:4 ┆ 0 19:28:0 ┆   ┆           ┆           ┆           ┆ 347ms    │\n",
       "│           ┆           ┆ 9.818     ┆ 0.165     ┆   ┆           ┆           ┆           ┆          │\n",
       "│ classic   ┆ member    ┆ 2024-03-1 ┆ 2024-03-1 ┆ … ┆ -73.98805 ┆ 40.738177 ┆ -73.97738 ┆ 9m 18s   │\n",
       "│           ┆           ┆ 3 20:31:1 ┆ 3 20:40:3 ┆   ┆           ┆           ┆ 7         ┆ 610ms    │\n",
       "│           ┆           ┆ 2.599     ┆ 1.209     ┆   ┆           ┆           ┆           ┆          │\n",
       "│ electric  ┆ member    ┆ 2024-03-1 ┆ 2024-03-1 ┆ … ┆ -73.99734 ┆ 40.72318  ┆ -73.9948  ┆ 2m 50s   │\n",
       "│           ┆           ┆ 6 10:50:1 ┆ 6 10:53:0 ┆   ┆ 4         ┆           ┆           ┆ 916ms    │\n",
       "│           ┆           ┆ 1.535     ┆ 2.451     ┆   ┆           ┆           ┆           ┆          │\n",
       "│ …         ┆ …         ┆ …         ┆ …         ┆ … ┆ …         ┆ …         ┆ …         ┆ …        │\n",
       "│ electric  ┆ member    ┆ 2024-03-1 ┆ 2024-03-1 ┆ … ┆ -74.00730 ┆ 40.774925 ┆ -73.98266 ┆ 16m 42s  │\n",
       "│           ┆           ┆ 5 11:44:1 ┆ 5 12:00:5 ┆   ┆ 4         ┆           ┆ 6         ┆ 136ms    │\n",
       "│           ┆           ┆ 4.141     ┆ 6.277     ┆   ┆           ┆           ┆           ┆          │\n",
       "│ electric  ┆ member    ┆ 2024-03-1 ┆ 2024-03-1 ┆ … ┆ -74.00724 ┆ 40.688515 ┆ -73.96476 ┆ 31m 5s   │\n",
       "│           ┆           ┆ 8 16:50:2 ┆ 8 17:21:2 ┆   ┆ 1         ┆           ┆ 3         ┆ 280ms    │\n",
       "│           ┆           ┆ 3.185     ┆ 8.465     ┆   ┆           ┆           ┆           ┆          │\n",
       "│ electric  ┆ member    ┆ 2024-03-2 ┆ 2024-03-2 ┆ … ┆ -73.95424 ┆ 40.72054  ┆ -73.959   ┆ 6m 21s   │\n",
       "│           ┆           ┆ 0 11:35:2 ┆ 0 11:41:4 ┆   ┆ 7         ┆           ┆           ┆ 353ms    │\n",
       "│           ┆           ┆ 1.922     ┆ 3.275     ┆   ┆           ┆           ┆           ┆          │\n",
       "│ electric  ┆ member    ┆ 2024-03-1 ┆ 2024-03-1 ┆ … ┆ -73.95514 ┆ 40.72054  ┆ -73.959   ┆ 6m 4s    │\n",
       "│           ┆           ┆ 5 09:29:1 ┆ 5 09:35:2 ┆   ┆ 2         ┆           ┆           ┆ 446ms    │\n",
       "│           ┆           ┆ 6.009     ┆ 0.455     ┆   ┆           ┆           ┆           ┆          │\n",
       "│ classic   ┆ member    ┆ 2024-03-1 ┆ 2024-03-1 ┆ … ┆ -73.9916  ┆ 40.745712 ┆ -73.98194 ┆ 6m 30s   │\n",
       "│           ┆           ┆ 8 14:51:2 ┆ 8 14:57:5 ┆   ┆           ┆           ┆ 8         ┆ 896ms    │\n",
       "│           ┆           ┆ 0.408     ┆ 1.304     ┆   ┆           ┆           ┆           ┆          │\n",
       "└───────────┴───────────┴───────────┴───────────┴───┴───────────┴───────────┴───────────┴──────────┘"
      ]
     },
     "execution_count": 14,
     "metadata": {},
     "output_type": "execute_result"
    }
   ],
   "source": [
    "trips = (\n",
    "    pl.read_csv(\"../data/202403-citibike-tripdata.csv\", infer_schema_length=100000)\n",
    "    .select(pl.col(\"rideable_type\").str.split(\"_\").list.get(0).alias(\"bike_type\"),\n",
    "            pl.col(\"member_casual\").alias(\"rider_type\"),\n",
    "            pl.col(\"started_at\").str.strptime(pl.Datetime).alias(\"datetime_start\"),\n",
    "            pl.col(\"ended_at\").str.strptime(pl.Datetime).alias(\"datetime_end\"),\n",
    "            pl.col(\"start_station_name\").alias(\"station_start\"),\n",
    "            pl.col(\"end_station_name\").alias(\"station_end\"),\n",
    "            pl.col(\"start_lat\").alias(\"lat_start\"),\n",
    "            pl.col(\"start_lng\").alias(\"lon_start\"),\n",
    "            pl.col(\"end_lat\").alias(\"lat_end\"),\n",
    "            pl.col(\"end_lng\").alias(\"lon_end\")\n",
    "           )\n",
    "    .with_columns((pl.col(\"datetime_end\") - pl.col(\"datetime_start\")).alias(\"duration\"))\n",
    ")\n",
    "\n",
    "trips"
   ]
  },
  {
   "cell_type": "markdown",
   "id": "f92780bb-05c6-4d0c-bc5f-aaec3bc93b78",
   "metadata": {},
   "source": [
    "## Add distance"
   ]
  },
  {
   "cell_type": "code",
   "execution_count": 15,
   "id": "c10e4964-abdf-461f-88a4-ba01faad5b19",
   "metadata": {},
   "outputs": [],
   "source": [
    "import geopandas as gpd"
   ]
  },
  {
   "cell_type": "code",
   "execution_count": 16,
   "id": "52dfea40-bebe-4273-b94c-c9ac353d9159",
   "metadata": {},
   "outputs": [
    {
     "data": {
      "text/html": [
       "<div><style>\n",
       ".dataframe > thead > tr,\n",
       ".dataframe > tbody > tr {\n",
       "  text-align: right;\n",
       "  white-space: pre-wrap;\n",
       "}\n",
       "</style>\n",
       "<small>shape: (2_663_295, 12)</small><table border=\"1\" class=\"dataframe\"><thead><tr><th>bike_type</th><th>rider_type</th><th>datetime_start</th><th>datetime_end</th><th>station_start</th><th>station_end</th><th>lat_start</th><th>lon_start</th><th>lat_end</th><th>lon_end</th><th>duration</th><th>distance</th></tr><tr><td>str</td><td>str</td><td>datetime[μs]</td><td>datetime[μs]</td><td>str</td><td>str</td><td>f64</td><td>f64</td><td>f64</td><td>f64</td><td>duration[μs]</td><td>f64</td></tr></thead><tbody><tr><td>&quot;electric&quot;</td><td>&quot;member&quot;</td><td>2024-03-13 15:57:41.800</td><td>2024-03-13 16:07:09.853</td><td>&quot;Forsyth St &amp; Grand St&quot;</td><td>&quot;Front St &amp; Jay St&quot;</td><td>40.717763</td><td>-73.993166</td><td>40.702461</td><td>-73.986842</td><td>9m 28s 53ms</td><td>1.781341</td></tr><tr><td>&quot;electric&quot;</td><td>&quot;member&quot;</td><td>2024-03-16 10:25:46.114</td><td>2024-03-16 10:30:21.554</td><td>&quot;E 12 St &amp; 3 Ave&quot;</td><td>&quot;Mott St &amp; Prince St&quot;</td><td>40.732456</td><td>-73.988554</td><td>40.72318</td><td>-73.9948</td><td>4m 35s 440ms</td><td>1.157414</td></tr><tr><td>&quot;classic&quot;</td><td>&quot;member&quot;</td><td>2024-03-20 19:20:49.818</td><td>2024-03-20 19:28:00.165</td><td>&quot;E 12 St &amp; 3 Ave&quot;</td><td>&quot;Mott St &amp; Prince St&quot;</td><td>40.732233</td><td>-73.9889</td><td>40.72318</td><td>-73.9948</td><td>7m 10s 347ms</td><td>1.122133</td></tr><tr><td>&quot;classic&quot;</td><td>&quot;member&quot;</td><td>2024-03-13 20:31:12.599</td><td>2024-03-13 20:40:31.209</td><td>&quot;6 Ave &amp; W 34 St&quot;</td><td>&quot;E 25 St &amp; 1 Ave&quot;</td><td>40.74964</td><td>-73.98805</td><td>40.738177</td><td>-73.977387</td><td>9m 18s 610ms</td><td>1.559381</td></tr><tr><td>&quot;electric&quot;</td><td>&quot;member&quot;</td><td>2024-03-16 10:50:11.535</td><td>2024-03-16 10:53:02.451</td><td>&quot;Cleveland Pl &amp; Spring St&quot;</td><td>&quot;Mott St &amp; Prince St&quot;</td><td>40.721995</td><td>-73.997344</td><td>40.72318</td><td>-73.9948</td><td>2m 50s 916ms</td><td>0.252006</td></tr><tr><td>&hellip;</td><td>&hellip;</td><td>&hellip;</td><td>&hellip;</td><td>&hellip;</td><td>&hellip;</td><td>&hellip;</td><td>&hellip;</td><td>&hellip;</td><td>&hellip;</td><td>&hellip;</td><td>&hellip;</td></tr><tr><td>&quot;electric&quot;</td><td>&quot;member&quot;</td><td>2024-03-15 11:44:14.141</td><td>2024-03-15 12:00:56.277</td><td>&quot;W 15 St &amp; 10 Ave&quot;</td><td>&quot;W 67 St &amp; Broadway&quot;</td><td>40.742574</td><td>-74.007304</td><td>40.774925</td><td>-73.982666</td><td>16m 42s 136ms</td><td>4.151522</td></tr><tr><td>&quot;electric&quot;</td><td>&quot;member&quot;</td><td>2024-03-18 16:50:23.185</td><td>2024-03-18 17:21:28.465</td><td>&quot;W 15 St &amp; 10 Ave&quot;</td><td>&quot;Lafayette Ave &amp; St James Pl&quot;</td><td>40.742519</td><td>-74.007241</td><td>40.688515</td><td>-73.964763</td><td>31m 5s 280ms</td><td>6.988988</td></tr><tr><td>&quot;electric&quot;</td><td>&quot;member&quot;</td><td>2024-03-20 11:35:21.922</td><td>2024-03-20 11:41:43.275</td><td>&quot;India St &amp; Manhattan Ave&quot;</td><td>&quot;N 9 St &amp; Wythe Ave&quot;</td><td>40.731635</td><td>-73.954247</td><td>40.72054</td><td>-73.959</td><td>6m 21s 353ms</td><td>1.29587</td></tr><tr><td>&quot;electric&quot;</td><td>&quot;member&quot;</td><td>2024-03-15 09:29:16.009</td><td>2024-03-15 09:35:20.455</td><td>&quot;India St &amp; Manhattan Ave&quot;</td><td>&quot;N 9 St &amp; Wythe Ave&quot;</td><td>40.732364</td><td>-73.955142</td><td>40.72054</td><td>-73.959</td><td>6m 4s 446ms</td><td>1.352904</td></tr><tr><td>&quot;classic&quot;</td><td>&quot;member&quot;</td><td>2024-03-18 14:51:20.408</td><td>2024-03-18 14:57:51.304</td><td>&quot;W 31 St &amp; 7 Ave&quot;</td><td>&quot;E 32 St &amp; Park Ave&quot;</td><td>40.749156</td><td>-73.9916</td><td>40.745712</td><td>-73.981948</td><td>6m 30s 896ms</td><td>0.900394</td></tr></tbody></table></div>"
      ],
      "text/plain": [
       "shape: (2_663_295, 12)\n",
       "┌───────────┬───────────┬───────────┬───────────┬───┬───────────┬───────────┬───────────┬──────────┐\n",
       "│ bike_type ┆ rider_typ ┆ datetime_ ┆ datetime_ ┆ … ┆ lat_end   ┆ lon_end   ┆ duration  ┆ distance │\n",
       "│ ---       ┆ e         ┆ start     ┆ end       ┆   ┆ ---       ┆ ---       ┆ ---       ┆ ---      │\n",
       "│ str       ┆ ---       ┆ ---       ┆ ---       ┆   ┆ f64       ┆ f64       ┆ duration[ ┆ f64      │\n",
       "│           ┆ str       ┆ datetime[ ┆ datetime[ ┆   ┆           ┆           ┆ μs]       ┆          │\n",
       "│           ┆           ┆ μs]       ┆ μs]       ┆   ┆           ┆           ┆           ┆          │\n",
       "╞═══════════╪═══════════╪═══════════╪═══════════╪═══╪═══════════╪═══════════╪═══════════╪══════════╡\n",
       "│ electric  ┆ member    ┆ 2024-03-1 ┆ 2024-03-1 ┆ … ┆ 40.702461 ┆ -73.98684 ┆ 9m 28s    ┆ 1.781341 │\n",
       "│           ┆           ┆ 3 15:57:4 ┆ 3 16:07:0 ┆   ┆           ┆ 2         ┆ 53ms      ┆          │\n",
       "│           ┆           ┆ 1.800     ┆ 9.853     ┆   ┆           ┆           ┆           ┆          │\n",
       "│ electric  ┆ member    ┆ 2024-03-1 ┆ 2024-03-1 ┆ … ┆ 40.72318  ┆ -73.9948  ┆ 4m 35s    ┆ 1.157414 │\n",
       "│           ┆           ┆ 6 10:25:4 ┆ 6 10:30:2 ┆   ┆           ┆           ┆ 440ms     ┆          │\n",
       "│           ┆           ┆ 6.114     ┆ 1.554     ┆   ┆           ┆           ┆           ┆          │\n",
       "│ classic   ┆ member    ┆ 2024-03-2 ┆ 2024-03-2 ┆ … ┆ 40.72318  ┆ -73.9948  ┆ 7m 10s    ┆ 1.122133 │\n",
       "│           ┆           ┆ 0 19:20:4 ┆ 0 19:28:0 ┆   ┆           ┆           ┆ 347ms     ┆          │\n",
       "│           ┆           ┆ 9.818     ┆ 0.165     ┆   ┆           ┆           ┆           ┆          │\n",
       "│ classic   ┆ member    ┆ 2024-03-1 ┆ 2024-03-1 ┆ … ┆ 40.738177 ┆ -73.97738 ┆ 9m 18s    ┆ 1.559381 │\n",
       "│           ┆           ┆ 3 20:31:1 ┆ 3 20:40:3 ┆   ┆           ┆ 7         ┆ 610ms     ┆          │\n",
       "│           ┆           ┆ 2.599     ┆ 1.209     ┆   ┆           ┆           ┆           ┆          │\n",
       "│ electric  ┆ member    ┆ 2024-03-1 ┆ 2024-03-1 ┆ … ┆ 40.72318  ┆ -73.9948  ┆ 2m 50s    ┆ 0.252006 │\n",
       "│           ┆           ┆ 6 10:50:1 ┆ 6 10:53:0 ┆   ┆           ┆           ┆ 916ms     ┆          │\n",
       "│           ┆           ┆ 1.535     ┆ 2.451     ┆   ┆           ┆           ┆           ┆          │\n",
       "│ …         ┆ …         ┆ …         ┆ …         ┆ … ┆ …         ┆ …         ┆ …         ┆ …        │\n",
       "│ electric  ┆ member    ┆ 2024-03-1 ┆ 2024-03-1 ┆ … ┆ 40.774925 ┆ -73.98266 ┆ 16m 42s   ┆ 4.151522 │\n",
       "│           ┆           ┆ 5 11:44:1 ┆ 5 12:00:5 ┆   ┆           ┆ 6         ┆ 136ms     ┆          │\n",
       "│           ┆           ┆ 4.141     ┆ 6.277     ┆   ┆           ┆           ┆           ┆          │\n",
       "│ electric  ┆ member    ┆ 2024-03-1 ┆ 2024-03-1 ┆ … ┆ 40.688515 ┆ -73.96476 ┆ 31m 5s    ┆ 6.988988 │\n",
       "│           ┆           ┆ 8 16:50:2 ┆ 8 17:21:2 ┆   ┆           ┆ 3         ┆ 280ms     ┆          │\n",
       "│           ┆           ┆ 3.185     ┆ 8.465     ┆   ┆           ┆           ┆           ┆          │\n",
       "│ electric  ┆ member    ┆ 2024-03-2 ┆ 2024-03-2 ┆ … ┆ 40.72054  ┆ -73.959   ┆ 6m 21s    ┆ 1.29587  │\n",
       "│           ┆           ┆ 0 11:35:2 ┆ 0 11:41:4 ┆   ┆           ┆           ┆ 353ms     ┆          │\n",
       "│           ┆           ┆ 1.922     ┆ 3.275     ┆   ┆           ┆           ┆           ┆          │\n",
       "│ electric  ┆ member    ┆ 2024-03-1 ┆ 2024-03-1 ┆ … ┆ 40.72054  ┆ -73.959   ┆ 6m 4s     ┆ 1.352904 │\n",
       "│           ┆           ┆ 5 09:29:1 ┆ 5 09:35:2 ┆   ┆           ┆           ┆ 446ms     ┆          │\n",
       "│           ┆           ┆ 6.009     ┆ 0.455     ┆   ┆           ┆           ┆           ┆          │\n",
       "│ classic   ┆ member    ┆ 2024-03-1 ┆ 2024-03-1 ┆ … ┆ 40.745712 ┆ -73.98194 ┆ 6m 30s    ┆ 0.900394 │\n",
       "│           ┆           ┆ 8 14:51:2 ┆ 8 14:57:5 ┆   ┆           ┆ 8         ┆ 896ms     ┆          │\n",
       "│           ┆           ┆ 0.408     ┆ 1.304     ┆   ┆           ┆           ┆           ┆          │\n",
       "└───────────┴───────────┴───────────┴───────────┴───┴───────────┴───────────┴───────────┴──────────┘"
      ]
     },
     "execution_count": 16,
     "metadata": {},
     "output_type": "execute_result"
    }
   ],
   "source": [
    "# We need to project the coordinates in order to get meters\n",
    "\n",
    "point_start = gpd.GeoSeries(gpd.points_from_xy(trips[\"lon_start\"], trips[\"lat_start\"]), crs=\"EPSG:4326\").to_crs(\"EPSG:32118\")\n",
    "point_end = gpd.GeoSeries(gpd.points_from_xy(trips[\"lon_end\"], trips[\"lat_end\"]), crs=\"EPSG:4326\").to_crs(\"EPSG:32118\")\n",
    "distance = point_start.distance(point_end)\n",
    "\n",
    "trips = trips.with_columns(distance=pl.lit(pl.Series(distance / 1000)))\n",
    "trips"
   ]
  },
  {
   "cell_type": "markdown",
   "id": "e500293c-5d0b-4ae8-bec7-2693ee0c4583",
   "metadata": {},
   "source": [
    "## Stations"
   ]
  },
  {
   "cell_type": "code",
   "execution_count": 17,
   "id": "ff120acc-1aed-4527-91ea-2e1e46171f12",
   "metadata": {},
   "outputs": [],
   "source": [
    "stations = trips.group_by(pl.col(\"station_start\").alias(\"station\")).agg(\n",
    "    pl.col(\"lat_start\").median().alias(\"lat\"),\n",
    "    pl.col(\"lon_start\").median().alias(\"lon\"),\n",
    ").sort(\"station\").drop_nulls()"
   ]
  },
  {
   "cell_type": "code",
   "execution_count": 19,
   "id": "0864c14d-20c0-46b2-8b7f-c3abd192576b",
   "metadata": {},
   "outputs": [],
   "source": [
    "gdf_stations = gpd.GeoDataFrame(\n",
    "    stations.to_pandas(), geometry=gpd.points_from_xy(stations[\"lon\"], stations[\"lat\"]), crs=\"EPSG:4326\"\n",
    ")"
   ]
  },
  {
   "cell_type": "code",
   "execution_count": 20,
   "id": "3462d1b2-6758-4eb5-8bc2-c2a7550189d3",
   "metadata": {},
   "outputs": [
    {
     "data": {
      "text/plain": [
       "<AxesSubplot: >"
      ]
     },
     "execution_count": 20,
     "metadata": {},
     "output_type": "execute_result"
    },
    {
     "data": {
      "image/png": "[encoded data removed]",
      "text/plain": [
       "<Figure size 640x480 with 1 Axes>"
      ]
     },
     "metadata": {},
     "output_type": "display_data"
    }
   ],
   "source": [
    "gdf_stations.plot()"
   ]
  },
  {
   "cell_type": "code",
   "execution_count": 21,
   "id": "edc7b273",
   "metadata": {},
   "outputs": [],
   "source": [
    "gj_url = 'https://raw.githubusercontent.com/jeroenjanssens/turning-polars-dataframes-into-pretty-pictures-and-great-tables/refs/heads/main/nyc-neighborhoods.geojson'"
   ]
  },
  {
   "cell_type": "code",
   "execution_count": 22,
   "id": "4f1fb294-3db9-4b34-b0eb-112bfd3a584a",
   "metadata": {},
   "outputs": [
    {
     "data": {
      "text/html": [
       "<div>\n",
       "<style scoped>\n",
       "    .dataframe tbody tr th:only-of-type {\n",
       "        vertical-align: middle;\n",
       "    }\n",
       "\n",
       "    .dataframe tbody tr th {\n",
       "        vertical-align: top;\n",
       "    }\n",
       "\n",
       "    .dataframe thead th {\n",
       "        text-align: right;\n",
       "    }\n",
       "</style>\n",
       "<table border=\"1\" class=\"dataframe\">\n",
       "  <thead>\n",
       "    <tr style=\"text-align: right;\">\n",
       "      <th></th>\n",
       "      <th>neighborhood</th>\n",
       "      <th>boroughCode</th>\n",
       "      <th>borough</th>\n",
       "      <th>X.id</th>\n",
       "      <th>geometry</th>\n",
       "    </tr>\n",
       "  </thead>\n",
       "  <tbody>\n",
       "    <tr>\n",
       "      <th>0</th>\n",
       "      <td>Allerton</td>\n",
       "      <td>2</td>\n",
       "      <td>Bronx</td>\n",
       "      <td>http://nyc.pediacities.com/Resource/Neighborho...</td>\n",
       "      <td>POLYGON ((-73.84860 40.87167, -73.84582 40.870...</td>\n",
       "    </tr>\n",
       "    <tr>\n",
       "      <th>1</th>\n",
       "      <td>Alley Pond Park</td>\n",
       "      <td>4</td>\n",
       "      <td>Queens</td>\n",
       "      <td>http://nyc.pediacities.com/Resource/Neighborho...</td>\n",
       "      <td>POLYGON ((-73.74333 40.73888, -73.74371 40.739...</td>\n",
       "    </tr>\n",
       "    <tr>\n",
       "      <th>2</th>\n",
       "      <td>Arden Heights</td>\n",
       "      <td>5</td>\n",
       "      <td>Staten Island</td>\n",
       "      <td>http://nyc.pediacities.com/Resource/Neighborho...</td>\n",
       "      <td>POLYGON ((-74.16983 40.56108, -74.16982 40.561...</td>\n",
       "    </tr>\n",
       "    <tr>\n",
       "      <th>3</th>\n",
       "      <td>Arlington</td>\n",
       "      <td>5</td>\n",
       "      <td>Staten Island</td>\n",
       "      <td>http://nyc.pediacities.com/Resource/Neighborho...</td>\n",
       "      <td>POLYGON ((-74.15975 40.64142, -74.15998 40.641...</td>\n",
       "    </tr>\n",
       "    <tr>\n",
       "      <th>4</th>\n",
       "      <td>Arrochar</td>\n",
       "      <td>5</td>\n",
       "      <td>Staten Island</td>\n",
       "      <td>http://nyc.pediacities.com/Resource/Neighborho...</td>\n",
       "      <td>POLYGON ((-74.06078 40.59319, -74.06079 40.593...</td>\n",
       "    </tr>\n",
       "    <tr>\n",
       "      <th>...</th>\n",
       "      <td>...</td>\n",
       "      <td>...</td>\n",
       "      <td>...</td>\n",
       "      <td>...</td>\n",
       "      <td>...</td>\n",
       "    </tr>\n",
       "    <tr>\n",
       "      <th>307</th>\n",
       "      <td>Woodside</td>\n",
       "      <td>4</td>\n",
       "      <td>Queens</td>\n",
       "      <td>http://nyc.pediacities.com/Resource/Neighborho...</td>\n",
       "      <td>POLYGON ((-73.90087 40.75767, -73.90014 40.756...</td>\n",
       "    </tr>\n",
       "    <tr>\n",
       "      <th>308</th>\n",
       "      <td>East Williamsburg</td>\n",
       "      <td>3</td>\n",
       "      <td>Brooklyn</td>\n",
       "      <td>NaN</td>\n",
       "      <td>POLYGON ((-73.94130 40.72180, -73.94060 40.718...</td>\n",
       "    </tr>\n",
       "    <tr>\n",
       "      <th>309</th>\n",
       "      <td>Hamilton Heights</td>\n",
       "      <td>1</td>\n",
       "      <td>Manhattan</td>\n",
       "      <td>NaN</td>\n",
       "      <td>POLYGON ((-73.95050 40.83490, -73.94110 40.831...</td>\n",
       "    </tr>\n",
       "    <tr>\n",
       "      <th>310</th>\n",
       "      <td>Williamsburg</td>\n",
       "      <td>3</td>\n",
       "      <td>Brooklyn</td>\n",
       "      <td>NaN</td>\n",
       "      <td>POLYGON ((-73.95757 40.72510, -73.95300 40.722...</td>\n",
       "    </tr>\n",
       "    <tr>\n",
       "      <th>311</th>\n",
       "      <td>Harlem</td>\n",
       "      <td>1</td>\n",
       "      <td>Manhattan</td>\n",
       "      <td>NaN</td>\n",
       "      <td>POLYGON ((-73.93457 40.82815, -73.93442 40.827...</td>\n",
       "    </tr>\n",
       "  </tbody>\n",
       "</table>\n",
       "<p>312 rows × 5 columns</p>\n",
       "</div>"
      ],
      "text/plain": [
       "          neighborhood boroughCode        borough  \\\n",
       "0             Allerton           2          Bronx   \n",
       "1      Alley Pond Park           4         Queens   \n",
       "2        Arden Heights           5  Staten Island   \n",
       "3            Arlington           5  Staten Island   \n",
       "4             Arrochar           5  Staten Island   \n",
       "..                 ...         ...            ...   \n",
       "307           Woodside           4         Queens   \n",
       "308  East Williamsburg           3       Brooklyn   \n",
       "309   Hamilton Heights           1      Manhattan   \n",
       "310       Williamsburg           3       Brooklyn   \n",
       "311             Harlem           1      Manhattan   \n",
       "\n",
       "                                                  X.id  \\\n",
       "0    http://nyc.pediacities.com/Resource/Neighborho...   \n",
       "1    http://nyc.pediacities.com/Resource/Neighborho...   \n",
       "2    http://nyc.pediacities.com/Resource/Neighborho...   \n",
       "3    http://nyc.pediacities.com/Resource/Neighborho...   \n",
       "4    http://nyc.pediacities.com/Resource/Neighborho...   \n",
       "..                                                 ...   \n",
       "307  http://nyc.pediacities.com/Resource/Neighborho...   \n",
       "308                                                NaN   \n",
       "309                                                NaN   \n",
       "310                                                NaN   \n",
       "311                                                NaN   \n",
       "\n",
       "                                              geometry  \n",
       "0    POLYGON ((-73.84860 40.87167, -73.84582 40.870...  \n",
       "1    POLYGON ((-73.74333 40.73888, -73.74371 40.739...  \n",
       "2    POLYGON ((-74.16983 40.56108, -74.16982 40.561...  \n",
       "3    POLYGON ((-74.15975 40.64142, -74.15998 40.641...  \n",
       "4    POLYGON ((-74.06078 40.59319, -74.06079 40.593...  \n",
       "..                                                 ...  \n",
       "307  POLYGON ((-73.90087 40.75767, -73.90014 40.756...  \n",
       "308  POLYGON ((-73.94130 40.72180, -73.94060 40.718...  \n",
       "309  POLYGON ((-73.95050 40.83490, -73.94110 40.831...  \n",
       "310  POLYGON ((-73.95757 40.72510, -73.95300 40.722...  \n",
       "311  POLYGON ((-73.93457 40.82815, -73.93442 40.827...  \n",
       "\n",
       "[312 rows x 5 columns]"
      ]
     },
     "execution_count": 22,
     "metadata": {},
     "output_type": "execute_result"
    }
   ],
   "source": [
    "gdf_neighborhoods = gpd.read_file(gj_url)#(\"nyc-neighborhoods.geojson\")\n",
    "gdf_neighborhoods"
   ]
  },
  {
   "cell_type": "code",
   "execution_count": 23,
   "id": "a9abf333-25b1-4d73-bc16-aa6f14685351",
   "metadata": {},
   "outputs": [
    {
     "data": {
      "text/plain": [
       "<AxesSubplot: >"
      ]
     },
     "execution_count": 23,
     "metadata": {},
     "output_type": "execute_result"
    },
    {
     "data": {
      "image/png": "[encoded data removed]",
      "text/plain": [
       "<Figure size 640x480 with 1 Axes>"
      ]
     },
     "metadata": {},
     "output_type": "display_data"
    }
   ],
   "source": [
    "gdf_neighborhoods.plot()"
   ]
  },
  {
   "cell_type": "code",
   "execution_count": 27,
   "id": "7014b76f",
   "metadata": {},
   "outputs": [
    {
     "data": {
      "text/html": [
       "<div>\n",
       "<style scoped>\n",
       "    .dataframe tbody tr th:only-of-type {\n",
       "        vertical-align: middle;\n",
       "    }\n",
       "\n",
       "    .dataframe tbody tr th {\n",
       "        vertical-align: top;\n",
       "    }\n",
       "\n",
       "    .dataframe thead th {\n",
       "        text-align: right;\n",
       "    }\n",
       "</style>\n",
       "<table border=\"1\" class=\"dataframe\">\n",
       "  <thead>\n",
       "    <tr style=\"text-align: right;\">\n",
       "      <th></th>\n",
       "      <th>station</th>\n",
       "      <th>lat</th>\n",
       "      <th>lon</th>\n",
       "      <th>geometry</th>\n",
       "      <th>index_right</th>\n",
       "      <th>neighborhood</th>\n",
       "      <th>boroughCode</th>\n",
       "      <th>borough</th>\n",
       "      <th>X.id</th>\n",
       "    </tr>\n",
       "  </thead>\n",
       "  <tbody>\n",
       "    <tr>\n",
       "      <th>0</th>\n",
       "      <td>1 Ave &amp; E 110 St</td>\n",
       "      <td>40.792327</td>\n",
       "      <td>-73.938203</td>\n",
       "      <td>POINT (-73.93820 40.79233)</td>\n",
       "      <td>83</td>\n",
       "      <td>East Harlem</td>\n",
       "      <td>1</td>\n",
       "      <td>Manhattan</td>\n",
       "      <td>http://nyc.pediacities.com/Resource/Neighborho...</td>\n",
       "    </tr>\n",
       "    <tr>\n",
       "      <th>1</th>\n",
       "      <td>1 Ave &amp; E 16 St</td>\n",
       "      <td>40.732219</td>\n",
       "      <td>-73.981656</td>\n",
       "      <td>POINT (-73.98166 40.73222)</td>\n",
       "      <td>275</td>\n",
       "      <td>Stuyvesant Town</td>\n",
       "      <td>1</td>\n",
       "      <td>Manhattan</td>\n",
       "      <td>http://nyc.pediacities.com/Resource/Neighborho...</td>\n",
       "    </tr>\n",
       "    <tr>\n",
       "      <th>2</th>\n",
       "      <td>1 Ave &amp; E 18 St</td>\n",
       "      <td>40.733876</td>\n",
       "      <td>-73.980544</td>\n",
       "      <td>POINT (-73.98054 40.73388)</td>\n",
       "      <td>275</td>\n",
       "      <td>Stuyvesant Town</td>\n",
       "      <td>1</td>\n",
       "      <td>Manhattan</td>\n",
       "      <td>http://nyc.pediacities.com/Resource/Neighborho...</td>\n",
       "    </tr>\n",
       "    <tr>\n",
       "      <th>3</th>\n",
       "      <td>1 Ave &amp; E 30 St</td>\n",
       "      <td>40.741457</td>\n",
       "      <td>-73.975361</td>\n",
       "      <td>POINT (-73.97536 40.74146)</td>\n",
       "      <td>166</td>\n",
       "      <td>Kips Bay</td>\n",
       "      <td>1</td>\n",
       "      <td>Manhattan</td>\n",
       "      <td>http://nyc.pediacities.com/Resource/Neighborho...</td>\n",
       "    </tr>\n",
       "    <tr>\n",
       "      <th>4</th>\n",
       "      <td>1 Ave &amp; E 38 St</td>\n",
       "      <td>40.746202</td>\n",
       "      <td>-73.971822</td>\n",
       "      <td>POINT (-73.97182 40.74620)</td>\n",
       "      <td>197</td>\n",
       "      <td>Murray Hill</td>\n",
       "      <td>1</td>\n",
       "      <td>Manhattan</td>\n",
       "      <td>http://nyc.pediacities.com/Resource/Neighborho...</td>\n",
       "    </tr>\n",
       "    <tr>\n",
       "      <th>...</th>\n",
       "      <td>...</td>\n",
       "      <td>...</td>\n",
       "      <td>...</td>\n",
       "      <td>...</td>\n",
       "      <td>...</td>\n",
       "      <td>...</td>\n",
       "      <td>...</td>\n",
       "      <td>...</td>\n",
       "      <td>...</td>\n",
       "    </tr>\n",
       "    <tr>\n",
       "      <th>2138</th>\n",
       "      <td>Wyckoff Ave &amp; Stanhope St</td>\n",
       "      <td>40.703545</td>\n",
       "      <td>-73.917914</td>\n",
       "      <td>POINT (-73.91791 40.70354)</td>\n",
       "      <td>43</td>\n",
       "      <td>Bushwick</td>\n",
       "      <td>4</td>\n",
       "      <td>Brooklyn</td>\n",
       "      <td>http://nyc.pediacities.com/Resource/Neighborho...</td>\n",
       "    </tr>\n",
       "    <tr>\n",
       "      <th>2139</th>\n",
       "      <td>Wyckoff St &amp; 3 Ave</td>\n",
       "      <td>40.682755</td>\n",
       "      <td>-73.982586</td>\n",
       "      <td>POINT (-73.98259 40.68275)</td>\n",
       "      <td>117</td>\n",
       "      <td>Gowanus</td>\n",
       "      <td>3</td>\n",
       "      <td>Brooklyn</td>\n",
       "      <td>http://nyc.pediacities.com/Resource/Neighborho...</td>\n",
       "    </tr>\n",
       "    <tr>\n",
       "      <th>2140</th>\n",
       "      <td>Wythe Ave &amp; Metropolitan Ave</td>\n",
       "      <td>40.716887</td>\n",
       "      <td>-73.963198</td>\n",
       "      <td>POINT (-73.96320 40.71689)</td>\n",
       "      <td>310</td>\n",
       "      <td>Williamsburg</td>\n",
       "      <td>3</td>\n",
       "      <td>Brooklyn</td>\n",
       "      <td>NaN</td>\n",
       "    </tr>\n",
       "    <tr>\n",
       "      <th>2141</th>\n",
       "      <td>Wythe Ave &amp; N 13 St</td>\n",
       "      <td>40.722741</td>\n",
       "      <td>-73.957099</td>\n",
       "      <td>POINT (-73.95710 40.72274)</td>\n",
       "      <td>310</td>\n",
       "      <td>Williamsburg</td>\n",
       "      <td>3</td>\n",
       "      <td>Brooklyn</td>\n",
       "      <td>NaN</td>\n",
       "    </tr>\n",
       "    <tr>\n",
       "      <th>2142</th>\n",
       "      <td>Yankee Ferry Terminal</td>\n",
       "      <td>40.687066</td>\n",
       "      <td>-74.016756</td>\n",
       "      <td>POINT (-74.01676 40.68707)</td>\n",
       "      <td>116</td>\n",
       "      <td>Governors Island</td>\n",
       "      <td>1</td>\n",
       "      <td>Manhattan</td>\n",
       "      <td>http://nyc.pediacities.com/Resource/Neighborho...</td>\n",
       "    </tr>\n",
       "  </tbody>\n",
       "</table>\n",
       "<p>2136 rows × 9 columns</p>\n",
       "</div>"
      ],
      "text/plain": [
       "                           station        lat        lon  \\\n",
       "0                 1 Ave & E 110 St  40.792327 -73.938203   \n",
       "1                  1 Ave & E 16 St  40.732219 -73.981656   \n",
       "2                  1 Ave & E 18 St  40.733876 -73.980544   \n",
       "3                  1 Ave & E 30 St  40.741457 -73.975361   \n",
       "4                  1 Ave & E 38 St  40.746202 -73.971822   \n",
       "...                            ...        ...        ...   \n",
       "2138     Wyckoff Ave & Stanhope St  40.703545 -73.917914   \n",
       "2139            Wyckoff St & 3 Ave  40.682755 -73.982586   \n",
       "2140  Wythe Ave & Metropolitan Ave  40.716887 -73.963198   \n",
       "2141           Wythe Ave & N 13 St  40.722741 -73.957099   \n",
       "2142         Yankee Ferry Terminal  40.687066 -74.016756   \n",
       "\n",
       "                        geometry  index_right      neighborhood boroughCode  \\\n",
       "0     POINT (-73.93820 40.79233)           83       East Harlem           1   \n",
       "1     POINT (-73.98166 40.73222)          275   Stuyvesant Town           1   \n",
       "2     POINT (-73.98054 40.73388)          275   Stuyvesant Town           1   \n",
       "3     POINT (-73.97536 40.74146)          166          Kips Bay           1   \n",
       "4     POINT (-73.97182 40.74620)          197       Murray Hill           1   \n",
       "...                          ...          ...               ...         ...   \n",
       "2138  POINT (-73.91791 40.70354)           43          Bushwick           4   \n",
       "2139  POINT (-73.98259 40.68275)          117           Gowanus           3   \n",
       "2140  POINT (-73.96320 40.71689)          310      Williamsburg           3   \n",
       "2141  POINT (-73.95710 40.72274)          310      Williamsburg           3   \n",
       "2142  POINT (-74.01676 40.68707)          116  Governors Island           1   \n",
       "\n",
       "        borough                                               X.id  \n",
       "0     Manhattan  http://nyc.pediacities.com/Resource/Neighborho...  \n",
       "1     Manhattan  http://nyc.pediacities.com/Resource/Neighborho...  \n",
       "2     Manhattan  http://nyc.pediacities.com/Resource/Neighborho...  \n",
       "3     Manhattan  http://nyc.pediacities.com/Resource/Neighborho...  \n",
       "4     Manhattan  http://nyc.pediacities.com/Resource/Neighborho...  \n",
       "...         ...                                                ...  \n",
       "2138   Brooklyn  http://nyc.pediacities.com/Resource/Neighborho...  \n",
       "2139   Brooklyn  http://nyc.pediacities.com/Resource/Neighborho...  \n",
       "2140   Brooklyn                                                NaN  \n",
       "2141   Brooklyn                                                NaN  \n",
       "2142  Manhattan  http://nyc.pediacities.com/Resource/Neighborho...  \n",
       "\n",
       "[2136 rows x 9 columns]"
      ]
     },
     "execution_count": 27,
     "metadata": {},
     "output_type": "execute_result"
    }
   ],
   "source": [
    "gdf_stations.sjoin(gdf_neighborhoods, how='inner')"
   ]
  },
  {
   "cell_type": "code",
   "execution_count": 28,
   "id": "410be4c3-23b0-4f36-955f-b57c55ca588c",
   "metadata": {},
   "outputs": [
    {
     "data": {
      "text/html": [
       "<div><style>\n",
       ".dataframe > thead > tr,\n",
       ".dataframe > tbody > tr {\n",
       "  text-align: right;\n",
       "  white-space: pre-wrap;\n",
       "}\n",
       "</style>\n",
       "<small>shape: (2_136, 3)</small><table border=\"1\" class=\"dataframe\"><thead><tr><th>station</th><th>borough</th><th>neighborhood</th></tr><tr><td>str</td><td>str</td><td>str</td></tr></thead><tbody><tr><td>&quot;1 Ave &amp; E 110 St&quot;</td><td>&quot;Manhattan&quot;</td><td>&quot;East Harlem&quot;</td></tr><tr><td>&quot;1 Ave &amp; E 16 St&quot;</td><td>&quot;Manhattan&quot;</td><td>&quot;Stuyvesant Town&quot;</td></tr><tr><td>&quot;1 Ave &amp; E 18 St&quot;</td><td>&quot;Manhattan&quot;</td><td>&quot;Stuyvesant Town&quot;</td></tr><tr><td>&quot;1 Ave &amp; E 30 St&quot;</td><td>&quot;Manhattan&quot;</td><td>&quot;Kips Bay&quot;</td></tr><tr><td>&quot;1 Ave &amp; E 38 St&quot;</td><td>&quot;Manhattan&quot;</td><td>&quot;Murray Hill&quot;</td></tr><tr><td>&hellip;</td><td>&hellip;</td><td>&hellip;</td></tr><tr><td>&quot;Wyckoff Ave &amp; Stanhope St&quot;</td><td>&quot;Brooklyn&quot;</td><td>&quot;Bushwick&quot;</td></tr><tr><td>&quot;Wyckoff St &amp; 3 Ave&quot;</td><td>&quot;Brooklyn&quot;</td><td>&quot;Gowanus&quot;</td></tr><tr><td>&quot;Wythe Ave &amp; Metropolitan Ave&quot;</td><td>&quot;Brooklyn&quot;</td><td>&quot;Williamsburg&quot;</td></tr><tr><td>&quot;Wythe Ave &amp; N 13 St&quot;</td><td>&quot;Brooklyn&quot;</td><td>&quot;Williamsburg&quot;</td></tr><tr><td>&quot;Yankee Ferry Terminal&quot;</td><td>&quot;Manhattan&quot;</td><td>&quot;Governors Island&quot;</td></tr></tbody></table></div>"
      ],
      "text/plain": [
       "shape: (2_136, 3)\n",
       "┌──────────────────────────────┬───────────┬──────────────────┐\n",
       "│ station                      ┆ borough   ┆ neighborhood     │\n",
       "│ ---                          ┆ ---       ┆ ---              │\n",
       "│ str                          ┆ str       ┆ str              │\n",
       "╞══════════════════════════════╪═══════════╪══════════════════╡\n",
       "│ 1 Ave & E 110 St             ┆ Manhattan ┆ East Harlem      │\n",
       "│ 1 Ave & E 16 St              ┆ Manhattan ┆ Stuyvesant Town  │\n",
       "│ 1 Ave & E 18 St              ┆ Manhattan ┆ Stuyvesant Town  │\n",
       "│ 1 Ave & E 30 St              ┆ Manhattan ┆ Kips Bay         │\n",
       "│ 1 Ave & E 38 St              ┆ Manhattan ┆ Murray Hill      │\n",
       "│ …                            ┆ …         ┆ …                │\n",
       "│ Wyckoff Ave & Stanhope St    ┆ Brooklyn  ┆ Bushwick         │\n",
       "│ Wyckoff St & 3 Ave           ┆ Brooklyn  ┆ Gowanus          │\n",
       "│ Wythe Ave & Metropolitan Ave ┆ Brooklyn  ┆ Williamsburg     │\n",
       "│ Wythe Ave & N 13 St          ┆ Brooklyn  ┆ Williamsburg     │\n",
       "│ Yankee Ferry Terminal        ┆ Manhattan ┆ Governors Island │\n",
       "└──────────────────────────────┴───────────┴──────────────────┘"
      ]
     },
     "execution_count": 28,
     "metadata": {},
     "output_type": "execute_result"
    }
   ],
   "source": [
    "stations = (\n",
    "    pl.from_pandas(gdf_stations.sjoin(gdf_neighborhoods).drop(\"geometry\", axis=1))\n",
    "    .select(pl.col(\"station\"),\n",
    "            pl.col(\"borough\"),\n",
    "            pl.col(\"neighborhood\"),\n",
    "           )\n",
    ")\n",
    "\n",
    "stations"
   ]
  },
  {
   "cell_type": "code",
   "execution_count": 29,
   "id": "b2dbb084-0518-4ec5-9d55-f73361ffa917",
   "metadata": {},
   "outputs": [
    {
     "data": {
      "text/html": [
       "<div><style>\n",
       ".dataframe > thead > tr,\n",
       ".dataframe > tbody > tr {\n",
       "  text-align: right;\n",
       "  white-space: pre-wrap;\n",
       "}\n",
       "</style>\n",
       "<small>shape: (2_663_295, 12)</small><table border=\"1\" class=\"dataframe\"><thead><tr><th>bike_type</th><th>rider_type</th><th>datetime_start</th><th>datetime_end</th><th>station_start</th><th>station_end</th><th>lat_start</th><th>lon_start</th><th>lat_end</th><th>lon_end</th><th>duration</th><th>distance</th></tr><tr><td>str</td><td>str</td><td>datetime[μs]</td><td>datetime[μs]</td><td>str</td><td>str</td><td>f64</td><td>f64</td><td>f64</td><td>f64</td><td>duration[μs]</td><td>f64</td></tr></thead><tbody><tr><td>&quot;electric&quot;</td><td>&quot;member&quot;</td><td>2024-03-13 15:57:41.800</td><td>2024-03-13 16:07:09.853</td><td>&quot;Forsyth St &amp; Grand St&quot;</td><td>&quot;Front St &amp; Jay St&quot;</td><td>40.717763</td><td>-73.993166</td><td>40.702461</td><td>-73.986842</td><td>9m 28s 53ms</td><td>1.781341</td></tr><tr><td>&quot;electric&quot;</td><td>&quot;member&quot;</td><td>2024-03-16 10:25:46.114</td><td>2024-03-16 10:30:21.554</td><td>&quot;E 12 St &amp; 3 Ave&quot;</td><td>&quot;Mott St &amp; Prince St&quot;</td><td>40.732456</td><td>-73.988554</td><td>40.72318</td><td>-73.9948</td><td>4m 35s 440ms</td><td>1.157414</td></tr><tr><td>&quot;classic&quot;</td><td>&quot;member&quot;</td><td>2024-03-20 19:20:49.818</td><td>2024-03-20 19:28:00.165</td><td>&quot;E 12 St &amp; 3 Ave&quot;</td><td>&quot;Mott St &amp; Prince St&quot;</td><td>40.732233</td><td>-73.9889</td><td>40.72318</td><td>-73.9948</td><td>7m 10s 347ms</td><td>1.122133</td></tr><tr><td>&quot;classic&quot;</td><td>&quot;member&quot;</td><td>2024-03-13 20:31:12.599</td><td>2024-03-13 20:40:31.209</td><td>&quot;6 Ave &amp; W 34 St&quot;</td><td>&quot;E 25 St &amp; 1 Ave&quot;</td><td>40.74964</td><td>-73.98805</td><td>40.738177</td><td>-73.977387</td><td>9m 18s 610ms</td><td>1.559381</td></tr><tr><td>&quot;electric&quot;</td><td>&quot;member&quot;</td><td>2024-03-16 10:50:11.535</td><td>2024-03-16 10:53:02.451</td><td>&quot;Cleveland Pl &amp; Spring St&quot;</td><td>&quot;Mott St &amp; Prince St&quot;</td><td>40.721995</td><td>-73.997344</td><td>40.72318</td><td>-73.9948</td><td>2m 50s 916ms</td><td>0.252006</td></tr><tr><td>&hellip;</td><td>&hellip;</td><td>&hellip;</td><td>&hellip;</td><td>&hellip;</td><td>&hellip;</td><td>&hellip;</td><td>&hellip;</td><td>&hellip;</td><td>&hellip;</td><td>&hellip;</td><td>&hellip;</td></tr><tr><td>&quot;electric&quot;</td><td>&quot;member&quot;</td><td>2024-03-15 11:44:14.141</td><td>2024-03-15 12:00:56.277</td><td>&quot;W 15 St &amp; 10 Ave&quot;</td><td>&quot;W 67 St &amp; Broadway&quot;</td><td>40.742574</td><td>-74.007304</td><td>40.774925</td><td>-73.982666</td><td>16m 42s 136ms</td><td>4.151522</td></tr><tr><td>&quot;electric&quot;</td><td>&quot;member&quot;</td><td>2024-03-18 16:50:23.185</td><td>2024-03-18 17:21:28.465</td><td>&quot;W 15 St &amp; 10 Ave&quot;</td><td>&quot;Lafayette Ave &amp; St James Pl&quot;</td><td>40.742519</td><td>-74.007241</td><td>40.688515</td><td>-73.964763</td><td>31m 5s 280ms</td><td>6.988988</td></tr><tr><td>&quot;electric&quot;</td><td>&quot;member&quot;</td><td>2024-03-20 11:35:21.922</td><td>2024-03-20 11:41:43.275</td><td>&quot;India St &amp; Manhattan Ave&quot;</td><td>&quot;N 9 St &amp; Wythe Ave&quot;</td><td>40.731635</td><td>-73.954247</td><td>40.72054</td><td>-73.959</td><td>6m 21s 353ms</td><td>1.29587</td></tr><tr><td>&quot;electric&quot;</td><td>&quot;member&quot;</td><td>2024-03-15 09:29:16.009</td><td>2024-03-15 09:35:20.455</td><td>&quot;India St &amp; Manhattan Ave&quot;</td><td>&quot;N 9 St &amp; Wythe Ave&quot;</td><td>40.732364</td><td>-73.955142</td><td>40.72054</td><td>-73.959</td><td>6m 4s 446ms</td><td>1.352904</td></tr><tr><td>&quot;classic&quot;</td><td>&quot;member&quot;</td><td>2024-03-18 14:51:20.408</td><td>2024-03-18 14:57:51.304</td><td>&quot;W 31 St &amp; 7 Ave&quot;</td><td>&quot;E 32 St &amp; Park Ave&quot;</td><td>40.749156</td><td>-73.9916</td><td>40.745712</td><td>-73.981948</td><td>6m 30s 896ms</td><td>0.900394</td></tr></tbody></table></div>"
      ],
      "text/plain": [
       "shape: (2_663_295, 12)\n",
       "┌───────────┬───────────┬───────────┬───────────┬───┬───────────┬───────────┬───────────┬──────────┐\n",
       "│ bike_type ┆ rider_typ ┆ datetime_ ┆ datetime_ ┆ … ┆ lat_end   ┆ lon_end   ┆ duration  ┆ distance │\n",
       "│ ---       ┆ e         ┆ start     ┆ end       ┆   ┆ ---       ┆ ---       ┆ ---       ┆ ---      │\n",
       "│ str       ┆ ---       ┆ ---       ┆ ---       ┆   ┆ f64       ┆ f64       ┆ duration[ ┆ f64      │\n",
       "│           ┆ str       ┆ datetime[ ┆ datetime[ ┆   ┆           ┆           ┆ μs]       ┆          │\n",
       "│           ┆           ┆ μs]       ┆ μs]       ┆   ┆           ┆           ┆           ┆          │\n",
       "╞═══════════╪═══════════╪═══════════╪═══════════╪═══╪═══════════╪═══════════╪═══════════╪══════════╡\n",
       "│ electric  ┆ member    ┆ 2024-03-1 ┆ 2024-03-1 ┆ … ┆ 40.702461 ┆ -73.98684 ┆ 9m 28s    ┆ 1.781341 │\n",
       "│           ┆           ┆ 3 15:57:4 ┆ 3 16:07:0 ┆   ┆           ┆ 2         ┆ 53ms      ┆          │\n",
       "│           ┆           ┆ 1.800     ┆ 9.853     ┆   ┆           ┆           ┆           ┆          │\n",
       "│ electric  ┆ member    ┆ 2024-03-1 ┆ 2024-03-1 ┆ … ┆ 40.72318  ┆ -73.9948  ┆ 4m 35s    ┆ 1.157414 │\n",
       "│           ┆           ┆ 6 10:25:4 ┆ 6 10:30:2 ┆   ┆           ┆           ┆ 440ms     ┆          │\n",
       "│           ┆           ┆ 6.114     ┆ 1.554     ┆   ┆           ┆           ┆           ┆          │\n",
       "│ classic   ┆ member    ┆ 2024-03-2 ┆ 2024-03-2 ┆ … ┆ 40.72318  ┆ -73.9948  ┆ 7m 10s    ┆ 1.122133 │\n",
       "│           ┆           ┆ 0 19:20:4 ┆ 0 19:28:0 ┆   ┆           ┆           ┆ 347ms     ┆          │\n",
       "│           ┆           ┆ 9.818     ┆ 0.165     ┆   ┆           ┆           ┆           ┆          │\n",
       "│ classic   ┆ member    ┆ 2024-03-1 ┆ 2024-03-1 ┆ … ┆ 40.738177 ┆ -73.97738 ┆ 9m 18s    ┆ 1.559381 │\n",
       "│           ┆           ┆ 3 20:31:1 ┆ 3 20:40:3 ┆   ┆           ┆ 7         ┆ 610ms     ┆          │\n",
       "│           ┆           ┆ 2.599     ┆ 1.209     ┆   ┆           ┆           ┆           ┆          │\n",
       "│ electric  ┆ member    ┆ 2024-03-1 ┆ 2024-03-1 ┆ … ┆ 40.72318  ┆ -73.9948  ┆ 2m 50s    ┆ 0.252006 │\n",
       "│           ┆           ┆ 6 10:50:1 ┆ 6 10:53:0 ┆   ┆           ┆           ┆ 916ms     ┆          │\n",
       "│           ┆           ┆ 1.535     ┆ 2.451     ┆   ┆           ┆           ┆           ┆          │\n",
       "│ …         ┆ …         ┆ …         ┆ …         ┆ … ┆ …         ┆ …         ┆ …         ┆ …        │\n",
       "│ electric  ┆ member    ┆ 2024-03-1 ┆ 2024-03-1 ┆ … ┆ 40.774925 ┆ -73.98266 ┆ 16m 42s   ┆ 4.151522 │\n",
       "│           ┆           ┆ 5 11:44:1 ┆ 5 12:00:5 ┆   ┆           ┆ 6         ┆ 136ms     ┆          │\n",
       "│           ┆           ┆ 4.141     ┆ 6.277     ┆   ┆           ┆           ┆           ┆          │\n",
       "│ electric  ┆ member    ┆ 2024-03-1 ┆ 2024-03-1 ┆ … ┆ 40.688515 ┆ -73.96476 ┆ 31m 5s    ┆ 6.988988 │\n",
       "│           ┆           ┆ 8 16:50:2 ┆ 8 17:21:2 ┆   ┆           ┆ 3         ┆ 280ms     ┆          │\n",
       "│           ┆           ┆ 3.185     ┆ 8.465     ┆   ┆           ┆           ┆           ┆          │\n",
       "│ electric  ┆ member    ┆ 2024-03-2 ┆ 2024-03-2 ┆ … ┆ 40.72054  ┆ -73.959   ┆ 6m 21s    ┆ 1.29587  │\n",
       "│           ┆           ┆ 0 11:35:2 ┆ 0 11:41:4 ┆   ┆           ┆           ┆ 353ms     ┆          │\n",
       "│           ┆           ┆ 1.922     ┆ 3.275     ┆   ┆           ┆           ┆           ┆          │\n",
       "│ electric  ┆ member    ┆ 2024-03-1 ┆ 2024-03-1 ┆ … ┆ 40.72054  ┆ -73.959   ┆ 6m 4s     ┆ 1.352904 │\n",
       "│           ┆           ┆ 5 09:29:1 ┆ 5 09:35:2 ┆   ┆           ┆           ┆ 446ms     ┆          │\n",
       "│           ┆           ┆ 6.009     ┆ 0.455     ┆   ┆           ┆           ┆           ┆          │\n",
       "│ classic   ┆ member    ┆ 2024-03-1 ┆ 2024-03-1 ┆ … ┆ 40.745712 ┆ -73.98194 ┆ 6m 30s    ┆ 0.900394 │\n",
       "│           ┆           ┆ 8 14:51:2 ┆ 8 14:57:5 ┆   ┆           ┆ 8         ┆ 896ms     ┆          │\n",
       "│           ┆           ┆ 0.408     ┆ 1.304     ┆   ┆           ┆           ┆           ┆          │\n",
       "└───────────┴───────────┴───────────┴───────────┴───┴───────────┴───────────┴───────────┴──────────┘"
      ]
     },
     "execution_count": 29,
     "metadata": {},
     "output_type": "execute_result"
    }
   ],
   "source": [
    "trips"
   ]
  },
  {
   "cell_type": "code",
   "execution_count": null,
   "id": "c68fdccd-e5d2-4add-bfac-0167a18c20ea",
   "metadata": {},
   "outputs": [],
   "source": [
    "trips_final = (\n",
    "    trips.join(stations.select(pl.all().name.suffix(\"_start\")), on=\"station_start\")\n",
    "    .join(stations.select(pl.all().name.suffix(\"_end\")), on=\"station_end\")\n",
    "    .select(\n",
    " pl.col('bike_type').cast(pl.Categorical),\n",
    " pl.col('rider_type').cast(pl.Categorical),       \n",
    " 'datetime_start',\n",
    " 'datetime_end',\n",
    " 'duration',\n",
    " 'station_start',\n",
    " 'station_end',\n",
    " 'neighborhood_start',\n",
    " 'neighborhood_end',\n",
    " 'borough_start',\n",
    " 'borough_end',\n",
    " 'lat_start',\n",
    " 'lon_start', \n",
    " 'lat_end',\n",
    " 'lon_end',\n",
    " 'distance',\n",
    "    )\n",
    ")\n",
    "\n",
    "trips_final"
   ]
  },
  {
   "cell_type": "code",
   "execution_count": 15,
   "id": "8b90e748-b1b2-4654-a5e4-171c0bd8b70c",
   "metadata": {},
   "outputs": [],
   "source": [
    "trips_parts = (\n",
    "    trips_final\n",
    "    .sort(\"datetime_start\")\n",
    "    .with_columns(date=pl.col(\"datetime_start\").dt.date().cast(pl.String))\n",
    "    .partition_by([\"date\"], as_dict=True, include_key=False)\n",
    ")\n",
    "\n",
    "for key, df in trips_parts.items():\n",
    "    df.write_parquet(f\"data/biketrips/biketrips-{key[0]}.parquet\")"
   ]
  },
  {
   "cell_type": "code",
   "execution_count": null,
   "id": "68475cd0-18dd-448e-a650-6608935b5e31",
   "metadata": {},
   "outputs": [],
   "source": [
    "! ls data/biketrips"
   ]
  },
  {
   "cell_type": "code",
   "execution_count": 17,
   "id": "23453efa-92b9-4868-af7a-7a8e8a93a2c0",
   "metadata": {},
   "outputs": [],
   "source": [
    "all_trips = pl.read_parquet(\"data/biketrips/*.parquet\")"
   ]
  },
  {
   "cell_type": "code",
   "execution_count": null,
   "id": "4bd13dd2-db2f-42d4-8b76-5591ccbc291e",
   "metadata": {},
   "outputs": [],
   "source": [
    "all_trips"
   ]
  },
  {
   "cell_type": "markdown",
   "id": "8551a451-7ed0-40e7-bce0-7a9379337696",
   "metadata": {},
   "source": [
    "## Fin."
   ]
  },
  {
   "cell_type": "code",
   "execution_count": null,
   "id": "ccc00d46-605b-4413-8110-a5ae4d1141e8",
   "metadata": {},
   "outputs": [],
   "source": []
  }
 ],
 "metadata": {
  "kernelspec": {
   "display_name": "Python 3 (ipykernel)",
   "language": "python",
   "name": "python3"
  },
  "language_info": {
   "codemirror_mode": {
    "name": "ipython",
    "version": 3
   },
   "file_extension": ".py",
   "mimetype": "text/x-python",
   "name": "python",
   "nbconvert_exporter": "python",
   "pygments_lexer": "ipython3",
   "version": "3.11.8"
  }
 },
 "nbformat": 4,
 "nbformat_minor": 5
}
