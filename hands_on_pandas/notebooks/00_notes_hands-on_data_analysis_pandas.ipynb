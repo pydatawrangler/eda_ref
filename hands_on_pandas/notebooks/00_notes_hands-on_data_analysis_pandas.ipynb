{
 "cells": [
  {
   "cell_type": "markdown",
   "metadata": {},
   "source": [
    "# Hands-On Data Analysis with Pandas - Notes"
   ]
  },
  {
   "cell_type": "markdown",
   "metadata": {},
   "source": [
    "## Github Repos\n",
    "* Main Repo: https://github.com/stefmolin/Hands-On-Data-Analysis-with-Pandas-2nd-edition\n",
    "* Exercise Solutions:  https://github.com/stefmolin/Hands-On-Data-Analysis-with-Pandas-2nd-edition/tree/master/solutions"
   ]
  },
  {
   "cell_type": "markdown",
   "metadata": {},
   "source": [
    "## Other Links\n",
    "* Git: https://www.freecodecamp.org/news/learn-the-basics-of-git-in-under-10-minutes-da548267cc91/\n",
    "* Regex: https://regex101.com/\n",
    "* Named Entity Recognition: https://www.kdnuggets.com/2018/12/introduction-named-entity-recognition.html\n"
   ]
  },
  {
   "cell_type": "markdown",
   "metadata": {},
   "source": [
    "## Documentation Bookmarks:\n",
    "* `pandas.Series`: https://pandas.pydata.org/pandas-docs/stable/reference/api/pandas.Series.html\n",
    "* `pandas.DataFrame`: https://pandas.pydata.org/pandas-docs/stable/reference/api/pandas.DataFrame.html"
   ]
  },
  {
   "cell_type": "markdown",
   "metadata": {},
   "source": []
  }
 ],
 "metadata": {
  "kernelspec": {
   "display_name": "Python 3.9.12 ('base')",
   "language": "python",
   "name": "python3"
  },
  "language_info": {
   "name": "python",
   "version": "3.9.12"
  },
  "orig_nbformat": 4,
  "vscode": {
   "interpreter": {
    "hash": "4e2a16e01d22477b8a76cf6bfa9542f702ef2bc915e31611ad0591a0914323a6"
   }
  }
 },
 "nbformat": 4,
 "nbformat_minor": 2
}
