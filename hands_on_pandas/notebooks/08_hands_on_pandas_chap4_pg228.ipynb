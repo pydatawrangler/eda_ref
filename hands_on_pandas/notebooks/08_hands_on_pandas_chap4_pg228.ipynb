{
 "cells": [
  {
   "cell_type": "markdown",
   "metadata": {},
   "source": [
    "# Chapter 4 (continued)\n",
    "Starting on page 228 - Aggregating Data"
   ]
  },
  {
   "cell_type": "markdown",
   "metadata": {},
   "source": [
    "## Imports"
   ]
  },
  {
   "cell_type": "code",
   "execution_count": 1,
   "metadata": {},
   "outputs": [],
   "source": [
    "import numpy as np\n",
    "import pandas as pd"
   ]
  },
  {
   "cell_type": "markdown",
   "metadata": {},
   "source": [
    "## Aggregating data"
   ]
  },
  {
   "cell_type": "code",
   "execution_count": 2,
   "metadata": {},
   "outputs": [],
   "source": [
    "fb = pd.read_csv(\n",
    "    '../data/fb_2018.csv', index_col='date', parse_dates=True\n",
    ").assign(trading_volume=lambda df_: pd.cut(\n",
    "    df_.volume, bins=3, labels=['low', 'med', 'high']\n",
    "))"
   ]
  },
  {
   "cell_type": "code",
   "execution_count": 3,
   "metadata": {},
   "outputs": [],
   "source": [
    "weather = pd.read_csv(\n",
    "    '../data/weather_by_station.csv', index_col='date',\n",
    "    parse_dates=True\n",
    ")"
   ]
  },
  {
   "cell_type": "code",
   "execution_count": 5,
   "metadata": {},
   "outputs": [],
   "source": [
    "pd.set_option('display.float_format', lambda x: '%.2f' % x)"
   ]
  },
  {
   "attachments": {},
   "cell_type": "markdown",
   "metadata": {},
   "source": [
    "### Summarizing DataFrames"
   ]
  },
  {
   "cell_type": "code",
   "execution_count": 6,
   "metadata": {},
   "outputs": [
    {
     "data": {
      "text/plain": [
       "open            171.45\n",
       "high            218.62\n",
       "low             123.02\n",
       "close           171.51\n",
       "volume   6949682394.00\n",
       "dtype: float64"
      ]
     },
     "execution_count": 6,
     "metadata": {},
     "output_type": "execute_result"
    }
   ],
   "source": [
    "fb.agg({\n",
    "    'open': np.mean, 'high': np.max, 'low': np.min,\n",
    "    'close': np.mean, 'volume': np.sum\n",
    "})"
   ]
  },
  {
   "cell_type": "code",
   "execution_count": 7,
   "metadata": {},
   "outputs": [
    {
     "data": {
      "text/plain": [
       "datatype\n",
       "SNOW   1007.00\n",
       "PRCP   1665.30\n",
       "dtype: float64"
      ]
     },
     "execution_count": 7,
     "metadata": {},
     "output_type": "execute_result"
    }
   ],
   "source": [
    "(weather.query('station == \"GHCND:USW00094728\"')\n",
    " .pivot(columns='datatype', values='value')\n",
    " [['SNOW', 'PRCP']].sum()\n",
    ")"
   ]
  },
  {
   "cell_type": "code",
   "execution_count": 8,
   "metadata": {},
   "outputs": [
    {
     "data": {
      "text/html": [
       "<div>\n",
       "<style scoped>\n",
       "    .dataframe tbody tr th:only-of-type {\n",
       "        vertical-align: middle;\n",
       "    }\n",
       "\n",
       "    .dataframe tbody tr th {\n",
       "        vertical-align: top;\n",
       "    }\n",
       "\n",
       "    .dataframe thead th {\n",
       "        text-align: right;\n",
       "    }\n",
       "</style>\n",
       "<table border=\"1\" class=\"dataframe\">\n",
       "  <thead>\n",
       "    <tr style=\"text-align: right;\">\n",
       "      <th></th>\n",
       "      <th>open</th>\n",
       "      <th>high</th>\n",
       "      <th>low</th>\n",
       "      <th>close</th>\n",
       "    </tr>\n",
       "  </thead>\n",
       "  <tbody>\n",
       "    <tr>\n",
       "      <th>mean</th>\n",
       "      <td>171.45</td>\n",
       "      <td>NaN</td>\n",
       "      <td>NaN</td>\n",
       "      <td>171.51</td>\n",
       "    </tr>\n",
       "    <tr>\n",
       "      <th>min</th>\n",
       "      <td>NaN</td>\n",
       "      <td>129.74</td>\n",
       "      <td>123.02</td>\n",
       "      <td>NaN</td>\n",
       "    </tr>\n",
       "    <tr>\n",
       "      <th>max</th>\n",
       "      <td>NaN</td>\n",
       "      <td>218.62</td>\n",
       "      <td>214.27</td>\n",
       "      <td>NaN</td>\n",
       "    </tr>\n",
       "  </tbody>\n",
       "</table>\n",
       "</div>"
      ],
      "text/plain": [
       "       open   high    low  close\n",
       "mean 171.45    NaN    NaN 171.51\n",
       "min     NaN 129.74 123.02    NaN\n",
       "max     NaN 218.62 214.27    NaN"
      ]
     },
     "execution_count": 8,
     "metadata": {},
     "output_type": "execute_result"
    }
   ],
   "source": [
    "fb.agg({\n",
    "    'open': 'mean',\n",
    "    'high': ['min', 'max'],\n",
    "    'low': ['min', 'max'],\n",
    "    'close': 'mean'\n",
    "})"
   ]
  },
  {
   "cell_type": "markdown",
   "metadata": {},
   "source": [
    "### Aggregating by group"
   ]
  },
  {
   "cell_type": "code",
   "execution_count": 9,
   "metadata": {},
   "outputs": [
    {
     "data": {
      "text/html": [
       "<div>\n",
       "<style scoped>\n",
       "    .dataframe tbody tr th:only-of-type {\n",
       "        vertical-align: middle;\n",
       "    }\n",
       "\n",
       "    .dataframe tbody tr th {\n",
       "        vertical-align: top;\n",
       "    }\n",
       "\n",
       "    .dataframe thead th {\n",
       "        text-align: right;\n",
       "    }\n",
       "</style>\n",
       "<table border=\"1\" class=\"dataframe\">\n",
       "  <thead>\n",
       "    <tr style=\"text-align: right;\">\n",
       "      <th></th>\n",
       "      <th>open</th>\n",
       "      <th>high</th>\n",
       "      <th>low</th>\n",
       "      <th>close</th>\n",
       "      <th>volume</th>\n",
       "    </tr>\n",
       "    <tr>\n",
       "      <th>trading_volume</th>\n",
       "      <th></th>\n",
       "      <th></th>\n",
       "      <th></th>\n",
       "      <th></th>\n",
       "      <th></th>\n",
       "    </tr>\n",
       "  </thead>\n",
       "  <tbody>\n",
       "    <tr>\n",
       "      <th>low</th>\n",
       "      <td>171.36</td>\n",
       "      <td>173.46</td>\n",
       "      <td>169.31</td>\n",
       "      <td>171.43</td>\n",
       "      <td>24547207.71</td>\n",
       "    </tr>\n",
       "    <tr>\n",
       "      <th>med</th>\n",
       "      <td>175.82</td>\n",
       "      <td>179.42</td>\n",
       "      <td>172.11</td>\n",
       "      <td>175.14</td>\n",
       "      <td>79072559.12</td>\n",
       "    </tr>\n",
       "    <tr>\n",
       "      <th>high</th>\n",
       "      <td>167.73</td>\n",
       "      <td>170.48</td>\n",
       "      <td>161.57</td>\n",
       "      <td>168.16</td>\n",
       "      <td>141924023.33</td>\n",
       "    </tr>\n",
       "  </tbody>\n",
       "</table>\n",
       "</div>"
      ],
      "text/plain": [
       "                 open   high    low  close       volume\n",
       "trading_volume                                         \n",
       "low            171.36 173.46 169.31 171.43  24547207.71\n",
       "med            175.82 179.42 172.11 175.14  79072559.12\n",
       "high           167.73 170.48 161.57 168.16 141924023.33"
      ]
     },
     "execution_count": 9,
     "metadata": {},
     "output_type": "execute_result"
    }
   ],
   "source": [
    "fb.groupby('trading_volume').mean()"
   ]
  },
  {
   "cell_type": "code",
   "execution_count": 10,
   "metadata": {},
   "outputs": [
    {
     "data": {
      "text/html": [
       "<div>\n",
       "<style scoped>\n",
       "    .dataframe tbody tr th:only-of-type {\n",
       "        vertical-align: middle;\n",
       "    }\n",
       "\n",
       "    .dataframe tbody tr th {\n",
       "        vertical-align: top;\n",
       "    }\n",
       "\n",
       "    .dataframe thead th {\n",
       "        text-align: right;\n",
       "    }\n",
       "</style>\n",
       "<table border=\"1\" class=\"dataframe\">\n",
       "  <thead>\n",
       "    <tr style=\"text-align: right;\">\n",
       "      <th></th>\n",
       "      <th>min</th>\n",
       "      <th>max</th>\n",
       "      <th>mean</th>\n",
       "    </tr>\n",
       "    <tr>\n",
       "      <th>trading_volume</th>\n",
       "      <th></th>\n",
       "      <th></th>\n",
       "      <th></th>\n",
       "    </tr>\n",
       "  </thead>\n",
       "  <tbody>\n",
       "    <tr>\n",
       "      <th>low</th>\n",
       "      <td>124.06</td>\n",
       "      <td>214.67</td>\n",
       "      <td>171.43</td>\n",
       "    </tr>\n",
       "    <tr>\n",
       "      <th>med</th>\n",
       "      <td>152.22</td>\n",
       "      <td>217.50</td>\n",
       "      <td>175.14</td>\n",
       "    </tr>\n",
       "    <tr>\n",
       "      <th>high</th>\n",
       "      <td>160.06</td>\n",
       "      <td>176.26</td>\n",
       "      <td>168.16</td>\n",
       "    </tr>\n",
       "  </tbody>\n",
       "</table>\n",
       "</div>"
      ],
      "text/plain": [
       "                  min    max   mean\n",
       "trading_volume                     \n",
       "low            124.06 214.67 171.43\n",
       "med            152.22 217.50 175.14\n",
       "high           160.06 176.26 168.16"
      ]
     },
     "execution_count": 10,
     "metadata": {},
     "output_type": "execute_result"
    }
   ],
   "source": [
    "(fb\n",
    " .groupby('trading_volume')\n",
    " ['close'].agg(['min', 'max', 'mean'])\n",
    ")"
   ]
  },
  {
   "cell_type": "code",
   "execution_count": 17,
   "metadata": {},
   "outputs": [
    {
     "data": {
      "text/html": [
       "<div>\n",
       "<style scoped>\n",
       "    .dataframe tbody tr th:only-of-type {\n",
       "        vertical-align: middle;\n",
       "    }\n",
       "\n",
       "    .dataframe tbody tr th {\n",
       "        vertical-align: top;\n",
       "    }\n",
       "\n",
       "    .dataframe thead tr th {\n",
       "        text-align: left;\n",
       "    }\n",
       "\n",
       "    .dataframe thead tr:last-of-type th {\n",
       "        text-align: right;\n",
       "    }\n",
       "</style>\n",
       "<table border=\"1\" class=\"dataframe\">\n",
       "  <thead>\n",
       "    <tr>\n",
       "      <th></th>\n",
       "      <th>open</th>\n",
       "      <th colspan=\"2\" halign=\"left\">high</th>\n",
       "      <th colspan=\"2\" halign=\"left\">low</th>\n",
       "      <th>close</th>\n",
       "    </tr>\n",
       "    <tr>\n",
       "      <th></th>\n",
       "      <th>mean</th>\n",
       "      <th>min</th>\n",
       "      <th>max</th>\n",
       "      <th>min</th>\n",
       "      <th>max</th>\n",
       "      <th>mean</th>\n",
       "    </tr>\n",
       "    <tr>\n",
       "      <th>trading_volume</th>\n",
       "      <th></th>\n",
       "      <th></th>\n",
       "      <th></th>\n",
       "      <th></th>\n",
       "      <th></th>\n",
       "      <th></th>\n",
       "    </tr>\n",
       "  </thead>\n",
       "  <tbody>\n",
       "    <tr>\n",
       "      <th>low</th>\n",
       "      <td>171.36</td>\n",
       "      <td>129.74</td>\n",
       "      <td>216.20</td>\n",
       "      <td>123.02</td>\n",
       "      <td>212.60</td>\n",
       "      <td>171.43</td>\n",
       "    </tr>\n",
       "    <tr>\n",
       "      <th>med</th>\n",
       "      <td>175.82</td>\n",
       "      <td>162.85</td>\n",
       "      <td>218.62</td>\n",
       "      <td>150.75</td>\n",
       "      <td>214.27</td>\n",
       "      <td>175.14</td>\n",
       "    </tr>\n",
       "    <tr>\n",
       "      <th>high</th>\n",
       "      <td>167.73</td>\n",
       "      <td>161.10</td>\n",
       "      <td>180.13</td>\n",
       "      <td>149.02</td>\n",
       "      <td>173.75</td>\n",
       "      <td>168.16</td>\n",
       "    </tr>\n",
       "  </tbody>\n",
       "</table>\n",
       "</div>"
      ],
      "text/plain": [
       "                 open   high           low         close\n",
       "                 mean    min    max    min    max   mean\n",
       "trading_volume                                          \n",
       "low            171.36 129.74 216.20 123.02 212.60 171.43\n",
       "med            175.82 162.85 218.62 150.75 214.27 175.14\n",
       "high           167.73 161.10 180.13 149.02 173.75 168.16"
      ]
     },
     "execution_count": 17,
     "metadata": {},
     "output_type": "execute_result"
    }
   ],
   "source": [
    "fb_agg = (fb\n",
    " .groupby('trading_volume')\n",
    " .agg({\n",
    "     'open': 'mean', 'high': ['min', 'max'],\n",
    "     'low': ['min', 'max'], 'close': 'mean'\n",
    " })\n",
    ")\n",
    "fb_agg"
   ]
  },
  {
   "cell_type": "code",
   "execution_count": 13,
   "metadata": {},
   "outputs": [
    {
     "data": {
      "text/plain": [
       "150.75"
      ]
     },
     "execution_count": 13,
     "metadata": {},
     "output_type": "execute_result"
    }
   ],
   "source": [
    "fb_agg.loc['med', 'low']['min']"
   ]
  },
  {
   "cell_type": "code",
   "execution_count": 14,
   "metadata": {},
   "outputs": [
    {
     "data": {
      "text/plain": [
       "MultiIndex([( 'open', 'mean'),\n",
       "            ( 'high',  'min'),\n",
       "            ( 'high',  'max'),\n",
       "            (  'low',  'min'),\n",
       "            (  'low',  'max'),\n",
       "            ('close', 'mean')],\n",
       "           )"
      ]
     },
     "execution_count": 14,
     "metadata": {},
     "output_type": "execute_result"
    }
   ],
   "source": [
    "fb_agg.columns"
   ]
  },
  {
   "cell_type": "code",
   "execution_count": 18,
   "metadata": {},
   "outputs": [
    {
     "data": {
      "text/html": [
       "<div>\n",
       "<style scoped>\n",
       "    .dataframe tbody tr th:only-of-type {\n",
       "        vertical-align: middle;\n",
       "    }\n",
       "\n",
       "    .dataframe tbody tr th {\n",
       "        vertical-align: top;\n",
       "    }\n",
       "\n",
       "    .dataframe thead th {\n",
       "        text-align: right;\n",
       "    }\n",
       "</style>\n",
       "<table border=\"1\" class=\"dataframe\">\n",
       "  <thead>\n",
       "    <tr style=\"text-align: right;\">\n",
       "      <th></th>\n",
       "      <th>open_mean</th>\n",
       "      <th>high_min</th>\n",
       "      <th>high_max</th>\n",
       "      <th>low_min</th>\n",
       "      <th>low_max</th>\n",
       "      <th>close_mean</th>\n",
       "    </tr>\n",
       "    <tr>\n",
       "      <th>trading_volume</th>\n",
       "      <th></th>\n",
       "      <th></th>\n",
       "      <th></th>\n",
       "      <th></th>\n",
       "      <th></th>\n",
       "      <th></th>\n",
       "    </tr>\n",
       "  </thead>\n",
       "  <tbody>\n",
       "    <tr>\n",
       "      <th>low</th>\n",
       "      <td>171.36</td>\n",
       "      <td>129.74</td>\n",
       "      <td>216.20</td>\n",
       "      <td>123.02</td>\n",
       "      <td>212.60</td>\n",
       "      <td>171.43</td>\n",
       "    </tr>\n",
       "    <tr>\n",
       "      <th>med</th>\n",
       "      <td>175.82</td>\n",
       "      <td>162.85</td>\n",
       "      <td>218.62</td>\n",
       "      <td>150.75</td>\n",
       "      <td>214.27</td>\n",
       "      <td>175.14</td>\n",
       "    </tr>\n",
       "    <tr>\n",
       "      <th>high</th>\n",
       "      <td>167.73</td>\n",
       "      <td>161.10</td>\n",
       "      <td>180.13</td>\n",
       "      <td>149.02</td>\n",
       "      <td>173.75</td>\n",
       "      <td>168.16</td>\n",
       "    </tr>\n",
       "  </tbody>\n",
       "</table>\n",
       "</div>"
      ],
      "text/plain": [
       "                open_mean  high_min  high_max  low_min  low_max  close_mean\n",
       "trading_volume                                                             \n",
       "low                171.36    129.74    216.20   123.02   212.60      171.43\n",
       "med                175.82    162.85    218.62   150.75   214.27      175.14\n",
       "high               167.73    161.10    180.13   149.02   173.75      168.16"
      ]
     },
     "execution_count": 18,
     "metadata": {},
     "output_type": "execute_result"
    }
   ],
   "source": [
    "fb_agg.columns = ['_'.join(col_agg) for col_agg in fb_agg.columns]\n",
    "fb_agg.head()"
   ]
  },
  {
   "cell_type": "code",
   "execution_count": 22,
   "metadata": {},
   "outputs": [
    {
     "name": "stderr",
     "output_type": "stream",
     "text": [
      "/var/folders/gg/0m4l7pvs5zq9d8p4tzflypdc0000gn/T/ipykernel_6936/43659499.py:4: FutureWarning: The default value of numeric_only in DataFrameGroupBy.mean is deprecated. In a future version, numeric_only will default to False. Either specify numeric_only or select only columns which should be valid for the function.\n",
      "  .groupby(level=0).mean()\n"
     ]
    },
    {
     "data": {
      "text/plain": [
       "date\n",
       "2018-10-01    0.01\n",
       "2018-10-02    2.23\n",
       "2018-10-03   19.69\n",
       "2018-10-04    0.32\n",
       "2018-10-05    0.97\n",
       "2018-10-06    0.06\n",
       "2018-10-07    0.67\n",
       "2018-10-08    0.16\n",
       "2018-10-09    1.04\n",
       "2018-10-10    0.15\n",
       "2018-10-11    3.00\n",
       "2018-10-12   34.77\n",
       "2018-10-13    1.90\n",
       "2018-10-14    1.49\n",
       "2018-10-15    1.06\n",
       "2018-10-16    2.49\n",
       "2018-10-17    0.03\n",
       "2018-10-18    0.01\n",
       "2018-10-19    0.00\n",
       "2018-10-20    1.89\n",
       "2018-10-21    0.54\n",
       "2018-10-22    0.02\n",
       "2018-10-23    0.01\n",
       "2018-10-24    0.09\n",
       "2018-10-25    0.00\n",
       "2018-10-26    0.02\n",
       "2018-10-27   18.42\n",
       "2018-10-28   12.66\n",
       "2018-10-29    1.76\n",
       "2018-10-30    0.17\n",
       "2018-10-31    0.01\n",
       "Name: value, dtype: float64"
      ]
     },
     "execution_count": 22,
     "metadata": {},
     "output_type": "execute_result"
    }
   ],
   "source": [
    "(weather\n",
    " .loc['2018-10']\n",
    " .query('datatype == \"PRCP\"')\n",
    " .groupby(level=0).mean()\n",
    " .squeeze()\n",
    " )"
   ]
  },
  {
   "cell_type": "code",
   "execution_count": 25,
   "metadata": {},
   "outputs": [
    {
     "name": "stderr",
     "output_type": "stream",
     "text": [
      "/var/folders/gg/0m4l7pvs5zq9d8p4tzflypdc0000gn/T/ipykernel_6936/1952782215.py:4: FutureWarning: The default value of numeric_only in DataFrameGroupBy.sum is deprecated. In a future version, numeric_only will default to False. Either specify numeric_only or select only columns which should be valid for the function.\n",
      "  .sum()\n"
     ]
    },
    {
     "data": {
      "text/html": [
       "<div>\n",
       "<style scoped>\n",
       "    .dataframe tbody tr th:only-of-type {\n",
       "        vertical-align: middle;\n",
       "    }\n",
       "\n",
       "    .dataframe tbody tr th {\n",
       "        vertical-align: top;\n",
       "    }\n",
       "\n",
       "    .dataframe thead tr th {\n",
       "        text-align: left;\n",
       "    }\n",
       "\n",
       "    .dataframe thead tr:last-of-type th {\n",
       "        text-align: right;\n",
       "    }\n",
       "</style>\n",
       "<table border=\"1\" class=\"dataframe\">\n",
       "  <thead>\n",
       "    <tr>\n",
       "      <th></th>\n",
       "      <th colspan=\"4\" halign=\"left\">value</th>\n",
       "    </tr>\n",
       "    <tr>\n",
       "      <th>date</th>\n",
       "      <th>2018-03-31</th>\n",
       "      <th>2018-06-30</th>\n",
       "      <th>2018-09-30</th>\n",
       "      <th>2018-12-31</th>\n",
       "    </tr>\n",
       "    <tr>\n",
       "      <th>station_name</th>\n",
       "      <th></th>\n",
       "      <th></th>\n",
       "      <th></th>\n",
       "      <th></th>\n",
       "    </tr>\n",
       "  </thead>\n",
       "  <tbody>\n",
       "    <tr>\n",
       "      <th>WANTAGH 1.1 NNE, NY US</th>\n",
       "      <td>279.90</td>\n",
       "      <td>216.80</td>\n",
       "      <td>472.50</td>\n",
       "      <td>277.20</td>\n",
       "    </tr>\n",
       "    <tr>\n",
       "      <th>STATEN ISLAND 1.4 SE, NY US</th>\n",
       "      <td>379.40</td>\n",
       "      <td>295.30</td>\n",
       "      <td>438.80</td>\n",
       "      <td>409.90</td>\n",
       "    </tr>\n",
       "    <tr>\n",
       "      <th>SYOSSET 2.0 SSW, NY US</th>\n",
       "      <td>323.50</td>\n",
       "      <td>263.30</td>\n",
       "      <td>355.50</td>\n",
       "      <td>459.90</td>\n",
       "    </tr>\n",
       "    <tr>\n",
       "      <th>STAMFORD 4.2 S, CT US</th>\n",
       "      <td>338.00</td>\n",
       "      <td>272.10</td>\n",
       "      <td>424.70</td>\n",
       "      <td>390.00</td>\n",
       "    </tr>\n",
       "    <tr>\n",
       "      <th>WAYNE TWP 0.8 SSW, NJ US</th>\n",
       "      <td>246.20</td>\n",
       "      <td>295.30</td>\n",
       "      <td>620.90</td>\n",
       "      <td>422.00</td>\n",
       "    </tr>\n",
       "  </tbody>\n",
       "</table>\n",
       "</div>"
      ],
      "text/plain": [
       "                                 value                                 \n",
       "date                        2018-03-31 2018-06-30 2018-09-30 2018-12-31\n",
       "station_name                                                           \n",
       "WANTAGH 1.1 NNE, NY US          279.90     216.80     472.50     277.20\n",
       "STATEN ISLAND 1.4 SE, NY US     379.40     295.30     438.80     409.90\n",
       "SYOSSET 2.0 SSW, NY US          323.50     263.30     355.50     459.90\n",
       "STAMFORD 4.2 S, CT US           338.00     272.10     424.70     390.00\n",
       "WAYNE TWP 0.8 SSW, NJ US        246.20     295.30     620.90     422.00"
      ]
     },
     "execution_count": 25,
     "metadata": {},
     "output_type": "execute_result"
    }
   ],
   "source": [
    "(weather\n",
    " .query('datatype == \"PRCP\"')\n",
    " .groupby(['station_name', pd.Grouper(freq='Q')])\n",
    " .sum()\n",
    " .unstack()\n",
    " .sample(5, random_state=1)\n",
    " )"
   ]
  },
  {
   "cell_type": "code",
   "execution_count": 29,
   "metadata": {},
   "outputs": [
    {
     "name": "stderr",
     "output_type": "stream",
     "text": [
      "/var/folders/gg/0m4l7pvs5zq9d8p4tzflypdc0000gn/T/ipykernel_6936/1137786562.py:3: FutureWarning: The default value of numeric_only in DataFrameGroupBy.mean is deprecated. In a future version, numeric_only will default to False. Either specify numeric_only or select only columns which should be valid for the function.\n",
      "  .groupby(level=0).mean()\n"
     ]
    },
    {
     "data": {
      "text/plain": [
       "date\n",
       "2018-11-30   210.59\n",
       "2018-09-30   193.09\n",
       "2018-08-31   192.45\n",
       "2018-07-31   160.98\n",
       "2018-02-28   158.11\n",
       "Name: value, dtype: float64"
      ]
     },
     "execution_count": 29,
     "metadata": {},
     "output_type": "execute_result"
    }
   ],
   "source": [
    "(weather\n",
    " .query('datatype == \"PRCP\"')\n",
    " .groupby(level=0).mean()\n",
    " .groupby(pd.Grouper(freq='M'))\n",
    " .sum()\n",
    " .value\n",
    " .nlargest()\n",
    " )"
   ]
  },
  {
   "cell_type": "code",
   "execution_count": 35,
   "metadata": {},
   "outputs": [
    {
     "name": "stderr",
     "output_type": "stream",
     "text": [
      "/var/folders/gg/0m4l7pvs5zq9d8p4tzflypdc0000gn/T/ipykernel_6936/1354283936.py:5: FutureWarning: The default value of numeric_only in DataFrameGroupBy.mean is deprecated. In a future version, numeric_only will default to False. Either specify numeric_only or select only columns which should be valid for the function.\n",
      "  .mean()\n"
     ]
    },
    {
     "data": {
      "text/html": [
       "<div>\n",
       "<style scoped>\n",
       "    .dataframe tbody tr th:only-of-type {\n",
       "        vertical-align: middle;\n",
       "    }\n",
       "\n",
       "    .dataframe tbody tr th {\n",
       "        vertical-align: top;\n",
       "    }\n",
       "\n",
       "    .dataframe thead th {\n",
       "        text-align: right;\n",
       "    }\n",
       "</style>\n",
       "<table border=\"1\" class=\"dataframe\">\n",
       "  <thead>\n",
       "    <tr style=\"text-align: right;\">\n",
       "      <th></th>\n",
       "      <th>prcp</th>\n",
       "    </tr>\n",
       "    <tr>\n",
       "      <th>date</th>\n",
       "      <th></th>\n",
       "    </tr>\n",
       "  </thead>\n",
       "  <tbody>\n",
       "    <tr>\n",
       "      <th>2018-01-28</th>\n",
       "      <td>69.31</td>\n",
       "    </tr>\n",
       "    <tr>\n",
       "      <th>2018-01-29</th>\n",
       "      <td>69.31</td>\n",
       "    </tr>\n",
       "    <tr>\n",
       "      <th>2018-01-30</th>\n",
       "      <td>69.31</td>\n",
       "    </tr>\n",
       "    <tr>\n",
       "      <th>2018-01-31</th>\n",
       "      <td>69.31</td>\n",
       "    </tr>\n",
       "    <tr>\n",
       "      <th>2018-02-01</th>\n",
       "      <td>158.11</td>\n",
       "    </tr>\n",
       "    <tr>\n",
       "      <th>2018-02-02</th>\n",
       "      <td>158.11</td>\n",
       "    </tr>\n",
       "    <tr>\n",
       "      <th>2018-02-03</th>\n",
       "      <td>158.11</td>\n",
       "    </tr>\n",
       "  </tbody>\n",
       "</table>\n",
       "</div>"
      ],
      "text/plain": [
       "             prcp\n",
       "date             \n",
       "2018-01-28  69.31\n",
       "2018-01-29  69.31\n",
       "2018-01-30  69.31\n",
       "2018-01-31  69.31\n",
       "2018-02-01 158.11\n",
       "2018-02-02 158.11\n",
       "2018-02-03 158.11"
      ]
     },
     "execution_count": 35,
     "metadata": {},
     "output_type": "execute_result"
    }
   ],
   "source": [
    "(weather\n",
    " .query('datatype == \"PRCP\"')\n",
    " .rename(dict(value='prcp'), axis=1)\n",
    " .groupby(level=0)\n",
    " .mean()\n",
    " .groupby(pd.Grouper(freq='M'))\n",
    " .transform(np.sum)\n",
    " ['2018-01-28':'2018-02-03']\n",
    " )"
   ]
  },
  {
   "cell_type": "code",
   "execution_count": 39,
   "metadata": {},
   "outputs": [
    {
     "name": "stderr",
     "output_type": "stream",
     "text": [
      "/var/folders/gg/0m4l7pvs5zq9d8p4tzflypdc0000gn/T/ipykernel_6936/1741163927.py:4: FutureWarning: The default value of numeric_only in DataFrameGroupBy.mean is deprecated. In a future version, numeric_only will default to False. Either specify numeric_only or select only columns which should be valid for the function.\n",
      "  .groupby(level=0).mean()\n"
     ]
    },
    {
     "data": {
      "text/html": [
       "<div>\n",
       "<style scoped>\n",
       "    .dataframe tbody tr th:only-of-type {\n",
       "        vertical-align: middle;\n",
       "    }\n",
       "\n",
       "    .dataframe tbody tr th {\n",
       "        vertical-align: top;\n",
       "    }\n",
       "\n",
       "    .dataframe thead th {\n",
       "        text-align: right;\n",
       "    }\n",
       "</style>\n",
       "<table border=\"1\" class=\"dataframe\">\n",
       "  <thead>\n",
       "    <tr style=\"text-align: right;\">\n",
       "      <th></th>\n",
       "      <th>prcp</th>\n",
       "      <th>total_prcp_in_month</th>\n",
       "      <th>pct_monthly_prcp</th>\n",
       "    </tr>\n",
       "    <tr>\n",
       "      <th>date</th>\n",
       "      <th></th>\n",
       "      <th></th>\n",
       "      <th></th>\n",
       "    </tr>\n",
       "  </thead>\n",
       "  <tbody>\n",
       "    <tr>\n",
       "      <th>2018-10-12</th>\n",
       "      <td>34.77</td>\n",
       "      <td>105.63</td>\n",
       "      <td>0.33</td>\n",
       "    </tr>\n",
       "    <tr>\n",
       "      <th>2018-01-13</th>\n",
       "      <td>21.66</td>\n",
       "      <td>69.31</td>\n",
       "      <td>0.31</td>\n",
       "    </tr>\n",
       "    <tr>\n",
       "      <th>2018-03-02</th>\n",
       "      <td>38.77</td>\n",
       "      <td>137.46</td>\n",
       "      <td>0.28</td>\n",
       "    </tr>\n",
       "    <tr>\n",
       "      <th>2018-04-16</th>\n",
       "      <td>39.34</td>\n",
       "      <td>140.57</td>\n",
       "      <td>0.28</td>\n",
       "    </tr>\n",
       "    <tr>\n",
       "      <th>2018-04-17</th>\n",
       "      <td>37.30</td>\n",
       "      <td>140.57</td>\n",
       "      <td>0.27</td>\n",
       "    </tr>\n",
       "  </tbody>\n",
       "</table>\n",
       "</div>"
      ],
      "text/plain": [
       "            prcp  total_prcp_in_month  pct_monthly_prcp\n",
       "date                                                   \n",
       "2018-10-12 34.77               105.63              0.33\n",
       "2018-01-13 21.66                69.31              0.31\n",
       "2018-03-02 38.77               137.46              0.28\n",
       "2018-04-16 39.34               140.57              0.28\n",
       "2018-04-17 37.30               140.57              0.27"
      ]
     },
     "execution_count": 39,
     "metadata": {},
     "output_type": "execute_result"
    }
   ],
   "source": [
    "(weather\n",
    " .query('datatype == \"PRCP\"')\n",
    " .rename(dict(value='prcp'), axis=1)\n",
    " .groupby(level=0).mean()\n",
    " .assign(\n",
    "     total_prcp_in_month=lambda df_: df_.groupby(\n",
    "         pd.Grouper(freq='M')).transform(np.sum),\n",
    "     pct_monthly_prcp=lambda df_: df_.prcp.div(df_.total_prcp_in_month)\n",
    " )\n",
    " .nlargest(5, 'pct_monthly_prcp')\n",
    " )"
   ]
  },
  {
   "cell_type": "markdown",
   "metadata": {},
   "source": [
    "### Pivot tables and crosstabs"
   ]
  },
  {
   "cell_type": "code",
   "execution_count": 40,
   "metadata": {},
   "outputs": [],
   "source": [
    "# pg 238 (243 of PDF)"
   ]
  },
  {
   "cell_type": "code",
   "execution_count": null,
   "metadata": {},
   "outputs": [],
   "source": []
  }
 ],
 "metadata": {
  "kernelspec": {
   "display_name": "eda",
   "language": "python",
   "name": "python3"
  },
  "language_info": {
   "codemirror_mode": {
    "name": "ipython",
    "version": 3
   },
   "file_extension": ".py",
   "mimetype": "text/x-python",
   "name": "python",
   "nbconvert_exporter": "python",
   "pygments_lexer": "ipython3",
   "version": "3.11.0"
  },
  "orig_nbformat": 4,
  "vscode": {
   "interpreter": {
    "hash": "93112beb41490c0d2975fac6ef4ec8c5ba79ceaa8098658f94538ce4bb21d06f"
   }
  }
 },
 "nbformat": 4,
 "nbformat_minor": 2
}
