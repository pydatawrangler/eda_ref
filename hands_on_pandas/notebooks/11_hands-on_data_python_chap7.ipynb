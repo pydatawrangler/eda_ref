{
 "cells": [
  {
   "cell_type": "markdown",
   "id": "7f679e76-ac22-4e8f-9578-7ca8bc86d008",
   "metadata": {},
   "source": [
    "# Chapter 7 - Financial Analysis"
   ]
  },
  {
   "cell_type": "markdown",
   "id": "7e3a28ac-b90f-4735-a10d-e1b83c518879",
   "metadata": {},
   "source": [
    "The reference files for this chapter are here: \n",
    "https://github.com/stefmolin/stock-analysis/tree/2nd_edition"
   ]
  },
  {
   "cell_type": "code",
   "execution_count": null,
   "id": "08ca52b6-633b-4c25-a760-5507f4f0800d",
   "metadata": {},
   "outputs": [],
   "source": []
  }
 ],
 "metadata": {
  "kernelspec": {
   "display_name": "Python [conda env:eda]",
   "language": "python",
   "name": "conda-env-eda-py"
  },
  "language_info": {
   "codemirror_mode": {
    "name": "ipython",
    "version": 3
   },
   "file_extension": ".py",
   "mimetype": "text/x-python",
   "name": "python",
   "nbconvert_exporter": "python",
   "pygments_lexer": "ipython3",
   "version": "3.11.0"
  }
 },
 "nbformat": 4,
 "nbformat_minor": 5
}
