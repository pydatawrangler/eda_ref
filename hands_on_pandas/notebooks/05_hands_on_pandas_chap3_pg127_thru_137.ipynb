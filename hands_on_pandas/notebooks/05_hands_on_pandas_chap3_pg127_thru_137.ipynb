{
 "cells": [
  {
   "cell_type": "markdown",
   "metadata": {},
   "source": [
    "# Chapter 3"
   ]
  },
  {
   "cell_type": "markdown",
   "metadata": {},
   "source": [
    "## Imports"
   ]
  },
  {
   "cell_type": "code",
   "execution_count": 1,
   "metadata": {},
   "outputs": [],
   "source": [
    "import requests\n",
    "import pprint\n",
    "import pandas as pd"
   ]
  },
  {
   "cell_type": "markdown",
   "metadata": {},
   "source": [
    "## Exploring an API to find and collect temperature data"
   ]
  },
  {
   "cell_type": "code",
   "execution_count": 2,
   "metadata": {},
   "outputs": [],
   "source": [
    "def make_request(endpoint, payload=None):\n",
    "    \"\"\"\n",
    "    Make a request to a specific endpoint on the\n",
    "    weather API passing headers and optional payload.\n",
    "    \n",
    "    Parameters:\n",
    "        - endpoint: The endpoint of the API you want to\n",
    "                    make a GET request to.\n",
    "        - payload:  A dictionary of data to pass along\n",
    "                    with the request.\n",
    "    \n",
    "    returns:\n",
    "        A response object.\n",
    "    \"\"\"\n",
    "    return requests.get(\n",
    "        'https://www.ncdc.noaa.gov/cdo-web/'\n",
    "        f'api/v2/{endpoint}',\n",
    "        headers={'token': 'jzZnLpQjvZhVYseBfrCwSXgoIXTCyTbE'},\n",
    "        params=payload\n",
    "    )"
   ]
  },
  {
   "cell_type": "code",
   "execution_count": 3,
   "metadata": {},
   "outputs": [],
   "source": [
    "response = make_request(\n",
    "    'datasets',\n",
    "    {'startdate': '2018-10-01'}\n",
    ")"
   ]
  },
  {
   "cell_type": "code",
   "execution_count": 4,
   "metadata": {},
   "outputs": [
    {
     "data": {
      "text/plain": [
       "200"
      ]
     },
     "execution_count": null,
     "metadata": {},
     "output_type": "execute_result"
    }
   ],
   "source": [
    "response.status_code"
   ]
  },
  {
   "cell_type": "code",
   "execution_count": 5,
   "metadata": {},
   "outputs": [
    {
     "data": {
      "text/plain": [
       "True"
      ]
     },
     "execution_count": null,
     "metadata": {},
     "output_type": "execute_result"
    }
   ],
   "source": [
    "response.ok"
   ]
  },
  {
   "cell_type": "code",
   "execution_count": 6,
   "metadata": {},
   "outputs": [],
   "source": [
    "payload=response.json()"
   ]
  },
  {
   "cell_type": "code",
   "execution_count": 7,
   "metadata": {},
   "outputs": [
    {
     "data": {
      "text/plain": [
       "dict_keys(['metadata', 'results'])"
      ]
     },
     "execution_count": null,
     "metadata": {},
     "output_type": "execute_result"
    }
   ],
   "source": [
    "payload.keys()"
   ]
  },
  {
   "cell_type": "code",
   "execution_count": 8,
   "metadata": {},
   "outputs": [
    {
     "data": {
      "text/plain": [
       "{'resultset': {'offset': 1, 'count': 11, 'limit': 25}}"
      ]
     },
     "execution_count": null,
     "metadata": {},
     "output_type": "execute_result"
    }
   ],
   "source": [
    "payload['metadata']"
   ]
  },
  {
   "cell_type": "code",
   "execution_count": 9,
   "metadata": {},
   "outputs": [
    {
     "data": {
      "text/plain": [
       "dict_keys(['uid', 'mindate', 'maxdate', 'name', 'datacoverage', 'id'])"
      ]
     },
     "execution_count": null,
     "metadata": {},
     "output_type": "execute_result"
    }
   ],
   "source": [
    "payload['results'][0].keys()"
   ]
  },
  {
   "cell_type": "code",
   "execution_count": 10,
   "metadata": {},
   "outputs": [
    {
     "data": {
      "text/plain": [
       "[('GHCND', 'Daily Summaries'),\n",
       " ('GSOM', 'Global Summary of the Month'),\n",
       " ('GSOY', 'Global Summary of the Year'),\n",
       " ('NEXRAD2', 'Weather Radar (Level II)'),\n",
       " ('NEXRAD3', 'Weather Radar (Level III)'),\n",
       " ('NORMAL_ANN', 'Normals Annual/Seasonal'),\n",
       " ('NORMAL_DLY', 'Normals Daily'),\n",
       " ('NORMAL_HLY', 'Normals Hourly'),\n",
       " ('NORMAL_MLY', 'Normals Monthly'),\n",
       " ('PRECIP_15', 'Precipitation 15 Minute'),\n",
       " ('PRECIP_HLY', 'Precipitation Hourly')]"
      ]
     },
     "execution_count": null,
     "metadata": {},
     "output_type": "execute_result"
    }
   ],
   "source": [
    "[(data['id'], data['name']) for data in payload['results']]"
   ]
  },
  {
   "cell_type": "code",
   "execution_count": 11,
   "metadata": {},
   "outputs": [],
   "source": [
    "response = make_request(\n",
    "    'datacategories', payload={'datasetid': 'GHCND'}\n",
    ")"
   ]
  },
  {
   "cell_type": "code",
   "execution_count": 12,
   "metadata": {},
   "outputs": [
    {
     "data": {
      "text/plain": [
       "200"
      ]
     },
     "execution_count": null,
     "metadata": {},
     "output_type": "execute_result"
    }
   ],
   "source": [
    "response.status_code"
   ]
  },
  {
   "cell_type": "code",
   "execution_count": 13,
   "metadata": {},
   "outputs": [
    {
     "data": {
      "text/plain": [
       "[{'name': 'Evaporation', 'id': 'EVAP'},\n",
       " {'name': 'Land', 'id': 'LAND'},\n",
       " {'name': 'Precipitation', 'id': 'PRCP'},\n",
       " {'name': 'Sky cover & clouds', 'id': 'SKY'},\n",
       " {'name': 'Sunshine', 'id': 'SUN'},\n",
       " {'name': 'Air Temperature', 'id': 'TEMP'},\n",
       " {'name': 'Water', 'id': 'WATER'},\n",
       " {'name': 'Wind', 'id': 'WIND'},\n",
       " {'name': 'Weather Type', 'id': 'WXTYPE'}]"
      ]
     },
     "execution_count": null,
     "metadata": {},
     "output_type": "execute_result"
    }
   ],
   "source": [
    "response.json()['results']"
   ]
  },
  {
   "cell_type": "code",
   "execution_count": 14,
   "metadata": {},
   "outputs": [],
   "source": [
    "response = make_request(\n",
    "    'datatypes',\n",
    "    payload={'datacategoryid': 'TEMP', 'limit': 100}\n",
    ")"
   ]
  },
  {
   "cell_type": "code",
   "execution_count": 15,
   "metadata": {},
   "outputs": [
    {
     "data": {
      "text/plain": [
       "200"
      ]
     },
     "execution_count": null,
     "metadata": {},
     "output_type": "execute_result"
    }
   ],
   "source": [
    "response.status_code"
   ]
  },
  {
   "cell_type": "code",
   "execution_count": 16,
   "metadata": {},
   "outputs": [
    {
     "data": {
      "text/plain": [
       "[('CDSD', 'Cooling Degree Days Season to Date'),\n",
       " ('DATN',\n",
       "  'Number of days included in the multiday minimum temperature (MDTN)'),\n",
       " ('DATX',\n",
       "  'Number of days included in the multiday maximum temperature (MDTX)'),\n",
       " ('DLY-DUTR-NORMAL', 'Long-term averages of daily diurnal temperature range'),\n",
       " ('DLY-DUTR-STDDEV',\n",
       "  'Long-term standard deviations of daily diurnal temperature range'),\n",
       " ('DLY-TAVG-NORMAL', 'Long-term averages of daily average temperature'),\n",
       " ('DLY-TAVG-STDDEV',\n",
       "  'Long-term standard deviations of daily average temperature'),\n",
       " ('DLY-TMAX-NORMAL', 'Long-term averages of daily maximum temperature'),\n",
       " ('DLY-TMAX-STDDEV',\n",
       "  'Long-term standard deviations of daily maximum temperature'),\n",
       " ('DLY-TMIN-NORMAL', 'Long-term averages of daily minimum temperature'),\n",
       " ('DLY-TMIN-STDDEV',\n",
       "  'Long-term standard deviations of daily minimum temperature'),\n",
       " ('EMNT', 'Extreme minimum temperature for the period.'),\n",
       " ('EMXT', 'Extreme maximum temperature for the period.'),\n",
       " ('HDSD', 'Heating Degree Days Season to Date'),\n",
       " ('HLY-DEWP-10PCTL', 'Dew point 10th percentile'),\n",
       " ('HLY-DEWP-90PCTL', 'Dew point 90th percentile'),\n",
       " ('HLY-DEWP-NORMAL', 'Dew point mean'),\n",
       " ('HLY-HIDX-NORMAL', 'Heat index mean'),\n",
       " ('HLY-TEMP-10PCTL', 'Temperature 10th percentile'),\n",
       " ('HLY-TEMP-90PCTL', 'Temperature 90th percentile'),\n",
       " ('HLY-TEMP-NORMAL', 'Temperature mean'),\n",
       " ('HLY-WCHL-NORMAL', 'Wind chill mean'),\n",
       " ('HTMN', 'Highest minimum temperature'),\n",
       " ('HTMX', 'Highest maximum temperature'),\n",
       " ('LTMN', 'Lowest minimum temperature'),\n",
       " ('LTMX', 'Lowest maximum temperature'),\n",
       " ('MDTN', 'Multiday minimum temperature (use with DATN)'),\n",
       " ('MDTX', 'Multiday maximum temperature (use with DATX)'),\n",
       " ('MLY-DUTR-NORMAL',\n",
       "  'Long-term averages of monthly diurnal temperature range'),\n",
       " ('MLY-DUTR-STDDEV',\n",
       "  'Long-term standard deviations of monthly diurnal temperature range'),\n",
       " ('MLY-TAVG-NORMAL', 'Long-term averages of monthly average temperature'),\n",
       " ('MLY-TAVG-STDDEV',\n",
       "  'Long-term standard deviations of monthly average temperature'),\n",
       " ('MLY-TMAX-AVGNDS-GRTH040',\n",
       "  'Long-term average number of days per month where tmax is greater than or equal to 40F'),\n",
       " ('MLY-TMAX-AVGNDS-GRTH050',\n",
       "  'Long-term average number of days per month where tmax is greater than or equal to 50F'),\n",
       " ('MLY-TMAX-AVGNDS-GRTH060',\n",
       "  'Long-term average number of days per month where tmax is greater than or equal to 60F'),\n",
       " ('MLY-TMAX-AVGNDS-GRTH070',\n",
       "  'Long-term average number of days per month where tmax is greater than or equal to 70F'),\n",
       " ('MLY-TMAX-AVGNDS-GRTH080',\n",
       "  'Long-term average number of days per month where tmax is greater than or equal to 80F'),\n",
       " ('MLY-TMAX-AVGNDS-GRTH090',\n",
       "  'Long-term average number of days per month where tmax is greater than or equal to 90F'),\n",
       " ('MLY-TMAX-AVGNDS-GRTH100',\n",
       "  'Long-term average number of days per month where tmax is greater than or equal to 100F'),\n",
       " ('MLY-TMAX-AVGNDS-LSTH032',\n",
       "  'Long-term average number of days per month where tmax is less than or equal to 32F'),\n",
       " ('MLY-TMAX-NORMAL', 'Long-term averages of monthly maximum temperature'),\n",
       " ('MLY-TMAX-STDDEV',\n",
       "  'Long-term standard deviations of monthly maximum temperature'),\n",
       " ('MLY-TMIN-AVGNDS-LSTH000',\n",
       "  'Long-term average number of days per month where tmin is less than or equal to 0F'),\n",
       " ('MLY-TMIN-AVGNDS-LSTH010',\n",
       "  'Long-term average number of days per month where tmin is less than or equal to 10F'),\n",
       " ('MLY-TMIN-AVGNDS-LSTH020',\n",
       "  'Long-term average number of days per month where tmin is less than or equal to 20F'),\n",
       " ('MLY-TMIN-AVGNDS-LSTH032',\n",
       "  'Long-term average number of days per month where tmin is less than or equal to 32F'),\n",
       " ('MLY-TMIN-AVGNDS-LSTH040',\n",
       "  'Long-term average number of days per month where tmin is less than or equal to 40F'),\n",
       " ('MLY-TMIN-AVGNDS-LSTH050',\n",
       "  'Long-term average number of days per month where tmin is less than or equal to 50F'),\n",
       " ('MLY-TMIN-AVGNDS-LSTH060',\n",
       "  'Long-term average number of days per month where tmin is less than or equal to 60F'),\n",
       " ('MLY-TMIN-AVGNDS-LSTH070',\n",
       "  'Long-term average number of days per month where tmin is less than or equal to 70F'),\n",
       " ('MLY-TMIN-NORMAL', 'Long-term averages of monthly minimum temperature'),\n",
       " ('MLY-TMIN-STDDEV',\n",
       "  'Long-term standard deviations of monthly minimum temperature'),\n",
       " ('MMNT', 'Monthly Mean minimum temperature'),\n",
       " ('MMXT', 'Monthly Mean maximum temperature'),\n",
       " ('MNTM', 'Monthly mean temperature'),\n",
       " ('TAVG', 'Average Temperature.'),\n",
       " ('TMAX', 'Maximum temperature'),\n",
       " ('TMIN', 'Minimum temperature'),\n",
       " ('TOBS', 'Temperature at the time of observation')]"
      ]
     },
     "execution_count": null,
     "metadata": {},
     "output_type": "execute_result"
    }
   ],
   "source": [
    "[(datatype['id'], datatype['name'])\n",
    "for datatype in response.json()['results']]"
   ]
  },
  {
   "cell_type": "code",
   "execution_count": 17,
   "metadata": {},
   "outputs": [],
   "source": [
    "response = make_request(\n",
    "    'locationcategories', payload={'datasetid': 'GHCND'}\n",
    ")"
   ]
  },
  {
   "cell_type": "code",
   "execution_count": 18,
   "metadata": {},
   "outputs": [
    {
     "data": {
      "text/plain": [
       "200"
      ]
     },
     "execution_count": null,
     "metadata": {},
     "output_type": "execute_result"
    }
   ],
   "source": [
    "response.status_code"
   ]
  },
  {
   "cell_type": "code",
   "execution_count": 19,
   "metadata": {},
   "outputs": [
    {
     "name": "stdout",
     "output_type": "stream",
     "text": [
      "{'metadata': {'resultset': {'count': 12, 'limit': 25, 'offset': 1}},\n",
      " 'results': [{'id': 'CITY', 'name': 'City'},\n",
      "             {'id': 'CLIM_DIV', 'name': 'Climate Division'},\n",
      "             {'id': 'CLIM_REG', 'name': 'Climate Region'},\n",
      "             {'id': 'CNTRY', 'name': 'Country'},\n",
      "             {'id': 'CNTY', 'name': 'County'},\n",
      "             {'id': 'HYD_ACC', 'name': 'Hydrologic Accounting Unit'},\n",
      "             {'id': 'HYD_CAT', 'name': 'Hydrologic Cataloging Unit'},\n",
      "             {'id': 'HYD_REG', 'name': 'Hydrologic Region'},\n",
      "             {'id': 'HYD_SUB', 'name': 'Hydrologic Subregion'},\n",
      "             {'id': 'ST', 'name': 'State'},\n",
      "             {'id': 'US_TERR', 'name': 'US Territory'},\n",
      "             {'id': 'ZIP', 'name': 'Zip Code'}]}\n"
     ]
    }
   ],
   "source": [
    "pprint.pprint(response.json())"
   ]
  },
  {
   "cell_type": "code",
   "execution_count": 22,
   "metadata": {},
   "outputs": [],
   "source": [
    "def get_item(name, what, endpoint, start=1, end=None):\n",
    "    \"\"\"\n",
    "    Grab the JSON payload using binary search.\n",
    "    \n",
    "    Parameters:\n",
    "        - name: The item to look for.\n",
    "        - what: Dictionary specifying what item `name` is.\n",
    "        - endpoint: Where to look for the item.\n",
    "        - start: The position to start at.  We don't need\n",
    "          to touch this, but the function will manipulate\n",
    "          this with recursion.\n",
    "        - end: The last position of the items. Used to\n",
    "          find the midpoint, but like `start` this is not\n",
    "          something we need to worry about.\n",
    "          \n",
    "    Returns: Dictionary of the information for the item\n",
    "             if found, otherwise an empty dictionary.\n",
    "    \"\"\"\n",
    "    # find the midpoint to cut the data in half each time\n",
    "    mid = (start + (end or 1)) // 2\n",
    "    \n",
    "    # lowercase the name so this is not case-sensitive\n",
    "    name = name.lower()\n",
    "    \n",
    "    # define the payload wewill send with each request\n",
    "    payload = {\n",
    "        'datasetid': 'GHCND', 'sortfield': 'name',\n",
    "        'offset': mid, # we'll change the offset each time\n",
    "        'limit': 1 # we only want one value back\n",
    "    }\n",
    "    \n",
    "    # make request adding additional filters from `what`\n",
    "    response = make_request(endpoint, {**payload, **what})\n",
    "    \n",
    "    if response.ok:\n",
    "        payload = response.json()\n",
    "        \n",
    "        # if ok, grab the end index from the response\n",
    "        # metadata the first time through\n",
    "        end = end or \\\n",
    "            payload['metadata']['resultset']['count']\n",
    "        \n",
    "        # grab the lowercase version of the current name\n",
    "        current_name = \\\n",
    "            payload['results'][0]['name'].lower()\n",
    "        \n",
    "        # if what we are searching for is in the current\n",
    "        # name, we have found our item\n",
    "        if name in current_name:\n",
    "            # return the found item\n",
    "            return payload['results'][0]\n",
    "        else:\n",
    "            if start >= end:\n",
    "                # if start index is greater than or equal\n",
    "                # to end index, we couldn't find it\n",
    "                return {}\n",
    "            elif name < current_name:\n",
    "                # name comes before the current name in the\n",
    "                # alphabet => search further to the left\n",
    "                return get_item(name, what, endpoint,\n",
    "                               start, mid - 1)\n",
    "            elif name > current_name:\n",
    "                # name comes after the current name in the\n",
    "                # alphabet => searh further to the right\n",
    "                return get_item(name, what, endpoint, \n",
    "                               mid + 1, end)\n",
    "    else:\n",
    "        # response wasn't ok, use code to determine why\n",
    "        print('Response not OK, '\n",
    "             f'status: {response.status_code}')"
   ]
  },
  {
   "cell_type": "code",
   "execution_count": 23,
   "metadata": {},
   "outputs": [],
   "source": [
    "nyc = get_item('New York',\n",
    "               {'locationcategoryid': 'CITY'},\n",
    "               'locations'\n",
    "              )"
   ]
  },
  {
   "cell_type": "code",
   "execution_count": null,
   "metadata": {},
   "outputs": [],
   "source": [
    "nyc"
   ]
  },
  {
   "cell_type": "code",
   "execution_count": 25,
   "metadata": {},
   "outputs": [],
   "source": [
    "central_park = get_item('NY City Central Park',\n",
    "                       {'locationid': nyc['id']},\n",
    "                       'stations'\n",
    "                       )"
   ]
  },
  {
   "cell_type": "code",
   "execution_count": null,
   "metadata": {},
   "outputs": [],
   "source": [
    "central_park"
   ]
  },
  {
   "cell_type": "code",
   "execution_count": 27,
   "metadata": {},
   "outputs": [],
   "source": [
    "response = make_request('data',\n",
    "                       {'datasetid': 'GHCND',\n",
    "                       'stationid': central_park['id'],\n",
    "                       'locationid': nyc['id'],\n",
    "                       'startdate': '2018-10-01',\n",
    "                       'enddate': '2018-10-31',\n",
    "                       'datatypeid': ['TAVG', 'TMAX', 'TMIN'],\n",
    "                       'units': 'metric',\n",
    "                       'limit': 1000}\n",
    "                       )"
   ]
  },
  {
   "cell_type": "code",
   "execution_count": null,
   "metadata": {},
   "outputs": [],
   "source": [
    "response.status_code"
   ]
  },
  {
   "cell_type": "code",
   "execution_count": null,
   "metadata": {},
   "outputs": [],
   "source": [
    "df = pd.DataFrame(response.json()['results'])\n",
    "df.head()"
   ]
  },
  {
   "cell_type": "code",
   "execution_count": null,
   "metadata": {},
   "outputs": [],
   "source": [
    "df.datatype.unique()"
   ]
  },
  {
   "cell_type": "code",
   "execution_count": null,
   "metadata": {},
   "outputs": [],
   "source": [
    "if get_item('NY City Central Park',\n",
    "           {'locationid': nyc['id'],\n",
    "           'datatypeid': 'TAVG'},\n",
    "           'stations'\n",
    "           ):\n",
    "    print('Found!')"
   ]
  },
  {
   "cell_type": "code",
   "execution_count": null,
   "metadata": {},
   "outputs": [],
   "source": []
  }
 ],
 "metadata": {
  "kernelspec": {
   "display_name": "Python [conda env:eda] *",
   "language": "python",
   "name": "conda-env-eda-py"
  },
  "language_info": {
   "name": "python"
  },
  "vscode": {
   "interpreter": {
    "hash": "e4e9a9bd7fe3b67c37d95b02ca44811f76f2375d64d667386a234801a70b9f70"
   }
  }
 },
 "nbformat": 4,
 "nbformat_minor": 4
}
