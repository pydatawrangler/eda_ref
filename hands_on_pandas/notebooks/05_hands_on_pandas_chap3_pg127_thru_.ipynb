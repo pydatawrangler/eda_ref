{
 "cells": [
  {
   "attachments": {},
   "cell_type": "markdown",
   "metadata": {},
   "source": [
    "# Chapter 3"
   ]
  },
  {
   "cell_type": "markdown",
   "metadata": {},
   "source": [
    "## Imports"
   ]
  },
  {
   "cell_type": "code",
   "execution_count": 19,
   "metadata": {},
   "outputs": [],
   "source": [
    "import requests\n",
    "import pprint"
   ]
  },
  {
   "attachments": {},
   "cell_type": "markdown",
   "metadata": {},
   "source": [
    "## Exploring an API to find and collect temperature data"
   ]
  },
  {
   "cell_type": "code",
   "execution_count": 2,
   "metadata": {},
   "outputs": [],
   "source": [
    "def make_request(endpoint, payload=None):\n",
    "    \"\"\"\n",
    "    Make a request to a specific endpoint on the\n",
    "    weather API passing headers and optional payload.\n",
    "    \n",
    "    Parameters:\n",
    "        - endpoint: The endpoint of the API you want to\n",
    "                    make a GET request to.\n",
    "        - payload:  A dictionary of data to pass along\n",
    "                    with the request.\n",
    "    \n",
    "    returns:\n",
    "        A response object.\n",
    "    \"\"\"\n",
    "    return requests.get(\n",
    "        'https://www.ncdc.noaa.gov/cdo-web/'\n",
    "        f'api/v2/{endpoint}',\n",
    "        headers={'token': 'jzZnLpQjvZhVYseBfrCwSXgoIXTCyTbE'},\n",
    "        params=payload\n",
    "    )"
   ]
  },
  {
   "cell_type": "code",
   "execution_count": 3,
   "metadata": {},
   "outputs": [],
   "source": [
    "response = make_request(\n",
    "    'datasets',\n",
    "    {'startdate': '2018-10-01'}\n",
    ")"
   ]
  },
  {
   "cell_type": "code",
   "execution_count": 4,
   "metadata": {},
   "outputs": [
    {
     "data": {
      "text/plain": [
       "200"
      ]
     },
     "execution_count": 4,
     "metadata": {},
     "output_type": "execute_result"
    }
   ],
   "source": [
    "response.status_code"
   ]
  },
  {
   "cell_type": "code",
   "execution_count": 5,
   "metadata": {},
   "outputs": [
    {
     "data": {
      "text/plain": [
       "True"
      ]
     },
     "execution_count": 5,
     "metadata": {},
     "output_type": "execute_result"
    }
   ],
   "source": [
    "response.ok"
   ]
  },
  {
   "cell_type": "code",
   "execution_count": 6,
   "metadata": {},
   "outputs": [],
   "source": [
    "payload=response.json()"
   ]
  },
  {
   "cell_type": "code",
   "execution_count": 7,
   "metadata": {},
   "outputs": [
    {
     "data": {
      "text/plain": [
       "dict_keys(['metadata', 'results'])"
      ]
     },
     "execution_count": 7,
     "metadata": {},
     "output_type": "execute_result"
    }
   ],
   "source": [
    "payload.keys()"
   ]
  },
  {
   "cell_type": "code",
   "execution_count": 8,
   "metadata": {},
   "outputs": [
    {
     "data": {
      "text/plain": [
       "{'resultset': {'offset': 1, 'count': 11, 'limit': 25}}"
      ]
     },
     "execution_count": 8,
     "metadata": {},
     "output_type": "execute_result"
    }
   ],
   "source": [
    "payload['metadata']"
   ]
  },
  {
   "cell_type": "code",
   "execution_count": 9,
   "metadata": {},
   "outputs": [
    {
     "data": {
      "text/plain": [
       "dict_keys(['uid', 'mindate', 'maxdate', 'name', 'datacoverage', 'id'])"
      ]
     },
     "execution_count": 9,
     "metadata": {},
     "output_type": "execute_result"
    }
   ],
   "source": [
    "payload['results'][0].keys()"
   ]
  },
  {
   "cell_type": "code",
   "execution_count": 10,
   "metadata": {},
   "outputs": [
    {
     "data": {
      "text/plain": [
       "[('GHCND', 'Daily Summaries'),\n",
       " ('GSOM', 'Global Summary of the Month'),\n",
       " ('GSOY', 'Global Summary of the Year'),\n",
       " ('NEXRAD2', 'Weather Radar (Level II)'),\n",
       " ('NEXRAD3', 'Weather Radar (Level III)'),\n",
       " ('NORMAL_ANN', 'Normals Annual/Seasonal'),\n",
       " ('NORMAL_DLY', 'Normals Daily'),\n",
       " ('NORMAL_HLY', 'Normals Hourly'),\n",
       " ('NORMAL_MLY', 'Normals Monthly'),\n",
       " ('PRECIP_15', 'Precipitation 15 Minute'),\n",
       " ('PRECIP_HLY', 'Precipitation Hourly')]"
      ]
     },
     "execution_count": 10,
     "metadata": {},
     "output_type": "execute_result"
    }
   ],
   "source": [
    "[(data['id'], data['name']) for data in payload['results']]"
   ]
  },
  {
   "cell_type": "code",
   "execution_count": 11,
   "metadata": {},
   "outputs": [],
   "source": [
    "response = make_request(\n",
    "    'datacategories', payload={'datasetid': 'GHCND'}\n",
    ")"
   ]
  },
  {
   "cell_type": "code",
   "execution_count": 12,
   "metadata": {},
   "outputs": [
    {
     "data": {
      "text/plain": [
       "200"
      ]
     },
     "execution_count": 12,
     "metadata": {},
     "output_type": "execute_result"
    }
   ],
   "source": [
    "response.status_code"
   ]
  },
  {
   "cell_type": "code",
   "execution_count": 13,
   "metadata": {},
   "outputs": [
    {
     "data": {
      "text/plain": [
       "[{'name': 'Evaporation', 'id': 'EVAP'},\n",
       " {'name': 'Land', 'id': 'LAND'},\n",
       " {'name': 'Precipitation', 'id': 'PRCP'},\n",
       " {'name': 'Sky cover & clouds', 'id': 'SKY'},\n",
       " {'name': 'Sunshine', 'id': 'SUN'},\n",
       " {'name': 'Air Temperature', 'id': 'TEMP'},\n",
       " {'name': 'Water', 'id': 'WATER'},\n",
       " {'name': 'Wind', 'id': 'WIND'},\n",
       " {'name': 'Weather Type', 'id': 'WXTYPE'}]"
      ]
     },
     "execution_count": 13,
     "metadata": {},
     "output_type": "execute_result"
    }
   ],
   "source": [
    "response.json()['results']"
   ]
  },
  {
   "cell_type": "code",
   "execution_count": 14,
   "metadata": {},
   "outputs": [],
   "source": [
    "response = make_request(\n",
    "    'datatypes',\n",
    "    payload={'datacategoryid': 'TEMP', 'limit': 100}\n",
    ")"
   ]
  },
  {
   "cell_type": "code",
   "execution_count": 15,
   "metadata": {},
   "outputs": [
    {
     "data": {
      "text/plain": [
       "200"
      ]
     },
     "execution_count": 15,
     "metadata": {},
     "output_type": "execute_result"
    }
   ],
   "source": [
    "response.status_code"
   ]
  },
  {
   "cell_type": "code",
   "execution_count": 16,
   "metadata": {},
   "outputs": [
    {
     "data": {
      "text/plain": [
       "[('CDSD', 'Cooling Degree Days Season to Date'),\n",
       " ('DATN',\n",
       "  'Number of days included in the multiday minimum temperature (MDTN)'),\n",
       " ('DATX',\n",
       "  'Number of days included in the multiday maximum temperature (MDTX)'),\n",
       " ('DLY-DUTR-NORMAL', 'Long-term averages of daily diurnal temperature range'),\n",
       " ('DLY-DUTR-STDDEV',\n",
       "  'Long-term standard deviations of daily diurnal temperature range'),\n",
       " ('DLY-TAVG-NORMAL', 'Long-term averages of daily average temperature'),\n",
       " ('DLY-TAVG-STDDEV',\n",
       "  'Long-term standard deviations of daily average temperature'),\n",
       " ('DLY-TMAX-NORMAL', 'Long-term averages of daily maximum temperature'),\n",
       " ('DLY-TMAX-STDDEV',\n",
       "  'Long-term standard deviations of daily maximum temperature'),\n",
       " ('DLY-TMIN-NORMAL', 'Long-term averages of daily minimum temperature'),\n",
       " ('DLY-TMIN-STDDEV',\n",
       "  'Long-term standard deviations of daily minimum temperature'),\n",
       " ('EMNT', 'Extreme minimum temperature for the period.'),\n",
       " ('EMXT', 'Extreme maximum temperature for the period.'),\n",
       " ('HDSD', 'Heating Degree Days Season to Date'),\n",
       " ('HLY-DEWP-10PCTL', 'Dew point 10th percentile'),\n",
       " ('HLY-DEWP-90PCTL', 'Dew point 90th percentile'),\n",
       " ('HLY-DEWP-NORMAL', 'Dew point mean'),\n",
       " ('HLY-HIDX-NORMAL', 'Heat index mean'),\n",
       " ('HLY-TEMP-10PCTL', 'Temperature 10th percentile'),\n",
       " ('HLY-TEMP-90PCTL', 'Temperature 90th percentile'),\n",
       " ('HLY-TEMP-NORMAL', 'Temperature mean'),\n",
       " ('HLY-WCHL-NORMAL', 'Wind chill mean'),\n",
       " ('HTMN', 'Highest minimum temperature'),\n",
       " ('HTMX', 'Highest maximum temperature'),\n",
       " ('LTMN', 'Lowest minimum temperature'),\n",
       " ('LTMX', 'Lowest maximum temperature'),\n",
       " ('MDTN', 'Multiday minimum temperature (use with DATN)'),\n",
       " ('MDTX', 'Multiday maximum temperature (use with DATX)'),\n",
       " ('MLY-DUTR-NORMAL',\n",
       "  'Long-term averages of monthly diurnal temperature range'),\n",
       " ('MLY-DUTR-STDDEV',\n",
       "  'Long-term standard deviations of monthly diurnal temperature range'),\n",
       " ('MLY-TAVG-NORMAL', 'Long-term averages of monthly average temperature'),\n",
       " ('MLY-TAVG-STDDEV',\n",
       "  'Long-term standard deviations of monthly average temperature'),\n",
       " ('MLY-TMAX-AVGNDS-GRTH040',\n",
       "  'Long-term average number of days per month where tmax is greater than or equal to 40F'),\n",
       " ('MLY-TMAX-AVGNDS-GRTH050',\n",
       "  'Long-term average number of days per month where tmax is greater than or equal to 50F'),\n",
       " ('MLY-TMAX-AVGNDS-GRTH060',\n",
       "  'Long-term average number of days per month where tmax is greater than or equal to 60F'),\n",
       " ('MLY-TMAX-AVGNDS-GRTH070',\n",
       "  'Long-term average number of days per month where tmax is greater than or equal to 70F'),\n",
       " ('MLY-TMAX-AVGNDS-GRTH080',\n",
       "  'Long-term average number of days per month where tmax is greater than or equal to 80F'),\n",
       " ('MLY-TMAX-AVGNDS-GRTH090',\n",
       "  'Long-term average number of days per month where tmax is greater than or equal to 90F'),\n",
       " ('MLY-TMAX-AVGNDS-GRTH100',\n",
       "  'Long-term average number of days per month where tmax is greater than or equal to 100F'),\n",
       " ('MLY-TMAX-AVGNDS-LSTH032',\n",
       "  'Long-term average number of days per month where tmax is less than or equal to 32F'),\n",
       " ('MLY-TMAX-NORMAL', 'Long-term averages of monthly maximum temperature'),\n",
       " ('MLY-TMAX-STDDEV',\n",
       "  'Long-term standard deviations of monthly maximum temperature'),\n",
       " ('MLY-TMIN-AVGNDS-LSTH000',\n",
       "  'Long-term average number of days per month where tmin is less than or equal to 0F'),\n",
       " ('MLY-TMIN-AVGNDS-LSTH010',\n",
       "  'Long-term average number of days per month where tmin is less than or equal to 10F'),\n",
       " ('MLY-TMIN-AVGNDS-LSTH020',\n",
       "  'Long-term average number of days per month where tmin is less than or equal to 20F'),\n",
       " ('MLY-TMIN-AVGNDS-LSTH032',\n",
       "  'Long-term average number of days per month where tmin is less than or equal to 32F'),\n",
       " ('MLY-TMIN-AVGNDS-LSTH040',\n",
       "  'Long-term average number of days per month where tmin is less than or equal to 40F'),\n",
       " ('MLY-TMIN-AVGNDS-LSTH050',\n",
       "  'Long-term average number of days per month where tmin is less than or equal to 50F'),\n",
       " ('MLY-TMIN-AVGNDS-LSTH060',\n",
       "  'Long-term average number of days per month where tmin is less than or equal to 60F'),\n",
       " ('MLY-TMIN-AVGNDS-LSTH070',\n",
       "  'Long-term average number of days per month where tmin is less than or equal to 70F'),\n",
       " ('MLY-TMIN-NORMAL', 'Long-term averages of monthly minimum temperature'),\n",
       " ('MLY-TMIN-STDDEV',\n",
       "  'Long-term standard deviations of monthly minimum temperature'),\n",
       " ('MMNT', 'Monthly Mean minimum temperature'),\n",
       " ('MMXT', 'Monthly Mean maximum temperature'),\n",
       " ('MNTM', 'Monthly mean temperature'),\n",
       " ('TAVG', 'Average Temperature.'),\n",
       " ('TMAX', 'Maximum temperature'),\n",
       " ('TMIN', 'Minimum temperature'),\n",
       " ('TOBS', 'Temperature at the time of observation')]"
      ]
     },
     "execution_count": 16,
     "metadata": {},
     "output_type": "execute_result"
    }
   ],
   "source": [
    "[(datatype['id'], datatype['name'])\n",
    "for datatype in response.json()['results']]"
   ]
  },
  {
   "cell_type": "code",
   "execution_count": 17,
   "metadata": {},
   "outputs": [],
   "source": [
    "response = make_request(\n",
    "    'locationcategories', payload={'datasetid': 'GHCND'}\n",
    ")"
   ]
  },
  {
   "cell_type": "code",
   "execution_count": 18,
   "metadata": {},
   "outputs": [
    {
     "data": {
      "text/plain": [
       "200"
      ]
     },
     "execution_count": 18,
     "metadata": {},
     "output_type": "execute_result"
    }
   ],
   "source": [
    "response.status_code"
   ]
  },
  {
   "cell_type": "code",
   "execution_count": 20,
   "metadata": {},
   "outputs": [
    {
     "name": "stdout",
     "output_type": "stream",
     "text": [
      "{'metadata': {'resultset': {'count': 12, 'limit': 25, 'offset': 1}},\n",
      " 'results': [{'id': 'CITY', 'name': 'City'},\n",
      "             {'id': 'CLIM_DIV', 'name': 'Climate Division'},\n",
      "             {'id': 'CLIM_REG', 'name': 'Climate Region'},\n",
      "             {'id': 'CNTRY', 'name': 'Country'},\n",
      "             {'id': 'CNTY', 'name': 'County'},\n",
      "             {'id': 'HYD_ACC', 'name': 'Hydrologic Accounting Unit'},\n",
      "             {'id': 'HYD_CAT', 'name': 'Hydrologic Cataloging Unit'},\n",
      "             {'id': 'HYD_REG', 'name': 'Hydrologic Region'},\n",
      "             {'id': 'HYD_SUB', 'name': 'Hydrologic Subregion'},\n",
      "             {'id': 'ST', 'name': 'State'},\n",
      "             {'id': 'US_TERR', 'name': 'US Territory'},\n",
      "             {'id': 'ZIP', 'name': 'Zip Code'}]}\n"
     ]
    }
   ],
   "source": [
    "pprint.pprint(response.json())"
   ]
  },
  {
   "cell_type": "code",
   "execution_count": null,
   "metadata": {},
   "outputs": [],
   "source": [
    "# Stopped at page 132"
   ]
  }
 ],
 "metadata": {
  "kernelspec": {
   "display_name": "eda",
   "language": "python",
   "name": "python3"
  },
  "language_info": {
   "codemirror_mode": {
    "name": "ipython",
    "version": 3
   },
   "file_extension": ".py",
   "mimetype": "text/x-python",
   "name": "python",
   "nbconvert_exporter": "python",
   "pygments_lexer": "ipython3",
   "version": "3.10.8"
  },
  "orig_nbformat": 4,
  "vscode": {
   "interpreter": {
    "hash": "e4e9a9bd7fe3b67c37d95b02ca44811f76f2375d64d667386a234801a70b9f70"
   }
  }
 },
 "nbformat": 4,
 "nbformat_minor": 2
}
