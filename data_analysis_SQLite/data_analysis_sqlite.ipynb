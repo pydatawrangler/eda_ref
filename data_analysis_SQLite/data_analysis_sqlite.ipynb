{
 "cells": [
  {
   "cell_type": "code",
   "execution_count": 1,
   "metadata": {},
   "outputs": [],
   "source": [
    "import sqlite3"
   ]
  },
  {
   "cell_type": "code",
   "execution_count": 2,
   "metadata": {},
   "outputs": [],
   "source": [
    "db = sqlite3.connect(\"content.db\")"
   ]
  },
  {
   "cell_type": "code",
   "execution_count": 3,
   "metadata": {},
   "outputs": [
    {
     "name": "stdout",
     "output_type": "stream",
     "text": [
      "[('3.40.0',)]\n"
     ]
    }
   ],
   "source": [
    "print(db.execute(\"select sqlite_version()\").fetchall())"
   ]
  },
  {
   "cell_type": "code",
   "execution_count": 4,
   "metadata": {},
   "outputs": [
    {
     "name": "stdout",
     "output_type": "stream",
     "text": [
      "('simonw/datasette-ripgrep', '[\"Search\"]', None)\n",
      "('simonw/datasette-graphql', '[\"API\", \"Template\"]', None)\n",
      "('simonw/datasette-cluster-map', '[\"Visualization\", \"Geospatial\", \"Leaflet\", \"Maps\"]', None)\n",
      "('simonw/datasette-vega', '[\"Visualization\"]', 'plot chart graph')\n",
      "('simonw/datasette-auth-github', '[\"Authentication\"]', None)\n",
      "('simonw/datasette-json-html', '[\"Render Cell\"]', None)\n",
      "('simonw/datasette-render-images', '[\"Render Cell\"]', None)\n",
      "('simonw/datasette-css-properties', '[\"Output\"]', None)\n",
      "('simonw/datasette-copyable', '[\"Output\"]', None)\n",
      "('simonw/datasette-media', '[\"Ops\"]', None)\n"
     ]
    }
   ],
   "source": [
    "for row in db.execute(\"SELECT * FROM plugin_repos LIMIT 10\"):\n",
    "    print(row)"
   ]
  },
  {
   "cell_type": "code",
   "execution_count": 5,
   "metadata": {},
   "outputs": [],
   "source": [
    "db.row_factory = sqlite3.Row"
   ]
  },
  {
   "cell_type": "code",
   "execution_count": 6,
   "metadata": {},
   "outputs": [
    {
     "name": "stdout",
     "output_type": "stream",
     "text": [
      "<sqlite3.Row object at 0x10670e9b0>\n",
      "<sqlite3.Row object at 0x10670e5f0>\n",
      "<sqlite3.Row object at 0x10670e9b0>\n",
      "<sqlite3.Row object at 0x10670e5f0>\n",
      "<sqlite3.Row object at 0x10670e9b0>\n",
      "<sqlite3.Row object at 0x10670e5f0>\n",
      "<sqlite3.Row object at 0x10670e9b0>\n",
      "<sqlite3.Row object at 0x10670e5f0>\n",
      "<sqlite3.Row object at 0x10670e9b0>\n",
      "<sqlite3.Row object at 0x10670ead0>\n"
     ]
    }
   ],
   "source": [
    "for row in db.execute(\"SELECT * FROM plugin_repos LIMIT 10\"):\n",
    "    print(row)"
   ]
  },
  {
   "cell_type": "code",
   "execution_count": 7,
   "metadata": {},
   "outputs": [
    {
     "name": "stdout",
     "output_type": "stream",
     "text": [
      "{'repo': 'simonw/datasette-ripgrep', 'tags': '[\"Search\"]', 'extra_search': None}\n",
      "{'repo': 'simonw/datasette-graphql', 'tags': '[\"API\", \"Template\"]', 'extra_search': None}\n",
      "{'repo': 'simonw/datasette-cluster-map', 'tags': '[\"Visualization\", \"Geospatial\", \"Leaflet\", \"Maps\"]', 'extra_search': None}\n",
      "{'repo': 'simonw/datasette-vega', 'tags': '[\"Visualization\"]', 'extra_search': 'plot chart graph'}\n",
      "{'repo': 'simonw/datasette-auth-github', 'tags': '[\"Authentication\"]', 'extra_search': None}\n",
      "{'repo': 'simonw/datasette-json-html', 'tags': '[\"Render Cell\"]', 'extra_search': None}\n",
      "{'repo': 'simonw/datasette-render-images', 'tags': '[\"Render Cell\"]', 'extra_search': None}\n",
      "{'repo': 'simonw/datasette-css-properties', 'tags': '[\"Output\"]', 'extra_search': None}\n",
      "{'repo': 'simonw/datasette-copyable', 'tags': '[\"Output\"]', 'extra_search': None}\n",
      "{'repo': 'simonw/datasette-media', 'tags': '[\"Ops\"]', 'extra_search': None}\n"
     ]
    }
   ],
   "source": [
    "for row in db.execute(\"SELECT * FROM plugin_repos LIMIT 10\"):\n",
    "    print(dict(row))"
   ]
  },
  {
   "cell_type": "code",
   "execution_count": 8,
   "metadata": {},
   "outputs": [
    {
     "data": {
      "text/plain": [
       "<sqlite3.Cursor at 0x10a84f9c0>"
      ]
     },
     "execution_count": 8,
     "metadata": {},
     "output_type": "execute_result"
    }
   ],
   "source": [
    "db.execute(\"\"\"\n",
    "           create table peps (\n",
    "               id integer primary key,\n",
    "               title text,\n",
    "               author text,\n",
    "               status text,\n",
    "               type text,\n",
    "               created text,\n",
    "               body text\n",
    "           );\n",
    "           \"\"\")"
   ]
  },
  {
   "cell_type": "code",
   "execution_count": 9,
   "metadata": {},
   "outputs": [],
   "source": [
    "def parse_pep(s):\n",
    "    intro, body = s.split(\"\\n\\n\", 1)\n",
    "    pep = {}\n",
    "    current_key = None\n",
    "    current_value = None\n",
    "    for line in intro.split(\"\\n\"):\n",
    "        # If the line starts with whitespace, it's a continuation of the previous value\n",
    "        if line.startswith(\" \") or line.startswith(\"\\t\"):\n",
    "            if current_key is not None:\n",
    "                current_value += \" \" + line.strip()\n",
    "                pep[current_key] = current_value.strip()\n",
    "        else:\n",
    "            # Split the line into key and value\n",
    "            parts = line.split(\": \", 1)\n",
    "            if len(parts) == 2:\n",
    "                key, value = parts\n",
    "                # Update the current key and value\n",
    "                current_key = key\n",
    "                current_value = value\n",
    "                # Add the key-value pair to the pep dictionary\n",
    "                pep[current_key] = current_value.strip()\n",
    "    pep[\"Body\"] = body.strip()\n",
    "    return pep"
   ]
  },
  {
   "cell_type": "code",
   "execution_count": 10,
   "metadata": {},
   "outputs": [],
   "source": [
    "import urllib"
   ]
  },
  {
   "cell_type": "code",
   "execution_count": 12,
   "metadata": {},
   "outputs": [],
   "source": [
    "zen = urllib.request.urlopen(\n",
    "    \"https://raw.githubusercontent.com/python/peps/main/pep-0020.txt\"\n",
    ").read().decode(\"utf-8\")\n",
    "\n",
    "pep = parse_pep(zen)"
   ]
  },
  {
   "cell_type": "code",
   "execution_count": 13,
   "metadata": {},
   "outputs": [
    {
     "data": {
      "text/plain": [
       "<sqlite3.Cursor at 0x10b237dc0>"
      ]
     },
     "execution_count": 13,
     "metadata": {},
     "output_type": "execute_result"
    }
   ],
   "source": [
    "db.execute(\"\"\"\n",
    "           insert into peps (\n",
    "               id, title, author, status, type, created, body\n",
    "           ) values (\n",
    "               ?, ?, ?, ?, ?, ?, ?\n",
    "           )\n",
    "           \"\"\", (\n",
    "               pep[\"PEP\"],\n",
    "               pep[\"Title\"],\n",
    "               pep[\"Author\"],\n",
    "               pep[\"Status\"],\n",
    "               pep[\"Type\"],\n",
    "               pep[\"Created\"],\n",
    "               pep[\"Body\"],\n",
    "           ))"
   ]
  },
  {
   "cell_type": "code",
   "execution_count": 14,
   "metadata": {},
   "outputs": [
    {
     "name": "stdout",
     "output_type": "stream",
     "text": [
      "[<sqlite3.Row object at 0x10ae9f010>]\n"
     ]
    }
   ],
   "source": [
    "print(db.execute(\"select * from peps\").fetchall())"
   ]
  },
  {
   "cell_type": "code",
   "execution_count": 15,
   "metadata": {},
   "outputs": [],
   "source": [
    "with db:\n",
    "    db.execute(\"\"\"\n",
    "               update peps set author = ?\n",
    "               where id = ?\n",
    "               \"\"\", [\"Tim Peters\", 20])"
   ]
  },
  {
   "cell_type": "code",
   "execution_count": 16,
   "metadata": {},
   "outputs": [
    {
     "name": "stdout",
     "output_type": "stream",
     "text": [
      "[<sqlite3.Row object at 0x1067eff70>]\n"
     ]
    }
   ],
   "source": [
    "print(db.execute(\"select * from peps\").fetchall())"
   ]
  },
  {
   "cell_type": "code",
   "execution_count": null,
   "metadata": {},
   "outputs": [],
   "source": []
  }
 ],
 "metadata": {
  "kernelspec": {
   "display_name": "eda",
   "language": "python",
   "name": "python3"
  },
  "language_info": {
   "codemirror_mode": {
    "name": "ipython",
    "version": 3
   },
   "file_extension": ".py",
   "mimetype": "text/x-python",
   "name": "python",
   "nbconvert_exporter": "python",
   "pygments_lexer": "ipython3",
   "version": "3.11.0"
  },
  "orig_nbformat": 4
 },
 "nbformat": 4,
 "nbformat_minor": 2
}
