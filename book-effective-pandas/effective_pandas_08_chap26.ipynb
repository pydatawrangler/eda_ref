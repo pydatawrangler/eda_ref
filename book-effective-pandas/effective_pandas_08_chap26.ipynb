{
 "cells": [
  {
   "cell_type": "markdown",
   "metadata": {},
   "source": [
    "# Chapter 26"
   ]
  },
  {
   "cell_type": "markdown",
   "metadata": {},
   "source": [
    "## Imports"
   ]
  },
  {
   "cell_type": "code",
   "execution_count": 1,
   "metadata": {},
   "outputs": [],
   "source": [
    "import pandas as pd\n",
    "import numpy as np"
   ]
  },
  {
   "cell_type": "markdown",
   "metadata": {},
   "source": [
    "## Read In Data"
   ]
  },
  {
   "cell_type": "code",
   "execution_count": 2,
   "metadata": {},
   "outputs": [
    {
     "name": "stderr",
     "output_type": "stream",
     "text": [
      "C:\\Users\\tmadsen\\AppData\\Local\\Temp\\ipykernel_8624\\3853255871.py:2: DtypeWarning: Columns (152) have mixed types. Specify dtype option on import or set low_memory=False.\n",
      "  jb = pd.read_csv(url)\n"
     ]
    }
   ],
   "source": [
    "# url = \"https://github.com/mattharrison/datasets/raw/master/data/2020-jetbrains-python-survey.csv\"\n",
    "# jb = pd.read_csv(url)"
   ]
  },
  {
   "cell_type": "code",
   "execution_count": 4,
   "metadata": {},
   "outputs": [],
   "source": [
    "# jb.to_parquet('data/jet_brains_python_2020_survey_data.parquet', index=False)"
   ]
  },
  {
   "cell_type": "markdown",
   "metadata": {},
   "source": [
    "## 26.1 Dummy Columns"
   ]
  },
  {
   "cell_type": "code",
   "execution_count": 5,
   "metadata": {},
   "outputs": [
    {
     "data": {
      "text/html": [
       "<div>\n",
       "<style scoped>\n",
       "    .dataframe tbody tr th:only-of-type {\n",
       "        vertical-align: middle;\n",
       "    }\n",
       "\n",
       "    .dataframe tbody tr th {\n",
       "        vertical-align: top;\n",
       "    }\n",
       "\n",
       "    .dataframe thead th {\n",
       "        text-align: right;\n",
       "    }\n",
       "</style>\n",
       "<table border=\"1\" class=\"dataframe\">\n",
       "  <thead>\n",
       "    <tr style=\"text-align: right;\">\n",
       "      <th></th>\n",
       "      <th>job.role.DBA</th>\n",
       "      <th>job.role.Architect</th>\n",
       "      <th>job.role.QA engineer</th>\n",
       "      <th>job.role.Developer / Programmer</th>\n",
       "      <th>job.role.Technical writer</th>\n",
       "      <th>job.role.Technical support</th>\n",
       "      <th>job.role.Data analyst</th>\n",
       "      <th>job.role.Business analyst</th>\n",
       "      <th>job.role.Team lead</th>\n",
       "      <th>job.role.Product manager</th>\n",
       "      <th>job.role.CIO / CEO / CTO</th>\n",
       "      <th>job.role.Systems analyst</th>\n",
       "      <th>job.role.Other</th>\n",
       "    </tr>\n",
       "  </thead>\n",
       "  <tbody>\n",
       "    <tr>\n",
       "      <th>0</th>\n",
       "      <td>NaN</td>\n",
       "      <td>NaN</td>\n",
       "      <td>NaN</td>\n",
       "      <td>NaN</td>\n",
       "      <td>NaN</td>\n",
       "      <td>NaN</td>\n",
       "      <td>NaN</td>\n",
       "      <td>Business analyst</td>\n",
       "      <td>NaN</td>\n",
       "      <td>NaN</td>\n",
       "      <td>NaN</td>\n",
       "      <td>NaN</td>\n",
       "      <td>NaN</td>\n",
       "    </tr>\n",
       "    <tr>\n",
       "      <th>1</th>\n",
       "      <td>NaN</td>\n",
       "      <td>NaN</td>\n",
       "      <td>NaN</td>\n",
       "      <td>Developer / Programmer</td>\n",
       "      <td>NaN</td>\n",
       "      <td>NaN</td>\n",
       "      <td>NaN</td>\n",
       "      <td>NaN</td>\n",
       "      <td>NaN</td>\n",
       "      <td>NaN</td>\n",
       "      <td>NaN</td>\n",
       "      <td>NaN</td>\n",
       "      <td>NaN</td>\n",
       "    </tr>\n",
       "    <tr>\n",
       "      <th>2</th>\n",
       "      <td>NaN</td>\n",
       "      <td>NaN</td>\n",
       "      <td>NaN</td>\n",
       "      <td>Developer / Programmer</td>\n",
       "      <td>NaN</td>\n",
       "      <td>Technical support</td>\n",
       "      <td>Data analyst</td>\n",
       "      <td>NaN</td>\n",
       "      <td>Team lead</td>\n",
       "      <td>NaN</td>\n",
       "      <td>NaN</td>\n",
       "      <td>NaN</td>\n",
       "      <td>NaN</td>\n",
       "    </tr>\n",
       "    <tr>\n",
       "      <th>3</th>\n",
       "      <td>NaN</td>\n",
       "      <td>NaN</td>\n",
       "      <td>NaN</td>\n",
       "      <td>NaN</td>\n",
       "      <td>NaN</td>\n",
       "      <td>NaN</td>\n",
       "      <td>NaN</td>\n",
       "      <td>NaN</td>\n",
       "      <td>NaN</td>\n",
       "      <td>NaN</td>\n",
       "      <td>NaN</td>\n",
       "      <td>NaN</td>\n",
       "      <td>NaN</td>\n",
       "    </tr>\n",
       "    <tr>\n",
       "      <th>4</th>\n",
       "      <td>NaN</td>\n",
       "      <td>NaN</td>\n",
       "      <td>NaN</td>\n",
       "      <td>NaN</td>\n",
       "      <td>NaN</td>\n",
       "      <td>NaN</td>\n",
       "      <td>NaN</td>\n",
       "      <td>NaN</td>\n",
       "      <td>NaN</td>\n",
       "      <td>NaN</td>\n",
       "      <td>NaN</td>\n",
       "      <td>NaN</td>\n",
       "      <td>NaN</td>\n",
       "    </tr>\n",
       "    <tr>\n",
       "      <th>...</th>\n",
       "      <td>...</td>\n",
       "      <td>...</td>\n",
       "      <td>...</td>\n",
       "      <td>...</td>\n",
       "      <td>...</td>\n",
       "      <td>...</td>\n",
       "      <td>...</td>\n",
       "      <td>...</td>\n",
       "      <td>...</td>\n",
       "      <td>...</td>\n",
       "      <td>...</td>\n",
       "      <td>...</td>\n",
       "      <td>...</td>\n",
       "    </tr>\n",
       "    <tr>\n",
       "      <th>54457</th>\n",
       "      <td>NaN</td>\n",
       "      <td>NaN</td>\n",
       "      <td>NaN</td>\n",
       "      <td>NaN</td>\n",
       "      <td>NaN</td>\n",
       "      <td>NaN</td>\n",
       "      <td>NaN</td>\n",
       "      <td>NaN</td>\n",
       "      <td>NaN</td>\n",
       "      <td>NaN</td>\n",
       "      <td>NaN</td>\n",
       "      <td>Systems analyst</td>\n",
       "      <td>NaN</td>\n",
       "    </tr>\n",
       "    <tr>\n",
       "      <th>54458</th>\n",
       "      <td>NaN</td>\n",
       "      <td>NaN</td>\n",
       "      <td>NaN</td>\n",
       "      <td>NaN</td>\n",
       "      <td>NaN</td>\n",
       "      <td>NaN</td>\n",
       "      <td>NaN</td>\n",
       "      <td>NaN</td>\n",
       "      <td>NaN</td>\n",
       "      <td>NaN</td>\n",
       "      <td>NaN</td>\n",
       "      <td>NaN</td>\n",
       "      <td>NaN</td>\n",
       "    </tr>\n",
       "    <tr>\n",
       "      <th>54459</th>\n",
       "      <td>NaN</td>\n",
       "      <td>NaN</td>\n",
       "      <td>NaN</td>\n",
       "      <td>NaN</td>\n",
       "      <td>NaN</td>\n",
       "      <td>NaN</td>\n",
       "      <td>NaN</td>\n",
       "      <td>NaN</td>\n",
       "      <td>NaN</td>\n",
       "      <td>NaN</td>\n",
       "      <td>CIO / CEO / CTO</td>\n",
       "      <td>NaN</td>\n",
       "      <td>NaN</td>\n",
       "    </tr>\n",
       "    <tr>\n",
       "      <th>54460</th>\n",
       "      <td>NaN</td>\n",
       "      <td>NaN</td>\n",
       "      <td>NaN</td>\n",
       "      <td>Developer / Programmer</td>\n",
       "      <td>NaN</td>\n",
       "      <td>NaN</td>\n",
       "      <td>Data analyst</td>\n",
       "      <td>NaN</td>\n",
       "      <td>NaN</td>\n",
       "      <td>NaN</td>\n",
       "      <td>NaN</td>\n",
       "      <td>NaN</td>\n",
       "      <td>NaN</td>\n",
       "    </tr>\n",
       "    <tr>\n",
       "      <th>54461</th>\n",
       "      <td>NaN</td>\n",
       "      <td>Architect</td>\n",
       "      <td>NaN</td>\n",
       "      <td>Developer / Programmer</td>\n",
       "      <td>NaN</td>\n",
       "      <td>NaN</td>\n",
       "      <td>NaN</td>\n",
       "      <td>NaN</td>\n",
       "      <td>Team lead</td>\n",
       "      <td>NaN</td>\n",
       "      <td>NaN</td>\n",
       "      <td>NaN</td>\n",
       "      <td>NaN</td>\n",
       "    </tr>\n",
       "  </tbody>\n",
       "</table>\n",
       "<p>54462 rows × 13 columns</p>\n",
       "</div>"
      ],
      "text/plain": [
       "      job.role.DBA job.role.Architect job.role.QA engineer  \\\n",
       "0              NaN                NaN                  NaN   \n",
       "1              NaN                NaN                  NaN   \n",
       "2              NaN                NaN                  NaN   \n",
       "3              NaN                NaN                  NaN   \n",
       "4              NaN                NaN                  NaN   \n",
       "...            ...                ...                  ...   \n",
       "54457          NaN                NaN                  NaN   \n",
       "54458          NaN                NaN                  NaN   \n",
       "54459          NaN                NaN                  NaN   \n",
       "54460          NaN                NaN                  NaN   \n",
       "54461          NaN          Architect                  NaN   \n",
       "\n",
       "      job.role.Developer / Programmer job.role.Technical writer  \\\n",
       "0                                 NaN                       NaN   \n",
       "1              Developer / Programmer                       NaN   \n",
       "2              Developer / Programmer                       NaN   \n",
       "3                                 NaN                       NaN   \n",
       "4                                 NaN                       NaN   \n",
       "...                               ...                       ...   \n",
       "54457                             NaN                       NaN   \n",
       "54458                             NaN                       NaN   \n",
       "54459                             NaN                       NaN   \n",
       "54460          Developer / Programmer                       NaN   \n",
       "54461          Developer / Programmer                       NaN   \n",
       "\n",
       "      job.role.Technical support job.role.Data analyst  \\\n",
       "0                            NaN                   NaN   \n",
       "1                            NaN                   NaN   \n",
       "2              Technical support          Data analyst   \n",
       "3                            NaN                   NaN   \n",
       "4                            NaN                   NaN   \n",
       "...                          ...                   ...   \n",
       "54457                        NaN                   NaN   \n",
       "54458                        NaN                   NaN   \n",
       "54459                        NaN                   NaN   \n",
       "54460                        NaN          Data analyst   \n",
       "54461                        NaN                   NaN   \n",
       "\n",
       "      job.role.Business analyst job.role.Team lead job.role.Product manager  \\\n",
       "0              Business analyst                NaN                      NaN   \n",
       "1                           NaN                NaN                      NaN   \n",
       "2                           NaN          Team lead                      NaN   \n",
       "3                           NaN                NaN                      NaN   \n",
       "4                           NaN                NaN                      NaN   \n",
       "...                         ...                ...                      ...   \n",
       "54457                       NaN                NaN                      NaN   \n",
       "54458                       NaN                NaN                      NaN   \n",
       "54459                       NaN                NaN                      NaN   \n",
       "54460                       NaN                NaN                      NaN   \n",
       "54461                       NaN          Team lead                      NaN   \n",
       "\n",
       "      job.role.CIO / CEO / CTO job.role.Systems analyst job.role.Other  \n",
       "0                          NaN                      NaN            NaN  \n",
       "1                          NaN                      NaN            NaN  \n",
       "2                          NaN                      NaN            NaN  \n",
       "3                          NaN                      NaN            NaN  \n",
       "4                          NaN                      NaN            NaN  \n",
       "...                        ...                      ...            ...  \n",
       "54457                      NaN          Systems analyst            NaN  \n",
       "54458                      NaN                      NaN            NaN  \n",
       "54459          CIO / CEO / CTO                      NaN            NaN  \n",
       "54460                      NaN                      NaN            NaN  \n",
       "54461                      NaN                      NaN            NaN  \n",
       "\n",
       "[54462 rows x 13 columns]"
      ]
     },
     "execution_count": 5,
     "metadata": {},
     "output_type": "execute_result"
    }
   ],
   "source": [
    "jb.filter(like='job.role')"
   ]
  },
  {
   "cell_type": "code",
   "execution_count": 8,
   "metadata": {},
   "outputs": [
    {
     "data": {
      "text/plain": [
       "array([nan, 'DBA'], dtype=object)"
      ]
     },
     "execution_count": 8,
     "metadata": {},
     "output_type": "execute_result"
    }
   ],
   "source": [
    "jb['job.role.DBA'].unique()"
   ]
  },
  {
   "cell_type": "code",
   "execution_count": 22,
   "metadata": {},
   "outputs": [],
   "source": [
    "job = (jb\n",
    "    .filter(like='job.role')\n",
    "    .where(jb.isna(), 1)\n",
    "    .fillna(0)\n",
    "    .idxmax(axis='columns')\n",
    "    .str.replace('job.role.', '', regex=False)\n",
    ")"
   ]
  },
  {
   "cell_type": "code",
   "execution_count": 24,
   "metadata": {},
   "outputs": [
    {
     "data": {
      "text/html": [
       "<div>\n",
       "<style scoped>\n",
       "    .dataframe tbody tr th:only-of-type {\n",
       "        vertical-align: middle;\n",
       "    }\n",
       "\n",
       "    .dataframe tbody tr th {\n",
       "        vertical-align: top;\n",
       "    }\n",
       "\n",
       "    .dataframe thead th {\n",
       "        text-align: right;\n",
       "    }\n",
       "</style>\n",
       "<table border=\"1\" class=\"dataframe\">\n",
       "  <thead>\n",
       "    <tr style=\"text-align: right;\">\n",
       "      <th></th>\n",
       "      <th>Architect</th>\n",
       "      <th>Business analyst</th>\n",
       "      <th>CIO / CEO / CTO</th>\n",
       "      <th>DBA</th>\n",
       "      <th>Data analyst</th>\n",
       "      <th>Developer / Programmer</th>\n",
       "      <th>Other</th>\n",
       "      <th>Product manager</th>\n",
       "      <th>QA engineer</th>\n",
       "      <th>Systems analyst</th>\n",
       "      <th>Team lead</th>\n",
       "      <th>Technical support</th>\n",
       "      <th>Technical writer</th>\n",
       "    </tr>\n",
       "  </thead>\n",
       "  <tbody>\n",
       "    <tr>\n",
       "      <th>0</th>\n",
       "      <td>0</td>\n",
       "      <td>1</td>\n",
       "      <td>0</td>\n",
       "      <td>0</td>\n",
       "      <td>0</td>\n",
       "      <td>0</td>\n",
       "      <td>0</td>\n",
       "      <td>0</td>\n",
       "      <td>0</td>\n",
       "      <td>0</td>\n",
       "      <td>0</td>\n",
       "      <td>0</td>\n",
       "      <td>0</td>\n",
       "    </tr>\n",
       "    <tr>\n",
       "      <th>1</th>\n",
       "      <td>0</td>\n",
       "      <td>0</td>\n",
       "      <td>0</td>\n",
       "      <td>0</td>\n",
       "      <td>0</td>\n",
       "      <td>1</td>\n",
       "      <td>0</td>\n",
       "      <td>0</td>\n",
       "      <td>0</td>\n",
       "      <td>0</td>\n",
       "      <td>0</td>\n",
       "      <td>0</td>\n",
       "      <td>0</td>\n",
       "    </tr>\n",
       "    <tr>\n",
       "      <th>2</th>\n",
       "      <td>0</td>\n",
       "      <td>0</td>\n",
       "      <td>0</td>\n",
       "      <td>0</td>\n",
       "      <td>0</td>\n",
       "      <td>1</td>\n",
       "      <td>0</td>\n",
       "      <td>0</td>\n",
       "      <td>0</td>\n",
       "      <td>0</td>\n",
       "      <td>0</td>\n",
       "      <td>0</td>\n",
       "      <td>0</td>\n",
       "    </tr>\n",
       "    <tr>\n",
       "      <th>3</th>\n",
       "      <td>0</td>\n",
       "      <td>0</td>\n",
       "      <td>0</td>\n",
       "      <td>1</td>\n",
       "      <td>0</td>\n",
       "      <td>0</td>\n",
       "      <td>0</td>\n",
       "      <td>0</td>\n",
       "      <td>0</td>\n",
       "      <td>0</td>\n",
       "      <td>0</td>\n",
       "      <td>0</td>\n",
       "      <td>0</td>\n",
       "    </tr>\n",
       "    <tr>\n",
       "      <th>4</th>\n",
       "      <td>0</td>\n",
       "      <td>0</td>\n",
       "      <td>0</td>\n",
       "      <td>1</td>\n",
       "      <td>0</td>\n",
       "      <td>0</td>\n",
       "      <td>0</td>\n",
       "      <td>0</td>\n",
       "      <td>0</td>\n",
       "      <td>0</td>\n",
       "      <td>0</td>\n",
       "      <td>0</td>\n",
       "      <td>0</td>\n",
       "    </tr>\n",
       "    <tr>\n",
       "      <th>...</th>\n",
       "      <td>...</td>\n",
       "      <td>...</td>\n",
       "      <td>...</td>\n",
       "      <td>...</td>\n",
       "      <td>...</td>\n",
       "      <td>...</td>\n",
       "      <td>...</td>\n",
       "      <td>...</td>\n",
       "      <td>...</td>\n",
       "      <td>...</td>\n",
       "      <td>...</td>\n",
       "      <td>...</td>\n",
       "      <td>...</td>\n",
       "    </tr>\n",
       "    <tr>\n",
       "      <th>54457</th>\n",
       "      <td>0</td>\n",
       "      <td>0</td>\n",
       "      <td>0</td>\n",
       "      <td>0</td>\n",
       "      <td>0</td>\n",
       "      <td>0</td>\n",
       "      <td>0</td>\n",
       "      <td>0</td>\n",
       "      <td>0</td>\n",
       "      <td>1</td>\n",
       "      <td>0</td>\n",
       "      <td>0</td>\n",
       "      <td>0</td>\n",
       "    </tr>\n",
       "    <tr>\n",
       "      <th>54458</th>\n",
       "      <td>0</td>\n",
       "      <td>0</td>\n",
       "      <td>0</td>\n",
       "      <td>1</td>\n",
       "      <td>0</td>\n",
       "      <td>0</td>\n",
       "      <td>0</td>\n",
       "      <td>0</td>\n",
       "      <td>0</td>\n",
       "      <td>0</td>\n",
       "      <td>0</td>\n",
       "      <td>0</td>\n",
       "      <td>0</td>\n",
       "    </tr>\n",
       "    <tr>\n",
       "      <th>54459</th>\n",
       "      <td>0</td>\n",
       "      <td>0</td>\n",
       "      <td>1</td>\n",
       "      <td>0</td>\n",
       "      <td>0</td>\n",
       "      <td>0</td>\n",
       "      <td>0</td>\n",
       "      <td>0</td>\n",
       "      <td>0</td>\n",
       "      <td>0</td>\n",
       "      <td>0</td>\n",
       "      <td>0</td>\n",
       "      <td>0</td>\n",
       "    </tr>\n",
       "    <tr>\n",
       "      <th>54460</th>\n",
       "      <td>0</td>\n",
       "      <td>0</td>\n",
       "      <td>0</td>\n",
       "      <td>0</td>\n",
       "      <td>0</td>\n",
       "      <td>1</td>\n",
       "      <td>0</td>\n",
       "      <td>0</td>\n",
       "      <td>0</td>\n",
       "      <td>0</td>\n",
       "      <td>0</td>\n",
       "      <td>0</td>\n",
       "      <td>0</td>\n",
       "    </tr>\n",
       "    <tr>\n",
       "      <th>54461</th>\n",
       "      <td>1</td>\n",
       "      <td>0</td>\n",
       "      <td>0</td>\n",
       "      <td>0</td>\n",
       "      <td>0</td>\n",
       "      <td>0</td>\n",
       "      <td>0</td>\n",
       "      <td>0</td>\n",
       "      <td>0</td>\n",
       "      <td>0</td>\n",
       "      <td>0</td>\n",
       "      <td>0</td>\n",
       "      <td>0</td>\n",
       "    </tr>\n",
       "  </tbody>\n",
       "</table>\n",
       "<p>54462 rows × 13 columns</p>\n",
       "</div>"
      ],
      "text/plain": [
       "       Architect  Business analyst  CIO / CEO / CTO  DBA  Data analyst  \\\n",
       "0              0                 1                0    0             0   \n",
       "1              0                 0                0    0             0   \n",
       "2              0                 0                0    0             0   \n",
       "3              0                 0                0    1             0   \n",
       "4              0                 0                0    1             0   \n",
       "...          ...               ...              ...  ...           ...   \n",
       "54457          0                 0                0    0             0   \n",
       "54458          0                 0                0    1             0   \n",
       "54459          0                 0                1    0             0   \n",
       "54460          0                 0                0    0             0   \n",
       "54461          1                 0                0    0             0   \n",
       "\n",
       "       Developer / Programmer  Other  Product manager  QA engineer  \\\n",
       "0                           0      0                0            0   \n",
       "1                           1      0                0            0   \n",
       "2                           1      0                0            0   \n",
       "3                           0      0                0            0   \n",
       "4                           0      0                0            0   \n",
       "...                       ...    ...              ...          ...   \n",
       "54457                       0      0                0            0   \n",
       "54458                       0      0                0            0   \n",
       "54459                       0      0                0            0   \n",
       "54460                       1      0                0            0   \n",
       "54461                       0      0                0            0   \n",
       "\n",
       "       Systems analyst  Team lead  Technical support  Technical writer  \n",
       "0                    0          0                  0                 0  \n",
       "1                    0          0                  0                 0  \n",
       "2                    0          0                  0                 0  \n",
       "3                    0          0                  0                 0  \n",
       "4                    0          0                  0                 0  \n",
       "...                ...        ...                ...               ...  \n",
       "54457                1          0                  0                 0  \n",
       "54458                0          0                  0                 0  \n",
       "54459                0          0                  0                 0  \n",
       "54460                0          0                  0                 0  \n",
       "54461                0          0                  0                 0  \n",
       "\n",
       "[54462 rows x 13 columns]"
      ]
     },
     "execution_count": 24,
     "metadata": {},
     "output_type": "execute_result"
    }
   ],
   "source": [
    "dum = pd.get_dummies(job)\n",
    "dum"
   ]
  },
  {
   "cell_type": "code",
   "execution_count": 32,
   "metadata": {},
   "outputs": [
    {
     "data": {
      "text/plain": [
       "Architect                  3118\n",
       "Business analyst            135\n",
       "CIO / CEO / CTO             370\n",
       "DBA                       36303\n",
       "Data analyst                867\n",
       "Developer / Programmer     9934\n",
       "Other                      1639\n",
       "Product manager             129\n",
       "QA engineer                 672\n",
       "Systems analyst             126\n",
       "Team lead                   659\n",
       "Technical support           398\n",
       "Technical writer            112\n",
       "dtype: int64"
      ]
     },
     "execution_count": 32,
     "metadata": {},
     "output_type": "execute_result"
    }
   ],
   "source": [
    "dum.sum()"
   ]
  },
  {
   "cell_type": "markdown",
   "metadata": {},
   "source": [
    "## 26.2 Undoing Dummy Columns"
   ]
  },
  {
   "cell_type": "code",
   "execution_count": 25,
   "metadata": {},
   "outputs": [
    {
     "data": {
      "text/plain": [
       "0              Business analyst\n",
       "1        Developer / Programmer\n",
       "2        Developer / Programmer\n",
       "3                           DBA\n",
       "4                           DBA\n",
       "                  ...          \n",
       "54457           Systems analyst\n",
       "54458                       DBA\n",
       "54459           CIO / CEO / CTO\n",
       "54460    Developer / Programmer\n",
       "54461                 Architect\n",
       "Length: 54462, dtype: object"
      ]
     },
     "execution_count": 25,
     "metadata": {},
     "output_type": "execute_result"
    }
   ],
   "source": [
    "dum.idxmax(axis='columns')"
   ]
  },
  {
   "cell_type": "code",
   "execution_count": 35,
   "metadata": {},
   "outputs": [
    {
     "data": {
      "text/plain": [
       "(54462, 13)"
      ]
     },
     "execution_count": 35,
     "metadata": {},
     "output_type": "execute_result"
    }
   ],
   "source": [
    "dum.to_numpy().shape"
   ]
  },
  {
   "cell_type": "code",
   "execution_count": 26,
   "metadata": {},
   "outputs": [],
   "source": [
    "i, j = np.where(dum)"
   ]
  },
  {
   "cell_type": "code",
   "execution_count": 27,
   "metadata": {},
   "outputs": [
    {
     "data": {
      "text/plain": [
       "array([    0,     1,     2, ..., 54459, 54460, 54461], dtype=int64)"
      ]
     },
     "execution_count": 27,
     "metadata": {},
     "output_type": "execute_result"
    }
   ],
   "source": [
    "i"
   ]
  },
  {
   "cell_type": "code",
   "execution_count": 28,
   "metadata": {},
   "outputs": [
    {
     "data": {
      "text/plain": [
       "array([1, 5, 5, ..., 2, 5, 0], dtype=int64)"
      ]
     },
     "execution_count": 28,
     "metadata": {},
     "output_type": "execute_result"
    }
   ],
   "source": [
    "j"
   ]
  },
  {
   "cell_type": "code",
   "execution_count": 33,
   "metadata": {},
   "outputs": [
    {
     "data": {
      "text/plain": [
       "0              Business analyst\n",
       "1        Developer / Programmer\n",
       "2        Developer / Programmer\n",
       "3                           DBA\n",
       "4                           DBA\n",
       "                  ...          \n",
       "54457           Systems analyst\n",
       "54458                       DBA\n",
       "54459           CIO / CEO / CTO\n",
       "54460    Developer / Programmer\n",
       "54461                 Architect\n",
       "Length: 54462, dtype: object"
      ]
     },
     "execution_count": 33,
     "metadata": {},
     "output_type": "execute_result"
    }
   ],
   "source": [
    "pd.Series(dum.columns[j], i)"
   ]
  },
  {
   "cell_type": "code",
   "execution_count": null,
   "metadata": {},
   "outputs": [],
   "source": []
  }
 ],
 "metadata": {
  "kernelspec": {
   "display_name": "eda",
   "language": "python",
   "name": "python3"
  },
  "language_info": {
   "codemirror_mode": {
    "name": "ipython",
    "version": 3
   },
   "file_extension": ".py",
   "mimetype": "text/x-python",
   "name": "python",
   "nbconvert_exporter": "python",
   "pygments_lexer": "ipython3",
   "version": "3.10.4"
  },
  "orig_nbformat": 4,
  "vscode": {
   "interpreter": {
    "hash": "87f8e0b7fd482a1f2167ff59842f5f709feb60e30df11b61baf92b837480312a"
   }
  }
 },
 "nbformat": 4,
 "nbformat_minor": 2
}
