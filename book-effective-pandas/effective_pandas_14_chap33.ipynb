{
 "cells": [
  {
   "cell_type": "markdown",
   "metadata": {},
   "source": [
    "# Chapter 33 - Exporting Data"
   ]
  },
  {
   "cell_type": "markdown",
   "metadata": {},
   "source": [
    "## Imports"
   ]
  },
  {
   "cell_type": "code",
   "execution_count": 33,
   "metadata": {},
   "outputs": [],
   "source": [
    "import pandas as pd\n",
    "import sqlite3\n",
    "import sqlalchemy as sa"
   ]
  },
  {
   "cell_type": "markdown",
   "metadata": {},
   "source": [
    "## 33.1 Dirty Devil Data"
   ]
  },
  {
   "cell_type": "code",
   "execution_count": 3,
   "metadata": {},
   "outputs": [],
   "source": [
    "url = 'https://github.com/mattharrison/datasets/raw/master/data/dirtydevil.txt'"
   ]
  },
  {
   "cell_type": "code",
   "execution_count": 5,
   "metadata": {},
   "outputs": [
    {
     "name": "stderr",
     "output_type": "stream",
     "text": [
      "/var/folders/gg/0m4l7pvs5zq9d8p4tzflypdc0000gn/T/ipykernel_86752/408955765.py:1: DtypeWarning: Columns (7) have mixed types. Specify dtype option on import or set low_memory=False.\n",
      "  df = pd.read_csv(url, skiprows=lambda num: num <34 or num==35, sep='\\t')\n"
     ]
    }
   ],
   "source": [
    "df = pd.read_csv(url, skiprows=lambda num: num <34 or num==35, sep='\\t')"
   ]
  },
  {
   "cell_type": "code",
   "execution_count": 7,
   "metadata": {},
   "outputs": [],
   "source": [
    "def to_denver_time(df_, time_col, tz_col):\n",
    "    return (df_\n",
    "            .assign(**{tz_col: df_[tz_col].replace('MDT', 'MST7MDT')})\n",
    "            .groupby(tz_col)\n",
    "            [time_col]\n",
    "            .transform(lambda s: pd.to_datetime(s)\n",
    "                       .dt.tz_localize(s.name, ambiguous=True)\n",
    "                       .dt.tz_convert('America/Denver')\n",
    "                       )\n",
    "            )"
   ]
  },
  {
   "cell_type": "code",
   "execution_count": 8,
   "metadata": {},
   "outputs": [],
   "source": [
    "def tweak_river(df_):\n",
    "    return (df_\n",
    "            .assign(datetime=to_denver_time(df_, 'datetime', 'tz_cd'))\n",
    "            .rename(columns={'144166_00060': 'cfs',\n",
    "                             '144167_00065': 'gage_height'})\n",
    "            .set_index('datetime')\n",
    "            )"
   ]
  },
  {
   "cell_type": "code",
   "execution_count": 9,
   "metadata": {},
   "outputs": [],
   "source": [
    "dd = tweak_river(df)"
   ]
  },
  {
   "cell_type": "code",
   "execution_count": 10,
   "metadata": {},
   "outputs": [
    {
     "data": {
      "text/html": [
       "<div>\n",
       "<style scoped>\n",
       "    .dataframe tbody tr th:only-of-type {\n",
       "        vertical-align: middle;\n",
       "    }\n",
       "\n",
       "    .dataframe tbody tr th {\n",
       "        vertical-align: top;\n",
       "    }\n",
       "\n",
       "    .dataframe thead th {\n",
       "        text-align: right;\n",
       "    }\n",
       "</style>\n",
       "<table border=\"1\" class=\"dataframe\">\n",
       "  <thead>\n",
       "    <tr style=\"text-align: right;\">\n",
       "      <th></th>\n",
       "      <th>agency_cd</th>\n",
       "      <th>site_no</th>\n",
       "      <th>tz_cd</th>\n",
       "      <th>cfs</th>\n",
       "      <th>144166_00060_cd</th>\n",
       "      <th>gage_height</th>\n",
       "      <th>144167_00065_cd</th>\n",
       "    </tr>\n",
       "    <tr>\n",
       "      <th>datetime</th>\n",
       "      <th></th>\n",
       "      <th></th>\n",
       "      <th></th>\n",
       "      <th></th>\n",
       "      <th></th>\n",
       "      <th></th>\n",
       "      <th></th>\n",
       "    </tr>\n",
       "  </thead>\n",
       "  <tbody>\n",
       "    <tr>\n",
       "      <th>2001-05-07 01:00:00-06:00</th>\n",
       "      <td>USGS</td>\n",
       "      <td>9333500</td>\n",
       "      <td>MDT</td>\n",
       "      <td>71.00</td>\n",
       "      <td>A:[91]</td>\n",
       "      <td>NaN</td>\n",
       "      <td>NaN</td>\n",
       "    </tr>\n",
       "    <tr>\n",
       "      <th>2001-05-07 01:15:00-06:00</th>\n",
       "      <td>USGS</td>\n",
       "      <td>9333500</td>\n",
       "      <td>MDT</td>\n",
       "      <td>71.00</td>\n",
       "      <td>A:[91]</td>\n",
       "      <td>NaN</td>\n",
       "      <td>NaN</td>\n",
       "    </tr>\n",
       "    <tr>\n",
       "      <th>2001-05-07 01:30:00-06:00</th>\n",
       "      <td>USGS</td>\n",
       "      <td>9333500</td>\n",
       "      <td>MDT</td>\n",
       "      <td>71.00</td>\n",
       "      <td>A:[91]</td>\n",
       "      <td>NaN</td>\n",
       "      <td>NaN</td>\n",
       "    </tr>\n",
       "    <tr>\n",
       "      <th>2001-05-07 01:45:00-06:00</th>\n",
       "      <td>USGS</td>\n",
       "      <td>9333500</td>\n",
       "      <td>MDT</td>\n",
       "      <td>70.00</td>\n",
       "      <td>A:[91]</td>\n",
       "      <td>NaN</td>\n",
       "      <td>NaN</td>\n",
       "    </tr>\n",
       "    <tr>\n",
       "      <th>2001-05-07 02:00:00-06:00</th>\n",
       "      <td>USGS</td>\n",
       "      <td>9333500</td>\n",
       "      <td>MDT</td>\n",
       "      <td>70.00</td>\n",
       "      <td>A:[91]</td>\n",
       "      <td>NaN</td>\n",
       "      <td>NaN</td>\n",
       "    </tr>\n",
       "    <tr>\n",
       "      <th>...</th>\n",
       "      <td>...</td>\n",
       "      <td>...</td>\n",
       "      <td>...</td>\n",
       "      <td>...</td>\n",
       "      <td>...</td>\n",
       "      <td>...</td>\n",
       "      <td>...</td>\n",
       "    </tr>\n",
       "    <tr>\n",
       "      <th>2020-09-28 08:30:00-06:00</th>\n",
       "      <td>USGS</td>\n",
       "      <td>9333500</td>\n",
       "      <td>MDT</td>\n",
       "      <td>9.53</td>\n",
       "      <td>P</td>\n",
       "      <td>6.16</td>\n",
       "      <td>P</td>\n",
       "    </tr>\n",
       "    <tr>\n",
       "      <th>2020-09-28 08:45:00-06:00</th>\n",
       "      <td>USGS</td>\n",
       "      <td>9333500</td>\n",
       "      <td>MDT</td>\n",
       "      <td>9.20</td>\n",
       "      <td>P</td>\n",
       "      <td>6.15</td>\n",
       "      <td>P</td>\n",
       "    </tr>\n",
       "    <tr>\n",
       "      <th>2020-09-28 09:00:00-06:00</th>\n",
       "      <td>USGS</td>\n",
       "      <td>9333500</td>\n",
       "      <td>MDT</td>\n",
       "      <td>9.20</td>\n",
       "      <td>P</td>\n",
       "      <td>6.15</td>\n",
       "      <td>P</td>\n",
       "    </tr>\n",
       "    <tr>\n",
       "      <th>2020-09-28 09:15:00-06:00</th>\n",
       "      <td>USGS</td>\n",
       "      <td>9333500</td>\n",
       "      <td>MDT</td>\n",
       "      <td>9.20</td>\n",
       "      <td>P</td>\n",
       "      <td>6.15</td>\n",
       "      <td>P</td>\n",
       "    </tr>\n",
       "    <tr>\n",
       "      <th>2020-09-28 09:30:00-06:00</th>\n",
       "      <td>USGS</td>\n",
       "      <td>9333500</td>\n",
       "      <td>MDT</td>\n",
       "      <td>9.20</td>\n",
       "      <td>P</td>\n",
       "      <td>6.15</td>\n",
       "      <td>P</td>\n",
       "    </tr>\n",
       "  </tbody>\n",
       "</table>\n",
       "<p>539305 rows × 7 columns</p>\n",
       "</div>"
      ],
      "text/plain": [
       "                          agency_cd  site_no tz_cd    cfs 144166_00060_cd  \\\n",
       "datetime                                                                    \n",
       "2001-05-07 01:00:00-06:00      USGS  9333500   MDT  71.00          A:[91]   \n",
       "2001-05-07 01:15:00-06:00      USGS  9333500   MDT  71.00          A:[91]   \n",
       "2001-05-07 01:30:00-06:00      USGS  9333500   MDT  71.00          A:[91]   \n",
       "2001-05-07 01:45:00-06:00      USGS  9333500   MDT  70.00          A:[91]   \n",
       "2001-05-07 02:00:00-06:00      USGS  9333500   MDT  70.00          A:[91]   \n",
       "...                             ...      ...   ...    ...             ...   \n",
       "2020-09-28 08:30:00-06:00      USGS  9333500   MDT   9.53               P   \n",
       "2020-09-28 08:45:00-06:00      USGS  9333500   MDT   9.20               P   \n",
       "2020-09-28 09:00:00-06:00      USGS  9333500   MDT   9.20               P   \n",
       "2020-09-28 09:15:00-06:00      USGS  9333500   MDT   9.20               P   \n",
       "2020-09-28 09:30:00-06:00      USGS  9333500   MDT   9.20               P   \n",
       "\n",
       "                           gage_height 144167_00065_cd  \n",
       "datetime                                                \n",
       "2001-05-07 01:00:00-06:00          NaN             NaN  \n",
       "2001-05-07 01:15:00-06:00          NaN             NaN  \n",
       "2001-05-07 01:30:00-06:00          NaN             NaN  \n",
       "2001-05-07 01:45:00-06:00          NaN             NaN  \n",
       "2001-05-07 02:00:00-06:00          NaN             NaN  \n",
       "...                                ...             ...  \n",
       "2020-09-28 08:30:00-06:00         6.16               P  \n",
       "2020-09-28 08:45:00-06:00         6.15               P  \n",
       "2020-09-28 09:00:00-06:00         6.15               P  \n",
       "2020-09-28 09:15:00-06:00         6.15               P  \n",
       "2020-09-28 09:30:00-06:00         6.15               P  \n",
       "\n",
       "[539305 rows x 7 columns]"
      ]
     },
     "execution_count": 10,
     "metadata": {},
     "output_type": "execute_result"
    }
   ],
   "source": [
    "dd"
   ]
  },
  {
   "cell_type": "markdown",
   "metadata": {},
   "source": [
    "## 33.2 Reading and Writing"
   ]
  },
  {
   "cell_type": "markdown",
   "metadata": {},
   "source": [
    "## 33.3 Creating CSV Files"
   ]
  },
  {
   "cell_type": "code",
   "execution_count": 11,
   "metadata": {},
   "outputs": [
    {
     "name": "stdout",
     "output_type": "stream",
     "text": [
      "datetime,agency_cd,site_no,tz_cd,cfs,144166_00060_cd,gage_height,144167_00065_cd\n",
      "2001-05-07 01:00:00-06:00,USGS,9333500,MDT,71.0,A:[91],,\n",
      "2001-05-07 01:15:00-06:00,USGS,9333500,MDT,71.0,A:[91],,\n",
      "2001-05-07 01:30:00-06:00,USGS,9333500,MDT,71.0,A:[91],,\n",
      "2001-05-07 01:45:00-06:00,USGS,9333500,MDT,70.0,A:[91],,\n",
      "2001-05-07 02:00:00-06:00,USGS,9333500,MDT,70.0,A:[91],,\n",
      "\n"
     ]
    }
   ],
   "source": [
    "print(dd.head(5).to_csv())"
   ]
  },
  {
   "cell_type": "code",
   "execution_count": 12,
   "metadata": {},
   "outputs": [],
   "source": [
    "dd.to_csv('tmp/dd.csv')"
   ]
  },
  {
   "cell_type": "code",
   "execution_count": 14,
   "metadata": {},
   "outputs": [
    {
     "name": "stderr",
     "output_type": "stream",
     "text": [
      "/var/folders/gg/0m4l7pvs5zq9d8p4tzflypdc0000gn/T/ipykernel_86752/4062701106.py:1: DtypeWarning: Columns (7) have mixed types. Specify dtype option on import or set low_memory=False.\n",
      "  dd2 = pd.read_csv('tmp/dd.csv', index_col='datetime')\n"
     ]
    }
   ],
   "source": [
    "dd2 = pd.read_csv('tmp/dd.csv', index_col='datetime')"
   ]
  },
  {
   "cell_type": "code",
   "execution_count": 15,
   "metadata": {},
   "outputs": [
    {
     "data": {
      "text/html": [
       "<div>\n",
       "<style scoped>\n",
       "    .dataframe tbody tr th:only-of-type {\n",
       "        vertical-align: middle;\n",
       "    }\n",
       "\n",
       "    .dataframe tbody tr th {\n",
       "        vertical-align: top;\n",
       "    }\n",
       "\n",
       "    .dataframe thead th {\n",
       "        text-align: right;\n",
       "    }\n",
       "</style>\n",
       "<table border=\"1\" class=\"dataframe\">\n",
       "  <thead>\n",
       "    <tr style=\"text-align: right;\">\n",
       "      <th></th>\n",
       "      <th>agency_cd</th>\n",
       "      <th>site_no</th>\n",
       "      <th>tz_cd</th>\n",
       "      <th>cfs</th>\n",
       "      <th>144166_00060_cd</th>\n",
       "      <th>gage_height</th>\n",
       "      <th>144167_00065_cd</th>\n",
       "    </tr>\n",
       "    <tr>\n",
       "      <th>datetime</th>\n",
       "      <th></th>\n",
       "      <th></th>\n",
       "      <th></th>\n",
       "      <th></th>\n",
       "      <th></th>\n",
       "      <th></th>\n",
       "      <th></th>\n",
       "    </tr>\n",
       "  </thead>\n",
       "  <tbody>\n",
       "    <tr>\n",
       "      <th>2001-05-07 01:00:00-06:00</th>\n",
       "      <td>USGS</td>\n",
       "      <td>9333500</td>\n",
       "      <td>MDT</td>\n",
       "      <td>71.00</td>\n",
       "      <td>A:[91]</td>\n",
       "      <td>NaN</td>\n",
       "      <td>NaN</td>\n",
       "    </tr>\n",
       "    <tr>\n",
       "      <th>2001-05-07 01:15:00-06:00</th>\n",
       "      <td>USGS</td>\n",
       "      <td>9333500</td>\n",
       "      <td>MDT</td>\n",
       "      <td>71.00</td>\n",
       "      <td>A:[91]</td>\n",
       "      <td>NaN</td>\n",
       "      <td>NaN</td>\n",
       "    </tr>\n",
       "    <tr>\n",
       "      <th>2001-05-07 01:30:00-06:00</th>\n",
       "      <td>USGS</td>\n",
       "      <td>9333500</td>\n",
       "      <td>MDT</td>\n",
       "      <td>71.00</td>\n",
       "      <td>A:[91]</td>\n",
       "      <td>NaN</td>\n",
       "      <td>NaN</td>\n",
       "    </tr>\n",
       "    <tr>\n",
       "      <th>2001-05-07 01:45:00-06:00</th>\n",
       "      <td>USGS</td>\n",
       "      <td>9333500</td>\n",
       "      <td>MDT</td>\n",
       "      <td>70.00</td>\n",
       "      <td>A:[91]</td>\n",
       "      <td>NaN</td>\n",
       "      <td>NaN</td>\n",
       "    </tr>\n",
       "    <tr>\n",
       "      <th>2001-05-07 02:00:00-06:00</th>\n",
       "      <td>USGS</td>\n",
       "      <td>9333500</td>\n",
       "      <td>MDT</td>\n",
       "      <td>70.00</td>\n",
       "      <td>A:[91]</td>\n",
       "      <td>NaN</td>\n",
       "      <td>NaN</td>\n",
       "    </tr>\n",
       "    <tr>\n",
       "      <th>...</th>\n",
       "      <td>...</td>\n",
       "      <td>...</td>\n",
       "      <td>...</td>\n",
       "      <td>...</td>\n",
       "      <td>...</td>\n",
       "      <td>...</td>\n",
       "      <td>...</td>\n",
       "    </tr>\n",
       "    <tr>\n",
       "      <th>2020-09-28 08:30:00-06:00</th>\n",
       "      <td>USGS</td>\n",
       "      <td>9333500</td>\n",
       "      <td>MDT</td>\n",
       "      <td>9.53</td>\n",
       "      <td>P</td>\n",
       "      <td>6.16</td>\n",
       "      <td>P</td>\n",
       "    </tr>\n",
       "    <tr>\n",
       "      <th>2020-09-28 08:45:00-06:00</th>\n",
       "      <td>USGS</td>\n",
       "      <td>9333500</td>\n",
       "      <td>MDT</td>\n",
       "      <td>9.20</td>\n",
       "      <td>P</td>\n",
       "      <td>6.15</td>\n",
       "      <td>P</td>\n",
       "    </tr>\n",
       "    <tr>\n",
       "      <th>2020-09-28 09:00:00-06:00</th>\n",
       "      <td>USGS</td>\n",
       "      <td>9333500</td>\n",
       "      <td>MDT</td>\n",
       "      <td>9.20</td>\n",
       "      <td>P</td>\n",
       "      <td>6.15</td>\n",
       "      <td>P</td>\n",
       "    </tr>\n",
       "    <tr>\n",
       "      <th>2020-09-28 09:15:00-06:00</th>\n",
       "      <td>USGS</td>\n",
       "      <td>9333500</td>\n",
       "      <td>MDT</td>\n",
       "      <td>9.20</td>\n",
       "      <td>P</td>\n",
       "      <td>6.15</td>\n",
       "      <td>P</td>\n",
       "    </tr>\n",
       "    <tr>\n",
       "      <th>2020-09-28 09:30:00-06:00</th>\n",
       "      <td>USGS</td>\n",
       "      <td>9333500</td>\n",
       "      <td>MDT</td>\n",
       "      <td>9.20</td>\n",
       "      <td>P</td>\n",
       "      <td>6.15</td>\n",
       "      <td>P</td>\n",
       "    </tr>\n",
       "  </tbody>\n",
       "</table>\n",
       "<p>539305 rows × 7 columns</p>\n",
       "</div>"
      ],
      "text/plain": [
       "                          agency_cd  site_no tz_cd    cfs 144166_00060_cd  \\\n",
       "datetime                                                                    \n",
       "2001-05-07 01:00:00-06:00      USGS  9333500   MDT  71.00          A:[91]   \n",
       "2001-05-07 01:15:00-06:00      USGS  9333500   MDT  71.00          A:[91]   \n",
       "2001-05-07 01:30:00-06:00      USGS  9333500   MDT  71.00          A:[91]   \n",
       "2001-05-07 01:45:00-06:00      USGS  9333500   MDT  70.00          A:[91]   \n",
       "2001-05-07 02:00:00-06:00      USGS  9333500   MDT  70.00          A:[91]   \n",
       "...                             ...      ...   ...    ...             ...   \n",
       "2020-09-28 08:30:00-06:00      USGS  9333500   MDT   9.53               P   \n",
       "2020-09-28 08:45:00-06:00      USGS  9333500   MDT   9.20               P   \n",
       "2020-09-28 09:00:00-06:00      USGS  9333500   MDT   9.20               P   \n",
       "2020-09-28 09:15:00-06:00      USGS  9333500   MDT   9.20               P   \n",
       "2020-09-28 09:30:00-06:00      USGS  9333500   MDT   9.20               P   \n",
       "\n",
       "                           gage_height 144167_00065_cd  \n",
       "datetime                                                \n",
       "2001-05-07 01:00:00-06:00          NaN             NaN  \n",
       "2001-05-07 01:15:00-06:00          NaN             NaN  \n",
       "2001-05-07 01:30:00-06:00          NaN             NaN  \n",
       "2001-05-07 01:45:00-06:00          NaN             NaN  \n",
       "2001-05-07 02:00:00-06:00          NaN             NaN  \n",
       "...                                ...             ...  \n",
       "2020-09-28 08:30:00-06:00         6.16               P  \n",
       "2020-09-28 08:45:00-06:00         6.15               P  \n",
       "2020-09-28 09:00:00-06:00         6.15               P  \n",
       "2020-09-28 09:15:00-06:00         6.15               P  \n",
       "2020-09-28 09:30:00-06:00         6.15               P  \n",
       "\n",
       "[539305 rows x 7 columns]"
      ]
     },
     "execution_count": 15,
     "metadata": {},
     "output_type": "execute_result"
    }
   ],
   "source": [
    "dd2"
   ]
  },
  {
   "cell_type": "markdown",
   "metadata": {},
   "source": [
    "## Exporting to Excel"
   ]
  },
  {
   "cell_type": "code",
   "execution_count": 16,
   "metadata": {},
   "outputs": [
    {
     "ename": "ValueError",
     "evalue": "Excel does not support datetimes with timezones. Please ensure that datetimes are timezone unaware before writing to Excel.",
     "output_type": "error",
     "traceback": [
      "\u001b[0;31m---------------------------------------------------------------------------\u001b[0m",
      "\u001b[0;31mValueError\u001b[0m                                Traceback (most recent call last)",
      "Cell \u001b[0;32mIn[16], line 1\u001b[0m\n\u001b[0;32m----> 1\u001b[0m dd\u001b[39m.\u001b[39;49mto_excel(\u001b[39m'\u001b[39;49m\u001b[39mtmp/dd.xlsx\u001b[39;49m\u001b[39m'\u001b[39;49m)\n",
      "File \u001b[0;32m/opt/homebrew/Caskroom/miniforge/base/envs/eda/lib/python3.11/site-packages/pandas/util/_decorators.py:211\u001b[0m, in \u001b[0;36mdeprecate_kwarg.<locals>._deprecate_kwarg.<locals>.wrapper\u001b[0;34m(*args, **kwargs)\u001b[0m\n\u001b[1;32m    209\u001b[0m     \u001b[39melse\u001b[39;00m:\n\u001b[1;32m    210\u001b[0m         kwargs[new_arg_name] \u001b[39m=\u001b[39m new_arg_value\n\u001b[0;32m--> 211\u001b[0m \u001b[39mreturn\u001b[39;00m func(\u001b[39m*\u001b[39;49margs, \u001b[39m*\u001b[39;49m\u001b[39m*\u001b[39;49mkwargs)\n",
      "File \u001b[0;32m/opt/homebrew/Caskroom/miniforge/base/envs/eda/lib/python3.11/site-packages/pandas/util/_decorators.py:211\u001b[0m, in \u001b[0;36mdeprecate_kwarg.<locals>._deprecate_kwarg.<locals>.wrapper\u001b[0;34m(*args, **kwargs)\u001b[0m\n\u001b[1;32m    209\u001b[0m     \u001b[39melse\u001b[39;00m:\n\u001b[1;32m    210\u001b[0m         kwargs[new_arg_name] \u001b[39m=\u001b[39m new_arg_value\n\u001b[0;32m--> 211\u001b[0m \u001b[39mreturn\u001b[39;00m func(\u001b[39m*\u001b[39;49margs, \u001b[39m*\u001b[39;49m\u001b[39m*\u001b[39;49mkwargs)\n",
      "File \u001b[0;32m/opt/homebrew/Caskroom/miniforge/base/envs/eda/lib/python3.11/site-packages/pandas/core/generic.py:2374\u001b[0m, in \u001b[0;36mNDFrame.to_excel\u001b[0;34m(self, excel_writer, sheet_name, na_rep, float_format, columns, header, index, index_label, startrow, startcol, engine, merge_cells, encoding, inf_rep, verbose, freeze_panes, storage_options)\u001b[0m\n\u001b[1;32m   2361\u001b[0m \u001b[39mfrom\u001b[39;00m \u001b[39mpandas\u001b[39;00m\u001b[39m.\u001b[39;00m\u001b[39mio\u001b[39;00m\u001b[39m.\u001b[39;00m\u001b[39mformats\u001b[39;00m\u001b[39m.\u001b[39;00m\u001b[39mexcel\u001b[39;00m \u001b[39mimport\u001b[39;00m ExcelFormatter\n\u001b[1;32m   2363\u001b[0m formatter \u001b[39m=\u001b[39m ExcelFormatter(\n\u001b[1;32m   2364\u001b[0m     df,\n\u001b[1;32m   2365\u001b[0m     na_rep\u001b[39m=\u001b[39mna_rep,\n\u001b[0;32m   (...)\u001b[0m\n\u001b[1;32m   2372\u001b[0m     inf_rep\u001b[39m=\u001b[39minf_rep,\n\u001b[1;32m   2373\u001b[0m )\n\u001b[0;32m-> 2374\u001b[0m formatter\u001b[39m.\u001b[39;49mwrite(\n\u001b[1;32m   2375\u001b[0m     excel_writer,\n\u001b[1;32m   2376\u001b[0m     sheet_name\u001b[39m=\u001b[39;49msheet_name,\n\u001b[1;32m   2377\u001b[0m     startrow\u001b[39m=\u001b[39;49mstartrow,\n\u001b[1;32m   2378\u001b[0m     startcol\u001b[39m=\u001b[39;49mstartcol,\n\u001b[1;32m   2379\u001b[0m     freeze_panes\u001b[39m=\u001b[39;49mfreeze_panes,\n\u001b[1;32m   2380\u001b[0m     engine\u001b[39m=\u001b[39;49mengine,\n\u001b[1;32m   2381\u001b[0m     storage_options\u001b[39m=\u001b[39;49mstorage_options,\n\u001b[1;32m   2382\u001b[0m )\n",
      "File \u001b[0;32m/opt/homebrew/Caskroom/miniforge/base/envs/eda/lib/python3.11/site-packages/pandas/io/formats/excel.py:924\u001b[0m, in \u001b[0;36mExcelFormatter.write\u001b[0;34m(self, writer, sheet_name, startrow, startcol, freeze_panes, engine, storage_options)\u001b[0m\n\u001b[1;32m    921\u001b[0m     need_save \u001b[39m=\u001b[39m \u001b[39mTrue\u001b[39;00m\n\u001b[1;32m    923\u001b[0m \u001b[39mtry\u001b[39;00m:\n\u001b[0;32m--> 924\u001b[0m     writer\u001b[39m.\u001b[39;49m_write_cells(\n\u001b[1;32m    925\u001b[0m         formatted_cells,\n\u001b[1;32m    926\u001b[0m         sheet_name,\n\u001b[1;32m    927\u001b[0m         startrow\u001b[39m=\u001b[39;49mstartrow,\n\u001b[1;32m    928\u001b[0m         startcol\u001b[39m=\u001b[39;49mstartcol,\n\u001b[1;32m    929\u001b[0m         freeze_panes\u001b[39m=\u001b[39;49mfreeze_panes,\n\u001b[1;32m    930\u001b[0m     )\n\u001b[1;32m    931\u001b[0m \u001b[39mfinally\u001b[39;00m:\n\u001b[1;32m    932\u001b[0m     \u001b[39m# make sure to close opened file handles\u001b[39;00m\n\u001b[1;32m    933\u001b[0m     \u001b[39mif\u001b[39;00m need_save:\n",
      "File \u001b[0;32m/opt/homebrew/Caskroom/miniforge/base/envs/eda/lib/python3.11/site-packages/pandas/io/excel/_openpyxl.py:492\u001b[0m, in \u001b[0;36mOpenpyxlWriter._write_cells\u001b[0;34m(self, cells, sheet_name, startrow, startcol, freeze_panes)\u001b[0m\n\u001b[1;32m    487\u001b[0m     freeze_panes \u001b[39m=\u001b[39m cast(Tuple[\u001b[39mint\u001b[39m, \u001b[39mint\u001b[39m], freeze_panes)\n\u001b[1;32m    488\u001b[0m     wks\u001b[39m.\u001b[39mfreeze_panes \u001b[39m=\u001b[39m wks\u001b[39m.\u001b[39mcell(\n\u001b[1;32m    489\u001b[0m         row\u001b[39m=\u001b[39mfreeze_panes[\u001b[39m0\u001b[39m] \u001b[39m+\u001b[39m \u001b[39m1\u001b[39m, column\u001b[39m=\u001b[39mfreeze_panes[\u001b[39m1\u001b[39m] \u001b[39m+\u001b[39m \u001b[39m1\u001b[39m\n\u001b[1;32m    490\u001b[0m     )\n\u001b[0;32m--> 492\u001b[0m \u001b[39mfor\u001b[39;00m cell \u001b[39min\u001b[39;00m cells:\n\u001b[1;32m    493\u001b[0m     xcell \u001b[39m=\u001b[39m wks\u001b[39m.\u001b[39mcell(\n\u001b[1;32m    494\u001b[0m         row\u001b[39m=\u001b[39mstartrow \u001b[39m+\u001b[39m cell\u001b[39m.\u001b[39mrow \u001b[39m+\u001b[39m \u001b[39m1\u001b[39m, column\u001b[39m=\u001b[39mstartcol \u001b[39m+\u001b[39m cell\u001b[39m.\u001b[39mcol \u001b[39m+\u001b[39m \u001b[39m1\u001b[39m\n\u001b[1;32m    495\u001b[0m     )\n\u001b[1;32m    496\u001b[0m     xcell\u001b[39m.\u001b[39mvalue, fmt \u001b[39m=\u001b[39m \u001b[39mself\u001b[39m\u001b[39m.\u001b[39m_value_with_fmt(cell\u001b[39m.\u001b[39mval)\n",
      "File \u001b[0;32m/opt/homebrew/Caskroom/miniforge/base/envs/eda/lib/python3.11/site-packages/pandas/io/formats/excel.py:862\u001b[0m, in \u001b[0;36mExcelFormatter.get_formatted_cells\u001b[0;34m(self)\u001b[0m\n\u001b[1;32m    860\u001b[0m \u001b[39mdef\u001b[39;00m \u001b[39mget_formatted_cells\u001b[39m(\u001b[39mself\u001b[39m) \u001b[39m-\u001b[39m\u001b[39m>\u001b[39m Iterable[ExcelCell]:\n\u001b[1;32m    861\u001b[0m     \u001b[39mfor\u001b[39;00m cell \u001b[39min\u001b[39;00m itertools\u001b[39m.\u001b[39mchain(\u001b[39mself\u001b[39m\u001b[39m.\u001b[39m_format_header(), \u001b[39mself\u001b[39m\u001b[39m.\u001b[39m_format_body()):\n\u001b[0;32m--> 862\u001b[0m         cell\u001b[39m.\u001b[39mval \u001b[39m=\u001b[39m \u001b[39mself\u001b[39;49m\u001b[39m.\u001b[39;49m_format_value(cell\u001b[39m.\u001b[39;49mval)\n\u001b[1;32m    863\u001b[0m         \u001b[39myield\u001b[39;00m cell\n",
      "File \u001b[0;32m/opt/homebrew/Caskroom/miniforge/base/envs/eda/lib/python3.11/site-packages/pandas/io/formats/excel.py:576\u001b[0m, in \u001b[0;36mExcelFormatter._format_value\u001b[0;34m(self, val)\u001b[0m\n\u001b[1;32m    574\u001b[0m         val \u001b[39m=\u001b[39m \u001b[39mfloat\u001b[39m(\u001b[39mself\u001b[39m\u001b[39m.\u001b[39mfloat_format \u001b[39m%\u001b[39m val)\n\u001b[1;32m    575\u001b[0m \u001b[39mif\u001b[39;00m \u001b[39mgetattr\u001b[39m(val, \u001b[39m\"\u001b[39m\u001b[39mtzinfo\u001b[39m\u001b[39m\"\u001b[39m, \u001b[39mNone\u001b[39;00m) \u001b[39mis\u001b[39;00m \u001b[39mnot\u001b[39;00m \u001b[39mNone\u001b[39;00m:\n\u001b[0;32m--> 576\u001b[0m     \u001b[39mraise\u001b[39;00m \u001b[39mValueError\u001b[39;00m(\n\u001b[1;32m    577\u001b[0m         \u001b[39m\"\u001b[39m\u001b[39mExcel does not support datetimes with \u001b[39m\u001b[39m\"\u001b[39m\n\u001b[1;32m    578\u001b[0m         \u001b[39m\"\u001b[39m\u001b[39mtimezones. Please ensure that datetimes \u001b[39m\u001b[39m\"\u001b[39m\n\u001b[1;32m    579\u001b[0m         \u001b[39m\"\u001b[39m\u001b[39mare timezone unaware before writing to Excel.\u001b[39m\u001b[39m\"\u001b[39m\n\u001b[1;32m    580\u001b[0m     )\n\u001b[1;32m    581\u001b[0m \u001b[39mreturn\u001b[39;00m val\n",
      "\u001b[0;31mValueError\u001b[0m: Excel does not support datetimes with timezones. Please ensure that datetimes are timezone unaware before writing to Excel."
     ]
    }
   ],
   "source": [
    "dd.to_excel('tmp/dd.xlsx')"
   ]
  },
  {
   "cell_type": "code",
   "execution_count": 17,
   "metadata": {},
   "outputs": [],
   "source": [
    "(dd\n",
    " .reset_index()\n",
    " .assign(datetime=lambda df_: df_.datetime.dt.tz_convert(tz=None))\n",
    " .set_index('datetime')\n",
    " .to_excel('tmp/dd.xlsx')\n",
    " )"
   ]
  },
  {
   "cell_type": "code",
   "execution_count": 18,
   "metadata": {},
   "outputs": [],
   "source": [
    "writer = pd.ExcelWriter('tmp/dd2.xlsx')"
   ]
  },
  {
   "cell_type": "code",
   "execution_count": 19,
   "metadata": {},
   "outputs": [],
   "source": [
    "dd2 = (dd\n",
    "       .reset_index()\n",
    "       .assign(datetime=lambda df_: df_.datetime.dt.tz_convert(tz=None))\n",
    "       .set_index('datetime')\n",
    "       )"
   ]
  },
  {
   "cell_type": "code",
   "execution_count": 20,
   "metadata": {},
   "outputs": [],
   "source": [
    "(dd2\n",
    " .loc['2010':'2010-12-31']\n",
    " .to_excel(writer, sheet_name='2010')\n",
    " )"
   ]
  },
  {
   "cell_type": "code",
   "execution_count": 21,
   "metadata": {},
   "outputs": [],
   "source": [
    "(dd2\n",
    " .loc['2011':'2011-12-31']\n",
    " .to_excel(writer, sheet_name='2011')\n",
    " )"
   ]
  },
  {
   "cell_type": "code",
   "execution_count": 22,
   "metadata": {},
   "outputs": [
    {
     "name": "stderr",
     "output_type": "stream",
     "text": [
      "/var/folders/gg/0m4l7pvs5zq9d8p4tzflypdc0000gn/T/ipykernel_86752/934276808.py:1: FutureWarning: save is not part of the public API, usage can give unexpected results and will be removed in a future version\n",
      "  writer.save()\n"
     ]
    }
   ],
   "source": [
    "writer.save()"
   ]
  },
  {
   "cell_type": "markdown",
   "metadata": {},
   "source": [
    "## 33.5 Feather"
   ]
  },
  {
   "cell_type": "code",
   "execution_count": 24,
   "metadata": {},
   "outputs": [
    {
     "ename": "ValueError",
     "evalue": "feather does not support serializing <class 'pandas.core.indexes.datetimes.DatetimeIndex'> for the index; you can .reset_index() to make the index into column(s)",
     "output_type": "error",
     "traceback": [
      "\u001b[0;31m---------------------------------------------------------------------------\u001b[0m",
      "\u001b[0;31mValueError\u001b[0m                                Traceback (most recent call last)",
      "Cell \u001b[0;32mIn[24], line 1\u001b[0m\n\u001b[0;32m----> 1\u001b[0m dd\u001b[39m.\u001b[39;49mto_feather(\u001b[39m'\u001b[39;49m\u001b[39mtmp/dd.fea\u001b[39;49m\u001b[39m'\u001b[39;49m)\n",
      "File \u001b[0;32m/opt/homebrew/Caskroom/miniforge/base/envs/eda/lib/python3.11/site-packages/pandas/util/_decorators.py:211\u001b[0m, in \u001b[0;36mdeprecate_kwarg.<locals>._deprecate_kwarg.<locals>.wrapper\u001b[0;34m(*args, **kwargs)\u001b[0m\n\u001b[1;32m    209\u001b[0m     \u001b[39melse\u001b[39;00m:\n\u001b[1;32m    210\u001b[0m         kwargs[new_arg_name] \u001b[39m=\u001b[39m new_arg_value\n\u001b[0;32m--> 211\u001b[0m \u001b[39mreturn\u001b[39;00m func(\u001b[39m*\u001b[39;49margs, \u001b[39m*\u001b[39;49m\u001b[39m*\u001b[39;49mkwargs)\n",
      "File \u001b[0;32m/opt/homebrew/Caskroom/miniforge/base/envs/eda/lib/python3.11/site-packages/pandas/core/frame.py:2794\u001b[0m, in \u001b[0;36mDataFrame.to_feather\u001b[0;34m(self, path, **kwargs)\u001b[0m\n\u001b[1;32m   2769\u001b[0m \u001b[39m\"\"\"\u001b[39;00m\n\u001b[1;32m   2770\u001b[0m \u001b[39mWrite a DataFrame to the binary Feather format.\u001b[39;00m\n\u001b[1;32m   2771\u001b[0m \n\u001b[0;32m   (...)\u001b[0m\n\u001b[1;32m   2790\u001b[0m \u001b[39msupports custom indices e.g. `to_parquet`.\u001b[39;00m\n\u001b[1;32m   2791\u001b[0m \u001b[39m\"\"\"\u001b[39;00m\n\u001b[1;32m   2792\u001b[0m \u001b[39mfrom\u001b[39;00m \u001b[39mpandas\u001b[39;00m\u001b[39m.\u001b[39;00m\u001b[39mio\u001b[39;00m\u001b[39m.\u001b[39;00m\u001b[39mfeather_format\u001b[39;00m \u001b[39mimport\u001b[39;00m to_feather\n\u001b[0;32m-> 2794\u001b[0m to_feather(\u001b[39mself\u001b[39;49m, path, \u001b[39m*\u001b[39;49m\u001b[39m*\u001b[39;49mkwargs)\n",
      "File \u001b[0;32m/opt/homebrew/Caskroom/miniforge/base/envs/eda/lib/python3.11/site-packages/pandas/io/feather_format.py:67\u001b[0m, in \u001b[0;36mto_feather\u001b[0;34m(df, path, storage_options, **kwargs)\u001b[0m\n\u001b[1;32m     65\u001b[0m \u001b[39mif\u001b[39;00m \u001b[39mnot\u001b[39;00m \u001b[39misinstance\u001b[39m(df\u001b[39m.\u001b[39mindex, (Int64Index, RangeIndex)):\n\u001b[1;32m     66\u001b[0m     typ \u001b[39m=\u001b[39m \u001b[39mtype\u001b[39m(df\u001b[39m.\u001b[39mindex)\n\u001b[0;32m---> 67\u001b[0m     \u001b[39mraise\u001b[39;00m \u001b[39mValueError\u001b[39;00m(\n\u001b[1;32m     68\u001b[0m         \u001b[39mf\u001b[39m\u001b[39m\"\u001b[39m\u001b[39mfeather does not support serializing \u001b[39m\u001b[39m{\u001b[39;00mtyp\u001b[39m}\u001b[39;00m\u001b[39m \u001b[39m\u001b[39m\"\u001b[39m\n\u001b[1;32m     69\u001b[0m         \u001b[39m\"\u001b[39m\u001b[39mfor the index; you can .reset_index() to make the index into column(s)\u001b[39m\u001b[39m\"\u001b[39m\n\u001b[1;32m     70\u001b[0m     )\n\u001b[1;32m     72\u001b[0m \u001b[39mif\u001b[39;00m \u001b[39mnot\u001b[39;00m df\u001b[39m.\u001b[39mindex\u001b[39m.\u001b[39mequals(RangeIndex\u001b[39m.\u001b[39mfrom_range(\u001b[39mrange\u001b[39m(\u001b[39mlen\u001b[39m(df)))):\n\u001b[1;32m     73\u001b[0m     \u001b[39mraise\u001b[39;00m \u001b[39mValueError\u001b[39;00m(\n\u001b[1;32m     74\u001b[0m         \u001b[39m\"\u001b[39m\u001b[39mfeather does not support serializing a non-default index for the index; \u001b[39m\u001b[39m\"\u001b[39m\n\u001b[1;32m     75\u001b[0m         \u001b[39m\"\u001b[39m\u001b[39myou can .reset_index() to make the index into column(s)\u001b[39m\u001b[39m\"\u001b[39m\n\u001b[1;32m     76\u001b[0m     )\n",
      "\u001b[0;31mValueError\u001b[0m: feather does not support serializing <class 'pandas.core.indexes.datetimes.DatetimeIndex'> for the index; you can .reset_index() to make the index into column(s)"
     ]
    }
   ],
   "source": [
    "dd.to_feather('tmp/dd.fea')"
   ]
  },
  {
   "cell_type": "code",
   "execution_count": 25,
   "metadata": {},
   "outputs": [],
   "source": [
    "(dd\n",
    " .reset_index()\n",
    " .to_feather('tmp/dd.fea')\n",
    " )"
   ]
  },
  {
   "cell_type": "code",
   "execution_count": 26,
   "metadata": {},
   "outputs": [],
   "source": [
    "dd2 = pd.read_feather('tmp/dd.fea')"
   ]
  },
  {
   "cell_type": "code",
   "execution_count": 27,
   "metadata": {},
   "outputs": [
    {
     "data": {
      "text/plain": [
       "True"
      ]
     },
     "execution_count": 27,
     "metadata": {},
     "output_type": "execute_result"
    }
   ],
   "source": [
    "dd2.set_index('datetime').equals(dd)"
   ]
  },
  {
   "cell_type": "markdown",
   "metadata": {},
   "source": [
    "## 33.6 SQL"
   ]
  },
  {
   "cell_type": "code",
   "execution_count": 29,
   "metadata": {},
   "outputs": [],
   "source": [
    "con = sqlite3.connect('dd.db')"
   ]
  },
  {
   "cell_type": "code",
   "execution_count": 43,
   "metadata": {},
   "outputs": [
    {
     "data": {
      "text/html": [
       "<div>\n",
       "<style scoped>\n",
       "    .dataframe tbody tr th:only-of-type {\n",
       "        vertical-align: middle;\n",
       "    }\n",
       "\n",
       "    .dataframe tbody tr th {\n",
       "        vertical-align: top;\n",
       "    }\n",
       "\n",
       "    .dataframe thead th {\n",
       "        text-align: right;\n",
       "    }\n",
       "</style>\n",
       "<table border=\"1\" class=\"dataframe\">\n",
       "  <thead>\n",
       "    <tr style=\"text-align: right;\">\n",
       "      <th></th>\n",
       "      <th>agency_cd</th>\n",
       "      <th>site_no</th>\n",
       "      <th>tz_cd</th>\n",
       "      <th>cfs</th>\n",
       "      <th>144166_00060_cd</th>\n",
       "      <th>gage_height</th>\n",
       "      <th>144167_00065_cd</th>\n",
       "    </tr>\n",
       "    <tr>\n",
       "      <th>datetime</th>\n",
       "      <th></th>\n",
       "      <th></th>\n",
       "      <th></th>\n",
       "      <th></th>\n",
       "      <th></th>\n",
       "      <th></th>\n",
       "      <th></th>\n",
       "    </tr>\n",
       "  </thead>\n",
       "  <tbody>\n",
       "    <tr>\n",
       "      <th>2001-05-07 01:00:00-06:00</th>\n",
       "      <td>USGS</td>\n",
       "      <td>9333500</td>\n",
       "      <td>MDT</td>\n",
       "      <td>71.0</td>\n",
       "      <td>A:[91]</td>\n",
       "      <td>NaN</td>\n",
       "      <td>NaN</td>\n",
       "    </tr>\n",
       "    <tr>\n",
       "      <th>2001-05-07 01:15:00-06:00</th>\n",
       "      <td>USGS</td>\n",
       "      <td>9333500</td>\n",
       "      <td>MDT</td>\n",
       "      <td>71.0</td>\n",
       "      <td>A:[91]</td>\n",
       "      <td>NaN</td>\n",
       "      <td>NaN</td>\n",
       "    </tr>\n",
       "    <tr>\n",
       "      <th>2001-05-07 01:30:00-06:00</th>\n",
       "      <td>USGS</td>\n",
       "      <td>9333500</td>\n",
       "      <td>MDT</td>\n",
       "      <td>71.0</td>\n",
       "      <td>A:[91]</td>\n",
       "      <td>NaN</td>\n",
       "      <td>NaN</td>\n",
       "    </tr>\n",
       "    <tr>\n",
       "      <th>2001-05-07 01:45:00-06:00</th>\n",
       "      <td>USGS</td>\n",
       "      <td>9333500</td>\n",
       "      <td>MDT</td>\n",
       "      <td>70.0</td>\n",
       "      <td>A:[91]</td>\n",
       "      <td>NaN</td>\n",
       "      <td>NaN</td>\n",
       "    </tr>\n",
       "    <tr>\n",
       "      <th>2001-05-07 02:00:00-06:00</th>\n",
       "      <td>USGS</td>\n",
       "      <td>9333500</td>\n",
       "      <td>MDT</td>\n",
       "      <td>70.0</td>\n",
       "      <td>A:[91]</td>\n",
       "      <td>NaN</td>\n",
       "      <td>NaN</td>\n",
       "    </tr>\n",
       "  </tbody>\n",
       "</table>\n",
       "</div>"
      ],
      "text/plain": [
       "                          agency_cd  site_no tz_cd   cfs 144166_00060_cd  \\\n",
       "datetime                                                                   \n",
       "2001-05-07 01:00:00-06:00      USGS  9333500   MDT  71.0          A:[91]   \n",
       "2001-05-07 01:15:00-06:00      USGS  9333500   MDT  71.0          A:[91]   \n",
       "2001-05-07 01:30:00-06:00      USGS  9333500   MDT  71.0          A:[91]   \n",
       "2001-05-07 01:45:00-06:00      USGS  9333500   MDT  70.0          A:[91]   \n",
       "2001-05-07 02:00:00-06:00      USGS  9333500   MDT  70.0          A:[91]   \n",
       "\n",
       "                           gage_height 144167_00065_cd  \n",
       "datetime                                                \n",
       "2001-05-07 01:00:00-06:00          NaN             NaN  \n",
       "2001-05-07 01:15:00-06:00          NaN             NaN  \n",
       "2001-05-07 01:30:00-06:00          NaN             NaN  \n",
       "2001-05-07 01:45:00-06:00          NaN             NaN  \n",
       "2001-05-07 02:00:00-06:00          NaN             NaN  "
      ]
     },
     "execution_count": 43,
     "metadata": {},
     "output_type": "execute_result"
    }
   ],
   "source": [
    "dd.head()"
   ]
  },
  {
   "cell_type": "code",
   "execution_count": 44,
   "metadata": {},
   "outputs": [
    {
     "data": {
      "text/plain": [
       "539305"
      ]
     },
     "execution_count": 44,
     "metadata": {},
     "output_type": "execute_result"
    }
   ],
   "source": [
    "(dd\n",
    " .reset_index()\n",
    ".assign(datetime=lambda df_: pd.to_datetime(df_['datetime'], utc=True))\n",
    ".to_sql('dd', con, if_exists='replace')\n",
    ")"
   ]
  },
  {
   "cell_type": "code",
   "execution_count": 45,
   "metadata": {},
   "outputs": [
    {
     "data": {
      "text/plain": [
       "False"
      ]
     },
     "execution_count": 45,
     "metadata": {},
     "output_type": "execute_result"
    }
   ],
   "source": [
    "eng = sa.create_engine('sqlite:///dd.db')\n",
    "sa_con = eng.connect()\n",
    "dd2 = pd.read_sql('dd', sa_con, index_col='datetime')\n",
    "dd2.equals(dd)"
   ]
  },
  {
   "cell_type": "code",
   "execution_count": 63,
   "metadata": {},
   "outputs": [
    {
     "data": {
      "text/plain": [
       "True"
      ]
     },
     "execution_count": 63,
     "metadata": {},
     "output_type": "execute_result"
    }
   ],
   "source": [
    "(dd2\n",
    " .reset_index()\n",
    " .rename(columns={'index':'datetime'})\n",
    " .assign(datetime=lambda df_: df_.datetime.dt.tz_localize(tz='UTC')\n",
    "         .dt.tz_convert('America/Denver'))\n",
    " .set_index('datetime')\n",
    " .round(3)\n",
    " .equals(dd)\n",
    " )"
   ]
  },
  {
   "cell_type": "markdown",
   "metadata": {},
   "source": [
    "## 33.7 JSON"
   ]
  },
  {
   "cell_type": "code",
   "execution_count": 51,
   "metadata": {},
   "outputs": [],
   "source": [
    "obj = dd.to_dict()"
   ]
  },
  {
   "cell_type": "code",
   "execution_count": 52,
   "metadata": {},
   "outputs": [
    {
     "data": {
      "text/plain": [
       "True"
      ]
     },
     "execution_count": 52,
     "metadata": {},
     "output_type": "execute_result"
    }
   ],
   "source": [
    "dd2 = pd.DataFrame.from_dict(obj)\n",
    "dd.equals(dd2)"
   ]
  },
  {
   "cell_type": "code",
   "execution_count": 53,
   "metadata": {},
   "outputs": [],
   "source": [
    "dd.to_json('tmp/dd.json.gz')"
   ]
  },
  {
   "cell_type": "code",
   "execution_count": 54,
   "metadata": {},
   "outputs": [],
   "source": [
    "dd2 = pd.read_json('tmp/dd.json.gz')"
   ]
  },
  {
   "cell_type": "code",
   "execution_count": 55,
   "metadata": {},
   "outputs": [
    {
     "data": {
      "text/html": [
       "<div>\n",
       "<style scoped>\n",
       "    .dataframe tbody tr th:only-of-type {\n",
       "        vertical-align: middle;\n",
       "    }\n",
       "\n",
       "    .dataframe tbody tr th {\n",
       "        vertical-align: top;\n",
       "    }\n",
       "\n",
       "    .dataframe thead th {\n",
       "        text-align: right;\n",
       "    }\n",
       "</style>\n",
       "<table border=\"1\" class=\"dataframe\">\n",
       "  <thead>\n",
       "    <tr style=\"text-align: right;\">\n",
       "      <th></th>\n",
       "      <th>agency_cd</th>\n",
       "      <th>site_no</th>\n",
       "      <th>tz_cd</th>\n",
       "      <th>cfs</th>\n",
       "      <th>144166_00060_cd</th>\n",
       "      <th>gage_height</th>\n",
       "      <th>144167_00065_cd</th>\n",
       "    </tr>\n",
       "  </thead>\n",
       "  <tbody>\n",
       "    <tr>\n",
       "      <th>2001-05-07 07:00:00</th>\n",
       "      <td>USGS</td>\n",
       "      <td>9333500</td>\n",
       "      <td>MDT</td>\n",
       "      <td>71.00</td>\n",
       "      <td>A:[91]</td>\n",
       "      <td>NaN</td>\n",
       "      <td>None</td>\n",
       "    </tr>\n",
       "    <tr>\n",
       "      <th>2001-05-07 07:15:00</th>\n",
       "      <td>USGS</td>\n",
       "      <td>9333500</td>\n",
       "      <td>MDT</td>\n",
       "      <td>71.00</td>\n",
       "      <td>A:[91]</td>\n",
       "      <td>NaN</td>\n",
       "      <td>None</td>\n",
       "    </tr>\n",
       "    <tr>\n",
       "      <th>2001-05-07 07:30:00</th>\n",
       "      <td>USGS</td>\n",
       "      <td>9333500</td>\n",
       "      <td>MDT</td>\n",
       "      <td>71.00</td>\n",
       "      <td>A:[91]</td>\n",
       "      <td>NaN</td>\n",
       "      <td>None</td>\n",
       "    </tr>\n",
       "    <tr>\n",
       "      <th>2001-05-07 07:45:00</th>\n",
       "      <td>USGS</td>\n",
       "      <td>9333500</td>\n",
       "      <td>MDT</td>\n",
       "      <td>70.00</td>\n",
       "      <td>A:[91]</td>\n",
       "      <td>NaN</td>\n",
       "      <td>None</td>\n",
       "    </tr>\n",
       "    <tr>\n",
       "      <th>2001-05-07 08:00:00</th>\n",
       "      <td>USGS</td>\n",
       "      <td>9333500</td>\n",
       "      <td>MDT</td>\n",
       "      <td>70.00</td>\n",
       "      <td>A:[91]</td>\n",
       "      <td>NaN</td>\n",
       "      <td>None</td>\n",
       "    </tr>\n",
       "    <tr>\n",
       "      <th>...</th>\n",
       "      <td>...</td>\n",
       "      <td>...</td>\n",
       "      <td>...</td>\n",
       "      <td>...</td>\n",
       "      <td>...</td>\n",
       "      <td>...</td>\n",
       "      <td>...</td>\n",
       "    </tr>\n",
       "    <tr>\n",
       "      <th>2020-09-28 14:30:00</th>\n",
       "      <td>USGS</td>\n",
       "      <td>9333500</td>\n",
       "      <td>MDT</td>\n",
       "      <td>9.53</td>\n",
       "      <td>P</td>\n",
       "      <td>6.16</td>\n",
       "      <td>P</td>\n",
       "    </tr>\n",
       "    <tr>\n",
       "      <th>2020-09-28 14:45:00</th>\n",
       "      <td>USGS</td>\n",
       "      <td>9333500</td>\n",
       "      <td>MDT</td>\n",
       "      <td>9.20</td>\n",
       "      <td>P</td>\n",
       "      <td>6.15</td>\n",
       "      <td>P</td>\n",
       "    </tr>\n",
       "    <tr>\n",
       "      <th>2020-09-28 15:00:00</th>\n",
       "      <td>USGS</td>\n",
       "      <td>9333500</td>\n",
       "      <td>MDT</td>\n",
       "      <td>9.20</td>\n",
       "      <td>P</td>\n",
       "      <td>6.15</td>\n",
       "      <td>P</td>\n",
       "    </tr>\n",
       "    <tr>\n",
       "      <th>2020-09-28 15:15:00</th>\n",
       "      <td>USGS</td>\n",
       "      <td>9333500</td>\n",
       "      <td>MDT</td>\n",
       "      <td>9.20</td>\n",
       "      <td>P</td>\n",
       "      <td>6.15</td>\n",
       "      <td>P</td>\n",
       "    </tr>\n",
       "    <tr>\n",
       "      <th>2020-09-28 15:30:00</th>\n",
       "      <td>USGS</td>\n",
       "      <td>9333500</td>\n",
       "      <td>MDT</td>\n",
       "      <td>9.20</td>\n",
       "      <td>P</td>\n",
       "      <td>6.15</td>\n",
       "      <td>P</td>\n",
       "    </tr>\n",
       "  </tbody>\n",
       "</table>\n",
       "<p>539305 rows × 7 columns</p>\n",
       "</div>"
      ],
      "text/plain": [
       "                    agency_cd  site_no tz_cd    cfs 144166_00060_cd  \\\n",
       "2001-05-07 07:00:00      USGS  9333500   MDT  71.00          A:[91]   \n",
       "2001-05-07 07:15:00      USGS  9333500   MDT  71.00          A:[91]   \n",
       "2001-05-07 07:30:00      USGS  9333500   MDT  71.00          A:[91]   \n",
       "2001-05-07 07:45:00      USGS  9333500   MDT  70.00          A:[91]   \n",
       "2001-05-07 08:00:00      USGS  9333500   MDT  70.00          A:[91]   \n",
       "...                       ...      ...   ...    ...             ...   \n",
       "2020-09-28 14:30:00      USGS  9333500   MDT   9.53               P   \n",
       "2020-09-28 14:45:00      USGS  9333500   MDT   9.20               P   \n",
       "2020-09-28 15:00:00      USGS  9333500   MDT   9.20               P   \n",
       "2020-09-28 15:15:00      USGS  9333500   MDT   9.20               P   \n",
       "2020-09-28 15:30:00      USGS  9333500   MDT   9.20               P   \n",
       "\n",
       "                     gage_height 144167_00065_cd  \n",
       "2001-05-07 07:00:00          NaN            None  \n",
       "2001-05-07 07:15:00          NaN            None  \n",
       "2001-05-07 07:30:00          NaN            None  \n",
       "2001-05-07 07:45:00          NaN            None  \n",
       "2001-05-07 08:00:00          NaN            None  \n",
       "...                          ...             ...  \n",
       "2020-09-28 14:30:00         6.16               P  \n",
       "2020-09-28 14:45:00         6.15               P  \n",
       "2020-09-28 15:00:00         6.15               P  \n",
       "2020-09-28 15:15:00         6.15               P  \n",
       "2020-09-28 15:30:00         6.15               P  \n",
       "\n",
       "[539305 rows x 7 columns]"
      ]
     },
     "execution_count": 55,
     "metadata": {},
     "output_type": "execute_result"
    }
   ],
   "source": [
    "dd2"
   ]
  },
  {
   "cell_type": "code",
   "execution_count": 56,
   "metadata": {},
   "outputs": [
    {
     "data": {
      "text/plain": [
       "False"
      ]
     },
     "execution_count": 56,
     "metadata": {},
     "output_type": "execute_result"
    }
   ],
   "source": [
    "dd2.equals(dd)"
   ]
  },
  {
   "cell_type": "code",
   "execution_count": 57,
   "metadata": {},
   "outputs": [],
   "source": [
    "dd3 = (dd2\n",
    "       .reset_index()\n",
    "       .rename(columns={'index':'datetime'})\n",
    "       .assign(datetime=lambda df_: df_.datetime.dt.tz_localize(tz='UTC')\n",
    "               .dt.tz_convert('America/Denver'))\n",
    "       .set_index('datetime')\n",
    "       )"
   ]
  },
  {
   "cell_type": "code",
   "execution_count": 58,
   "metadata": {},
   "outputs": [
    {
     "data": {
      "text/html": [
       "<div>\n",
       "<style scoped>\n",
       "    .dataframe tbody tr th:only-of-type {\n",
       "        vertical-align: middle;\n",
       "    }\n",
       "\n",
       "    .dataframe tbody tr th {\n",
       "        vertical-align: top;\n",
       "    }\n",
       "\n",
       "    .dataframe thead th {\n",
       "        text-align: right;\n",
       "    }\n",
       "</style>\n",
       "<table border=\"1\" class=\"dataframe\">\n",
       "  <thead>\n",
       "    <tr style=\"text-align: right;\">\n",
       "      <th></th>\n",
       "      <th>agency_cd</th>\n",
       "      <th>site_no</th>\n",
       "      <th>tz_cd</th>\n",
       "      <th>cfs</th>\n",
       "      <th>144166_00060_cd</th>\n",
       "      <th>gage_height</th>\n",
       "      <th>144167_00065_cd</th>\n",
       "    </tr>\n",
       "    <tr>\n",
       "      <th>datetime</th>\n",
       "      <th></th>\n",
       "      <th></th>\n",
       "      <th></th>\n",
       "      <th></th>\n",
       "      <th></th>\n",
       "      <th></th>\n",
       "      <th></th>\n",
       "    </tr>\n",
       "  </thead>\n",
       "  <tbody>\n",
       "    <tr>\n",
       "      <th>2001-05-07 01:00:00-06:00</th>\n",
       "      <td>USGS</td>\n",
       "      <td>9333500</td>\n",
       "      <td>MDT</td>\n",
       "      <td>71.00</td>\n",
       "      <td>A:[91]</td>\n",
       "      <td>NaN</td>\n",
       "      <td>None</td>\n",
       "    </tr>\n",
       "    <tr>\n",
       "      <th>2001-05-07 01:15:00-06:00</th>\n",
       "      <td>USGS</td>\n",
       "      <td>9333500</td>\n",
       "      <td>MDT</td>\n",
       "      <td>71.00</td>\n",
       "      <td>A:[91]</td>\n",
       "      <td>NaN</td>\n",
       "      <td>None</td>\n",
       "    </tr>\n",
       "    <tr>\n",
       "      <th>2001-05-07 01:30:00-06:00</th>\n",
       "      <td>USGS</td>\n",
       "      <td>9333500</td>\n",
       "      <td>MDT</td>\n",
       "      <td>71.00</td>\n",
       "      <td>A:[91]</td>\n",
       "      <td>NaN</td>\n",
       "      <td>None</td>\n",
       "    </tr>\n",
       "    <tr>\n",
       "      <th>2001-05-07 01:45:00-06:00</th>\n",
       "      <td>USGS</td>\n",
       "      <td>9333500</td>\n",
       "      <td>MDT</td>\n",
       "      <td>70.00</td>\n",
       "      <td>A:[91]</td>\n",
       "      <td>NaN</td>\n",
       "      <td>None</td>\n",
       "    </tr>\n",
       "    <tr>\n",
       "      <th>2001-05-07 02:00:00-06:00</th>\n",
       "      <td>USGS</td>\n",
       "      <td>9333500</td>\n",
       "      <td>MDT</td>\n",
       "      <td>70.00</td>\n",
       "      <td>A:[91]</td>\n",
       "      <td>NaN</td>\n",
       "      <td>None</td>\n",
       "    </tr>\n",
       "    <tr>\n",
       "      <th>...</th>\n",
       "      <td>...</td>\n",
       "      <td>...</td>\n",
       "      <td>...</td>\n",
       "      <td>...</td>\n",
       "      <td>...</td>\n",
       "      <td>...</td>\n",
       "      <td>...</td>\n",
       "    </tr>\n",
       "    <tr>\n",
       "      <th>2020-09-28 08:30:00-06:00</th>\n",
       "      <td>USGS</td>\n",
       "      <td>9333500</td>\n",
       "      <td>MDT</td>\n",
       "      <td>9.53</td>\n",
       "      <td>P</td>\n",
       "      <td>6.16</td>\n",
       "      <td>P</td>\n",
       "    </tr>\n",
       "    <tr>\n",
       "      <th>2020-09-28 08:45:00-06:00</th>\n",
       "      <td>USGS</td>\n",
       "      <td>9333500</td>\n",
       "      <td>MDT</td>\n",
       "      <td>9.20</td>\n",
       "      <td>P</td>\n",
       "      <td>6.15</td>\n",
       "      <td>P</td>\n",
       "    </tr>\n",
       "    <tr>\n",
       "      <th>2020-09-28 09:00:00-06:00</th>\n",
       "      <td>USGS</td>\n",
       "      <td>9333500</td>\n",
       "      <td>MDT</td>\n",
       "      <td>9.20</td>\n",
       "      <td>P</td>\n",
       "      <td>6.15</td>\n",
       "      <td>P</td>\n",
       "    </tr>\n",
       "    <tr>\n",
       "      <th>2020-09-28 09:15:00-06:00</th>\n",
       "      <td>USGS</td>\n",
       "      <td>9333500</td>\n",
       "      <td>MDT</td>\n",
       "      <td>9.20</td>\n",
       "      <td>P</td>\n",
       "      <td>6.15</td>\n",
       "      <td>P</td>\n",
       "    </tr>\n",
       "    <tr>\n",
       "      <th>2020-09-28 09:30:00-06:00</th>\n",
       "      <td>USGS</td>\n",
       "      <td>9333500</td>\n",
       "      <td>MDT</td>\n",
       "      <td>9.20</td>\n",
       "      <td>P</td>\n",
       "      <td>6.15</td>\n",
       "      <td>P</td>\n",
       "    </tr>\n",
       "  </tbody>\n",
       "</table>\n",
       "<p>539305 rows × 7 columns</p>\n",
       "</div>"
      ],
      "text/plain": [
       "                          agency_cd  site_no tz_cd    cfs 144166_00060_cd  \\\n",
       "datetime                                                                    \n",
       "2001-05-07 01:00:00-06:00      USGS  9333500   MDT  71.00          A:[91]   \n",
       "2001-05-07 01:15:00-06:00      USGS  9333500   MDT  71.00          A:[91]   \n",
       "2001-05-07 01:30:00-06:00      USGS  9333500   MDT  71.00          A:[91]   \n",
       "2001-05-07 01:45:00-06:00      USGS  9333500   MDT  70.00          A:[91]   \n",
       "2001-05-07 02:00:00-06:00      USGS  9333500   MDT  70.00          A:[91]   \n",
       "...                             ...      ...   ...    ...             ...   \n",
       "2020-09-28 08:30:00-06:00      USGS  9333500   MDT   9.53               P   \n",
       "2020-09-28 08:45:00-06:00      USGS  9333500   MDT   9.20               P   \n",
       "2020-09-28 09:00:00-06:00      USGS  9333500   MDT   9.20               P   \n",
       "2020-09-28 09:15:00-06:00      USGS  9333500   MDT   9.20               P   \n",
       "2020-09-28 09:30:00-06:00      USGS  9333500   MDT   9.20               P   \n",
       "\n",
       "                           gage_height 144167_00065_cd  \n",
       "datetime                                                \n",
       "2001-05-07 01:00:00-06:00          NaN            None  \n",
       "2001-05-07 01:15:00-06:00          NaN            None  \n",
       "2001-05-07 01:30:00-06:00          NaN            None  \n",
       "2001-05-07 01:45:00-06:00          NaN            None  \n",
       "2001-05-07 02:00:00-06:00          NaN            None  \n",
       "...                                ...             ...  \n",
       "2020-09-28 08:30:00-06:00         6.16               P  \n",
       "2020-09-28 08:45:00-06:00         6.15               P  \n",
       "2020-09-28 09:00:00-06:00         6.15               P  \n",
       "2020-09-28 09:15:00-06:00         6.15               P  \n",
       "2020-09-28 09:30:00-06:00         6.15               P  \n",
       "\n",
       "[539305 rows x 7 columns]"
      ]
     },
     "execution_count": 58,
     "metadata": {},
     "output_type": "execute_result"
    }
   ],
   "source": [
    "dd3"
   ]
  },
  {
   "cell_type": "code",
   "execution_count": 59,
   "metadata": {},
   "outputs": [
    {
     "data": {
      "text/plain": [
       "False"
      ]
     },
     "execution_count": 59,
     "metadata": {},
     "output_type": "execute_result"
    }
   ],
   "source": [
    "dd3.equals(dd)"
   ]
  },
  {
   "cell_type": "code",
   "execution_count": 60,
   "metadata": {},
   "outputs": [
    {
     "data": {
      "text/plain": [
       "True"
      ]
     },
     "execution_count": 60,
     "metadata": {},
     "output_type": "execute_result"
    }
   ],
   "source": [
    "dd3.round(3).equals(dd)"
   ]
  },
  {
   "cell_type": "code",
   "execution_count": null,
   "metadata": {},
   "outputs": [],
   "source": []
  }
 ],
 "metadata": {
  "kernelspec": {
   "display_name": "eda",
   "language": "python",
   "name": "python3"
  },
  "language_info": {
   "codemirror_mode": {
    "name": "ipython",
    "version": 3
   },
   "file_extension": ".py",
   "mimetype": "text/x-python",
   "name": "python",
   "nbconvert_exporter": "python",
   "pygments_lexer": "ipython3",
   "version": "3.11.0"
  },
  "orig_nbformat": 4,
  "vscode": {
   "interpreter": {
    "hash": "93112beb41490c0d2975fac6ef4ec8c5ba79ceaa8098658f94538ce4bb21d06f"
   }
  }
 },
 "nbformat": 4,
 "nbformat_minor": 2
}
